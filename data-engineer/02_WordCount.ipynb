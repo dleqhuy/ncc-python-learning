{
 "cells": [
  {
   "cell_type": "markdown",
   "metadata": {
    "cell_id": "00000-0d0083c2-3828-466d-a7ed-19a3c32a8525",
    "deepnote_cell_type": "markdown",
    "output_cleared": false,
    "slideshow": {
     "slide_type": "slide"
    }
   },
   "source": [
    "# Wordcount\n",
    "\n",
    "- [Wikipedia](https://en.wikipedia.org/wiki/Word_count)\n",
    "\n",
    "- Word count example reads text files and counts how often words occur. \n",
    "- Word count is commonly used by translators to determine the price for the translation job.\n",
    "- This is the \"Hello World\" program of Big Data."
   ]
  },
  {
   "cell_type": "markdown",
   "metadata": {
    "cell_id": "00002-c2c04a7c-0fe5-46e3-9f87-5d2018c55e51",
    "deepnote_cell_type": "markdown",
    "output_cleared": false,
    "slideshow": {
     "slide_type": "slide"
    }
   },
   "source": [
    "## Create sample text file"
   ]
  },
  {
   "cell_type": "code",
   "execution_count": 1,
   "metadata": {
    "cell_id": "00003-4d7f6c1d-8859-4403-bb81-8a0e8a776db0",
    "deepnote_cell_type": "code",
    "execution_millis": 3632,
    "execution_start": 1604475114385,
    "output_cleared": false,
    "slideshow": {
     "slide_type": "fragment"
    },
    "source_hash": "f3007ae0"
   },
   "outputs": [],
   "source": [
    "from lorem import text\n",
    "\n",
    "with open(\"sample.txt\", \"w\") as f:\n",
    "    for i in range(2):\n",
    "        f.write(text())"
   ]
  },
  {
   "cell_type": "markdown",
   "metadata": {
    "cell_id": "00004-34f6cd5f-e68d-4be4-a815-96c9dae02818",
    "deepnote_cell_type": "markdown",
    "output_cleared": false,
    "slideshow": {
     "slide_type": "slide"
    }
   },
   "source": [
    "### Exercise 4.1\n",
    "\n",
    "Write a python program that counts the number of lines, different words and characters in that file."
   ]
  },
  {
   "cell_type": "code",
   "execution_count": 2,
   "metadata": {
    "cell_id": "00005-99c44bbd-d3cc-4e16-99f5-569b359b007e",
    "deepnote_cell_type": "code",
    "execution_millis": 121,
    "execution_start": 1604475118049,
    "output_cleared": false,
    "slideshow": {
     "slide_type": "fragment"
    },
    "source_hash": "fc5d8416"
   },
   "outputs": [
    {
     "name": "stdout",
     "output_type": "stream",
     "text": [
      "  14  388 2758 sample.txt\n",
      "4.0K\tsample.txt\n"
     ]
    }
   ],
   "source": [
    "%%bash\n",
    "wc sample.txt\n",
    "du -h sample.txt"
   ]
  },
  {
   "cell_type": "code",
   "execution_count": 8,
   "metadata": {},
   "outputs": [],
   "source": [
    "import os\n",
    " \n",
    "def counter(fname):    \n",
    "    num_words = 0\n",
    "    num_lines = 0\n",
    "    num_charc = 0\n",
    "    num_spaces = 0\n",
    "     \n",
    "    with open(fname, 'r') as f:\n",
    "        # line by line\n",
    "        for line in f:\n",
    "            line = line.strip(os.linesep) \n",
    "            \n",
    "            wordslist = line.split() \n",
    "            \n",
    "            num_lines = num_lines + 1\n",
    "              \n",
    "            num_words = num_words + len(wordslist)\n",
    "              \n",
    "            num_charc = num_charc + sum(1 for c in line if c not in (os.linesep, ' '))\n",
    "              \n",
    "            num_spaces = num_spaces + sum(1 for s in line if s in (os.linesep, ' '))\n",
    "     \n",
    "    print(\"Number of words in text file: \", num_words)\n",
    "    print(\"Number of lines in text file: \", num_lines)\n",
    "    print(\"Number of characters in text file: \", num_charc)\n",
    "    print(\"Number of spaces in text file: \", num_spaces)"
   ]
  },
  {
   "cell_type": "code",
   "execution_count": 9,
   "metadata": {},
   "outputs": [
    {
     "name": "stdout",
     "output_type": "stream",
     "text": [
      "Number of words in text file:  388\n",
      "Number of lines in text file:  15\n",
      "Number of characters in text file:  2350\n",
      "Number of spaces in text file:  380\n"
     ]
    }
   ],
   "source": [
    "counter('sample.txt')"
   ]
  },
  {
   "cell_type": "markdown",
   "metadata": {
    "cell_id": "00006-60f1ba48-2f04-41f2-841c-51f1ed54a11d",
    "deepnote_cell_type": "markdown",
    "output_cleared": false,
    "slideshow": {
     "slide_type": "slide"
    }
   },
   "source": [
    "### Exercise 4.2\n",
    "\n",
    "Create a function called `map_words` that take a file name as argument and return a lists containing all words as items.\n",
    "\n",
    "```pytb\n",
    "map_words(\"sample.txt\")[:5] # first five words\n",
    "['adipisci', 'adipisci', 'adipisci', 'adipisci', 'adipisci']\n",
    "```"
   ]
  },
  {
   "cell_type": "code",
   "execution_count": 10,
   "metadata": {},
   "outputs": [],
   "source": [
    "import re\n",
    "def map_words(filename):\n",
    "    data = []\n",
    "    with open(filename, \"r\") as file:\n",
    "        data = file.read()\n",
    "    text = re.sub('[^a-z\\ \\']+', \" \", data)\n",
    "    words = list(text.split())\n",
    "    return words"
   ]
  },
  {
   "cell_type": "code",
   "execution_count": 11,
   "metadata": {},
   "outputs": [
    {
     "data": {
      "text/plain": [
       "['t', 'consectetur', 'numquam', 'quaerat', 'st']"
      ]
     },
     "execution_count": 11,
     "metadata": {},
     "output_type": "execute_result"
    }
   ],
   "source": [
    "map_words(\"sample.txt\")[:5]"
   ]
  },
  {
   "cell_type": "markdown",
   "metadata": {
    "cell_id": "00007-a0af7428-7dd2-41fe-8e5f-82e8d6ed1460",
    "deepnote_cell_type": "markdown",
    "output_cleared": false,
    "slideshow": {
     "slide_type": "slide"
    }
   },
   "source": [
    "## Sorting a dictionary by value\n",
    "\n",
    "By default, if you use `sorted` function on a `dict`, it will use keys to sort it.\n",
    " - To sort by values, you can use [operator](https://docs.python.org/3.6/library/operator.html).itemgetter(1), which return a callable object that fetches item from its operand using the operand’s `__getitem__(` method. It could be used to sort results."
   ]
  },
  {
   "cell_type": "code",
   "execution_count": 24,
   "metadata": {
    "cell_id": "00008-dddf6414-17e3-48c7-add8-76814d07d5c0",
    "deepnote_cell_type": "code",
    "execution_millis": 8,
    "execution_start": 1604475118172,
    "output_cleared": false,
    "slideshow": {
     "slide_type": "fragment"
    },
    "source_hash": "d61b0611"
   },
   "outputs": [
    {
     "data": {
      "text/plain": [
       "{'orange': 1, 'banana': 2, 'apple': 3, 'pear': 5}"
      ]
     },
     "execution_count": 24,
     "metadata": {},
     "output_type": "execute_result"
    }
   ],
   "source": [
    "import operator\n",
    "fruits = [('apple', 3), ('banana', 2), ('pear', 5), ('orange', 1)]\n",
    "getcount = operator.itemgetter(1)\n",
    "dict(sorted(fruits, key=getcount))"
   ]
  },
  {
   "cell_type": "markdown",
   "metadata": {
    "cell_id": "00009-62b84cdf-2b5b-42a7-a380-57638ff69fe6",
    "deepnote_cell_type": "markdown",
    "output_cleared": false,
    "slideshow": {
     "slide_type": "fragment"
    }
   },
   "source": [
    "`sorted` function has also a `reverse` optional argument."
   ]
  },
  {
   "cell_type": "code",
   "execution_count": 25,
   "metadata": {
    "cell_id": "00010-3fde7150-3008-468b-a98a-4232b516024d",
    "deepnote_cell_type": "code",
    "execution_millis": 8,
    "execution_start": 1604475118186,
    "output_cleared": false,
    "slideshow": {
     "slide_type": "fragment"
    },
    "source_hash": "d7444908"
   },
   "outputs": [
    {
     "data": {
      "text/plain": [
       "{'pear': 5, 'apple': 3, 'banana': 2, 'orange': 1}"
      ]
     },
     "execution_count": 25,
     "metadata": {},
     "output_type": "execute_result"
    }
   ],
   "source": [
    "dict(sorted(fruits, key=getcount, reverse=True))"
   ]
  },
  {
   "cell_type": "markdown",
   "metadata": {
    "cell_id": "00011-271a1865-7be3-462c-b8ea-5307fe59d801",
    "deepnote_cell_type": "markdown",
    "output_cleared": false,
    "slideshow": {
     "slide_type": "slide"
    }
   },
   "source": [
    "### Exercise 4.3\n",
    "\n",
    "Create a function `reduce` to reduce the list of words returned by `map_words` and return a dictionary containing all words as keys and number of occurrences as values.\n",
    "\n",
    "```python\n",
    "reduce('sample.txt')\n",
    "{'tempora': 2, 'non': 1, 'quisquam': 1, 'amet': 1, 'sit': 1}\n",
    "```"
   ]
  },
  {
   "cell_type": "markdown",
   "metadata": {
    "cell_id": "00012-2b86c7db-4182-48f4-bb7a-2218b2cb565e",
    "deepnote_cell_type": "markdown",
    "output_cleared": false,
    "slideshow": {
     "slide_type": "slide"
    }
   },
   "source": [
    "You probably notice that this simple function is not easy to implement. Python standard library provides some features that can help."
   ]
  },
  {
   "cell_type": "code",
   "execution_count": 15,
   "metadata": {},
   "outputs": [],
   "source": [
    "import operator\n",
    "words = map_words(\"sample.txt\")\n",
    "def reduce(a):\n",
    "    k = {}\n",
    "    for j in a:\n",
    "        if j in k:\n",
    "            k[j] += 1\n",
    "        else:\n",
    "            k[j] = 1\n",
    "    return k\n",
    "\n",
    "word_counts = reduce(words)"
   ]
  },
  {
   "cell_type": "code",
   "execution_count": 21,
   "metadata": {},
   "outputs": [
    {
     "data": {
      "text/plain": [
       "{'t': 2,\n",
       " 'consectetur': 18,\n",
       " 'numquam': 18,\n",
       " 'quaerat': 17,\n",
       " 'st': 4,\n",
       " 'labore': 15,\n",
       " 'aliquam': 14,\n",
       " 'olorem': 2,\n",
       " 'adipisci': 15,\n",
       " 'magnam': 14,\n",
       " 'porro': 10,\n",
       " 'neque': 15,\n",
       " 'dolore': 15,\n",
       " 'dolor': 12,\n",
       " 'modi': 8,\n",
       " 'amet': 10,\n",
       " 'ut': 10,\n",
       " 'met': 3,\n",
       " 'dolorem': 8,\n",
       " 'uaerat': 4,\n",
       " 'ipsum': 16,\n",
       " 'eius': 13,\n",
       " 'it': 6,\n",
       " 'tempora': 13,\n",
       " 'non': 11,\n",
       " 'voluptatem': 10,\n",
       " 'dipisci': 1,\n",
       " 'quisquam': 7,\n",
       " 'oluptatem': 2,\n",
       " 'quiquia': 8,\n",
       " 'uiquia': 1,\n",
       " 'velit': 5,\n",
       " 'on': 3,\n",
       " 'psum': 4,\n",
       " 'empora': 2,\n",
       " 'etincidunt': 12,\n",
       " 'olore': 2,\n",
       " 'orro': 5,\n",
       " 'sed': 13,\n",
       " 'olor': 2,\n",
       " 'sit': 8,\n",
       " 'est': 11,\n",
       " 'ius': 3,\n",
       " 'odi': 2,\n",
       " 'elit': 1,\n",
       " 'ed': 3,\n",
       " 'uisquam': 1,\n",
       " 'agnam': 4,\n",
       " 'umquam': 2,\n",
       " 'liquam': 3,\n",
       " 'abore': 1}"
      ]
     },
     "execution_count": 21,
     "metadata": {},
     "output_type": "execute_result"
    }
   ],
   "source": [
    "word_counts"
   ]
  },
  {
   "cell_type": "code",
   "execution_count": 23,
   "metadata": {},
   "outputs": [
    {
     "data": {
      "text/plain": [
       "{'consectetur': 18,\n",
       " 'numquam': 18,\n",
       " 'quaerat': 17,\n",
       " 'ipsum': 16,\n",
       " 'labore': 15,\n",
       " 'adipisci': 15,\n",
       " 'neque': 15,\n",
       " 'dolore': 15,\n",
       " 'aliquam': 14,\n",
       " 'magnam': 14,\n",
       " 'eius': 13,\n",
       " 'tempora': 13,\n",
       " 'sed': 13,\n",
       " 'dolor': 12,\n",
       " 'etincidunt': 12,\n",
       " 'non': 11,\n",
       " 'est': 11,\n",
       " 'porro': 10,\n",
       " 'amet': 10,\n",
       " 'ut': 10,\n",
       " 'voluptatem': 10,\n",
       " 'modi': 8,\n",
       " 'dolorem': 8,\n",
       " 'quiquia': 8,\n",
       " 'sit': 8,\n",
       " 'quisquam': 7,\n",
       " 'it': 6,\n",
       " 'velit': 5,\n",
       " 'orro': 5,\n",
       " 'st': 4,\n",
       " 'uaerat': 4,\n",
       " 'psum': 4,\n",
       " 'agnam': 4,\n",
       " 'met': 3,\n",
       " 'on': 3,\n",
       " 'ius': 3,\n",
       " 'ed': 3,\n",
       " 'liquam': 3,\n",
       " 't': 2,\n",
       " 'olorem': 2,\n",
       " 'oluptatem': 2,\n",
       " 'empora': 2,\n",
       " 'olore': 2,\n",
       " 'olor': 2,\n",
       " 'odi': 2,\n",
       " 'umquam': 2,\n",
       " 'dipisci': 1,\n",
       " 'uiquia': 1,\n",
       " 'elit': 1,\n",
       " 'uisquam': 1,\n",
       " 'abore': 1}"
      ]
     },
     "execution_count": 23,
     "metadata": {},
     "output_type": "execute_result"
    }
   ],
   "source": [
    "getcount = operator.itemgetter(1)\n",
    "dict(sorted(word_counts.items(), key=getcount,reverse=True))"
   ]
  },
  {
   "cell_type": "markdown",
   "metadata": {
    "cell_id": "00013-ebc8bebc-9289-4ced-b4b8-88e650468081",
    "deepnote_cell_type": "markdown",
    "output_cleared": false,
    "slideshow": {
     "slide_type": "slide"
    }
   },
   "source": [
    "## Container datatypes\n",
    "\n",
    "`collection` module implements specialized container datatypes providing alternatives to Python’s general purpose built-in containers, `dict`, `list`, `set`, and `tuple`.\n",
    "\n",
    "- `defaultdict` :\tdict subclass that calls a factory function to supply missing values\n",
    "- `Counter`\t: dict subclass for counting hashable objects"
   ]
  },
  {
   "cell_type": "markdown",
   "metadata": {
    "cell_id": "00014-6c0aa99c-a287-4f95-aeac-2128d9111f9b",
    "deepnote_cell_type": "markdown",
    "output_cleared": false,
    "slideshow": {
     "slide_type": "slide"
    }
   },
   "source": [
    "### defaultdict\n",
    "\n",
    "When you implement the `wordcount` function you probably had some problem to append key-value pair to your `dict`. If you try to change the value of a key that is not present \n",
    "in the dict, the key is not automatically created.\n",
    "\n",
    "You can use a `try-except` flow but the `defaultdict` could be a solution. This container is a `dict` subclass that calls a factory function to supply missing values.\n",
    "For example, using list as the default_factory, it is easy to group a sequence of key-value pairs into a dictionary of lists:"
   ]
  },
  {
   "cell_type": "code",
   "execution_count": 32,
   "metadata": {
    "cell_id": "00015-e3838c4c-076b-4219-a3ae-1a03431b9997",
    "deepnote_cell_type": "code",
    "execution_millis": 8,
    "execution_start": 1604475118195,
    "output_cleared": false,
    "slideshow": {
     "slide_type": "fragment"
    },
    "source_hash": "5e869425"
   },
   "outputs": [
    {
     "data": {
      "text/plain": [
       "{'yellow': [1, 3], 'blue': [2, 4], 'red': [1]}"
      ]
     },
     "execution_count": 32,
     "metadata": {},
     "output_type": "execute_result"
    }
   ],
   "source": [
    "from collections import defaultdict\n",
    "s = [('yellow', 1), ('blue', 2), ('yellow', 3), ('blue', 4), ('red', 1)]\n",
    "d = defaultdict(list)\n",
    "for k, v in s:\n",
    "    d[k].append(v)\n",
    "\n",
    "dict(d)"
   ]
  },
  {
   "cell_type": "markdown",
   "metadata": {
    "cell_id": "00016-122ba1b5-d377-49ac-91da-939a566d3bff",
    "deepnote_cell_type": "markdown",
    "output_cleared": false,
    "slideshow": {
     "slide_type": "slide"
    }
   },
   "source": [
    "### Exercise 4.4\n",
    "\n",
    "- Modify the `reduce` function you wrote above by using a defaultdict with the most suitable factory."
   ]
  },
  {
   "cell_type": "code",
   "execution_count": 38,
   "metadata": {},
   "outputs": [],
   "source": [
    "from collections import defaultdict\n",
    "def reduce_update(a):\n",
    "    result = defaultdict(int)\n",
    "    for v in a:\n",
    "        result[v] = result[v] + 1\n",
    "    return dict(result)"
   ]
  },
  {
   "cell_type": "code",
   "execution_count": 39,
   "metadata": {},
   "outputs": [],
   "source": [
    "word_counts = reduce_update(words)"
   ]
  },
  {
   "cell_type": "code",
   "execution_count": 41,
   "metadata": {},
   "outputs": [
    {
     "data": {
      "text/plain": [
       "{'consectetur': 18,\n",
       " 'numquam': 18,\n",
       " 'quaerat': 17,\n",
       " 'ipsum': 16,\n",
       " 'labore': 15,\n",
       " 'adipisci': 15,\n",
       " 'neque': 15,\n",
       " 'dolore': 15,\n",
       " 'aliquam': 14,\n",
       " 'magnam': 14,\n",
       " 'eius': 13,\n",
       " 'tempora': 13,\n",
       " 'sed': 13,\n",
       " 'dolor': 12,\n",
       " 'etincidunt': 12,\n",
       " 'non': 11,\n",
       " 'est': 11,\n",
       " 'porro': 10,\n",
       " 'amet': 10,\n",
       " 'ut': 10,\n",
       " 'voluptatem': 10,\n",
       " 'modi': 8,\n",
       " 'dolorem': 8,\n",
       " 'quiquia': 8,\n",
       " 'sit': 8,\n",
       " 'quisquam': 7,\n",
       " 'it': 6,\n",
       " 'velit': 5,\n",
       " 'orro': 5,\n",
       " 'st': 4,\n",
       " 'uaerat': 4,\n",
       " 'psum': 4,\n",
       " 'agnam': 4,\n",
       " 'met': 3,\n",
       " 'on': 3,\n",
       " 'ius': 3,\n",
       " 'ed': 3,\n",
       " 'liquam': 3,\n",
       " 't': 2,\n",
       " 'olorem': 2,\n",
       " 'oluptatem': 2,\n",
       " 'empora': 2,\n",
       " 'olore': 2,\n",
       " 'olor': 2,\n",
       " 'odi': 2,\n",
       " 'umquam': 2,\n",
       " 'dipisci': 1,\n",
       " 'uiquia': 1,\n",
       " 'elit': 1,\n",
       " 'uisquam': 1,\n",
       " 'abore': 1}"
      ]
     },
     "execution_count": 41,
     "metadata": {},
     "output_type": "execute_result"
    }
   ],
   "source": [
    "dict(sorted(word_counts.items(), key=getcount,reverse=True))"
   ]
  },
  {
   "cell_type": "markdown",
   "metadata": {
    "cell_id": "00017-d3a9fada-46c7-43aa-808e-6aafb5f88b51",
    "deepnote_cell_type": "markdown",
    "output_cleared": false,
    "slideshow": {
     "slide_type": "slide"
    }
   },
   "source": [
    "### Counter\n",
    "\n",
    "A Counter is a dict subclass for counting hashable objects. It is an unordered collection where elements are stored as dictionary keys and their counts are stored as dictionary values. Counts are allowed to be any integer value including zero or negative counts.\n",
    "\n",
    "Elements are counted from an iterable or initialized from another mapping (or counter):"
   ]
  },
  {
   "cell_type": "code",
   "execution_count": 45,
   "metadata": {},
   "outputs": [
    {
     "data": {
      "text/plain": [
       "Counter({1: 3, 4: 2, 3: 4, 2: 3})"
      ]
     },
     "execution_count": 45,
     "metadata": {},
     "output_type": "execute_result"
    }
   ],
   "source": [
    "from collections import Counter\n",
    "Counter([1, 4, 3, 2, 3, 3, 2, 1, 3, 4, 1, 2])"
   ]
  },
  {
   "cell_type": "code",
   "execution_count": 42,
   "metadata": {
    "cell_id": "00018-0a4a9a48-d6d4-458d-8456-9d09663c2dd6",
    "deepnote_cell_type": "code",
    "execution_millis": 0,
    "execution_start": 1604475118223,
    "output_cleared": false,
    "slideshow": {
     "slide_type": "fragment"
    },
    "source_hash": "6c91b3d3"
   },
   "outputs": [
    {
     "name": "stdout",
     "output_type": "stream",
     "text": [
      "{'r': 23, 'g': 13, 'b': 23}\n",
      "0\n",
      "23\n"
     ]
    }
   ],
   "source": [
    "from collections import Counter\n",
    "\n",
    "violet = dict(r=23,g=13,b=23)\n",
    "print(violet)\n",
    "cnt = Counter(violet)  # or Counter(r=23, g=13, b=23)\n",
    "print(cnt['c'])\n",
    "print(cnt['r'])"
   ]
  },
  {
   "cell_type": "code",
   "execution_count": 43,
   "metadata": {
    "cell_id": "00019-d1ee2786-b0d6-4df6-9248-6bd86afc4969",
    "deepnote_cell_type": "code",
    "execution_millis": 5,
    "execution_start": 1604475118225,
    "output_cleared": false,
    "slideshow": {
     "slide_type": "slide"
    },
    "source_hash": "882d365b"
   },
   "outputs": [
    {
     "name": "stdout",
     "output_type": "stream",
     "text": [
      "r r r r r r r r r r r r r r r r r r r r r r r g g g g g g g g g g g g g b b b b b b b b b b b b b b b b b b b b b b b\n"
     ]
    }
   ],
   "source": [
    "print(*cnt.elements())"
   ]
  },
  {
   "cell_type": "code",
   "execution_count": 44,
   "metadata": {},
   "outputs": [
    {
     "name": "stdout",
     "output_type": "stream",
     "text": [
      "<itertools.chain object at 0x0000022ED67A13D0>\n"
     ]
    }
   ],
   "source": [
    "print(cnt.elements())"
   ]
  },
  {
   "cell_type": "code",
   "execution_count": 35,
   "metadata": {
    "cell_id": "00020-b5a17f34-1b0d-41b0-92d1-59d914b04baa",
    "deepnote_cell_type": "code",
    "execution_millis": 0,
    "execution_start": 1604475118240,
    "output_cleared": false,
    "slideshow": {
     "slide_type": "fragment"
    },
    "source_hash": "5a80c266"
   },
   "outputs": [
    {
     "data": {
      "text/plain": [
       "[('r', 23), ('b', 23)]"
      ]
     },
     "execution_count": 35,
     "metadata": {},
     "output_type": "execute_result"
    }
   ],
   "source": [
    "cnt.most_common(2)"
   ]
  },
  {
   "cell_type": "code",
   "execution_count": 36,
   "metadata": {
    "cell_id": "00021-5e8b6b05-72fd-46ae-a211-6b918e042456",
    "deepnote_cell_type": "code",
    "execution_millis": 1,
    "execution_start": 1604475118247,
    "output_cleared": false,
    "slideshow": {
     "slide_type": "fragment"
    },
    "source_hash": "ab270fed"
   },
   "outputs": [
    {
     "data": {
      "text/plain": [
       "dict_values([23, 13, 23])"
      ]
     },
     "execution_count": 36,
     "metadata": {},
     "output_type": "execute_result"
    }
   ],
   "source": [
    "cnt.values()"
   ]
  },
  {
   "cell_type": "markdown",
   "metadata": {
    "cell_id": "00022-1602b845-b3bc-458e-80cf-0e8383658965",
    "deepnote_cell_type": "markdown",
    "output_cleared": false,
    "slideshow": {
     "slide_type": "slide"
    }
   },
   "source": [
    "### Exercise 4.5\n",
    "\n",
    "Use a `Counter` object to count words occurences in the sample text file."
   ]
  },
  {
   "cell_type": "code",
   "execution_count": 46,
   "metadata": {},
   "outputs": [],
   "source": [
    "def map_words_counter(filename):\n",
    "    data = []\n",
    "    with open(filename, \"r\") as file:\n",
    "        data = file.read()\n",
    "    text = re.sub('[^a-z\\ \\']+', \" \", data)\n",
    "    words = list(text.split())\n",
    "    return Counter(words)"
   ]
  },
  {
   "cell_type": "code",
   "execution_count": 47,
   "metadata": {},
   "outputs": [],
   "source": [
    "result = map_words_counter('sample.txt')"
   ]
  },
  {
   "cell_type": "code",
   "execution_count": 49,
   "metadata": {},
   "outputs": [
    {
     "data": {
      "text/plain": [
       "[('consectetur', 18),\n",
       " ('numquam', 18),\n",
       " ('quaerat', 17),\n",
       " ('ipsum', 16),\n",
       " ('labore', 15)]"
      ]
     },
     "execution_count": 49,
     "metadata": {},
     "output_type": "execute_result"
    }
   ],
   "source": [
    "result.most_common(5)"
   ]
  },
  {
   "cell_type": "markdown",
   "metadata": {
    "cell_id": "00023-41739068-8064-4f15-b7d2-e0c2c63a0e05",
    "deepnote_cell_type": "markdown",
    "output_cleared": false,
    "slideshow": {
     "slide_type": "fragment"
    }
   },
   "source": [
    "The Counter class is similar to bags or multisets in some Python libraries or other languages. We will see later how to use Counter-like objects in a parallel context."
   ]
  },
  {
   "cell_type": "markdown",
   "metadata": {
    "cell_id": "00024-0f5a73db-6dc2-496c-94f8-8870157d739a",
    "deepnote_cell_type": "markdown",
    "output_cleared": false,
    "slideshow": {
     "slide_type": "slide"
    }
   },
   "source": [
    "## Process multiple files\n",
    "\n",
    "- Create several files containing `lorem` text named 'sample01.txt', 'sample02.txt'...\n",
    "- If you process these files you return multiple dictionaries.\n",
    "- You have to loop over them to sum occurences and return the resulted dict. To iterate on specific mappings, Python standard library provides some useful features in `itertools` module.\n",
    "- [itertools.chain(*mapped_values)](https://docs.python.org/3.6/library/itertools.html#itertools.chain) could be used for treating consecutive sequences as a single sequence."
   ]
  },
  {
   "cell_type": "code",
   "execution_count": 37,
   "metadata": {
    "cell_id": "00025-944ba1df-e400-4e23-830f-a658dfe9f3de",
    "deepnote_cell_type": "code",
    "execution_millis": 8,
    "execution_start": 1604475118255,
    "output_cleared": false,
    "slideshow": {
     "slide_type": "slide"
    },
    "source_hash": "d1e71c55"
   },
   "outputs": [
    {
     "data": {
      "text/plain": [
       "{'orange': 1,\n",
       " 'spinach': 1,\n",
       " 'banana': 2,\n",
       " 'endive': 2,\n",
       " 'apple': 3,\n",
       " 'carrot': 4,\n",
       " 'pear': 5,\n",
       " 'celery': 5}"
      ]
     },
     "execution_count": 37,
     "metadata": {},
     "output_type": "execute_result"
    }
   ],
   "source": [
    "import itertools, operator\n",
    "fruits = [('apple', 3), ('banana', 2), ('pear', 5), ('orange', 1)]\n",
    "vegetables = [('endive', 2), ('spinach', 1), ('celery', 5), ('carrot', 4)]\n",
    "getcount = operator.itemgetter(1)\n",
    "dict(sorted(itertools.chain(fruits,vegetables), key=getcount))"
   ]
  },
  {
   "cell_type": "markdown",
   "metadata": {
    "cell_id": "00026-f4402095-8b81-44a3-9997-67db7087d6a5",
    "deepnote_cell_type": "markdown",
    "output_cleared": false,
    "slideshow": {
     "slide_type": "slide"
    }
   },
   "source": [
    "### Exercise 4.6\n",
    "\n",
    "- Write the program that creates files, processes and use `itertools.chain` to get the merged word count dictionary."
   ]
  },
  {
   "cell_type": "markdown",
   "metadata": {
    "cell_id": "00027-8a0dfd3f-d700-489b-a879-d3e9879bdd93",
    "deepnote_cell_type": "markdown",
    "output_cleared": false,
    "slideshow": {
     "slide_type": "slide"
    }
   },
   "source": [
    "### Exercise 4.7\n",
    "\n",
    "- Create the `wordcount` function in order to accept several files as arguments and\n",
    "return the result dict.\n",
    "\n",
    "```\n",
    "wordcount(file1, file2, file3, ...)\n",
    "```\n",
    "\n",
    "[Hint: arbitrary argument lists](https://docs.python.org/3/tutorial/controlflow.html#arbitrary-argument-lists)"
   ]
  },
  {
   "cell_type": "markdown",
   "metadata": {
    "cell_id": "00028-b3891c59-e9f3-42d2-9345-47d98c195682",
    "deepnote_cell_type": "markdown",
    "output_cleared": false,
    "slideshow": {
     "slide_type": "slide"
    }
   },
   "source": [
    "- Example of use of arbitrary argument list and arbitrary named arguments."
   ]
  },
  {
   "cell_type": "code",
   "execution_count": 38,
   "metadata": {
    "cell_id": "00029-4f68a23c-8c3c-4549-aeff-b8e79cfb2f81",
    "deepnote_cell_type": "code",
    "execution_millis": 2,
    "execution_start": 1604475118265,
    "output_cleared": false,
    "slideshow": {
     "slide_type": "fragment"
    },
    "source_hash": "c0a56b7c"
   },
   "outputs": [
    {
     "name": "stdout",
     "output_type": "stream",
     "text": [
      "3\n",
      "[1, 2]\n",
      "bonjour\n",
      "{'x': 4, 'y': 'y'}\n"
     ]
    }
   ],
   "source": [
    "def func( *args, **kwargs):\n",
    "    for arg in args:\n",
    "        print(arg)\n",
    "        \n",
    "    print(kwargs)\n",
    "        \n",
    "func( \"3\", [1,2], \"bonjour\", x = 4, y = \"y\")"
   ]
  },
  {
   "cell_type": "code",
   "execution_count": null,
   "metadata": {},
   "outputs": [],
   "source": []
  }
 ],
 "metadata": {
  "deepnote_execution_queue": [],
  "deepnote_notebook_id": "bf9733d2-1012-4178-92b2-000cc427adbe",
  "kernelspec": {
   "display_name": "big-data",
   "language": "python",
   "name": "big-data"
  },
  "language_info": {
   "codemirror_mode": {
    "name": "ipython",
    "version": 3
   },
   "file_extension": ".py",
   "mimetype": "text/x-python",
   "name": "python",
   "nbconvert_exporter": "python",
   "pygments_lexer": "ipython3",
   "version": "3.9.13"
  }
 },
 "nbformat": 4,
 "nbformat_minor": 4
}
