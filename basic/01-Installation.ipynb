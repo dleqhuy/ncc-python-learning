{
 "cells": [
  {
   "attachments": {},
   "cell_type": "markdown",
   "metadata": {
    "cell_id": "00000-c079c5a8-e332-4f27-a8b4-313451da4571",
    "deepnote_cell_type": "markdown",
    "slideshow": {
     "slide_type": "slide"
    }
   },
   "source": [
    "# Conda\n",
    "\n",
    "Conda is a powerful package manager and environment manager.\n",
    "\n",
    "[Ref: Getting started with conda](https://docs.conda.io/projects/conda/en/latest/user-guide/getting-started.html)\n",
    "\n",
    "<!-- #region {\"slideshow\": {\"slide_type\": \"slide\"}} -->\n",
    "##  Install [Anaconda](https://www.anaconda.com/downloads) (large) or [Miniconda](https://conda.io/miniconda.html) (small) or [Miniforge](https://github.com/conda-forge/miniforge/releases) (best)"
   ]
  },
  {
   "cell_type": "code",
   "execution_count": null,
   "metadata": {},
   "outputs": [],
   "source": [
    "%%bash\n",
    "wget https://github.com/conda-forge/miniforge/releases/latest/download/Miniforge3-Linux-x86_64.sh\n",
    "bash Miniforge3-Linux-x86_64.sh -b"
   ]
  },
  {
   "cell_type": "markdown",
   "metadata": {
    "cell_id": "00001-ce04a564-f215-4e7a-bcd2-5d11d2311bef",
    "deepnote_cell_type": "markdown",
    "slideshow": {
     "slide_type": "slide"
    }
   },
   "source": [
    "##  Open a terminal (Linux/MacOSX) or a Anaconda prompt (Windows)"
   ]
  },
  {
   "cell_type": "markdown",
   "metadata": {
    "cell_id": "00002-433f0999-74bd-4b24-8203-b0da444ab8cb",
    "deepnote_cell_type": "markdown",
    "slideshow": {
     "slide_type": "fragment"
    }
   },
   "source": [
    "Verify that conda is installed and running on your system by typing:"
   ]
  },
  {
   "cell_type": "code",
   "execution_count": null,
   "metadata": {},
   "outputs": [],
   "source": [
    "%%bash\n",
    "conda init"
   ]
  },
  {
   "cell_type": "code",
   "execution_count": 2,
   "metadata": {
    "cell_id": "00006-4178ff26-bed3-4b36-9fc8-acd37e1fb16c",
    "deepnote_cell_type": "code",
    "execution_millis": 3,
    "execution_start": 1605782209255,
    "output_cleared": false,
    "source_hash": "2be4121e",
    "tags": []
   },
   "outputs": [
    {
     "name": "stdout",
     "output_type": "stream",
     "text": [
      "\n",
      "BONJOUR !\n",
      "Sur le coté il y a un lien \"add comment\" qui permet de commenter pour les visiteurs :-)\n",
      "\n"
     ]
    }
   ],
   "source": [
    "print(\"\"\"\n",
    "BONJOUR !\n",
    "Sur le coté il y a un lien \"add comment\" qui permet de commenter pour les visiteurs :-)\n",
    "\"\"\")"
   ]
  },
  {
   "cell_type": "code",
   "execution_count": 3,
   "metadata": {},
   "outputs": [
    {
     "name": "stdout",
     "output_type": "stream",
     "text": [
      "Python 3.8.13\n"
     ]
    }
   ],
   "source": [
    "%%bash\n",
    "python --version"
   ]
  },
  {
   "cell_type": "markdown",
   "metadata": {
    "cell_id": "00004-8134637c-5ee9-45af-8325-3bdf3a606ab8",
    "deepnote_cell_type": "markdown",
    "slideshow": {
     "slide_type": "slide"
    }
   },
   "source": [
    "Conda displays the number of the version that you have installed.\n",
    "\n",
    "If you get an error message, make sure you closed and re-opened the\n",
    "terminal window after installing, or do it now. \n",
    "\n",
    "### To update conda to the current version. Type the following:"
   ]
  },
  {
   "cell_type": "code",
   "execution_count": null,
   "metadata": {},
   "outputs": [],
   "source": [
    "%%bash\n",
    "conda update -y conda -n base"
   ]
  },
  {
   "cell_type": "markdown",
   "metadata": {
    "cell_id": "00005-66113ab6-546a-428e-b895-f97a46553ee8",
    "deepnote_cell_type": "markdown",
    "slideshow": {
     "slide_type": "slide"
    }
   },
   "source": [
    "## Managing channels\n",
    "\n",
    "Conda channels are the locations where packages are stored. We use the [conda-forge](https://conda-forge.org),\n",
    "a good community-led collection of recipes for conda. If you installed [Miniforge](https://github.com/conda-forge/miniforge) you already have a conda specific to conda-forge.\n",
    "\n",
    "```bash\n",
    "conda config --add channels conda-forge \n",
    "conda config --set channel_priority strict\n",
    "```\n",
    "\n",
    "Strict channel priority speed up conda operations and also reduce package incompatibility problems."
   ]
  },
  {
   "cell_type": "markdown",
   "metadata": {
    "cell_id": "00006-47b827c2-9bc0-416d-993f-48e95819836d",
    "deepnote_cell_type": "markdown",
    "slideshow": {
     "slide_type": "slide"
    }
   },
   "source": [
    "## Managing environments\n",
    "\n",
    "Conda allows you to create separate environments containing files, packages,\n",
    "and their dependencies that will not interact with other environments.\n",
    "\n",
    "Each virtual environment has its own Python binary. When you install some Python package into your virtual environment, it'll be installed **only** into that specific environment. This means that you can have different versions of a single Python package in different virtual environments in the same machine. Virtual environments are also useful if you need to use different Python versions in your projects.\n",
    "\n",
    "When you begin using conda, you already have a default environment named\n",
    "``base``. You don't want to put programs into your base environment, though.\n",
    "Create separate environments to keep your programs isolated from each other.\n",
    "\n",
    "### Create a new environment and install a package in it.\n",
    "\n",
    "We will name the environment `tutorial` and install the version 3.8 of `python`. At the Anaconda Prompt or in your terminal window, type the following:\n",
    "```bash\n",
    "conda create -y -n tutorial python=3.8\n",
    "```"
   ]
  },
  {
   "cell_type": "markdown",
   "metadata": {
    "cell_id": "00007-160cfa3a-76d6-4583-bd41-a61927c7da04",
    "deepnote_cell_type": "markdown",
    "slideshow": {
     "slide_type": "slide"
    }
   },
   "source": [
    "### To use, or \"activate\" the new environment, type the following:\n",
    "\n",
    "```bash\n",
    "conda activate tutorial\n",
    "```"
   ]
  },
  {
   "cell_type": "markdown",
   "metadata": {
    "cell_id": "00008-9e275657-1b31-4aaa-bf05-795ea1f4d925",
    "deepnote_cell_type": "markdown",
    "slideshow": {
     "slide_type": "fragment"
    }
   },
   "source": [
    "Now that you are in your ``tutorial`` environment, any conda commands you type will go to that environment until you deactivate it.\n",
    "\n",
    "Verify which version of Python is in your current environment:\n",
    "\n",
    "```bash\n",
    "python --version\n",
    "```"
   ]
  },
  {
   "cell_type": "markdown",
   "metadata": {
    "cell_id": "00009-131c5ed6-2ac9-41fe-9ca3-ffcf2d1fd9e1",
    "deepnote_cell_type": "markdown",
    "slideshow": {
     "slide_type": "slide"
    }
   },
   "source": [
    "### To see a list of all your environments, type:"
   ]
  },
  {
   "cell_type": "markdown",
   "metadata": {},
   "source": [
    "%%bash\n",
    "conda info --envs"
   ]
  },
  {
   "cell_type": "markdown",
   "metadata": {
    "cell_id": "00011-fc26b545-3b11-4dfb-9d3b-fe64673f5da4",
    "deepnote_cell_type": "markdown",
    "slideshow": {
     "slide_type": "slide"
    }
   },
   "source": [
    "The active environment is the one with an asterisk (*).\n",
    "\n",
    "#### Change your current environment back to the default (base):\n",
    "\n",
    "```bash\n",
    "conda activate\n",
    "```"
   ]
  },
  {
   "cell_type": "markdown",
   "metadata": {
    "cell_id": "00012-df8df772-187f-4b19-8e2d-9a5f70682378",
    "deepnote_cell_type": "markdown",
    "slideshow": {
     "slide_type": "slide"
    }
   },
   "source": [
    "## Managing packages\n",
    "\n",
    "- Check to see if a package you have not installed named \"jupyter\" is available from the Anaconda repository (must be connected to the Internet):"
   ]
  },
  {
   "cell_type": "code",
   "execution_count": null,
   "metadata": {
    "cell_id": "00013-2a0afc14-6f3c-4303-8fe1-c044376d61ef",
    "deepnote_cell_type": "code",
    "slideshow": {
     "slide_type": "fragment"
    }
   },
   "outputs": [],
   "source": [
    "%%bash\n",
    "conda search jupyter | grep conda-forge"
   ]
  },
  {
   "cell_type": "markdown",
   "metadata": {
    "cell_id": "00014-4fea59f6-2bad-427a-bcd8-ed50bf86d6f5",
    "deepnote_cell_type": "markdown",
    "slideshow": {
     "slide_type": "slide"
    }
   },
   "source": [
    "Conda displays a list of all packages with that name on conda-forge repository, so we know it is available.\n",
    "\n",
    "Install this package into the base environment:\n",
    "\n",
    "```bash\n",
    "conda activate\n",
    "conda install -y jupyter -c conda-forge -n base\n",
    "```"
   ]
  },
  {
   "cell_type": "markdown",
   "metadata": {
    "cell_id": "00015-8ffee693-33a1-4810-95ac-1a78bdc76747",
    "deepnote_cell_type": "markdown",
    "slideshow": {
     "slide_type": "slide"
    }
   },
   "source": [
    "Check to see if the newly installed program is in this environment:"
   ]
  },
  {
   "cell_type": "code",
   "execution_count": null,
   "metadata": {
    "cell_id": "00016-259afc3f-771d-445e-bef8-8a86ace41777",
    "deepnote_cell_type": "code",
    "slideshow": {
     "slide_type": "fragment"
    }
   },
   "outputs": [],
   "source": [
    "%%bash\n",
    "conda list jupyter"
   ]
  },
  {
   "cell_type": "markdown",
   "metadata": {
    "cell_id": "00017-aa5e9516-8a01-4d25-8caf-62e1f0497d46",
    "deepnote_cell_type": "markdown",
    "slideshow": {
     "slide_type": "slide"
    }
   },
   "source": [
    "### Update a new conda environment from file\n",
    "\n",
    "The file environment.yml contains the packages list for the project. \n",
    "\n",
    "```bash\n",
    "conda env update -f environment.yml -n tutorial\n",
    "```\n",
    "\n",
    "[Conda envs documentation](https://conda.io/docs/using/envs.html)."
   ]
  },
  {
   "attachments": {},
   "cell_type": "markdown",
   "metadata": {
    "cell_id": "00018-61768c7e-7e7a-4459-bde5-3d98028bf4e1",
    "deepnote_cell_type": "markdown",
    "slideshow": {
     "slide_type": "slide"
    }
   },
   "source": [
    "Activating the conda environment will change your shell’s prompt to show what virtual environment you’re using, and modify the environment so that running python will get you that particular version and installation of Python. \n",
    "<pre>\n",
    "$ conda activate tutorial\n",
    "(tutorial) $ python\n",
    "Python 3.6.2 (default, Jul 17 2017, 16:44:45) \n",
    "[GCC 4.2.1 Compatible Apple LLVM 8.1.0 (clang-802.0.42)] on darwin\n",
    "Type \"help\", \"copyright\", \"credits\" or \"license\" for more information.\n",
    ">>> quit()\n",
    "</pre>\n",
    "\n",
    "**You must do this everytime you open a new terminal**"
   ]
  },
  {
   "cell_type": "markdown",
   "metadata": {
    "cell_id": "00019-243b5913-75c8-461a-a6b0-aac380449a2e",
    "deepnote_cell_type": "markdown",
    "slideshow": {
     "slide_type": "slide"
    }
   },
   "source": [
    "## Install the kernel for jupyter\n",
    "\n",
    "```bash\n",
    "conda run -n tutorial python -m ipykernel install --user --name tutorial\n",
    "```\n",
    "\n",
    "With this command you create the `tutorial` kernel with python and all course dependencies.\n",
    "The cell above will give you the path to the python that runs in this notebook."
   ]
  },
  {
   "cell_type": "code",
   "execution_count": null,
   "metadata": {
    "cell_id": "00020-9708ee56-1207-4fc0-b94b-a3963e073993",
    "deepnote_cell_type": "code",
    "slideshow": {
     "slide_type": "slide"
    }
   },
   "outputs": [],
   "source": [
    "import sys\n",
    "print(f\"{sys.executable}\")"
   ]
  },
  {
   "cell_type": "code",
   "execution_count": null,
   "metadata": {
    "cell_id": "00021-ef265755-c5c4-4b5b-aaa3-9b1f5f3b5d3d",
    "deepnote_cell_type": "code",
    "slideshow": {
     "slide_type": "fragment"
    }
   },
   "outputs": [],
   "source": [
    "%%bash\n",
    "jupyter-kernelspec list"
   ]
  },
  {
   "cell_type": "markdown",
   "metadata": {},
   "source": [
    "# venv + pip ~ conda"
   ]
  },
  {
   "cell_type": "markdown",
   "metadata": {},
   "source": [
    "## pip\n",
    "\n",
    "pip is the package installer for Python\n",
    "\n",
    "Note: you can also install pip inside conda to get the packages that are not on conda channels\n",
    "\n",
    "### The fundamental difference between pip and Conda packaging is what they put in packages.\n",
    "\n",
    " - Pip packages are Python libraries like NumPy or matplotlib.\n",
    " - Conda packages include Python libraries (NumPy or matplotlib), C libraries (libjpeg), and executables (like C compilers, and even the Python interpreter itself)."
   ]
  },
  {
   "cell_type": "markdown",
   "metadata": {},
   "source": [
    "## [`venv`](https://docs.python.org/3/library/venv.html#module-venv)\n",
    "\n",
    "is an environment manager for Python"
   ]
  },
  {
   "cell_type": "markdown",
   "metadata": {},
   "source": [
    "#### Creating new virtual environment\n",
    "You can create all your virtual environments into a single directory (for example, `.virtualenvs` directory inside your home folder). This makes them easier to find."
   ]
  },
  {
   "cell_type": "markdown",
   "metadata": {},
   "source": [
    "`python3 -m venv /path/to/new/environment`\n",
    "\n",
    "or\n",
    "\n",
    "`path/to/your/python -m venv /path/to/new/environment`"
   ]
  },
  {
   "attachments": {},
   "cell_type": "markdown",
   "metadata": {},
   "source": [
    "### Activate environment\n",
    "\n",
    "Windows: `path_to_virtual_env\\Scripts\\activate.bat`<br/>\n",
    "Posix: `source path_to_virtual_env/bin/activate`"
   ]
  },
  {
   "cell_type": "markdown",
   "metadata": {},
   "source": [
    "#### Installing packages\n",
    "After activating the newly created virtual environment, you can install new packages by using `pip`. For example if you want to install `pytest`:\n",
    "\n",
    "`python -m pip install pytest`\n",
    "\n",
    "it'll be installed into path_to_virtual_env/lib/<python_version>/site-packages. Note that the path to site-packages maybe slightly different depending on the operating system you are using.\n",
    "\n",
    "You can list the installed packages and their versions by running:\n",
    "\n",
    "`python -m pip freeze`"
   ]
  }
 ],
 "metadata": {
  "deepnote_execution_queue": [],
  "deepnote_notebook_id": "a17cb0b0-e36b-4d80-a4d4-b1ec8efb60fb",
  "kernelspec": {
   "display_name": "Python 3.10.6 ('base')",
   "language": "python",
   "name": "python3"
  },
  "language_info": {
   "codemirror_mode": {
    "name": "ipython",
    "version": 3
   },
   "file_extension": ".py",
   "mimetype": "text/x-python",
   "name": "python",
   "nbconvert_exporter": "python",
   "pygments_lexer": "ipython3",
   "version": "3.10.6"
  },
  "vscode": {
   "interpreter": {
    "hash": "db548b70c78eb4f296873e535eadf9a35ec9e9f00e83e0659119ec616d8c8971"
   }
  }
 },
 "nbformat": 4,
 "nbformat_minor": 4
}
