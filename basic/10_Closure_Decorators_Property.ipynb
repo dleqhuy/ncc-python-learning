{
 "cells": [
  {
   "cell_type": "markdown",
   "metadata": {},
   "source": [
    "# Python Closures\n",
    "\n",
    "In this lesson, you'll learn about Python **closure**, how to define a closure, and the reasons you should use it.\n",
    "\n",
    "Before understand Python Closure let us try to understand first **Higher Order Functions**"
   ]
  },
  {
   "cell_type": "markdown",
   "metadata": {},
   "source": [
    "## Higher Order Functions\n",
    "\n",
    "In Python functions are treated as first class citizens, allowing you to perform the following operations on functions:\n",
    "\n",
    "- A function can take one or more functions as parameters\n",
    "- A function can be returned as a result of another function\n",
    "- A function can be modified\n",
    "- A function can be assigned to a variable"
   ]
  },
  {
   "cell_type": "markdown",
   "metadata": {},
   "source": [
    "### Function as a Parameter"
   ]
  },
  {
   "cell_type": "code",
   "execution_count": 1,
   "metadata": {
    "ExecuteTime": {
     "end_time": "2021-10-18T07:33:06.599037Z",
     "start_time": "2021-10-18T07:33:06.586340Z"
    }
   },
   "outputs": [
    {
     "name": "stdout",
     "output_type": "stream",
     "text": [
      "15\n"
     ]
    }
   ],
   "source": [
    "def sum_numbers(nums):  # normal function\n",
    "    return sum(nums)    # a sad function abusing the built-in sum function :<\n",
    "\n",
    "def higher_order_function(f, lst):  # function as a parameter\n",
    "    summation = f(lst)\n",
    "    return summation\n",
    "result = higher_order_function(sum_numbers, [1, 2, 3, 4, 5])\n",
    "print(result)       # 15"
   ]
  },
  {
   "cell_type": "markdown",
   "metadata": {},
   "source": [
    "### Function as a Return Value"
   ]
  },
  {
   "cell_type": "code",
   "execution_count": 2,
   "metadata": {
    "ExecuteTime": {
     "end_time": "2021-10-18T07:33:06.752357Z",
     "start_time": "2021-10-18T07:33:06.610758Z"
    }
   },
   "outputs": [
    {
     "name": "stdout",
     "output_type": "stream",
     "text": [
      "9\n",
      "27\n",
      "3\n"
     ]
    }
   ],
   "source": [
    "def square(x):          # a square function\n",
    "    return x ** 2\n",
    "\n",
    "def cube(x):            # a cube function\n",
    "    return x ** 3\n",
    "\n",
    "def absolute(x):        # an absolute value function\n",
    "    if x >= 0:\n",
    "        return x\n",
    "    else:\n",
    "        return -(x)\n",
    "\n",
    "def higher_order_function(type): # a higher order function returning a function\n",
    "    if type == 'square':\n",
    "        return square\n",
    "    elif type == 'cube':\n",
    "        return cube\n",
    "    elif type == 'absolute':\n",
    "        return absolute\n",
    "\n",
    "result = higher_order_function('square')\n",
    "print(result(3))       # 9\n",
    "result = higher_order_function('cube')\n",
    "print(result(3))       # 27\n",
    "result = higher_order_function('absolute')\n",
    "print(result(-3))      # 3"
   ]
  },
  {
   "cell_type": "markdown",
   "metadata": {},
   "source": [
    "You can see from the above example that the higher order function is returning different functions depending on the passed parameter"
   ]
  },
  {
   "cell_type": "markdown",
   "metadata": {},
   "source": [
    "## Nonlocal variable in a nested function\n",
    "\n",
    "Following is an example of a nested function accessing a non-local variable."
   ]
  },
  {
   "cell_type": "code",
   "execution_count": 7,
   "metadata": {
    "ExecuteTime": {
     "end_time": "2021-10-18T07:33:06.892983Z",
     "start_time": "2021-10-18T07:33:06.758218Z"
    },
    "scrolled": true
   },
   "outputs": [
    {
     "name": "stdout",
     "output_type": "stream",
     "text": [
      "Hello\n"
     ]
    }
   ],
   "source": [
    "def print_msg(msg):\n",
    "    # This is the outer enclosing function\n",
    "\n",
    "    def printer():\n",
    "        # This is the nested function\n",
    "        print(msg)\n",
    "\n",
    "    printer()\n",
    "\n",
    "# We execute the function\n",
    "# Output: Hello\n",
    "print_msg(\"Hello\")"
   ]
  },
  {
   "cell_type": "markdown",
   "metadata": {},
   "source": [
    "## Defining a Closure Function\n",
    "\n",
    "Python allows a nested function to access the outer scope of the enclosing function. This is is known as a Closure. Let us have a look at how closures work in Python. In Python, closure is created by nesting a function inside another encapsulating function and then returning the inner function.\n",
    "\n",
    "In the example above, what would happen if the last line of the function **`print_msg()`** returned the **`printer()`** function instead of calling it? This means the function was defined as follows:"
   ]
  },
  {
   "cell_type": "code",
   "execution_count": 4,
   "metadata": {
    "ExecuteTime": {
     "end_time": "2021-10-18T07:33:06.998455Z",
     "start_time": "2021-10-18T07:33:06.901774Z"
    }
   },
   "outputs": [
    {
     "name": "stdout",
     "output_type": "stream",
     "text": [
      "Hello\n"
     ]
    }
   ],
   "source": [
    "def print_msg(msg):\n",
    "    # This is the outer enclosing function\n",
    "\n",
    "    def printer():\n",
    "        # This is the nested function\n",
    "        print(msg)\n",
    "\n",
    "    return printer  # returns the nested function\n",
    "\n",
    "\n",
    "# Now let's try calling this function.\n",
    "# Output: Hello\n",
    "another = print_msg(\"Hello\")\n",
    "another()"
   ]
  },
  {
   "cell_type": "markdown",
   "metadata": {},
   "source": [
    "That's unusual."
   ]
  },
  {
   "cell_type": "markdown",
   "metadata": {},
   "source": [
    "The **`print_msg()`** function was called with the string **`\"Hello\"`** and the returned function was bound to the name **`another`**. On calling **`another()`**, the message was still remembered although we had already finished executing the **`print_msg()`** function.\n",
    "\n",
    "This technique by which some data (\"**`\"Hello\"`** in this case) gets attached to the code is called **closure in Python**.\n",
    "\n",
    "This value in the enclosing scope is remembered even when the variable goes out of scope or the function itself is removed from the current namespace.\n",
    "\n",
    "Try running the following in the Python shell to see the output."
   ]
  },
  {
   "cell_type": "code",
   "execution_count": 5,
   "metadata": {
    "ExecuteTime": {
     "end_time": "2021-10-18T07:33:07.150794Z",
     "start_time": "2021-10-18T07:33:07.017006Z"
    }
   },
   "outputs": [
    {
     "name": "stdout",
     "output_type": "stream",
     "text": [
      "Hello\n"
     ]
    }
   ],
   "source": [
    "del print_msg\n",
    "another()"
   ]
  },
  {
   "cell_type": "code",
   "execution_count": 6,
   "metadata": {
    "ExecuteTime": {
     "end_time": "2021-10-18T07:33:07.862712Z",
     "start_time": "2021-10-18T07:33:07.153726Z"
    },
    "scrolled": true
   },
   "outputs": [
    {
     "ename": "NameError",
     "evalue": "name 'print_msg' is not defined",
     "output_type": "error",
     "traceback": [
      "\u001b[1;31m---------------------------------------------------------------------------\u001b[0m",
      "\u001b[1;31mNameError\u001b[0m                                 Traceback (most recent call last)",
      "\u001b[1;32m<ipython-input-6-af0f59439c9b>\u001b[0m in \u001b[0;36m<module>\u001b[1;34m\u001b[0m\n\u001b[1;32m----> 1\u001b[1;33m \u001b[0mprint_msg\u001b[0m\u001b[1;33m(\u001b[0m\u001b[1;34m\"Hello\"\u001b[0m\u001b[1;33m)\u001b[0m\u001b[1;33m\u001b[0m\u001b[1;33m\u001b[0m\u001b[0m\n\u001b[0m",
      "\u001b[1;31mNameError\u001b[0m: name 'print_msg' is not defined"
     ]
    }
   ],
   "source": [
    "print_msg(\"Hello\")"
   ]
  },
  {
   "cell_type": "markdown",
   "metadata": {},
   "source": [
    "Here, the returned function still works even when the original function was deleted."
   ]
  },
  {
   "cell_type": "markdown",
   "metadata": {},
   "source": [
    "## When do we have closures?\n",
    "\n",
    "As seen from the above example, we have a closure in Python when a nested function references a value in its enclosing scope.\n",
    "\n",
    "The criteria that must be met to create closure in Python are summarized in the following points.\n",
    "\n",
    "1. We must have a nested function (function inside a function).\n",
    "2. The nested function must refer to a value defined in the enclosing function.\n",
    "3. The enclosing function must return the nested function."
   ]
  },
  {
   "cell_type": "markdown",
   "metadata": {},
   "source": [
    "## When to use closures?\n",
    "\n",
    "So what are closures good for?\n",
    "\n",
    "Closures can avoid the use of global values and provides some form of data hiding. It can also provide an object oriented solution to the problem.\n",
    "\n",
    "When there are few methods (one method in most cases) to be implemented in a class, closures can provide an alternate and more elegant solution. But when the number of attributes and methods get larger, it's better to implement a class.\n",
    "\n",
    "Here is a simple example where a closure might be more preferable than defining a class and making objects. But the preference is all yours."
   ]
  },
  {
   "cell_type": "code",
   "execution_count": null,
   "metadata": {
    "ExecuteTime": {
     "end_time": "2021-10-18T07:33:13.293885Z",
     "start_time": "2021-10-18T07:33:13.281190Z"
    }
   },
   "outputs": [],
   "source": [
    "# Example:\n",
    "\n",
    "def make_multiplier_of(n):\n",
    "    def multiplier(x):\n",
    "        return x * n\n",
    "    return multiplier\n",
    "\n",
    "\n",
    "# Multiplier of 3\n",
    "times3 = make_multiplier_of(3)\n",
    "\n",
    "# Multiplier of 5\n",
    "times5 = make_multiplier_of(5)\n",
    "\n",
    "\n",
    "print(times3(9))  # Output: 27\n",
    "\n",
    "print(times5(3))  # Output: 15\n",
    "\n",
    "print(times5(times3(2)))  # Output: 30"
   ]
  },
  {
   "cell_type": "code",
   "execution_count": null,
   "metadata": {
    "ExecuteTime": {
     "end_time": "2021-10-18T07:33:14.004822Z",
     "start_time": "2021-10-18T07:33:13.984320Z"
    }
   },
   "outputs": [],
   "source": [
    "# Example:\n",
    "\n",
    "def add_ten():\n",
    "    ten = 10\n",
    "    def add(num):\n",
    "        return num + ten\n",
    "    return add\n",
    "\n",
    "closure_result = add_ten()\n",
    "print(closure_result(5))  # 15\n",
    "print(closure_result(10))  # 20"
   ]
  },
  {
   "cell_type": "markdown",
   "metadata": {},
   "source": [
    "**[Python Decorators](https://github.com/milaan9/07_Python_Advanced_Topics/blob/main/004_Python_Decorators.ipynb)** make an extensive use of closures as well.\n",
    "\n",
    "On a concluding note, it is good to point out that the values that get enclosed in the closure function can be found out.\n",
    "\n",
    "All function objects have a **`__closure__`** attribute that returns a tuple of cell objects if it is a closure function. Referring to the example above, we know **`times3`** and **`times5`** are closure functions."
   ]
  },
  {
   "cell_type": "code",
   "execution_count": null,
   "metadata": {
    "ExecuteTime": {
     "end_time": "2021-10-18T07:33:15.157170Z",
     "start_time": "2021-10-18T07:33:15.128852Z"
    }
   },
   "outputs": [],
   "source": [
    "make_multiplier_of.__closure__\n",
    "times3.__closure__"
   ]
  },
  {
   "cell_type": "markdown",
   "metadata": {},
   "source": [
    "The cell object has the attribute cell_contents which stores the closed value."
   ]
  },
  {
   "cell_type": "code",
   "execution_count": null,
   "metadata": {
    "ExecuteTime": {
     "end_time": "2021-10-18T07:33:16.187448Z",
     "start_time": "2021-10-18T07:33:16.167921Z"
    }
   },
   "outputs": [],
   "source": [
    "times3.__closure__[0].cell_contents"
   ]
  },
  {
   "cell_type": "code",
   "execution_count": null,
   "metadata": {
    "ExecuteTime": {
     "end_time": "2021-10-18T07:33:16.789013Z",
     "start_time": "2021-10-18T07:33:16.767533Z"
    }
   },
   "outputs": [],
   "source": [
    "times5.__closure__[0].cell_contents"
   ]
  },
  {
   "cell_type": "markdown",
   "metadata": {},
   "source": [
    "# Python Decorators\n",
    "\n",
    "A decorator takes in a function, adds some functionality and returns it. In this tutorial, you will learn how you can create a decorator and why you should use it."
   ]
  },
  {
   "cell_type": "markdown",
   "metadata": {},
   "source": [
    "## Decorators in Python\n",
    "\n",
    "Python has an interesting feature called **decorators** to add functionality to an existing code.\n",
    "\n",
    "A **decorator** is a design pattern in Python that allows a user to add new functionality to an existing object without modifying its structure. Decorators are usually called before the definition of a function you want to decorate.\n",
    "\n",
    "This is also called **metaprogramming** because a part of the program tries to modify another part of the program at compile time."
   ]
  },
  {
   "cell_type": "markdown",
   "metadata": {},
   "source": [
    "## Prerequisites for learning decorators\n",
    "\n",
    "In order to understand about decorators, we must first know a few basic things in Python.\n",
    "\n",
    "We must be comfortable with the fact that everything in Python (Yes! Even classes), are objects. Names that we define are simply identifiers bound to these objects. Functions are no exceptions, they are objects too (with attributes). Various different names can be bound to the same function object.\n",
    "\n",
    "For example:"
   ]
  },
  {
   "cell_type": "code",
   "execution_count": null,
   "metadata": {
    "ExecuteTime": {
     "end_time": "2021-10-18T07:48:26.317301Z",
     "start_time": "2021-10-18T07:48:26.300703Z"
    },
    "scrolled": true
   },
   "outputs": [],
   "source": [
    "def first(msg):\n",
    "    print(msg)\n",
    "\n",
    "\n",
    "first(\"Hello\")\n",
    "\n",
    "second = first\n",
    "second(\"Hello\")"
   ]
  },
  {
   "cell_type": "markdown",
   "metadata": {},
   "source": [
    "When you run the code, both functions **`first`** and **`second`** give the same output. Here, the names **`first`** and **`second`** refer to the same function object.\n",
    "\n",
    "Now things start getting weirder.\n",
    "\n",
    "Functions can be passed as arguments to another function.\n",
    "\n",
    "If you have used functions like **`map`**, **`filter`** and **`reduce`** in Python, then you already know about this.\n",
    "\n",
    "Such functions that take other functions as arguments are also called **higher order functions**. Here is an example of such a function.\n",
    "\n",
    "```python\n",
    ">>> def inc(x):\n",
    ">>>     return x + 1\n",
    "\n",
    "\n",
    ">>> def dec(x):\n",
    ">>>     return x - 1\n",
    "\n",
    "\n",
    ">>> def operate(func, x):\n",
    ">>>     result = func(x)\n",
    ">>>     return result\n",
    "```\n",
    "\n",
    "We invoke the function as follows:\n",
    "\n",
    "```python\n",
    ">>> operate(inc,3)\n",
    "4\n",
    ">>> operate(dec,3)\n",
    "2\n",
    "```"
   ]
  },
  {
   "cell_type": "markdown",
   "metadata": {},
   "source": [
    "Furthermore, a function can return another function."
   ]
  },
  {
   "cell_type": "code",
   "execution_count": null,
   "metadata": {
    "ExecuteTime": {
     "end_time": "2021-10-18T07:48:26.441323Z",
     "start_time": "2021-10-18T07:48:26.325114Z"
    }
   },
   "outputs": [],
   "source": [
    "def is_called():  # created 1st function\n",
    "    def is_returned():  # Created 2nd function (nested)\n",
    "        print(\"Hello\")\n",
    "    return is_returned\n",
    "\n",
    "\n",
    "new = is_called()\n",
    "\n",
    "# Outputs \"Hello\"\n",
    "new()"
   ]
  },
  {
   "cell_type": "markdown",
   "metadata": {},
   "source": [
    "Here, **`is_returned()`** is a nested function which is defined and returned each time we call **`is_called()`**."
   ]
  },
  {
   "cell_type": "code",
   "execution_count": null,
   "metadata": {
    "ExecuteTime": {
     "end_time": "2021-10-18T07:48:26.564373Z",
     "start_time": "2021-10-18T07:48:26.445231Z"
    }
   },
   "outputs": [],
   "source": [
    "\n",
    "\n",
    "# Normal function\n",
    "def greeting():\n",
    "    return 'Welcome to Python'\n",
    "def uppercase_decorator(function):\n",
    "    def wrapper():\n",
    "        func = function()\n",
    "        make_uppercase = func.upper()\n",
    "        return make_uppercase\n",
    "    return wrapper\n",
    "g = uppercase_decorator(greeting)\n",
    "print(g())          # WELCOME TO PYTHON"
   ]
  },
  {
   "cell_type": "markdown",
   "metadata": {},
   "source": [
    "Let us implement the example above with a decorator"
   ]
  },
  {
   "cell_type": "code",
   "execution_count": null,
   "metadata": {
    "ExecuteTime": {
     "end_time": "2021-10-18T07:48:26.656167Z",
     "start_time": "2021-10-18T07:48:26.569255Z"
    }
   },
   "outputs": [],
   "source": [
    "'''This decorator function is a higher order function\n",
    "that takes a function as a parameter'''\n",
    "def uppercase_decorator(function):\n",
    "    def wrapper():\n",
    "        func = function()\n",
    "        make_uppercase = func.upper()\n",
    "        return make_uppercase\n",
    "    return wrapper\n",
    "@uppercase_decorator\n",
    "def greeting():\n",
    "    return 'Welcome to Python'\n",
    "print(greeting())   # WELCOME TO PYTHON"
   ]
  },
  {
   "cell_type": "markdown",
   "metadata": {},
   "source": [
    "## Getting back to Decorators\n",
    "\n",
    "Functions and methods are called **callable** as they can be called.\n",
    "\n",
    "In fact, any object which implements the special **`__call__()`** method is termed callable. So, in the most basic sense, a decorator is a callable that returns a callable.\n",
    "\n",
    "Basically, a decorator takes in a function, adds some functionality and returns it."
   ]
  },
  {
   "cell_type": "code",
   "execution_count": null,
   "metadata": {
    "ExecuteTime": {
     "end_time": "2021-10-18T07:48:26.732339Z",
     "start_time": "2021-10-18T07:48:26.662029Z"
    }
   },
   "outputs": [],
   "source": [
    "def make_pretty(func):\n",
    "    def inner():\n",
    "        print(\"I got decorated\")\n",
    "        func()\n",
    "    return inner\n",
    "\n",
    "\n",
    "def ordinary():\n",
    "    print(\"I am ordinary\")"
   ]
  },
  {
   "cell_type": "markdown",
   "metadata": {},
   "source": [
    "When you run the following codes in shell,"
   ]
  },
  {
   "cell_type": "code",
   "execution_count": null,
   "metadata": {
    "ExecuteTime": {
     "end_time": "2021-10-18T07:48:26.855386Z",
     "start_time": "2021-10-18T07:48:26.738200Z"
    },
    "scrolled": true
   },
   "outputs": [],
   "source": [
    "ordinary()"
   ]
  },
  {
   "cell_type": "code",
   "execution_count": null,
   "metadata": {
    "ExecuteTime": {
     "end_time": "2021-10-18T07:48:26.947183Z",
     "start_time": "2021-10-18T07:48:26.859294Z"
    }
   },
   "outputs": [],
   "source": [
    "pretty = make_pretty(ordinary)\n",
    "pretty()"
   ]
  },
  {
   "cell_type": "markdown",
   "metadata": {},
   "source": [
    "In the example shown above, **`make_pretty()`** is a decorator. In the assignment step:\n",
    "\n",
    "```python\n",
    ">>> pretty = make_pretty(ordinary)\n",
    "```\n",
    "\n",
    "The function **`ordinary()`** got decorated and the returned function was given the name **`pretty`**.\n",
    "\n",
    "We can see that the decorator function added some new functionality to the original function. This is similar to packing a gift. The decorator acts as a wrapper. The nature of the object that got decorated (actual gift inside) does not alter. But now, it looks pretty (since it got decorated).\n",
    "\n",
    "Generally, we decorate a function and reassign it as,\n",
    "\n",
    "```python\n",
    ">>> ordinary = make_pretty(ordinary).\n",
    "```\n",
    "\n",
    "This is a common construct and for this reason, Python has a syntax to simplify this.\n",
    "\n",
    "We can use the **`@`** symbol along with the name of the decorator function and place it above the definition of the function to be decorated. For example,\n",
    "\n",
    "```python\n",
    ">>> @make_pretty\n",
    ">>> def ordinary():\n",
    ">>>     print(\"I am ordinary\")\n",
    "```\n",
    "\n",
    "is equivalent to\n",
    "\n",
    "```python\n",
    ">>> def ordinary():\n",
    ">>>     print(\"I am ordinary\")\n",
    ">>> ordinary = make_pretty(ordinary)\n",
    "```\n",
    "\n",
    "This is just a syntactic sugar to implement decorators."
   ]
  },
  {
   "cell_type": "markdown",
   "metadata": {},
   "source": [
    "## Decorating Functions with Parameters\n",
    "\n",
    "The above decorator was simple and it only worked with functions that did not have any parameters. What if we had functions that took in parameters like:"
   ]
  },
  {
   "cell_type": "code",
   "execution_count": null,
   "metadata": {
    "ExecuteTime": {
     "end_time": "2021-10-18T07:48:27.039956Z",
     "start_time": "2021-10-18T07:48:26.950114Z"
    }
   },
   "outputs": [],
   "source": [
    "def divide(a, b):\n",
    "    return a/b"
   ]
  },
  {
   "cell_type": "markdown",
   "metadata": {},
   "source": [
    "This function has two parameters, **`a`** and **`b`**. We know it will give an error if we pass in **`b`** as **`0`**."
   ]
  },
  {
   "cell_type": "code",
   "execution_count": null,
   "metadata": {
    "ExecuteTime": {
     "end_time": "2021-10-18T07:48:27.178627Z",
     "start_time": "2021-10-18T07:48:27.045818Z"
    }
   },
   "outputs": [],
   "source": [
    "divide(2,5)"
   ]
  },
  {
   "cell_type": "code",
   "execution_count": null,
   "metadata": {
    "ExecuteTime": {
     "end_time": "2021-10-18T07:48:27.549723Z",
     "start_time": "2021-10-18T07:48:27.193281Z"
    }
   },
   "outputs": [],
   "source": [
    "divide(2,0)"
   ]
  },
  {
   "cell_type": "markdown",
   "metadata": {},
   "source": [
    "Now let's make a decorator to check for this case that will cause the error."
   ]
  },
  {
   "cell_type": "code",
   "execution_count": null,
   "metadata": {
    "ExecuteTime": {
     "end_time": "2021-10-18T07:48:42.911066Z",
     "start_time": "2021-10-18T07:48:42.900326Z"
    }
   },
   "outputs": [],
   "source": [
    "def smart_divide(func):\n",
    "    def inner(a, b):\n",
    "        print(\"I am going to divide\", a, \"and\", b)\n",
    "        if b == 0:\n",
    "            print(\"Whoops! cannot divide with 0\")\n",
    "            return\n",
    "\n",
    "        return func(a, b)\n",
    "    return inner\n",
    "\n",
    "\n",
    "@smart_divide\n",
    "def divide(a, b):\n",
    "    print(a/b)"
   ]
  },
  {
   "cell_type": "markdown",
   "metadata": {},
   "source": [
    "This new implementation will return **`None`** if the error condition arises."
   ]
  },
  {
   "cell_type": "code",
   "execution_count": null,
   "metadata": {
    "ExecuteTime": {
     "end_time": "2021-10-18T07:48:43.709409Z",
     "start_time": "2021-10-18T07:48:43.699644Z"
    },
    "scrolled": true
   },
   "outputs": [],
   "source": [
    "divide(2,5)"
   ]
  },
  {
   "cell_type": "code",
   "execution_count": null,
   "metadata": {
    "ExecuteTime": {
     "end_time": "2021-10-18T07:48:43.986754Z",
     "start_time": "2021-10-18T07:48:43.973080Z"
    },
    "scrolled": true
   },
   "outputs": [],
   "source": [
    "divide(2,0)"
   ]
  },
  {
   "cell_type": "code",
   "execution_count": null,
   "metadata": {
    "ExecuteTime": {
     "end_time": "2021-10-18T07:48:44.264095Z",
     "start_time": "2021-10-18T07:48:44.256284Z"
    }
   },
   "outputs": [],
   "source": [
    "# Example:\n",
    "\n",
    "def decorator_with_parameters(function):\n",
    "    def wrapper_accepting_parameters(para1, para2, para3):\n",
    "        function(para1, para2, para3)\n",
    "        print(\"I live in {}\".format(para3))\n",
    "    return wrapper_accepting_parameters\n",
    "\n",
    "@decorator_with_parameters\n",
    "def print_full_name(first_name, last_name, country):\n",
    "    print(\"I am {} {}. I love to teach.\".format(\n",
    "        first_name, last_name, country))\n",
    "\n",
    "print_full_name(\"Milaan\", \"Parmar\",'London')"
   ]
  },
  {
   "cell_type": "markdown",
   "metadata": {},
   "source": [
    "In this manner, we can decorate functions that take parameters.\n",
    "\n",
    "A keen observer will notice that parameters of the nested **`inner()`** function inside the decorator is the same as the parameters of functions it decorates. Taking this into account, now we can make general decorators that work with any number of parameters.\n",
    "\n",
    "In Python, this magic is done as **`function(*args, **kwargs)`**. In this way, **`args`** will be the tuple of positional arguments and **`kwargs`** will be the dictionary of keyword arguments. An example of such a decorator will be:\n",
    "\n",
    "```python\n",
    ">>> def works_for_all(func):\n",
    ">>>     def inner(*args, **kwargs):\n",
    ">>>         print(\"I can decorate any function\")\n",
    ">>>         return func(*args, **kwargs)\n",
    ">>>     return inner\n",
    "```"
   ]
  },
  {
   "cell_type": "markdown",
   "metadata": {},
   "source": [
    "## Chaining Decorators in Python\n",
    "\n",
    "Multiple decorators can be chained in Python.\n",
    "\n",
    "This is to say, a function can be decorated multiple times with different (or same) decorators. We simply place the decorators above the desired function."
   ]
  },
  {
   "cell_type": "code",
   "execution_count": null,
   "metadata": {
    "ExecuteTime": {
     "end_time": "2021-10-18T07:48:45.171321Z",
     "start_time": "2021-10-18T07:48:45.147886Z"
    }
   },
   "outputs": [],
   "source": [
    "def star(func):\n",
    "    def inner(*args, **kwargs):\n",
    "        print(\"*\" * 30)\n",
    "        func(*args, **kwargs)\n",
    "        print(\"*\" * 30)\n",
    "    return inner\n",
    "\n",
    "\n",
    "def percent(func):\n",
    "    def inner(*args, **kwargs):\n",
    "        print(\"%\" * 30)\n",
    "        func(*args, **kwargs)\n",
    "        print(\"%\" * 30)\n",
    "    return inner\n",
    "\n",
    "\n",
    "@star\n",
    "@percent\n",
    "def printer(msg):\n",
    "    print(msg)\n",
    "\n",
    "\n",
    "printer(\"Hello\")"
   ]
  },
  {
   "cell_type": "markdown",
   "metadata": {},
   "source": [
    "The above syntax of,\n",
    "\n",
    "```python\n",
    ">>> @star\n",
    ">>> @percent\n",
    ">>> def printer(msg):\n",
    ">>>     print(msg)\n",
    "```\n",
    "\n",
    "is equivalent to\n",
    "\n",
    "```python\n",
    ">>> def printer(msg):\n",
    ">>>     print(msg)\n",
    ">>> printer = star(percent(printer))\n",
    "```\n",
    "\n",
    "The order in which we chain decorators matter. If we had reversed the order as,\n",
    "\n",
    "```python\n",
    ">>> @percent\n",
    ">>> @star\n",
    ">>> def printer(msg):\n",
    ">>>     print(msg)\n",
    "```\n",
    "\n",
    "The output would be:\n",
    "\n",
    "```python\n",
    "%%%%%%%%%%%%%%%%%%%%%%%%%%%%%%\n",
    "******************************\n",
    "Hello\n",
    "******************************\n",
    "%%%%%%%%%%%%%%%%%%%%%%%%%%%%%%\n",
    "```"
   ]
  },
  {
   "cell_type": "markdown",
   "metadata": {
    "ExecuteTime": {
     "end_time": "2021-10-18T07:40:54.311772Z",
     "start_time": "2021-10-18T07:40:54.298104Z"
    }
   },
   "source": [
    "Applying Multiple Decorators to a Single Function"
   ]
  },
  {
   "cell_type": "code",
   "execution_count": null,
   "metadata": {
    "ExecuteTime": {
     "end_time": "2021-10-18T07:48:46.476012Z",
     "start_time": "2021-10-18T07:48:46.467225Z"
    }
   },
   "outputs": [],
   "source": [
    "'''These decorator functions are higher order functions\n",
    "that take functions as parameters'''\n",
    "\n",
    "# First Decorator\n",
    "def uppercase_decorator(function):\n",
    "    def wrapper():\n",
    "        func = function()\n",
    "        make_uppercase = func.upper()\n",
    "        return make_uppercase\n",
    "    return wrapper\n",
    "\n",
    "# Second decorator\n",
    "def split_string_decorator(function):\n",
    "    def wrapper():\n",
    "        func = function()\n",
    "        splitted_string = func.split()\n",
    "        return splitted_string\n",
    "\n",
    "    return wrapper\n",
    "\n",
    "@split_string_decorator\n",
    "@uppercase_decorator     # order with decorators is important in this case - .upper() function does not work with lists\n",
    "def greeting():\n",
    "    return 'Welcome to Python'\n",
    "print(greeting())   # WELCOME TO PYTHON"
   ]
  },
  {
   "cell_type": "markdown",
   "metadata": {},
   "source": [
    "## Built-in Higher Order Functions"
   ]
  },
  {
   "cell_type": "markdown",
   "metadata": {},
   "source": [
    "### Python - `map` Function\n",
    "\n",
    "\n",
    "```py\n",
    "    # syntax\n",
    "    map(function, iterable)\n",
    "```"
   ]
  },
  {
   "cell_type": "code",
   "execution_count": null,
   "metadata": {
    "ExecuteTime": {
     "end_time": "2021-10-18T07:58:12.653217Z",
     "start_time": "2021-10-18T07:58:12.625877Z"
    }
   },
   "outputs": [],
   "source": [
    "# Example 1: \n",
    "\n",
    "numbers = [1, 2, 3, 4, 5] # iterable\n",
    "def square(x):\n",
    "    return x ** 2\n",
    "numbers_squared = map(square, numbers)\n",
    "print(list(numbers_squared))    # [1, 4, 9, 16, 25]\n",
    "# Lets apply it with a lambda function\n",
    "numbers_squared = map(lambda x : x ** 2, numbers)\n",
    "print(list(numbers_squared))    # [1, 4, 9, 16, 25]"
   ]
  },
  {
   "cell_type": "code",
   "execution_count": null,
   "metadata": {
    "ExecuteTime": {
     "end_time": "2021-10-18T07:58:15.406639Z",
     "start_time": "2021-10-18T07:58:15.393946Z"
    }
   },
   "outputs": [],
   "source": [
    "# Example 2: \n",
    "\n",
    "numbers_str = ['1', '2', '3', '4', '5']  # iterable\n",
    "numbers_int = map(int, numbers_str)\n",
    "print(list(numbers_int))    # [1, 2, 3, 4, 5]"
   ]
  },
  {
   "cell_type": "code",
   "execution_count": null,
   "metadata": {
    "ExecuteTime": {
     "end_time": "2021-10-18T07:58:17.009176Z",
     "start_time": "2021-10-18T07:58:16.991604Z"
    }
   },
   "outputs": [],
   "source": [
    "# Example 3: \n",
    "\n",
    "names = ['Milaan', 'Arthur', 'Bill', 'Clark']  # iterable\n",
    "\n",
    "def change_to_upper(name):\n",
    "    return name.upper()\n",
    "\n",
    "names_upper_cased = map(change_to_upper, names)\n",
    "print(list(names_upper_cased))    # ['Milaan', 'Arthur', 'Bill', 'Clark']\n",
    "\n",
    "# Let us apply it with a lambda function\n",
    "names_upper_cased = map(lambda name: name.upper(), names)\n",
    "print(list(names_upper_cased))    # ['Milaan', 'Arthur', 'Bill', 'Clark']"
   ]
  },
  {
   "cell_type": "markdown",
   "metadata": {},
   "source": [
    "What actually map does is iterating over a list. For instance, it changes the names to upper case and returns a new list."
   ]
  },
  {
   "cell_type": "markdown",
   "metadata": {},
   "source": [
    "### Python - `filter` Function\n",
    "\n",
    "```py\n",
    "    # syntax\n",
    "    filter(function, iterable)\n",
    "```"
   ]
  },
  {
   "cell_type": "code",
   "execution_count": null,
   "metadata": {
    "ExecuteTime": {
     "end_time": "2021-10-18T07:58:20.377344Z",
     "start_time": "2021-10-18T07:58:20.365629Z"
    }
   },
   "outputs": [],
   "source": [
    "# Example 1: \n",
    "\n",
    "numbers = [1, 2, 3, 4, 5]  # iterable\n",
    "\n",
    "def is_even(num):\n",
    "    if num % 2 == 0:\n",
    "        return True\n",
    "    return False\n",
    "\n",
    "even_numbers = filter(is_even, numbers)\n",
    "print(list(even_numbers))       # [2, 4]"
   ]
  },
  {
   "cell_type": "code",
   "execution_count": null,
   "metadata": {
    "ExecuteTime": {
     "end_time": "2021-10-18T07:58:21.963768Z",
     "start_time": "2021-10-18T07:58:21.948147Z"
    }
   },
   "outputs": [],
   "source": [
    "# Example 2: \n",
    "\n",
    "numbers = [1, 2, 3, 4, 5]  # iterable\n",
    "\n",
    "def is_odd(num):\n",
    "    if num % 2 != 0:\n",
    "        return True\n",
    "    return False\n",
    "\n",
    "odd_numbers = filter(is_odd, numbers)\n",
    "print(list(odd_numbers))       # [1, 3, 5]"
   ]
  },
  {
   "cell_type": "code",
   "execution_count": null,
   "metadata": {
    "ExecuteTime": {
     "end_time": "2021-10-18T07:58:50.435957Z",
     "start_time": "2021-10-18T07:58:50.416432Z"
    }
   },
   "outputs": [],
   "source": [
    "# Example 3: Filter long name\n",
    "\n",
    "names = ['Milaan', 'Arthur', 'Bill', 'Clark']  # iterable\n",
    "def is_name_long(name):\n",
    "    if len(name) > 5:\n",
    "        return True\n",
    "    return False\n",
    "\n",
    "long_names = filter(is_name_long, names)\n",
    "print(list(long_names))         # ['Milaan', 'Arthur']"
   ]
  },
  {
   "cell_type": "markdown",
   "metadata": {},
   "source": [
    "## 💻 Exercises ➞ <span class='label label-default'>Higher order functions, Closure and Decorators</span>\n",
    "\n",
    "- countries = ['India', 'Russia', 'China', 'Denmark', 'USA', 'Finland']\n",
    "- names = ['Milaan', 'Arthur', 'Bill', 'Clark']\n",
    "- numbers = [1, 2, 3, 4, 5, 6, 7, 8, 9, 10]\n",
    "\n",
    "### Exercises ➞ \n",
    "\n",
    "1. Explain the difference between map and filter.\n",
    "2. Explain the difference between higher order function, closure and decorator\n",
    "3. Use for loop to print each country in the countries list.\n",
    "4. Use for to print each name in the names list.\n",
    "5. Use for to print each number in the numbers list.\n"
   ]
  },
  {
   "cell_type": "markdown",
   "metadata": {},
   "source": [
    "# Python `@property` decorator\n",
    "\n",
    "In this class, you will learn about Python **`@property`** decorator; a pythonic way to use getters and setters in object-oriented programming.\n",
    "\n",
    "Python programming provides us with a built-in **`@property`** decorator which makes usage of getter and setters much easier in Object-Oriented Programming.\n",
    "\n",
    "Before going into details on what **`@property`** decorator is, let us first build an intuition on why it would be needed in the first place."
   ]
  },
  {
   "cell_type": "markdown",
   "metadata": {},
   "source": [
    "## Class Without Getters and Setters\n",
    "\n",
    "Let us assume that we decide to make a **[class](https://github.com/milaan9/06_Python_Object_Class/blob/main/002_Python_Classes_and_Objects.ipynb)** that stores the temperature in degrees Celsius. It would also implement a method to convert the temperature into degrees Fahrenheit. One way of doing this is as follows:"
   ]
  },
  {
   "cell_type": "code",
   "execution_count": null,
   "metadata": {
    "ExecuteTime": {
     "end_time": "2021-06-22T06:24:07.534892Z",
     "start_time": "2021-06-22T06:24:07.529034Z"
    }
   },
   "outputs": [],
   "source": [
    "class Celsius:\n",
    "    def __init__(self, temperature = 0):\n",
    "        self.temperature = temperature\n",
    "\n",
    "    def to_fahrenheit(self):\n",
    "        return (self.temperature * 1.8) + 32"
   ]
  },
  {
   "cell_type": "markdown",
   "metadata": {},
   "source": [
    "We can make objects out of this class and manipulate the **`temperature`** attribute as we wish:"
   ]
  },
  {
   "cell_type": "code",
   "execution_count": null,
   "metadata": {
    "ExecuteTime": {
     "end_time": "2021-06-22T06:24:08.889417Z",
     "start_time": "2021-06-22T06:24:08.873792Z"
    }
   },
   "outputs": [],
   "source": [
    "# Basic method of setting and getting attributes in Python\n",
    "\n",
    "class Celsius:\n",
    "    def __init__(self, temperature=0):\n",
    "        self.temperature = temperature\n",
    "\n",
    "    def to_fahrenheit(self):\n",
    "        return (self.temperature * 1.8) + 32\n",
    "\n",
    "\n",
    "# Create a new object\n",
    "human = Celsius()\n",
    "\n",
    "# Set the temperature\n",
    "human.temperature = 37\n",
    "\n",
    "# Get the temperature attribute\n",
    "print(human.temperature)\n",
    "\n",
    "# Get the to_fahrenheit method\n",
    "print(human.to_fahrenheit())"
   ]
  },
  {
   "cell_type": "markdown",
   "metadata": {},
   "source": [
    "The extra decimal places when converting into Fahrenheit is due to the floating point arithmetic error. To learn more, visit **[Python Floating Point Arithmetic Error](https://github.com/milaan9/02_Python_Datatypes/blob/main/001_Python_Numbers.ipynb)**.\n",
    "\n",
    "Whenever we assign or retrieve any object attribute like **`temperature`** as shown above, Python searches it in the object's built-in **`__dict__`** dictionary attribute."
   ]
  },
  {
   "cell_type": "code",
   "execution_count": null,
   "metadata": {
    "ExecuteTime": {
     "end_time": "2021-06-22T06:24:10.170211Z",
     "start_time": "2021-06-22T06:24:10.144824Z"
    },
    "scrolled": true
   },
   "outputs": [],
   "source": [
    "human.__dict__"
   ]
  },
  {
   "cell_type": "markdown",
   "metadata": {},
   "source": [
    "Therefore, **`man.temperature`** internally becomes **`man.__dict__['temperature']`**."
   ]
  },
  {
   "cell_type": "markdown",
   "metadata": {},
   "source": [
    "## Using Getters and Setters\n",
    "\n",
    "Suppose we want to extend the usability of the **`Celsius`** class defined above. We know that the temperature of any object cannot reach below -273.15 degrees Celsius (Absolute Zero in Thermodynamics)\n",
    "\n",
    "Let's update our code to implement this value constraint.\n",
    "\n",
    "An obvious solution to the above restriction will be to hide the attribute **`temperature`** (make it private) and define new getter and setter methods to manipulate it. This can be done as follows:"
   ]
  },
  {
   "cell_type": "code",
   "execution_count": null,
   "metadata": {
    "ExecuteTime": {
     "end_time": "2021-06-22T06:24:11.473954Z",
     "start_time": "2021-06-22T06:24:11.465168Z"
    }
   },
   "outputs": [],
   "source": [
    "# Making Getters and Setter methods\n",
    "class Celsius:\n",
    "    def __init__(self, temperature=0):\n",
    "        self.set_temperature(temperature)\n",
    "\n",
    "    def to_fahrenheit(self):\n",
    "        return (self.get_temperature() * 1.8) + 32\n",
    "\n",
    "    # getter method\n",
    "    def get_temperature(self):\n",
    "        return self._temperature\n",
    "\n",
    "    # setter method\n",
    "    def set_temperature(self, value):\n",
    "        if value < -273.15:\n",
    "            raise ValueError(\"Temperature below -273.15 is not possible.\")\n",
    "        self._temperature = value"
   ]
  },
  {
   "cell_type": "markdown",
   "metadata": {},
   "source": [
    "As we can see, the above method introduces two new **`get_temperature()`** and **`set_temperature()`** methods.\n",
    "\n",
    "Furthermore, **`temperature`** was replaced with **`_temperature`**. An underscore **`_`** at the beginning is used to denote private variables in Python."
   ]
  },
  {
   "cell_type": "markdown",
   "metadata": {},
   "source": [
    "Now, let's use this implementation:"
   ]
  },
  {
   "cell_type": "code",
   "execution_count": null,
   "metadata": {
    "ExecuteTime": {
     "end_time": "2021-06-22T06:24:13.263058Z",
     "start_time": "2021-06-22T06:24:12.928094Z"
    }
   },
   "outputs": [],
   "source": [
    "# Making Getters and Setter methods\n",
    "class Celsius:\n",
    "    def __init__(self, temperature=0):\n",
    "        self.set_temperature(temperature)\n",
    "\n",
    "    def to_fahrenheit(self):\n",
    "        return (self.get_temperature() * 1.8) + 32\n",
    "\n",
    "    # getter method\n",
    "    def get_temperature(self):\n",
    "        return self._temperature\n",
    "\n",
    "    # setter method\n",
    "    def set_temperature(self, value):\n",
    "        if value < -273.15:\n",
    "            raise ValueError(\"Temperature below -273.15 is not possible.\")\n",
    "        self._temperature = value\n",
    "\n",
    "\n",
    "# Create a new object, set_temperature() internally called by __init__\n",
    "human = Celsius(37)\n",
    "\n",
    "# Get the temperature attribute via a getter\n",
    "print(human.get_temperature())\n",
    "\n",
    "# Get the to_fahrenheit method, get_temperature() called by the method itself\n",
    "print(human.to_fahrenheit())\n",
    "\n",
    "# new constraint implementation\n",
    "human.set_temperature(-300)\n",
    "\n",
    "# Get the to_fahreheit method\n",
    "print(human.to_fahrenheit())"
   ]
  },
  {
   "cell_type": "markdown",
   "metadata": {},
   "source": [
    "This update successfully implemented the new restriction. We are no longer allowed to set the temperature below -273.15 degrees Celsius.\n",
    "\n",
    ">**Note**: The private variables don't actually exist in Python. There are simply norms to be followed. The language itself doesn't apply any restrictions.\n",
    "```python\n",
    ">>> human._temperature = -300\n",
    ">>> human.get_temperature()\n",
    "-300\n",
    "```"
   ]
  },
  {
   "cell_type": "markdown",
   "metadata": {},
   "source": [
    "However, the bigger problem with the above update is that all the programs that implemented our previous class have to modify their code from **`obj.temperature`** to **`obj.get_temperature()`** and all expressions like **`obj.temperature = val`** to **`obj.set_temperature(val)`**.\n",
    "\n",
    "This refactoring can cause problems while dealing with hundreds of thousands of lines of codes.\n",
    "\n",
    "All in all, our new update was not backwards compatible. This is where **`@property`** comes to rescue."
   ]
  },
  {
   "cell_type": "markdown",
   "metadata": {},
   "source": [
    "## The property Class\n",
    "\n",
    "A pythonic way to deal with the above problem is to use the property class. Here is how we can update our code:"
   ]
  },
  {
   "cell_type": "code",
   "execution_count": null,
   "metadata": {
    "ExecuteTime": {
     "end_time": "2021-06-22T06:24:15.200609Z",
     "start_time": "2021-06-22T06:24:15.184983Z"
    }
   },
   "outputs": [],
   "source": [
    "# using property class\n",
    "class Celsius:\n",
    "    def __init__(self, temperature=0):\n",
    "        self.temperature = temperature\n",
    "\n",
    "    def to_fahrenheit(self):\n",
    "        return (self.temperature * 1.8) + 32\n",
    "\n",
    "    # getter\n",
    "    def get_temperature(self):\n",
    "        print(\"Getting value...\")\n",
    "        return self._temperature\n",
    "\n",
    "    # setter\n",
    "    def set_temperature(self, value):\n",
    "        print(\"Setting value...\")\n",
    "        if value < -273.15:\n",
    "            raise ValueError(\"Temperature below -273.15 is not possible\")\n",
    "        self._temperature = value\n",
    "\n",
    "    # creating a property object\n",
    "    temperature = property(get_temperature, set_temperature)"
   ]
  },
  {
   "cell_type": "markdown",
   "metadata": {},
   "source": [
    "We added a **`print()`** function inside **`get_temperature()`** and **`set_temperature()`** to clearly observe that they are being executed.\n",
    "\n",
    "The last line of the code makes a property object `temperature`. Simply put, property attaches some code (**`get_temperature`** and **`set_temperature`**) to the member attribute accesses (**`temperature`**)."
   ]
  },
  {
   "cell_type": "markdown",
   "metadata": {},
   "source": [
    "Let's use this update code:"
   ]
  },
  {
   "cell_type": "code",
   "execution_count": null,
   "metadata": {
    "ExecuteTime": {
     "end_time": "2021-06-22T06:24:17.212379Z",
     "start_time": "2021-06-22T06:24:17.186011Z"
    }
   },
   "outputs": [],
   "source": [
    "# using property class\n",
    "class Celsius:\n",
    "    def __init__(self, temperature=0):\n",
    "        self.temperature = temperature\n",
    "\n",
    "    def to_fahrenheit(self):\n",
    "        return (self.temperature * 1.8) + 32\n",
    "\n",
    "    # getter\n",
    "    def get_temperature(self):\n",
    "        print(\"Getting value...\")\n",
    "        return self._temperature\n",
    "\n",
    "    # setter\n",
    "    def set_temperature(self, value):\n",
    "        print(\"Setting value...\")\n",
    "        if value < -273.15:\n",
    "            raise ValueError(\"Temperature below -273.15 is not possible\")\n",
    "        self._temperature = value\n",
    "\n",
    "    # creating a property object\n",
    "    temperature = property(get_temperature, set_temperature)\n",
    "\n",
    "\n",
    "human = Celsius(37)\n",
    "\n",
    "print(human.temperature)\n",
    "\n",
    "print(human.to_fahrenheit())\n",
    "\n",
    "human.temperature = -300"
   ]
  },
  {
   "cell_type": "markdown",
   "metadata": {},
   "source": [
    "As we can see, any code that retrieves the value of **`temperature`** will automatically call **`get_temperature()`** instead of a dictionary (**`__dict__`**) look-up. Similarly, any code that assigns a value to **`temperature`** will automatically call **`set_temperature()`**.\n",
    "\n",
    "We can even see above that **`set_temperature()`** was called even when we created an object."
   ]
  },
  {
   "cell_type": "code",
   "execution_count": null,
   "metadata": {
    "ExecuteTime": {
     "end_time": "2021-06-22T06:24:18.774427Z",
     "start_time": "2021-06-22T06:24:18.768568Z"
    },
    "scrolled": true
   },
   "outputs": [],
   "source": [
    "human = Celsius(37)"
   ]
  },
  {
   "cell_type": "markdown",
   "metadata": {},
   "source": [
    "**Can you guess why?**\n",
    "\n",
    "The reason is that when an object is created, the **`__init__()`** method gets called. This method has the line **`self.temperature = temperature`**. This expression automatically calls **`set_temperature()`**.\n",
    "\n",
    "Similarly, any access like **`c.temperature`** automatically calls **`get_temperature()`**. This is what property does. Here are a few more examples."
   ]
  },
  {
   "cell_type": "code",
   "execution_count": null,
   "metadata": {
    "ExecuteTime": {
     "end_time": "2021-06-22T06:24:19.924845Z",
     "start_time": "2021-06-22T06:24:19.904340Z"
    }
   },
   "outputs": [],
   "source": [
    "human.temperature"
   ]
  },
  {
   "cell_type": "code",
   "execution_count": null,
   "metadata": {
    "ExecuteTime": {
     "end_time": "2021-06-22T06:24:21.069408Z",
     "start_time": "2021-06-22T06:24:21.056712Z"
    }
   },
   "outputs": [],
   "source": [
    "human.temperature = 37"
   ]
  },
  {
   "cell_type": "code",
   "execution_count": null,
   "metadata": {
    "ExecuteTime": {
     "end_time": "2021-06-22T06:24:21.877044Z",
     "start_time": "2021-06-22T06:24:21.856538Z"
    }
   },
   "outputs": [],
   "source": [
    "c. to_fahrenheit()"
   ]
  },
  {
   "cell_type": "markdown",
   "metadata": {},
   "source": [
    "By using property, we can see that no modification is required in the implementation of the value constraint. Thus, our implementation is backward compatible.\n",
    "\n",
    ">**Note**: The actual temperature value is stored in the private **`_temperature`** variable. The **`temperature`** attribute is a property object which provides an interface to this private variable."
   ]
  },
  {
   "cell_type": "markdown",
   "metadata": {},
   "source": [
    "## The `@property` Decorator\n",
    "\n",
    "In Python, **`property()`** is a built-in function that creates and returns a **`property`** object. The syntax of this function is:\n",
    "\n",
    "```python\n",
    "property(fget=None, fset=None, fdel=None, doc=None)\n",
    "```\n",
    "\n",
    "where,\n",
    "\n",
    "* **`fget`** is function to get value of the attribute\n",
    "* **`fset`** is function to set value of the attribute\n",
    "* **`fdel`** is function to delete the attribute\n",
    "* **`doc`** is a string (like a comment)\n",
    "\n",
    "As seen from the implementation, these function arguments are optional. So, a property object can simply be created as follows."
   ]
  },
  {
   "cell_type": "code",
   "execution_count": null,
   "metadata": {
    "ExecuteTime": {
     "end_time": "2021-06-22T06:24:24.203272Z",
     "start_time": "2021-06-22T06:24:24.192533Z"
    }
   },
   "outputs": [],
   "source": [
    "property()"
   ]
  },
  {
   "cell_type": "markdown",
   "metadata": {},
   "source": [
    "A property object has three methods, `getter()`, `setter()`, and `deleter()` to specify `fget`, `fset` and `fdel` at a later point. This means, the line:\n",
    "\n",
    "```python\n",
    "temperature = property(get_temperature,set_temperature)\n",
    "```\n",
    "\n",
    "can be broken down as:\n",
    "\n",
    "```python\n",
    "# make empty property\n",
    "temperature = property()\n",
    "# assign fget\n",
    "temperature = temperature.getter(get_temperature)\n",
    "# assign fset\n",
    "temperature = temperature.setter(set_temperature)\n",
    "```\n",
    "\n",
    "These two pieces of codes are equivalent.\n",
    "\n",
    "Programmers familiar with **[Python Decorators](https://github.com/milaan9/07_Python_Advanced_Topics/blob/main/004_Python_Decorators.ipynb)** can recognize that the above construct can be implemented as decorators.\n",
    "\n",
    "We can even not define the names **`get_temperature`** and **`set_temperature`** as they are unnecessary and pollute the class namespace."
   ]
  },
  {
   "cell_type": "markdown",
   "metadata": {},
   "source": [
    "For this, we reuse the **`temperature`** name while defining our getter and setter functions. Let's look at how to implement this as a decorator:"
   ]
  },
  {
   "cell_type": "code",
   "execution_count": null,
   "metadata": {
    "ExecuteTime": {
     "end_time": "2021-06-22T06:24:26.264846Z",
     "start_time": "2021-06-22T06:24:26.225786Z"
    },
    "scrolled": true
   },
   "outputs": [],
   "source": [
    "# Using @property decorator\n",
    "\n",
    "class Celsius:\n",
    "    def __init__(self, temperature=0):\n",
    "        self.temperature = temperature\n",
    "\n",
    "    def to_fahrenheit(self):\n",
    "        return (self.temperature * 1.8) + 32\n",
    "\n",
    "    @property\n",
    "    def temperature(self):\n",
    "        print(\"Getting value...\")\n",
    "        return self._temperature\n",
    "\n",
    "    @temperature.setter\n",
    "    def temperature(self, value):\n",
    "        print(\"Setting value...\")\n",
    "        if value < -273.15:\n",
    "            raise ValueError(\"Temperature below -273 is not possible\")\n",
    "        self._temperature = value\n",
    "\n",
    "\n",
    "# create an object\n",
    "human = Celsius(37)\n",
    "\n",
    "print(human.temperature)\n",
    "\n",
    "print(human.to_fahrenheit())\n",
    "\n",
    "coldest_thing = Celsius(-300)"
   ]
  },
  {
   "cell_type": "markdown",
   "metadata": {},
   "source": [
    "The above implementation is simple and efficient. It is the recommended way to use **`property`**."
   ]
  },
  {
   "cell_type": "code",
   "execution_count": null,
   "metadata": {},
   "outputs": [],
   "source": []
  }
 ],
 "metadata": {
  "hide_input": false,
  "kernelspec": {
   "display_name": "Python 3",
   "language": "python",
   "name": "python3"
  },
  "language_info": {
   "codemirror_mode": {
    "name": "ipython",
    "version": 3
   },
   "file_extension": ".py",
   "mimetype": "text/x-python",
   "name": "python",
   "nbconvert_exporter": "python",
   "pygments_lexer": "ipython3",
   "version": "3.8.3"
  },
  "toc": {
   "base_numbering": 1,
   "nav_menu": {},
   "number_sections": true,
   "sideBar": true,
   "skip_h1_title": false,
   "title_cell": "Table of Contents",
   "title_sidebar": "Contents",
   "toc_cell": false,
   "toc_position": {},
   "toc_section_display": true,
   "toc_window_display": false
  },
  "varInspector": {
   "cols": {
    "lenName": 16,
    "lenType": 16,
    "lenVar": 40
   },
   "kernels_config": {
    "python": {
     "delete_cmd_postfix": "",
     "delete_cmd_prefix": "del ",
     "library": "var_list.py",
     "varRefreshCmd": "print(var_dic_list())"
    },
    "r": {
     "delete_cmd_postfix": ") ",
     "delete_cmd_prefix": "rm(",
     "library": "var_list.r",
     "varRefreshCmd": "cat(var_dic_list()) "
    }
   },
   "types_to_exclude": [
    "module",
    "function",
    "builtin_function_or_method",
    "instance",
    "_Feature"
   ],
   "window_display": false
  }
 },
 "nbformat": 4,
 "nbformat_minor": 4
}
