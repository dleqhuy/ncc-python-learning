{
 "cells": [
  {
   "cell_type": "markdown",
   "metadata": {},
   "source": [
    "## Utilize the capabitilies of your editor\n",
    " \n",
    " - Pycharm\n",
    " - Visual Studio Code"
   ]
  },
  {
   "cell_type": "markdown",
   "metadata": {},
   "source": [
    "\n",
    "#### [PyCharm](https://www.jetbrains.com/help/pycharm/quick-start-guide.html)\n",
    "* Good integration with `pytest`, e.g. run single tests / test classes / test modules\n",
    "* Git integration (in case you don't like command line)\n",
    "* Easy to configure to use automatic formatting, e.g [`black`](https://github.com/ambv/black#pycharm)\n",
    "* Intuitive searching capabilities\n",
    "* Refactoring features\n",
    "* Debugger\n",
    "* Jupyter Notebook integration\n",
    "* Free community edition already contains all you need"
   ]
  },
  {
   "cell_type": "markdown",
   "metadata": {},
   "source": [
    "## Working rules\n",
    "\n",
    "- Make sure you understand the requirement\n",
    "- When in doubt - don’t guess! Ask questions!\n",
    "- Do research for solution and Ask questions!\n",
    "- First make it work then make it pretty\n",
    "- Embrace the unknown - Stay curious!\n",
    "- Discuss with other developer if you change his code\n",
    "- Keep commitment!\n",
    "- Always test the code locally before submitting for review\n",
    "- Write down document as much as possible\n",
    "\n",
    "## Readability and maintainability: \n",
    "\n",
    "- Is the code readable as written?  \n",
    "- Does it require additional comments, better naming, or general refactoring to be easily understood?  \n",
    "- Does the code generally conform to the style of coding for the project?\n",
    "- use code standard ([PEP8](https://www.zenesys.com/blog/python-coding-standards-best-practices))\n",
    "- internal review before submitting\n",
    "- Names are simple and if possible short\n",
    "- Names are spelled correctly\n",
    "- No hardcoded constants that could possibly change in the future\n",
    "- There is no commented out code\n",
    "- Debugging code is absent\n",
    " \n",
    " \n",
    "## Quality and expandability:\n",
    " - All variables are in the smallest scope possible\n",
    " - There is no dead code (inaccessible at Runtime)\n",
    " - No code that can be replaced with library functions\n",
    " - Variables are not accidentally used with null values\n",
    " - Code is not repeated or duplicated\n",
    " - No complex/long boolean expressions\n",
    " - No empty blocks of code\n",
    " - Ideal data structures are used\n",
    " - Catch clauses are fine-grained and catch specific exceptions. Exceptions are not eaten if caught unless explicitly documented otherwise\n",
    " - Blocks of code inside loops are as small as possible\n",
    " - Code is unit-testable and is covered at least 70%\n",
    " - each function contain a (very) brief comment describing functionality, inputs, and outputs\n",
    " - Design patterns if used are correctly applied\n",
    " - A class should have only a single responsibility\n",
    " - Many client-specific interfaces are better than one general-purpose interface\n",
    " - Depend upon Abstractions. Do not depend upon concretions\n",
    "\n",
    "## Linting the Code\n",
    "\n",
    "Linting is done using [pylint](http://pylint.pycqa.org/) and [flake8](http://flake8.pycqa.org/en/latest/) libraries.\n",
    "\n",
    "### PyLint\n",
    "\n",
    "To check if the code is written with respect\n",
    "to [PEP 8](https://www.python.org/dev/peps/pep-0008/) style guide please run:\n",
    "\n",
    "```bash\n",
    "pylint ./src/\n",
    "```\n",
    "\n",
    "In case if linter will detect error (i.e. `missing-docstring`) you may want to read more about \n",
    "specific error by running:\n",
    "\n",
    "```bash\n",
    "pylint --help-msg=missing-docstring\n",
    "```\n",
    "\n",
    "[More about PyLint](http://pylint.pycqa.org/)\n",
    "\n",
    "### Flake8\n",
    "\n",
    "To check if the code is written with respect\n",
    "to [PEP 8](https://www.python.org/dev/peps/pep-0008/) style guide please run:\n",
    "\n",
    "```bash\n",
    "flake8 ./src\n",
    "```\n",
    "\n",
    "Or if you want to have more detailed output you may run:\n",
    "\n",
    "```bash\n",
    "flake8 ./src --statistics --show-source --count\n",
    "```\n",
    "\n",
    "[More about Flake8](http://flake8.pycqa.org/en/latest/)"
   ]
  },
  {
   "cell_type": "markdown",
   "metadata": {},
   "source": [
    "## Testing the Code\n",
    "\n",
    "Tests are made using [pytest](https://github.com/pytest-dev/pytest) framework.\n",
    "\n",
    "You may add new tests for yourself by adding files and functions with test_ prefix (i.e. test_topic.py with def test_sub_topic() function inside).\n",
    "\n",
    "To run all the tests please execute the following command from the project root folder:\n",
    "```\n",
    "pytest\n",
    "```\n",
    "\n",
    "To run specific tests please execute:\n",
    "```\n",
    "pytest ./path/to/the/test_file.py\n",
    "```"
   ]
  },
  {
   "cell_type": "code",
   "execution_count": 1,
   "metadata": {},
   "outputs": [],
   "source": [
    "# content of test_sample.py\n",
    "def inc(x):\n",
    "    return x + 1\n",
    "\n",
    "\n",
    "def test_answer():\n",
    "    assert inc(3) == 5"
   ]
  },
  {
   "cell_type": "code",
   "execution_count": 2,
   "metadata": {},
   "outputs": [],
   "source": [
    "import pytest"
   ]
  },
  {
   "cell_type": "code",
   "execution_count": 3,
   "metadata": {},
   "outputs": [
    {
     "data": {
      "text/plain": [
       "<module 'pytest' from 'C:\\\\Users\\\\84123\\\\anaconda3\\\\lib\\\\site-packages\\\\pytest\\\\__init__.py'>"
      ]
     },
     "execution_count": 3,
     "metadata": {},
     "output_type": "execute_result"
    }
   ],
   "source": [
    "pytest"
   ]
  },
  {
   "cell_type": "markdown",
   "metadata": {},
   "source": [
    "\n",
    "Some reasons to use `pytest`:\n",
    "* [`fixtures`](https://docs.pytest.org/en/latest/fixture.html#fixture) for writing reusable testing code\n",
    "* [`markers`](https://docs.pytest.org/en/latest/example/markers.html) for splitting tests to different groups (e.g. smoke, run only on CI machine, etc) or skipping tests in certain conditions\n",
    "* [Automatic test discovery](https://docs.pytest.org/en/latest/goodpractices.html#test-discovery)\n",
    "* [Configurability](https://docs.pytest.org/en/latest/customize.html)\n",
    "* Active development of plugins, to mention a few:\n",
    "    * [`pytest-cov`](https://pytest-cov.readthedocs.io/en/latest/) for coverage reporting\n",
    "    * [`pytest-xdist`](https://github.com/pytest-dev/pytest-xdist) for speeding up test suit run time with parallelization\n",
    "    * see [complete list](https://github.com/pytest-dev) of plugins maintained by `pytest`\n",
    "* Ease of [writing own plugins](https://docs.pytest.org/en/latest/writing_plugins.html)"
   ]
  },
  {
   "cell_type": "markdown",
   "metadata": {},
   "source": [
    "# Project structure"
   ]
  },
  {
   "cell_type": "markdown",
   "metadata": {},
   "source": [
    "## Python script\n",
    "Python is a great language for building small helper tools for various different kinds of tasks. Such small tools can be often expressed as a single file Python script.\n",
    "\n",
    "Here is an example structure for a Python script (aka executable Python module)."
   ]
  },
  {
   "cell_type": "code",
   "execution_count": 2,
   "metadata": {},
   "outputs": [
    {
     "name": "stderr",
     "output_type": "stream",
     "text": [
      "We are about to do some magical stuff\n"
     ]
    }
   ],
   "source": [
    "# the content of my_script.py\n",
    "\n",
    "# imports\n",
    "import logging\n",
    "\n",
    "# constants\n",
    "LOGGER = logging.getLogger()\n",
    "\n",
    "\n",
    "def magical_function():\n",
    "    LOGGER.warning('We are about to do some magical stuff')\n",
    "\n",
    "\n",
    "def main():\n",
    "    # The actual logic of the script\n",
    "    magical_function()\n",
    "\n",
    "\n",
    "if __name__ == '__main__':\n",
    "    main()"
   ]
  },
  {
   "cell_type": "markdown",
   "metadata": {},
   "source": [
    "## Python package\n",
    "An example structure for a python project:\n",
    "\n",
    "```\n",
    "my_project/\n",
    "    README.md\n",
    "    requirements.txt\n",
    "    setup.py\n",
    "    \n",
    "    src/\n",
    "        my_project/\n",
    "            __init__.py\n",
    "            my_module.py\n",
    "            other_module.py\n",
    "            \n",
    "            my_pkg1/\n",
    "                __init__.py\n",
    "                my_third_module.py\n",
    "                \n",
    "    tests/\n",
    "        conftest.py\n",
    "        test_module.py\n",
    "        test_other_module.py\n",
    "        \n",
    "        my_pkg1/\n",
    "            test_my_third_module.py\n",
    "\n",
    "```\n",
    "\n",
    "* [requirements.txt](https://pip.pypa.io/en/latest/user_guide/#requirements-files) lists the Python packages from which my_project depends on.\n",
    "    * these can be installed by running `pip install -r requirements`\n",
    "* [setup.py](https://packaging.python.org/tutorials/distributing-packages/#setup-py) is a file in which you include relevant information about your project and the file is also used for packaging your project. Here's a minimal example of a setup.py:\n",
    "\n",
    "```python\n",
    "'''Minimal setup.py file'''\n",
    "\n",
    "from setuptools import setup, find_packages\n",
    "\n",
    "setup(\n",
    "    name='my_project',\n",
    "    version='0.1',\n",
    "    packages=find_packages(where=\"src\"),\n",
    "    package_dir={\"\": \"src\"})\n",
    "```\n",
    "* Once you have the setup.py file in place, you can install your project in editable mode by running `pip install -e .` in the root directory of your project. In editable mode the installed version is updated when you make changes to the source code files."
   ]
  }
 ],
 "metadata": {
  "hide_input": false,
  "kernelspec": {
   "display_name": "Python 3",
   "language": "python",
   "name": "python3"
  },
  "language_info": {
   "codemirror_mode": {
    "name": "ipython",
    "version": 3
   },
   "file_extension": ".py",
   "mimetype": "text/x-python",
   "name": "python",
   "nbconvert_exporter": "python",
   "pygments_lexer": "ipython3",
   "version": "3.8.3"
  },
  "toc": {
   "base_numbering": 1,
   "nav_menu": {},
   "number_sections": true,
   "sideBar": true,
   "skip_h1_title": false,
   "title_cell": "Table of Contents",
   "title_sidebar": "Contents",
   "toc_cell": false,
   "toc_position": {},
   "toc_section_display": true,
   "toc_window_display": false
  },
  "varInspector": {
   "cols": {
    "lenName": 16,
    "lenType": 16,
    "lenVar": 40
   },
   "kernels_config": {
    "python": {
     "delete_cmd_postfix": "",
     "delete_cmd_prefix": "del ",
     "library": "var_list.py",
     "varRefreshCmd": "print(var_dic_list())"
    },
    "r": {
     "delete_cmd_postfix": ") ",
     "delete_cmd_prefix": "rm(",
     "library": "var_list.r",
     "varRefreshCmd": "cat(var_dic_list()) "
    }
   },
   "types_to_exclude": [
    "module",
    "function",
    "builtin_function_or_method",
    "instance",
    "_Feature"
   ],
   "window_display": false
  }
 },
 "nbformat": 4,
 "nbformat_minor": 4
}
