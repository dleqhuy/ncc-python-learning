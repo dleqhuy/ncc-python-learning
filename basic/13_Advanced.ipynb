{
 "cells": [
  {
   "cell_type": "markdown",
   "metadata": {},
   "source": [
    "## `get` - default value of a non existing key while accessing\n",
    "Especially handy if you're unsure about the presence of a key."
   ]
  },
  {
   "cell_type": "code",
   "execution_count": null,
   "metadata": {},
   "outputs": [],
   "source": [
    "my_dict = {'a': 1, 'b': 2, 'c': 3}"
   ]
  },
  {
   "cell_type": "markdown",
   "metadata": {},
   "source": [
    "<font color='red'>Don't do it like this.</font>"
   ]
  },
  {
   "cell_type": "code",
   "execution_count": null,
   "metadata": {},
   "outputs": [],
   "source": [
    "if 'g' in my_dict:\n",
    "    value = my_dict['g']\n",
    "else:\n",
    "    value = 'some default value'\n",
    "print(value)"
   ]
  },
  {
   "cell_type": "markdown",
   "metadata": {},
   "source": [
    "<font color='red'>Or like this.</font>"
   ]
  },
  {
   "cell_type": "code",
   "execution_count": null,
   "metadata": {},
   "outputs": [],
   "source": [
    "try:\n",
    "    value = my_dict['g']\n",
    "except KeyError:\n",
    "    value = 'some default value'\n",
    "print(value)"
   ]
  },
  {
   "cell_type": "markdown",
   "metadata": {},
   "source": [
    "### <font color='green'>Do it like this!</font>"
   ]
  },
  {
   "cell_type": "code",
   "execution_count": null,
   "metadata": {},
   "outputs": [],
   "source": [
    "value = my_dict.get('g', 'some default value')\n",
    "print(value)"
   ]
  },
  {
   "cell_type": "markdown",
   "metadata": {},
   "source": [
    "Note that if you don't provide the default value for `get`, the return value will be `None` if the key is not present in the dictionary"
   ]
  },
  {
   "cell_type": "code",
   "execution_count": null,
   "metadata": {},
   "outputs": [],
   "source": [
    "value = my_dict.get('g')\n",
    "print(value is None)"
   ]
  },
  {
   "cell_type": "markdown",
   "metadata": {},
   "source": [
    "## `setdefault` - same as `get` but also sets the value if not present"
   ]
  },
  {
   "cell_type": "markdown",
   "metadata": {},
   "source": [
    "<font color='red'>Don't do it like this.</font>"
   ]
  },
  {
   "cell_type": "code",
   "execution_count": null,
   "metadata": {},
   "outputs": [],
   "source": [
    "my_dict = {'a': 1, 'b': 2, 'c': 3}\n",
    "\n",
    "key = 'g'\n",
    "if key in my_dict:\n",
    "    value = my_dict[key]\n",
    "else:\n",
    "    value = 'some default value'\n",
    "    my_dict[key] = value\n",
    "    \n",
    "print(value)\n",
    "print(my_dict)"
   ]
  },
  {
   "cell_type": "markdown",
   "metadata": {},
   "source": [
    "### <font color='green'>Let's do it like this!</font>"
   ]
  },
  {
   "cell_type": "code",
   "execution_count": null,
   "metadata": {},
   "outputs": [],
   "source": [
    "my_dict = {'a': 1, 'b': 2, 'c': 3}\n",
    "\n",
    "key = 'g'\n",
    "value = my_dict.setdefault(key, 'some default value')\n",
    "\n",
    "print(value)\n",
    "print(my_dict)"
   ]
  },
  {
   "cell_type": "markdown",
   "metadata": {},
   "source": [
    "## Comprehensions\n",
    "Let's say we have a collection of numbers and we want to store those as a dictionary where the number is key and it's square is the value."
   ]
  },
  {
   "cell_type": "code",
   "execution_count": null,
   "metadata": {},
   "outputs": [],
   "source": [
    "numbers = (1, 5, 10)"
   ]
  },
  {
   "cell_type": "markdown",
   "metadata": {},
   "source": [
    "<font color='red'>Don't do it like this.</font>"
   ]
  },
  {
   "cell_type": "code",
   "execution_count": null,
   "metadata": {},
   "outputs": [],
   "source": [
    "squares = {}\n",
    "for num in numbers:\n",
    "    squares[num] = num**2\n",
    "print(squares)"
   ]
  },
  {
   "cell_type": "markdown",
   "metadata": {},
   "source": [
    "### <font color='green'>Do it like this!</font>"
   ]
  },
  {
   "cell_type": "code",
   "execution_count": null,
   "metadata": {},
   "outputs": [],
   "source": [
    "squares = {num: num**2 for num in numbers}\n",
    "print(squares)"
   ]
  },
  {
   "cell_type": "markdown",
   "metadata": {},
   "source": [
    "### Another example"
   ]
  },
  {
   "cell_type": "code",
   "execution_count": null,
   "metadata": {},
   "outputs": [],
   "source": [
    "keys = ('a', 'b', 'c')\n",
    "values = [True, 100, 'John Doe']"
   ]
  },
  {
   "cell_type": "markdown",
   "metadata": {},
   "source": [
    "<font color='red'>Don't do it like this.</font>"
   ]
  },
  {
   "cell_type": "code",
   "execution_count": null,
   "metadata": {},
   "outputs": [],
   "source": [
    "my_dict = {}\n",
    "for idx, key in enumerate(keys):\n",
    "    my_dict[key] = values[idx]\n",
    "print(my_dict)"
   ]
  },
  {
   "cell_type": "markdown",
   "metadata": {},
   "source": [
    "### <font color='green'>Do it like this!</font>"
   ]
  },
  {
   "cell_type": "code",
   "execution_count": null,
   "metadata": {},
   "outputs": [],
   "source": [
    "my_dict = {k: v for k, v in zip(keys, values)}\n",
    "print(my_dict)\n",
    "\n",
    "# Or even like this:\n",
    "my_dict2 = dict(zip(keys, values))\n",
    "\n",
    "assert my_dict2 == my_dict"
   ]
  },
  {
   "cell_type": "markdown",
   "metadata": {},
   "source": [
    "## Looping"
   ]
  },
  {
   "cell_type": "code",
   "execution_count": null,
   "metadata": {},
   "outputs": [],
   "source": [
    "my_dict = {'age': 83, 'is gangster': True, 'name': 'John Doe'}"
   ]
  },
  {
   "cell_type": "markdown",
   "metadata": {},
   "source": [
    "<font color='red'>Don't do it like this.</font>"
   ]
  },
  {
   "cell_type": "code",
   "execution_count": null,
   "metadata": {},
   "outputs": [],
   "source": [
    "for key in my_dict:\n",
    "    val = my_dict[key]\n",
    "    print('key: {:15s} value: {}'.format(key, val))"
   ]
  },
  {
   "cell_type": "markdown",
   "metadata": {},
   "source": [
    "### <font color='green'>Do it like this!</font>"
   ]
  },
  {
   "cell_type": "code",
   "execution_count": null,
   "metadata": {},
   "outputs": [],
   "source": [
    "for key, val in my_dict.items():\n",
    "    print('key: {:15s} value: {}'.format(key, val))"
   ]
  },
  {
   "cell_type": "markdown",
   "metadata": {},
   "source": [
    "## Looping in general"
   ]
  },
  {
   "cell_type": "code",
   "execution_count": null,
   "metadata": {},
   "outputs": [],
   "source": [
    "data = ['John', 'Doe', 'was', 'here']"
   ]
  },
  {
   "cell_type": "markdown",
   "metadata": {},
   "source": [
    "<font color='red'>Don't do it like this. While loops are actually really rarely needed.</font>"
   ]
  },
  {
   "cell_type": "code",
   "execution_count": null,
   "metadata": {},
   "outputs": [],
   "source": [
    "idx = 0\n",
    "while idx < len(data):\n",
    "    print(data[idx])\n",
    "    idx += 1"
   ]
  },
  {
   "cell_type": "markdown",
   "metadata": {},
   "source": [
    "<font color='red'>Don't do like this either.</font>"
   ]
  },
  {
   "cell_type": "code",
   "execution_count": null,
   "metadata": {},
   "outputs": [],
   "source": [
    "for idx in range(len(data)):\n",
    "    print(data[idx])"
   ]
  },
  {
   "cell_type": "markdown",
   "metadata": {},
   "source": [
    "### <font color='green'>Do it like this!</font>"
   ]
  },
  {
   "cell_type": "code",
   "execution_count": null,
   "metadata": {},
   "outputs": [],
   "source": [
    "for item in data:\n",
    "    print(item)"
   ]
  },
  {
   "cell_type": "markdown",
   "metadata": {},
   "source": [
    "<font color='green'>If you need the index as well, you can use enumerate.</font>"
   ]
  },
  {
   "cell_type": "code",
   "execution_count": null,
   "metadata": {},
   "outputs": [],
   "source": [
    "for idx, val in enumerate(data):\n",
    "    print('{}: {}'.format(idx, val))"
   ]
  },
  {
   "cell_type": "markdown",
   "metadata": {},
   "source": [
    "## Looping over a range of numbers"
   ]
  },
  {
   "cell_type": "markdown",
   "metadata": {},
   "source": [
    "<font color='red'>Don't do this.</font>"
   ]
  },
  {
   "cell_type": "code",
   "execution_count": null,
   "metadata": {},
   "outputs": [],
   "source": [
    "i = 0\n",
    "while i < 6:\n",
    "    print(i)\n",
    "    i += 1"
   ]
  },
  {
   "cell_type": "markdown",
   "metadata": {},
   "source": [
    "<font color='red'>Don't do this either.</font>"
   ]
  },
  {
   "cell_type": "code",
   "execution_count": null,
   "metadata": {},
   "outputs": [],
   "source": [
    "for val in [0, 1, 2, 3, 4, 5]:\n",
    "    print(val)"
   ]
  },
  {
   "cell_type": "markdown",
   "metadata": {},
   "source": [
    "### <font color='green'>Do it like this!</font>"
   ]
  },
  {
   "cell_type": "code",
   "execution_count": null,
   "metadata": {},
   "outputs": [],
   "source": [
    "for val in range(6):\n",
    "    print(val)"
   ]
  },
  {
   "cell_type": "markdown",
   "metadata": {},
   "source": [
    "## Reversed looping"
   ]
  },
  {
   "cell_type": "code",
   "execution_count": null,
   "metadata": {},
   "outputs": [],
   "source": [
    "data = ['first', 'to', 'last', 'from'] "
   ]
  },
  {
   "cell_type": "markdown",
   "metadata": {},
   "source": [
    "<font color='red'>This is no good.</font>"
   ]
  },
  {
   "cell_type": "code",
   "execution_count": null,
   "metadata": {},
   "outputs": [],
   "source": [
    "i = len(data) - 1\n",
    "while i >= 0:\n",
    "    print(data[i])\n",
    "    i -= 1"
   ]
  },
  {
   "cell_type": "markdown",
   "metadata": {},
   "source": [
    "### <font color='green'>Do it like this!</font>"
   ]
  },
  {
   "cell_type": "code",
   "execution_count": null,
   "metadata": {},
   "outputs": [],
   "source": [
    "for item in reversed(data):\n",
    "    print(item)"
   ]
  },
  {
   "cell_type": "markdown",
   "metadata": {},
   "source": [
    "## Looping over __n__ collections simultaneously"
   ]
  },
  {
   "cell_type": "code",
   "execution_count": null,
   "metadata": {},
   "outputs": [],
   "source": [
    "collection1 = ['a', 'b', 'c']\n",
    "collection2 = (10, 20, 30, 40, 50)\n",
    "collection3 = ['John', 'Doe', True]"
   ]
  },
  {
   "cell_type": "markdown",
   "metadata": {},
   "source": [
    "<font color='red'>Oh boy, not like this.</font>"
   ]
  },
  {
   "cell_type": "code",
   "execution_count": null,
   "metadata": {},
   "outputs": [],
   "source": [
    "shortest = len(collection1)\n",
    "if len(collection2) < shortest:\n",
    "    shortest = len(collection2)\n",
    "if len(collection3) < shortest:\n",
    "    shortest = len(collection3)\n",
    "    \n",
    "i = 0\n",
    "while i < shortest:\n",
    "    print(collection1[i], collection2[i], collection3[i])\n",
    "    i += 1\n"
   ]
  },
  {
   "cell_type": "markdown",
   "metadata": {},
   "source": [
    "<font color='red'>This is getting better but there's even a better way!</font>"
   ]
  },
  {
   "cell_type": "code",
   "execution_count": null,
   "metadata": {},
   "outputs": [],
   "source": [
    "shortest = min(len(collection1), len(collection2), len(collection3))\n",
    "for i in range(shortest):\n",
    "    print(collection1[i], collection2[i], collection3[i])"
   ]
  },
  {
   "cell_type": "markdown",
   "metadata": {},
   "source": [
    "### <font color='green'>Do it like this!</font>"
   ]
  },
  {
   "cell_type": "code",
   "execution_count": null,
   "metadata": {},
   "outputs": [],
   "source": [
    "for first, second, third in zip(collection1, collection2, collection3):\n",
    "    print(first, second, third)"
   ]
  },
  {
   "cell_type": "markdown",
   "metadata": {},
   "source": [
    "<font color='green'>You can also create a dict out of two collections!</font>"
   ]
  },
  {
   "cell_type": "code",
   "execution_count": null,
   "metadata": {},
   "outputs": [],
   "source": [
    "my_dict = dict(zip(collection1, collection2))\n",
    "print(my_dict)"
   ]
  },
  {
   "cell_type": "markdown",
   "metadata": {},
   "source": [
    "## `for - else` - Checking for a match in a collection\n",
    "Let's say we want to verify a certain condition is met by at least one element in a collection. Let's consider the following relatively naive example where we want to verify that at least one item is \"python\" (case insensitive) in `data`. If not, we'll raise a ValueError."
   ]
  },
  {
   "cell_type": "code",
   "execution_count": null,
   "metadata": {},
   "outputs": [],
   "source": [
    "data = [1, 2, 3, 'This', 'is', 'just', 'a', 'random', 'Python', 'list']"
   ]
  },
  {
   "cell_type": "markdown",
   "metadata": {},
   "source": [
    "<font color='red'>Don't do it like this</font>"
   ]
  },
  {
   "cell_type": "code",
   "execution_count": null,
   "metadata": {},
   "outputs": [],
   "source": [
    "found = False\n",
    "for val in data:\n",
    "    if str(val).lower() == 'python':\n",
    "        found = True\n",
    "        break\n",
    "if not found:\n",
    "    raise ValueError(\"Nope, couldn't find.\")"
   ]
  },
  {
   "cell_type": "markdown",
   "metadata": {},
   "source": [
    "### <font color='green'>Do it like this!</font>"
   ]
  },
  {
   "cell_type": "code",
   "execution_count": null,
   "metadata": {},
   "outputs": [],
   "source": [
    "for val in data:\n",
    "    if str(val).lower() == 'python':\n",
    "        break\n",
    "else:\n",
    "    raise ValueError(\"Nope, couldn't find.\")"
   ]
  },
  {
   "cell_type": "code",
   "execution_count": null,
   "metadata": {},
   "outputs": [],
   "source": []
  },
  {
   "cell_type": "markdown",
   "metadata": {},
   "source": [
    "## Comprehensions"
   ]
  },
  {
   "cell_type": "code",
   "execution_count": null,
   "metadata": {},
   "outputs": [],
   "source": [
    "original_data = (1, 2, 3, 4)"
   ]
  },
  {
   "cell_type": "markdown",
   "metadata": {},
   "source": [
    "<font color='red'>Don't do this.</font>"
   ]
  },
  {
   "cell_type": "code",
   "execution_count": null,
   "metadata": {},
   "outputs": [],
   "source": [
    "# list\n",
    "square_roots_list = []\n",
    "for val in original_data:\n",
    "    square_root = val**(1/2) \n",
    "    square_roots_list.append(square_root)\n",
    "print(square_roots_list)\n",
    "\n",
    "# set\n",
    "square_roots_set = set()\n",
    "for val in original_data:\n",
    "    square_root = val**(1/2) \n",
    "    square_roots_set.add(square_root)\n",
    "print(square_roots_set)\n",
    "\n",
    "# dict\n",
    "square_roots_dict = {}\n",
    "for val in original_data:\n",
    "    square_root = val**(1/2) \n",
    "    square_roots_dict[val] = square_root\n",
    "print(square_roots_dict) \n",
    "\n",
    "# dict with a condition\n",
    "integer_square_roots_dict = {}\n",
    "for val in original_data:\n",
    "    square_root = val**(1/2)\n",
    "    if square_root.is_integer():\n",
    "        integer_square_roots_dict[val] = square_root\n",
    "print(integer_square_roots_dict) "
   ]
  },
  {
   "cell_type": "markdown",
   "metadata": {},
   "source": [
    "Note: in case you're using 2.X version of Python for some reason, the result of `1/2` is `0` instead of `0.5`. "
   ]
  },
  {
   "cell_type": "markdown",
   "metadata": {},
   "source": [
    "### <font color='green'>Use comprehensions!</font>"
   ]
  },
  {
   "cell_type": "code",
   "execution_count": null,
   "metadata": {},
   "outputs": [],
   "source": [
    "square_roots_list = [val**(1/2) for val in original_data]\n",
    "print(square_roots_list)\n",
    "\n",
    "square_roots_set = {val**(1/2) for val in original_data}\n",
    "print(square_roots_set)\n",
    "\n",
    "square_roots_dict = {val: val**(1/2) for val in original_data}\n",
    "print(square_roots_dict)\n",
    "\n",
    "integer_square_roots_dict = {\n",
    "    val: val**(1/2)\n",
    "    for val in original_data if (val**(1/2)).is_integer()\n",
    "}\n",
    "print(integer_square_roots_dict)"
   ]
  },
  {
   "cell_type": "markdown",
   "metadata": {},
   "source": [
    "## Using `in` for checking presence of an element in a collection"
   ]
  },
  {
   "cell_type": "code",
   "execution_count": null,
   "metadata": {},
   "outputs": [],
   "source": [
    "name = 'John Doe'"
   ]
  },
  {
   "cell_type": "markdown",
   "metadata": {},
   "source": [
    "<font color='red'>Don't do it like this.</font>"
   ]
  },
  {
   "cell_type": "code",
   "execution_count": null,
   "metadata": {},
   "outputs": [],
   "source": [
    "if name == 'John' or name == 'Doe' or name == 'John Doe':\n",
    "    print('This seems to be our guy')"
   ]
  },
  {
   "cell_type": "markdown",
   "metadata": {},
   "source": [
    "### <font color='green'>Do it like this!</font>"
   ]
  },
  {
   "cell_type": "code",
   "execution_count": null,
   "metadata": {},
   "outputs": [],
   "source": [
    "if name in ('John', 'Doe', 'John Doe'):\n",
    "    print('This seems to be our guy')"
   ]
  },
  {
   "cell_type": "markdown",
   "metadata": {},
   "source": [
    "## Chained comparisons"
   ]
  },
  {
   "cell_type": "code",
   "execution_count": null,
   "metadata": {},
   "outputs": [],
   "source": [
    "a, b, c, d = 1, 2, 3, 4"
   ]
  },
  {
   "cell_type": "markdown",
   "metadata": {},
   "source": [
    "<font color='red'>Don't do it like this.</font>"
   ]
  },
  {
   "cell_type": "code",
   "execution_count": null,
   "metadata": {},
   "outputs": [],
   "source": [
    "if b > a and c > b and d > c:\n",
    "    print('from lowest to highest: a, b, c, d')"
   ]
  },
  {
   "cell_type": "markdown",
   "metadata": {},
   "source": [
    "### <font color='green'>Do it like this!</font>"
   ]
  },
  {
   "cell_type": "code",
   "execution_count": null,
   "metadata": {},
   "outputs": [],
   "source": [
    "if a < b < c < d:\n",
    "    print('from lowest to highest: a, b, c, d')"
   ]
  },
  {
   "cell_type": "markdown",
   "metadata": {},
   "source": [
    "## Falsy/truthy values"
   ]
  },
  {
   "cell_type": "code",
   "execution_count": null,
   "metadata": {},
   "outputs": [],
   "source": [
    "# These are falsy\n",
    "my_list = []\n",
    "my_dict = {}\n",
    "my_set = set()\n",
    "my_tuple = tuple()\n",
    "zero = 0\n",
    "false = False\n",
    "none = None\n",
    "my_str = ''\n",
    "\n",
    "# Basically the rest are truthy\n",
    "# for example:\n",
    "my_second_list = ['foo']"
   ]
  },
  {
   "cell_type": "markdown",
   "metadata": {},
   "source": [
    "<font color='red'>Don't do it like this.</font>"
   ]
  },
  {
   "cell_type": "code",
   "execution_count": null,
   "metadata": {},
   "outputs": [],
   "source": [
    "if len(my_list) == 0:\n",
    "    print('Empty list is so empty')\n",
    "    \n",
    "if not len(my_dict):\n",
    "    print('Empty dict is also very empty')\n",
    "    \n",
    "if not len(my_set) and not len(my_tuple):\n",
    "    print('Same goes for sets and tuples')\n",
    "    \n",
    "if not bool(zero) and not bool(false) and not bool(none) and len(my_str) == 0:\n",
    "    print('These are also falsy')\n",
    "    \n",
    "if len(my_second_list) > 0:\n",
    "    print('This should be true')"
   ]
  },
  {
   "cell_type": "markdown",
   "metadata": {},
   "source": [
    "### <font color='green'>This is much better!</font>"
   ]
  },
  {
   "cell_type": "code",
   "execution_count": null,
   "metadata": {},
   "outputs": [],
   "source": [
    "if not my_list:\n",
    "    print('Empty list is so empty')\n",
    "    \n",
    "if not my_dict:\n",
    "    print('Empty dict is also very empty')\n",
    "    \n",
    "if not my_set and not my_tuple:\n",
    "    print('Same goes for sets and tuples')\n",
    "    \n",
    "if not zero and not false and not none and not my_str:\n",
    "    print('These are also falsy')\n",
    "    \n",
    "if my_second_list:\n",
    "    print('This should be true')"
   ]
  },
  {
   "cell_type": "markdown",
   "metadata": {},
   "source": [
    "## `any` & `all`"
   ]
  },
  {
   "cell_type": "code",
   "execution_count": null,
   "metadata": {},
   "outputs": [],
   "source": [
    "example_collection = ['a', True, 'Python is cool', 123, 0]"
   ]
  },
  {
   "cell_type": "markdown",
   "metadata": {},
   "source": [
    "<font color='red'>Don't do it like this.</font>"
   ]
  },
  {
   "cell_type": "code",
   "execution_count": null,
   "metadata": {},
   "outputs": [],
   "source": [
    "any_value_truthy = True\n",
    "for val in example_collection:\n",
    "    if val:\n",
    "        any_value_truthy = True\n",
    "        break\n",
    "\n",
    "all_values_truthy = True\n",
    "for val in example_collection:\n",
    "    if not val:\n",
    "        all_values_truthy = False\n",
    "        break\n",
    "        \n",
    "print('any truthy: {}, all truthy: {}'.format(any_value_truthy, all_values_truthy))"
   ]
  },
  {
   "cell_type": "markdown",
   "metadata": {},
   "source": [
    "### <font color='green'>Do it like this!</font>"
   ]
  },
  {
   "cell_type": "code",
   "execution_count": null,
   "metadata": {},
   "outputs": [],
   "source": [
    "any_value_truthy = any(example_collection)\n",
    "all_values_truthy = all(example_collection)\n",
    "print('any truthy: {}, all truthy: {}'.format(any_value_truthy, all_values_truthy))"
   ]
  },
  {
   "cell_type": "markdown",
   "metadata": {},
   "source": [
    "## Pythonic substitute for ternary operator\n",
    "Many other programming languages have a ternary operator: `?`. A common use case for the ternary operator is to assign a certain value to a variable based on some condition. In other words, it could be used like this:\n",
    "```\n",
    "variable = some_condition ? some_value : some_other_value\n",
    "```"
   ]
  },
  {
   "cell_type": "markdown",
   "metadata": {},
   "source": [
    "<font color='red'>Instead of doing this.</font>"
   ]
  },
  {
   "cell_type": "code",
   "execution_count": null,
   "metadata": {},
   "outputs": [],
   "source": [
    "some_condition = True  # just a dummy condition\n",
    "\n",
    "if some_condition:\n",
    "    variable = 'John'\n",
    "else:\n",
    "    variable = 'Doe'\n",
    "print(variable)"
   ]
  },
  {
   "cell_type": "markdown",
   "metadata": {},
   "source": [
    "### <font color='green'>You can do it like this!</font>"
   ]
  },
  {
   "cell_type": "code",
   "execution_count": null,
   "metadata": {},
   "outputs": [],
   "source": [
    "variable = 'John' if some_condition else 'Doe'\n",
    "print(variable)"
   ]
  },
  {
   "cell_type": "markdown",
   "metadata": {},
   "source": [
    "## Function keywords arguments\n",
    "For better readability and maintainability."
   ]
  },
  {
   "cell_type": "code",
   "execution_count": null,
   "metadata": {},
   "outputs": [],
   "source": [
    "def show_person_details(name, is_gangster, is_hacker, age):\n",
    "    print('name: {}, gangster: {}, hacker: {}, age: {}'.format(\n",
    "        name, is_gangster, is_hacker, age))"
   ]
  },
  {
   "cell_type": "markdown",
   "metadata": {},
   "source": [
    "<font color='red'>This is not good. It's hard to tell what `True`, `False` and `83` refer here if you are not familiar with the signature of the `show_person_details` function.</font>"
   ]
  },
  {
   "cell_type": "code",
   "execution_count": null,
   "metadata": {},
   "outputs": [],
   "source": [
    "show_person_details('John Doe', True, False, 83)"
   ]
  },
  {
   "cell_type": "markdown",
   "metadata": {},
   "source": [
    "### <font color='green'>This is much better!</font>"
   ]
  },
  {
   "cell_type": "code",
   "execution_count": null,
   "metadata": {},
   "outputs": [],
   "source": [
    "show_person_details('John Doe', is_gangster=True, is_hacker=False, age=83)"
   ]
  },
  {
   "cell_type": "markdown",
   "metadata": {},
   "source": [
    "#### <font color='green'>Extra: keyword only arguments after `*`</font>\n",
    "This might be useful for example if the signature of the function is likely to change in the future. For example, if there's even a slight chance that one of the arguments may be dropped during the future development, consider using `*`."
   ]
  },
  {
   "cell_type": "code",
   "execution_count": null,
   "metadata": {},
   "outputs": [],
   "source": [
    "def func_with_loads_of_args(arg1, *, arg2=None, arg3=None, arg4=None, arg5='boom'):\n",
    "    pass\n",
    "\n",
    "# This won't work because only keyword arguments allowed after *\n",
    "#func_with_loads_of_args('John Doe', 1, 2)\n",
    "\n",
    "# This is ok\n",
    "func_with_loads_of_args('John Doe', arg4='foo', arg5='bar', arg2='foo bar')"
   ]
  },
  {
   "cell_type": "markdown",
   "metadata": {},
   "source": [
    "## Multiple assigment\n",
    "Let's say we want to swap the values of two variables."
   ]
  },
  {
   "cell_type": "markdown",
   "metadata": {},
   "source": [
    "<font color='red'>Don't do it like this.</font>"
   ]
  },
  {
   "cell_type": "code",
   "execution_count": null,
   "metadata": {},
   "outputs": [],
   "source": [
    "# original values\n",
    "a = 1\n",
    "b = 2\n",
    "\n",
    "# swap\n",
    "tmp = a\n",
    "a = b\n",
    "b = tmp\n",
    "print(a, b)"
   ]
  },
  {
   "cell_type": "markdown",
   "metadata": {},
   "source": [
    "### <font color='green'>Do it like this!</font>"
   ]
  },
  {
   "cell_type": "code",
   "execution_count": null,
   "metadata": {},
   "outputs": [],
   "source": [
    "# original values\n",
    "a = 1\n",
    "b = 2\n",
    "\n",
    "# swap\n",
    "a, b = b, a\n",
    "print(a, b)"
   ]
  },
  {
   "cell_type": "markdown",
   "metadata": {},
   "source": [
    "## (Un)packing"
   ]
  },
  {
   "cell_type": "code",
   "execution_count": null,
   "metadata": {},
   "outputs": [],
   "source": [
    "my_list = [1, 2, 3, 4, 5, 6]"
   ]
  },
  {
   "cell_type": "markdown",
   "metadata": {},
   "source": [
    "<font color='red'>Don't do something like this.</font>"
   ]
  },
  {
   "cell_type": "code",
   "execution_count": null,
   "metadata": {},
   "outputs": [],
   "source": [
    "first = my_list[0]\n",
    "last = my_list[-1]\n",
    "middle = my_list[1:-1]\n",
    "print(first, middle, last)\n",
    "\n",
    "packed = [first] + middle + [last]\n",
    "assert packed == my_list"
   ]
  },
  {
   "cell_type": "markdown",
   "metadata": {},
   "source": [
    "### <font color='green'>This is the Pythonic way!</font>"
   ]
  },
  {
   "cell_type": "code",
   "execution_count": null,
   "metadata": {},
   "outputs": [],
   "source": [
    "# unpacking\n",
    "first, *middle, last = my_list\n",
    "print(first, middle, last)\n",
    "\n",
    "# packing\n",
    "packed = [first, *middle, last]\n",
    "assert packed == my_list"
   ]
  },
  {
   "cell_type": "code",
   "execution_count": null,
   "metadata": {},
   "outputs": [],
   "source": []
  },
  {
   "cell_type": "markdown",
   "metadata": {},
   "source": [
    "## String concatenation"
   ]
  },
  {
   "cell_type": "code",
   "execution_count": null,
   "metadata": {},
   "outputs": [],
   "source": [
    "names = ('John', 'Lisa', 'Terminator', 'Python')"
   ]
  },
  {
   "cell_type": "markdown",
   "metadata": {},
   "source": [
    "<font color='red'>Don't do this.</font>"
   ]
  },
  {
   "cell_type": "code",
   "execution_count": null,
   "metadata": {},
   "outputs": [],
   "source": [
    "semicolon_separated = names[0]\n",
    "for name in names[1:]:\n",
    "    semicolon_separated += ';' + name\n",
    "print(semicolon_separated)"
   ]
  },
  {
   "cell_type": "markdown",
   "metadata": {},
   "source": [
    "### <font color='green'>Use `join` instead!</font>"
   ]
  },
  {
   "cell_type": "code",
   "execution_count": null,
   "metadata": {},
   "outputs": [],
   "source": [
    "semicolon_separated = ';'.join(names)\n",
    "print(semicolon_separated)"
   ]
  },
  {
   "cell_type": "markdown",
   "metadata": {},
   "source": [
    "## `or` in assignments\n",
    "The return value of `a or b`:\n",
    "* `a` if `a` is truthy\n",
    "* `b` otherwise\n",
    "\n",
    "You can take advantage of this e.g. while writing variable assignments."
   ]
  },
  {
   "cell_type": "code",
   "execution_count": null,
   "metadata": {},
   "outputs": [],
   "source": [
    "a = 0\n",
    "b = None\n",
    "c = 'John Doe'"
   ]
  },
  {
   "cell_type": "markdown",
   "metadata": {},
   "source": [
    "<font color='red'>Instead of doing something like this:</font>"
   ]
  },
  {
   "cell_type": "code",
   "execution_count": null,
   "metadata": {},
   "outputs": [],
   "source": [
    "my_variable = 'default value'\n",
    "if a:\n",
    "    my_variable = a\n",
    "elif b:\n",
    "    my_variable = b\n",
    "elif c:\n",
    "    my_variable = c\n",
    "print(my_variable)"
   ]
  },
  {
   "cell_type": "markdown",
   "metadata": {},
   "source": [
    "### <font color='green'>Prefer doing this:</font>"
   ]
  },
  {
   "cell_type": "code",
   "execution_count": null,
   "metadata": {},
   "outputs": [],
   "source": [
    "my_variable = a or b or c or 'default value'\n",
    "print(my_variable)"
   ]
  },
  {
   "cell_type": "markdown",
   "metadata": {},
   "source": [
    "## `try` - `except` - `else`"
   ]
  },
  {
   "cell_type": "markdown",
   "metadata": {},
   "source": [
    "<font color='red'>Don't use the following technique for checking if there was exceptions during execution of some block of code.</font>"
   ]
  },
  {
   "cell_type": "code",
   "execution_count": null,
   "metadata": {},
   "outputs": [],
   "source": [
    "exception_occured = False\n",
    "try:\n",
    "    # here would be the logic of your master piece\n",
    "    \n",
    "    bad_calculation = 1 / 0\n",
    "    \n",
    "except ValueError as e:\n",
    "    print('Oh boi, some value error: {}'.format(e))\n",
    "    exception_occured = True\n",
    "except Exception as e:\n",
    "    print('Oh boi, something bad happened: {}'.format(e))\n",
    "    exception_occured = True\n",
    "    \n",
    "if not exception_occured:\n",
    "    print('All went well!')"
   ]
  },
  {
   "cell_type": "markdown",
   "metadata": {},
   "source": [
    "### <font color='green'>Use this instead!</font>"
   ]
  },
  {
   "cell_type": "code",
   "execution_count": null,
   "metadata": {},
   "outputs": [],
   "source": [
    "try:\n",
    "    # here would be the logic of your master piece\n",
    "    \n",
    "    bad_calculation = 1 / 0\n",
    "    \n",
    "except ValueError as e:\n",
    "    print('Oh boi, some keyerror: {}'.format(e))\n",
    "except Exception as e:\n",
    "    print('Oh boi, something bad happened: {}'.format(e))\n",
    "else:\n",
    "    print('All went well!')"
   ]
  },
  {
   "cell_type": "markdown",
   "metadata": {},
   "source": [
    "## `try` - `finally`\n",
    "For scenarios where you want to do something always, even when there are exceptions."
   ]
  },
  {
   "cell_type": "markdown",
   "metadata": {},
   "source": [
    "<font color='red'>Don't do it like this</font>"
   ]
  },
  {
   "cell_type": "code",
   "execution_count": null,
   "metadata": {},
   "outputs": [],
   "source": [
    "def magical_calculation():\n",
    "    try:\n",
    "        # here would be the logic of your master piece\n",
    "        result = 1 / 0\n",
    "    except ZeroDivisionError:\n",
    "        print('This could be something important that should be done every time')\n",
    "        return 0\n",
    "    except Exception:\n",
    "        print('This could be something important that should be done every time')\n",
    "        return None\n",
    "\n",
    "    print('This could be something important that should be done every time')\n",
    "    return result\n",
    "\n",
    "print('return value: {}'.format(magical_calculation()))"
   ]
  },
  {
   "cell_type": "markdown",
   "metadata": {},
   "source": [
    "### <font color='green'>This is better fit for the purpose!</font>"
   ]
  },
  {
   "cell_type": "code",
   "execution_count": null,
   "metadata": {},
   "outputs": [],
   "source": [
    "def magical_calculation():\n",
    "    try:\n",
    "        # here would be the logic of your master piece\n",
    "        result = 1 / 0\n",
    "    except ZeroDivisionError:\n",
    "        return 0\n",
    "    except Exception:\n",
    "        return None\n",
    "    finally:\n",
    "        print('This could be something important that should be done every time')\n",
    "    return result\n",
    "\n",
    "print('return value: {}'.format(magical_calculation()))"
   ]
  },
  {
   "cell_type": "markdown",
   "metadata": {},
   "source": [
    "**Note**: You can also have `try`-`except`-`else`-`finally` structure. In cases where exception is not raised inside `try`, `else` will be executed before `finally`. If there is an expection, `else` block is not executed."
   ]
  },
  {
   "cell_type": "markdown",
   "metadata": {},
   "source": [
    "## Use context managers when possible\n",
    "One use case example is file I/O."
   ]
  },
  {
   "cell_type": "markdown",
   "metadata": {},
   "source": [
    "<font color='red'>Don't play with files like this.</font>"
   ]
  },
  {
   "cell_type": "code",
   "execution_count": null,
   "metadata": {},
   "outputs": [],
   "source": [
    "try:\n",
    "    some_file = open('tmp.txt', 'w')\n",
    "    print('the file is now open: {}'.format(not some_file.closed))\n",
    "    \n",
    "    # here would be some logic\n",
    " \n",
    "finally:\n",
    "    some_file.close()\n",
    "    print(\"now it's closed: {}\".format(some_file.closed))"
   ]
  },
  {
   "cell_type": "markdown",
   "metadata": {},
   "source": [
    "### <font color='green'>Use context manager instead!</font>"
   ]
  },
  {
   "cell_type": "code",
   "execution_count": null,
   "metadata": {},
   "outputs": [],
   "source": [
    "with open('tmp.txt', 'w') as some_file:\n",
    "    print('the file is now open: {}'.format(not some_file.closed))\n",
    "    \n",
    "    # here would be some logic\n",
    "\n",
    "print(\"now it's closed: {}\".format(some_file.closed))"
   ]
  },
  {
   "cell_type": "markdown",
   "metadata": {},
   "source": [
    "### <font color='green'>It's also easy to implement one yourself.</font>"
   ]
  },
  {
   "cell_type": "code",
   "execution_count": null,
   "metadata": {},
   "outputs": [],
   "source": [
    "from contextlib import contextmanager\n",
    "\n",
    "@contextmanager\n",
    "def my_context():\n",
    "    print('Entering to my context')\n",
    "    yield\n",
    "    print('Exiting my context')\n",
    "    \n",
    "def do_stuff():\n",
    "    with my_context():\n",
    "        print('Doing stuff')\n",
    "        \n",
    "    print('Doing some stuff outside my context')\n",
    "        \n",
    "do_stuff()  "
   ]
  },
  {
   "cell_type": "markdown",
   "metadata": {},
   "source": [
    "## `min()` & `max()`"
   ]
  },
  {
   "cell_type": "code",
   "execution_count": null,
   "metadata": {},
   "outputs": [],
   "source": [
    "secret_data = (1, 2, 5, 99, 8, -9)"
   ]
  },
  {
   "cell_type": "markdown",
   "metadata": {},
   "source": [
    "<font color='red'>No need to bake it yourself.</font>"
   ]
  },
  {
   "cell_type": "code",
   "execution_count": null,
   "metadata": {},
   "outputs": [],
   "source": [
    "max_value = 0\n",
    "for val in secret_data:\n",
    "    if val > max_value:\n",
    "        max_value = val\n",
    "print(max_value)"
   ]
  },
  {
   "cell_type": "markdown",
   "metadata": {},
   "source": [
    "### <font color='green'>Use builtin functionality instead!</font>"
   ]
  },
  {
   "cell_type": "code",
   "execution_count": null,
   "metadata": {},
   "outputs": [],
   "source": [
    "max_value = max(secret_data)\n",
    "print(max_value)"
   ]
  },
  {
   "cell_type": "markdown",
   "metadata": {},
   "source": [
    "## `contextlib.suppress` - ignoring exceptions "
   ]
  },
  {
   "cell_type": "markdown",
   "metadata": {},
   "source": [
    "<font color='red'>If there's a potential exception that is ok, don't handle it like this.</font>"
   ]
  },
  {
   "cell_type": "code",
   "execution_count": null,
   "metadata": {},
   "outputs": [],
   "source": [
    "value = 0\n",
    "try:\n",
    "    value = 1 / 0  # just for demonstrating purposes \n",
    "except ZeroDivisionError:\n",
    "    pass\n",
    "\n",
    "print(value)"
   ]
  },
  {
   "cell_type": "markdown",
   "metadata": {},
   "source": [
    "### <font color='green'>Do it like this instead!</font>"
   ]
  },
  {
   "cell_type": "code",
   "execution_count": null,
   "metadata": {},
   "outputs": [],
   "source": [
    "from contextlib import suppress\n",
    "\n",
    "value = 0\n",
    "with suppress(ZeroDivisionError):\n",
    "    value = 1 / 0  # just for demonstrating purposes\n",
    "    \n",
    "print(value)"
   ]
  },
  {
   "cell_type": "markdown",
   "metadata": {},
   "source": [
    "## Properties instead of getter/setter methods"
   ]
  },
  {
   "cell_type": "markdown",
   "metadata": {},
   "source": [
    "<font color='red'>Instead of doing something like this.</font>"
   ]
  },
  {
   "cell_type": "code",
   "execution_count": null,
   "metadata": {},
   "outputs": [],
   "source": [
    "class Person:\n",
    "    def __init__(self, first_name, last_name):\n",
    "        self.first_name = first_name\n",
    "        self.last_name = last_name\n",
    "        \n",
    "    def get_full_name(self):\n",
    "        return '{} {}'.format(self.first_name, self.last_name)\n",
    "    \n",
    "    def set_full_name(self, full_name):\n",
    "        parts = full_name.split()\n",
    "        if len(parts) != 2:\n",
    "            raise ValueError('Sorry, too difficult name')\n",
    "            \n",
    "        self.first_name, self.last_name = parts \n",
    "        \n",
    "      \n",
    "p = Person('John', 'Doe')\n",
    "print(p.get_full_name())\n",
    "p.set_full_name('Lisa Doe')\n",
    "print(p.get_full_name())"
   ]
  },
  {
   "cell_type": "markdown",
   "metadata": {},
   "source": [
    "### <font color='green'>Prefer properties!</font>"
   ]
  },
  {
   "cell_type": "code",
   "execution_count": null,
   "metadata": {},
   "outputs": [],
   "source": [
    "class Person:\n",
    "    def __init__(self, first_name, last_name):\n",
    "        self.first_name = first_name\n",
    "        self.last_name = last_name\n",
    "        \n",
    "    @property\n",
    "    def full_name(self):\n",
    "        return '{} {}'.format(self.first_name, self.last_name)\n",
    "    \n",
    "    @full_name.setter\n",
    "    def full_name(self, name):\n",
    "        parts = name.split()\n",
    "        if len(parts) != 2:\n",
    "            raise ValueError('Sorry, too difficult name')\n",
    "            \n",
    "        self.first_name, self.last_name = parts\n",
    "\n",
    "    \n",
    "p = Person('John', 'Doe')\n",
    "print(p.full_name)\n",
    "p.full_name = 'Lisa Doe'\n",
    "print(p.full_name)"
   ]
  }
 ],
 "metadata": {
  "kernelspec": {
   "display_name": "Python 3",
   "language": "python",
   "name": "python3"
  },
  "language_info": {
   "codemirror_mode": {
    "name": "ipython",
    "version": 3
   },
   "file_extension": ".py",
   "mimetype": "text/x-python",
   "name": "python",
   "nbconvert_exporter": "python",
   "pygments_lexer": "ipython3",
   "version": "3.8.3"
  }
 },
 "nbformat": 4,
 "nbformat_minor": 4
}
