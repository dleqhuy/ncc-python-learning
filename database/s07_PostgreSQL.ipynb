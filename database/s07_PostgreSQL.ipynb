{
 "cells": [
  {
   "cell_type": "markdown",
   "metadata": {},
   "source": [
    "## PostgreSQL\n",
    "\n",
    "There is a list of data types PostgreSQL supports. Besides the numeric, floating-point, string, boolean, and other data types you desire (and many more options), PostgreSQL boasts uuid, currency, enumerated, geometry, and more. , binary, network address, bit string, text search, xml, json, array, mixed, and range types, as well as several internal types for object and location identifiers. login location.\n",
    "\n",
    "To be fair, MySQL, MariaDB, and Firebird each have a few to varying degrees, but PostgreSQL supports them all.\n",
    "\n",
    "\n",
    "### Create new data tye\n",
    "\n",
    "If PostgreSQL's extensive list of available data types is not enough, you can use the CREATE TYPE command to create new data types like composite, enumerated, range and base. \n"
   ]
  },
  {
   "cell_type": "markdown",
   "metadata": {},
   "source": [
    "## The following data types are supported by PostgreSQL: \n",
    "\n",
    " - Boolean\n",
    " - Character Types [ such as char, varchar, and text]\n",
    " - Numeric Types [ such as integer and floating-point number]\n",
    " - Temporal Types [ such as date, time, timestamp, and interval]\n",
    " - UUID [ for storing UUID (Universally Unique Identifiers) ]\n",
    " - Array [ for storing array strings, numbers, etc.]\n",
    " - JSON [ stores JSON data]\n",
    " - hstore [ stores key-value pair]\n",
    " - Special Types [ such as network address and geometric data]"
   ]
  },
  {
   "cell_type": "markdown",
   "metadata": {},
   "source": [
    "### Indexes\n",
    "\n",
    "PostgreSQL provides several index types: **B-tree, Hash, GiST, SP-GiST, GIN and BRIN**. Each index type uses a different algorithm that is best suited to different types of queries. By default, the CREATE INDEX command creates B-tree indexes, which fit the most common situations."
   ]
  },
  {
   "cell_type": "markdown",
   "metadata": {},
   "source": [
    "### JSON\n",
    "\n",
    "The best part of working with JSON in PostgreSQL is that you get to leverage all the normal SQL you already love along with these JSON functions. \n",
    "\n",
    "#### In the SELECT\n",
    "\n",
    "```\n",
    "The -> operator Returns JSON data in the form of a JSON key.\n",
    "The ->> operator: Returns JSON data in the form of JSON text.\n",
    "\n",
    "SELECT stud_data ->> 'name' AS StudentName FROM student;\n",
    "```\n",
    "\n",
    "```\n",
    "The #> or #>> is the JSON path navigator with the difference being #> returns JSON and the #>> returns the JSON text value. \n",
    "\n",
    "SELECT json_content #> '{person, last_name}' FROM mytable;\n",
    "```\n",
    "\n",
    "#### In the Where clause\n",
    "\n",
    "```\n",
    "@> - operator looks for JSON that contains the JSON on the right side of the operator.\n",
    "\n",
    "SELECT id, contacts from sites where contacts @> '{\"city\":\"belfast\"}'::jsonb \n",
    "```\n",
    "\n",
    "\n",
    "#### Functions\n",
    "\n",
    "1. json_each - expand the outermost JSON object into a set of key-value pairs\n",
    "2. json_object_keys - get a set of keys in the outermost JSON object\n",
    "3. json_typeof - get the type of the outermost JSON value as a string\n"
   ]
  },
  {
   "cell_type": "markdown",
   "metadata": {},
   "source": [
    "## Advantages of using JSON in PostgreSQL are given below:\n",
    "\n",
    " - Avoid complicated joins.\n",
    " - Parsing of JSON data is quite easier and faster execution.\n",
    " - Compatible with various database management systems.\n",
    " - Javascript Notation Objects are faster and very easy to read and understand.\n",
    " - The data within the JSON object is separated by a comma which makes it easily understandable.\n",
    " - JSON is lightweight for data exchange.\n",
    " \n",
    "*   [ ] You know how to create foreign keys\n",
    "*   [ ] You know data types, including JSON\n",
    "*   [ ] You know how to query data using JSON path"
   ]
  },
  {
   "cell_type": "code",
   "execution_count": null,
   "metadata": {},
   "outputs": [],
   "source": []
  }
 ],
 "metadata": {
  "kernelspec": {
   "display_name": "big-data",
   "language": "python",
   "name": "big-data"
  },
  "language_info": {
   "codemirror_mode": {
    "name": "ipython",
    "version": 3
   },
   "file_extension": ".py",
   "mimetype": "text/x-python",
   "name": "python",
   "nbconvert_exporter": "python",
   "pygments_lexer": "ipython3",
   "version": "3.9.13"
  }
 },
 "nbformat": 4,
 "nbformat_minor": 4
}
