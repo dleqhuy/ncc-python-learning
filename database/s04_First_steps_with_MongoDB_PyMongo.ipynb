{
 "cells": [
  {
   "cell_type": "markdown",
   "metadata": {
    "colab_type": "text",
    "id": "z6nmrzfEMkE2"
   },
   "source": [
    "# First steps with MongoDB and PyMongo\n",
    "\n",
    "\n",
    "*   Connection to Mongo\n",
    "*   Basic database, collection management\n",
    "*   CRUD  one document\n",
    "*   CRUD  many documents\n",
    "\n",
    "\n",
    "\n"
   ]
  },
  {
   "cell_type": "markdown",
   "metadata": {
    "colab_type": "text",
    "id": "vM6ta952S2z2"
   },
   "source": [
    "# 1. Install PyMongo (if required)"
   ]
  },
  {
   "cell_type": "code",
   "execution_count": 1,
   "metadata": {
    "colab": {
     "base_uri": "https://localhost:8080/",
     "height": 173
    },
    "colab_type": "code",
    "id": "fpS_a7o_FCVj",
    "outputId": "90cd2005-d4d3-48cc-e4a7-b577661f104a"
   },
   "outputs": [
    {
     "name": "stdout",
     "output_type": "stream",
     "text": [
      "Collecting pymongo==3.7.2\n",
      "  Downloading pymongo-3.7.2.tar.gz (628 kB)\n",
      "Building wheels for collected packages: pymongo\n",
      "  Building wheel for pymongo (setup.py): started\n",
      "  Building wheel for pymongo (setup.py): finished with status 'done'\n",
      "  Created wheel for pymongo: filename=pymongo-3.7.2-cp38-cp38-win_amd64.whl size=277967 sha256=9881dd693886d9df4e5f0a7111a886b25b846606a510090486ed4823bd492916\n",
      "  Stored in directory: c:\\users\\84123\\appdata\\local\\pip\\cache\\wheels\\28\\62\\b5\\ede9674d1415d2c15c3e805e6cc7debfcdf380105da0887776\n",
      "Successfully built pymongo\n",
      "Installing collected packages: pymongo\n",
      "  Attempting uninstall: pymongo\n",
      "    Found existing installation: pymongo 3.12.0\n",
      "    Uninstalling pymongo-3.12.0:\n",
      "      Successfully uninstalled pymongo-3.12.0\n",
      "Successfully installed pymongo-3.7.2\n"
     ]
    }
   ],
   "source": [
    "# Instaling PyMongo, this is the interface to connect to MongoDB with Python\n",
    "! python -m pip install pymongo==3.7.2"
   ]
  },
  {
   "cell_type": "markdown",
   "metadata": {
    "colab_type": "text",
    "id": "_YlhIPRViedz"
   },
   "source": [
    "# 2. Install Mongo and establish connection\n",
    "\n",
    "To practice MongoDB, you can use a free service with limited storage to train or test your code.\n",
    "\n",
    "Here for the example, I use https://www.clever-cloud.com/en/\n",
    "\n",
    "Other services:\n",
    "\n",
    "https://studio3t.com/knowledge-base/articles/cheap-free-mongodb-hosting/\n",
    "\n",
    "Install locally MongoDB: https://docs.mongodb.com/manual/administration/install-community/\n"
   ]
  },
  {
   "cell_type": "code",
   "execution_count": 13,
   "metadata": {
    "colab": {},
    "colab_type": "code",
    "id": "ZBlBpXUKa2NX"
   },
   "outputs": [],
   "source": [
    "import datetime                            # Imports datetime library\n",
    "\n",
    "import pymongo\n",
    "from pymongo import MongoClient\n",
    "\n",
    "# uri (uniform resource identifier) defines the connection parameters \n",
    "# mongodb:// + domain + port + '/' + username\n",
    "uri = 'mongodb://localhost:27017'\n",
    "# start client to connect to MongoDB server \n",
    "client = MongoClient( uri )"
   ]
  },
  {
   "cell_type": "code",
   "execution_count": 14,
   "metadata": {
    "colab": {
     "base_uri": "https://localhost:8080/",
     "height": 54
    },
    "colab_type": "code",
    "id": "ubueXR4Ddn9v",
    "outputId": "6fe268c3-e72a-4e4f-9532-b8076fa79711"
   },
   "outputs": [
    {
     "data": {
      "text/plain": [
       "Database(MongoClient(host=['localhost:27017'], document_class=dict, tz_aware=False, connect=True), 'stats')"
      ]
     },
     "execution_count": 14,
     "metadata": {},
     "output_type": "execute_result"
    }
   ],
   "source": [
    "client.stats                                # .stats  show details about the client"
   ]
  },
  {
   "cell_type": "markdown",
   "metadata": {
    "colab_type": "text",
    "id": "ReTAwwEuGvpF"
   },
   "source": [
    "# 3. Basic Database management operations"
   ]
  },
  {
   "cell_type": "code",
   "execution_count": 15,
   "metadata": {
    "colab": {
     "base_uri": "https://localhost:8080/",
     "height": 34
    },
    "colab_type": "code",
    "id": "Dp9AHfb8O_ZS",
    "outputId": "1b343c35-67d5-4735-c2d0-b614cd00c786"
   },
   "outputs": [
    {
     "data": {
      "text/plain": [
       "['admin', 'config', 'linh', 'local']"
      ]
     },
     "execution_count": 15,
     "metadata": {},
     "output_type": "execute_result"
    }
   ],
   "source": [
    "# Show existing database names\n",
    "client.list_database_names()"
   ]
  },
  {
   "cell_type": "code",
   "execution_count": 7,
   "metadata": {
    "colab": {},
    "colab_type": "code",
    "id": "QixrK4duFCVu"
   },
   "outputs": [],
   "source": [
    "# Set database name to work with. If it doesn't exist, it will be created as soon as one document is added.\n",
    "db = client.local"
   ]
  },
  {
   "cell_type": "code",
   "execution_count": 18,
   "metadata": {
    "colab": {},
    "colab_type": "code",
    "id": "P0fM8nR5QZsU"
   },
   "outputs": [],
   "source": [
    "# Delete a database\n",
    "# client.drop_database('local')"
   ]
  },
  {
   "cell_type": "markdown",
   "metadata": {
    "colab_type": "text",
    "id": "lyXw-8I8SN6m"
   },
   "source": [
    "# 4. Basic Collection management operations"
   ]
  },
  {
   "cell_type": "code",
   "execution_count": 9,
   "metadata": {
    "colab": {
     "base_uri": "https://localhost:8080/",
     "height": 54
    },
    "colab_type": "code",
    "id": "A36LiAA5SBCc",
    "outputId": "30107cb9-a19e-4a06-fee0-364fa2826d39"
   },
   "outputs": [
    {
     "data": {
      "text/plain": [
       "Collection(Database(MongoClient(host=['localhost:27017'], document_class=dict, tz_aware=False, connect=True), 'local'), 'adressbook')"
      ]
     },
     "execution_count": 9,
     "metadata": {},
     "output_type": "execute_result"
    }
   ],
   "source": [
    "# Create a new collection. We can create the collection or leave to MongoDB to create it as soon as a document is generated.\n",
    "db.create_collection('adressbook')       # Optional collection creation "
   ]
  },
  {
   "cell_type": "code",
   "execution_count": 12,
   "metadata": {
    "colab": {
     "base_uri": "https://localhost:8080/",
     "height": 170
    },
    "colab_type": "code",
    "id": "yPp8ExezHvhJ",
    "outputId": "68e050e9-f1f1-45ce-de0d-e5a577cd1b67"
   },
   "outputs": [
    {
     "data": {
      "text/plain": [
       "[{'name': 'startup_log',\n",
       "  'type': 'collection',\n",
       "  'options': {'capped': True, 'size': 10485760},\n",
       "  'info': {'readOnly': False,\n",
       "   'uuid': UUID('8dc84e3f-b0f7-4cd5-aa28-6d5aa9b2f3cc')},\n",
       "  'idIndex': {'v': 2, 'key': {'_id': 1}, 'name': '_id_'}},\n",
       " {'name': 'adressbook',\n",
       "  'type': 'collection',\n",
       "  'options': {},\n",
       "  'info': {'readOnly': False,\n",
       "   'uuid': UUID('b19b1f29-1648-438f-b7db-fb584f22c14e')},\n",
       "  'idIndex': {'v': 2, 'key': {'_id': 1}, 'name': '_id_'}}]"
      ]
     },
     "execution_count": 12,
     "metadata": {},
     "output_type": "execute_result"
    }
   ],
   "source": [
    "# Show Collections. Query returns a Cursor [ ] ,  list it to see the content\n",
    "list (db.list_collections())\n",
    "# empty list '[]' means that there are not collections in database"
   ]
  },
  {
   "cell_type": "code",
   "execution_count": 11,
   "metadata": {
    "colab": {
     "base_uri": "https://localhost:8080/",
     "height": 34
    },
    "colab_type": "code",
    "id": "v81uy9ySFCV5",
    "outputId": "103f58f9-b84e-41aa-e645-1a107dd93e3a"
   },
   "outputs": [
    {
     "data": {
      "text/plain": [
       "[{'_id': ObjectId('632953a1fee4954d8484c84a'), 'name': 'jordi'}]"
      ]
     },
     "execution_count": 11,
     "metadata": {},
     "output_type": "execute_result"
    }
   ],
   "source": [
    "# Set the collection to work with\n",
    "collection = db.adressbook\n",
    "collection.insert_one({'name' : 'jordi'})     # Insert one item to create the collection\n",
    "list (collection.find())                  # Show the existing collections"
   ]
  },
  {
   "cell_type": "code",
   "execution_count": 19,
   "metadata": {
    "colab": {},
    "colab_type": "code",
    "id": "_LDPtPcFTPC0"
   },
   "outputs": [
    {
     "data": {
      "text/plain": [
       "[{'name': 'startup_log',\n",
       "  'type': 'collection',\n",
       "  'options': {'capped': True, 'size': 10485760},\n",
       "  'info': {'readOnly': False,\n",
       "   'uuid': UUID('8dc84e3f-b0f7-4cd5-aa28-6d5aa9b2f3cc')},\n",
       "  'idIndex': {'v': 2, 'key': {'_id': 1}, 'name': '_id_'}},\n",
       " {'name': 'addressbook',\n",
       "  'type': 'collection',\n",
       "  'options': {},\n",
       "  'info': {'readOnly': False,\n",
       "   'uuid': UUID('b19b1f29-1648-438f-b7db-fb584f22c14e')},\n",
       "  'idIndex': {'v': 2, 'key': {'_id': 1}, 'name': '_id_'}}]"
      ]
     },
     "execution_count": 19,
     "metadata": {},
     "output_type": "execute_result"
    }
   ],
   "source": [
    "# Rename a collections\n",
    "db.adressbook.rename('addressbook')\n",
    "collection = db.addressbook                   # Set the collection to work with\n",
    "list (db.list_collections())                  # Show the existing collections"
   ]
  },
  {
   "cell_type": "code",
   "execution_count": 20,
   "metadata": {
    "colab": {},
    "colab_type": "code",
    "id": "auhUMnXQHng8"
   },
   "outputs": [
    {
     "data": {
      "text/plain": [
       "{'nIndexesWas': 1, 'ns': 'local.addressbook', 'ok': 1.0}"
      ]
     },
     "execution_count": 20,
     "metadata": {},
     "output_type": "execute_result"
    }
   ],
   "source": [
    "# Delete collection\n",
    "db.drop_collection('addressbook')"
   ]
  },
  {
   "cell_type": "markdown",
   "metadata": {
    "colab_type": "text",
    "id": "FVB8FcgQz8ok"
   },
   "source": [
    "# 5. Basic Collection operations"
   ]
  },
  {
   "cell_type": "markdown",
   "metadata": {
    "colab_type": "text",
    "id": "R5Xe4Qg6G-iu"
   },
   "source": [
    "## 5.1 Query Operators - Create Read Update Delete  (one document)"
   ]
  },
  {
   "cell_type": "markdown",
   "metadata": {
    "colab_type": "text",
    "id": "oseJcRsuCr62"
   },
   "source": [
    "### 5.1.1 Create a document with:  insert_one()"
   ]
  },
  {
   "cell_type": "markdown",
   "metadata": {
    "colab_type": "text",
    "id": "sHEjFxlnpNjH"
   },
   "source": [
    "To insert a document can be done using: insert_one and JavaScript notation  { 'attributeName1'  :  'content1', 'attributeName2'  :  'content2', ... }\n"
   ]
  },
  {
   "cell_type": "code",
   "execution_count": 22,
   "metadata": {
    "cellView": "form",
    "colab": {},
    "colab_type": "code",
    "id": "y5TvGradhcu6"
   },
   "outputs": [],
   "source": [
    "#@title Contact\n",
    "\n",
    "Name = \"Jordi \" #@param {type:\"string\"}\n",
    "Age = 34 #@param {type:\"slider\", min:10, max:80, step:1}\n",
    "Gender = \"Male\" #@param [\"Male\", \"Female\"]\n",
    "Likes_Python = \"Yes\" #@param [\"Yes\", \"No\"]\n",
    "if Likes_Python == \"Yes\":\n",
    "  Likes_Python = True\n",
    "else:\n",
    "  Likes_Python = False\n",
    "\n",
    "\n",
    "#@markdown Address\n",
    "Street = \"Torrent de l'Olla\" #@param {type:\"string\"}\n",
    "Number = 70 #@param {type:\"integer\"}\n",
    "City = \"Barcelona\" #@param {type:\"string\"}\n",
    "PostalCode = \"08012\" #@param {type:\"string\"}"
   ]
  },
  {
   "cell_type": "code",
   "execution_count": 23,
   "metadata": {
    "colab": {},
    "colab_type": "code",
    "id": "PWDCx-V20Quk"
   },
   "outputs": [],
   "source": [
    "data = {  'name' : Name ,                                    # String \n",
    "          'age' : Age,                                       # Integer\n",
    "          'gender' : Gender,                                 # String \n",
    "          'likes_python' : Likes_Python,                     # Boolean\n",
    "          'address': {\n",
    "              'street' : Street,                             # String ( special character with escape \\ )\n",
    "              'number' : Number,                             # Integer\n",
    "              'city' : City,                                 # String \n",
    "              'floor' : None,                                # Null \n",
    "              'postalcode' : PostalCode,                     # String containing a number\n",
    "              },\n",
    "          'favouriteFruits': ['banana','pineapple','orange'] # Array        \n",
    "       }\n",
    "\n",
    "insert_result = collection.insert_one( data)"
   ]
  },
  {
   "cell_type": "code",
   "execution_count": 24,
   "metadata": {
    "colab": {
     "base_uri": "https://localhost:8080/",
     "height": 34
    },
    "colab_type": "code",
    "id": "BpNu_5ic6J1m",
    "outputId": "58dab69a-a07e-4a59-beac-85862b1c2a60"
   },
   "outputs": [
    {
     "data": {
      "text/plain": [
       "True"
      ]
     },
     "execution_count": 24,
     "metadata": {},
     "output_type": "execute_result"
    }
   ],
   "source": [
    "insert_result.acknowledged    # Confirms that insert is successful"
   ]
  },
  {
   "cell_type": "code",
   "execution_count": 25,
   "metadata": {
    "colab": {
     "base_uri": "https://localhost:8080/",
     "height": 34
    },
    "colab_type": "code",
    "id": "gg370PIV6UZa",
    "outputId": "730b555c-97b7-4736-b6f2-3621c3bb38c4"
   },
   "outputs": [
    {
     "data": {
      "text/plain": [
       "ObjectId('63295491fee4954d8484c84c')"
      ]
     },
     "execution_count": 25,
     "metadata": {},
     "output_type": "execute_result"
    }
   ],
   "source": [
    "insert_result.inserted_id     # Shows the document ID "
   ]
  },
  {
   "cell_type": "markdown",
   "metadata": {
    "colab_type": "text",
    "id": "sDpl7VnP1VWG"
   },
   "source": [
    "### 5.1.2 Read document with:  find()"
   ]
  },
  {
   "cell_type": "markdown",
   "metadata": {
    "colab_type": "text",
    "id": "MZvVOfqh5_hv"
   },
   "source": [
    "To read a document can be done using: find and JavaScript notation  {  'attribute1 containing the key'  :  'key1 to find' }\n"
   ]
  },
  {
   "cell_type": "code",
   "execution_count": 26,
   "metadata": {
    "colab": {
     "base_uri": "https://localhost:8080/",
     "height": 221
    },
    "colab_type": "code",
    "id": "LNhnVqL7C6L5",
    "outputId": "cd60575e-e0de-4c3d-fcac-588e4e143753"
   },
   "outputs": [
    {
     "data": {
      "text/plain": [
       "[{'_id': ObjectId('63295491fee4954d8484c84c'),\n",
       "  'name': 'Jordi ',\n",
       "  'age': 34,\n",
       "  'gender': 'Male',\n",
       "  'likes_python': True,\n",
       "  'address': {'street': \"Torrent de l'Olla\",\n",
       "   'number': 70,\n",
       "   'city': 'Barcelona',\n",
       "   'floor': None,\n",
       "   'postalcode': '08012'},\n",
       "  'favouriteFruits': ['banana', 'pineapple', 'orange']}]"
      ]
     },
     "execution_count": 26,
     "metadata": {},
     "output_type": "execute_result"
    }
   ],
   "source": [
    "list ( collection.find() )                                      # gets all data of collection"
   ]
  },
  {
   "cell_type": "code",
   "execution_count": 27,
   "metadata": {
    "colab": {
     "base_uri": "https://localhost:8080/",
     "height": 204
    },
    "colab_type": "code",
    "id": "0OEJIWqw6hkw",
    "outputId": "b531b0c1-0c0d-4643-e404-226e8df49c33"
   },
   "outputs": [
    {
     "data": {
      "text/plain": [
       "[{'_id': ObjectId('63295491fee4954d8484c84c'),\n",
       "  'name': 'Jordi ',\n",
       "  'age': 34,\n",
       "  'gender': 'Male',\n",
       "  'likes_python': True,\n",
       "  'address': {'street': \"Torrent de l'Olla\",\n",
       "   'number': 70,\n",
       "   'city': 'Barcelona',\n",
       "   'floor': None,\n",
       "   'postalcode': '08012'},\n",
       "  'favouriteFruits': ['banana', 'pineapple', 'orange']}]"
      ]
     },
     "execution_count": 27,
     "metadata": {},
     "output_type": "execute_result"
    }
   ],
   "source": [
    "list ( collection.find( {'_id' : insert_result.inserted_id } ))  # Find the inserted document using the objectID"
   ]
  },
  {
   "cell_type": "code",
   "execution_count": 28,
   "metadata": {
    "colab": {
     "base_uri": "https://localhost:8080/",
     "height": 204
    },
    "colab_type": "code",
    "id": "Rpy9H1SZ_eA0",
    "outputId": "97cbf45c-5cfb-48e8-d4d6-c5de824a6a9e"
   },
   "outputs": [
    {
     "data": {
      "text/plain": [
       "[{'_id': ObjectId('63295491fee4954d8484c84c'),\n",
       "  'name': 'Jordi ',\n",
       "  'age': 34,\n",
       "  'gender': 'Male',\n",
       "  'likes_python': True,\n",
       "  'address': {'street': \"Torrent de l'Olla\",\n",
       "   'number': 70,\n",
       "   'city': 'Barcelona',\n",
       "   'floor': None,\n",
       "   'postalcode': '08012'},\n",
       "  'favouriteFruits': ['banana', 'pineapple', 'orange']}]"
      ]
     },
     "execution_count": 28,
     "metadata": {},
     "output_type": "execute_result"
    }
   ],
   "source": [
    "list ( collection.find( {'name' : Name } ))                     # find, can use one key or more "
   ]
  },
  {
   "cell_type": "code",
   "execution_count": 29,
   "metadata": {
    "colab": {
     "base_uri": "https://localhost:8080/",
     "height": 204
    },
    "colab_type": "code",
    "id": "G2AAmVJcr1iz",
    "outputId": "ac0d4c9d-42c5-4210-b029-452dd75bd059"
   },
   "outputs": [
    {
     "data": {
      "text/plain": [
       "[{'_id': ObjectId('63295491fee4954d8484c84c'),\n",
       "  'name': 'Jordi ',\n",
       "  'age': 34,\n",
       "  'gender': 'Male',\n",
       "  'likes_python': True,\n",
       "  'address': {'street': \"Torrent de l'Olla\",\n",
       "   'number': 70,\n",
       "   'city': 'Barcelona',\n",
       "   'floor': None,\n",
       "   'postalcode': '08012'},\n",
       "  'favouriteFruits': ['banana', 'pineapple', 'orange']}]"
      ]
     },
     "execution_count": 29,
     "metadata": {},
     "output_type": "execute_result"
    }
   ],
   "source": [
    "list ( collection.find( {'address.city' : City } ))             # find, can use one key or more "
   ]
  },
  {
   "cell_type": "code",
   "execution_count": 30,
   "metadata": {
    "colab": {
     "base_uri": "https://localhost:8080/",
     "height": 34
    },
    "colab_type": "code",
    "id": "MDKSxbQQepBs",
    "outputId": "8b6e26af-daa0-4f66-a917-c06fb8f417fa"
   },
   "outputs": [
    {
     "data": {
      "text/plain": [
       "[{'_id': ObjectId('63295491fee4954d8484c84c'),\n",
       "  'name': 'Jordi ',\n",
       "  'age': 34,\n",
       "  'gender': 'Male',\n",
       "  'likes_python': True,\n",
       "  'address': {'street': \"Torrent de l'Olla\",\n",
       "   'number': 70,\n",
       "   'city': 'Barcelona',\n",
       "   'floor': None,\n",
       "   'postalcode': '08012'},\n",
       "  'favouriteFruits': ['banana', 'pineapple', 'orange']}]"
      ]
     },
     "execution_count": 30,
     "metadata": {},
     "output_type": "execute_result"
    }
   ],
   "source": [
    "list ( collection.find().limit(1) )                             # gets a Limited set of documents"
   ]
  },
  {
   "cell_type": "code",
   "execution_count": 31,
   "metadata": {
    "colab": {
     "base_uri": "https://localhost:8080/",
     "height": 204
    },
    "colab_type": "code",
    "id": "hgbLrIeug1MX",
    "outputId": "497588fd-304e-4f09-eb85-cbea3c9327bc"
   },
   "outputs": [
    {
     "data": {
      "text/plain": [
       "[]"
      ]
     },
     "execution_count": 31,
     "metadata": {},
     "output_type": "execute_result"
    }
   ],
   "source": [
    "list ( collection.find().skip(1) )                              # gets all documents skipping first"
   ]
  },
  {
   "cell_type": "markdown",
   "metadata": {
    "colab_type": "text",
    "id": "cpMUuvEE1oIJ"
   },
   "source": [
    "### 5.1.3 Update a document with:  update_one()"
   ]
  },
  {
   "cell_type": "code",
   "execution_count": 32,
   "metadata": {
    "colab": {
     "base_uri": "https://localhost:8080/",
     "height": 204
    },
    "colab_type": "code",
    "id": "g6CguWd411Fe",
    "outputId": "85bd296c-725f-440a-91bc-98c2c3d947ec"
   },
   "outputs": [
    {
     "data": {
      "text/plain": [
       "[{'_id': ObjectId('63295491fee4954d8484c84c'),\n",
       "  'name': 'Jordi ',\n",
       "  'age': 30,\n",
       "  'gender': 'Male',\n",
       "  'likes_python': True,\n",
       "  'address': {'street': \"Torrent de l'Olla\",\n",
       "   'number': 70,\n",
       "   'city': 'Barcelona',\n",
       "   'floor': None,\n",
       "   'postalcode': '08012'},\n",
       "  'favouriteFruits': ['banana', 'pineapple', 'orange']}]"
      ]
     },
     "execution_count": 32,
     "metadata": {},
     "output_type": "execute_result"
    }
   ],
   "source": [
    "## Update an existing document\n",
    "update_result = collection.update_one( \n",
    "    {'name' : Name}, \n",
    "    {'$set' : { 'age' : 30 }} ) \n",
    "\n",
    "list (collection.find( {'name' : Name } ))\n",
    "\n",
    "# Alternative : collection.find_one_and_update( {'name' : Name}, {'$set' : { 'age' : 30 }} ) "
   ]
  },
  {
   "cell_type": "code",
   "execution_count": 33,
   "metadata": {
    "colab": {
     "base_uri": "https://localhost:8080/",
     "height": 187
    },
    "colab_type": "code",
    "id": "yFwE-Z-E8ENV",
    "outputId": "3012afc6-de64-4f6c-a5b6-18e2f5498123"
   },
   "outputs": [
    {
     "data": {
      "text/plain": [
       "{'n': 1, 'nModified': 1, 'ok': 1.0, 'updatedExisting': True}"
      ]
     },
     "execution_count": 33,
     "metadata": {},
     "output_type": "execute_result"
    }
   ],
   "source": [
    "update_result.raw_result"
   ]
  },
  {
   "cell_type": "code",
   "execution_count": 34,
   "metadata": {
    "colab": {
     "base_uri": "https://localhost:8080/",
     "height": 68
    },
    "colab_type": "code",
    "id": "taXdk9u58WVc",
    "outputId": "1396ba20-fd17-47ab-f7fe-9d00ee96eee6"
   },
   "outputs": [
    {
     "data": {
      "text/plain": [
       "[{'_id': ObjectId('632954a794c8b8c03ee7f5f5'),\n",
       "  'name': 'Javi Gonzalez',\n",
       "  'age': 30}]"
      ]
     },
     "execution_count": 34,
     "metadata": {},
     "output_type": "execute_result"
    }
   ],
   "source": [
    "## Insert a new document with update, will avoid to crash during insert if document already exist\n",
    "insert_result = collection.update_one( {'name' : 'Javi Gonzalez'}, {'$set' : { 'age' : 30 }}, upsert= True )\n",
    "list (collection.find( {'name' : 'Javi Gonzalez'} ))"
   ]
  },
  {
   "cell_type": "code",
   "execution_count": 35,
   "metadata": {
    "colab": {
     "base_uri": "https://localhost:8080/",
     "height": 34
    },
    "colab_type": "code",
    "id": "ogsKmIUK8xZ6",
    "outputId": "652c8cf1-d36f-4516-a75c-53bc35e62baa"
   },
   "outputs": [
    {
     "data": {
      "text/plain": [
       "True"
      ]
     },
     "execution_count": 35,
     "metadata": {},
     "output_type": "execute_result"
    }
   ],
   "source": [
    "update_result.acknowledged"
   ]
  },
  {
   "cell_type": "markdown",
   "metadata": {
    "colab_type": "text",
    "id": "7RcNmDunUN4a"
   },
   "source": [
    "### 5.1.4 Delete a document with:  delete_one()"
   ]
  },
  {
   "cell_type": "code",
   "execution_count": 36,
   "metadata": {
    "colab": {},
    "colab_type": "code",
    "id": "4P-hs1KYTkSE"
   },
   "outputs": [],
   "source": [
    "delete = collection.delete_one({'name': 'Javi Gonzalez'})"
   ]
  },
  {
   "cell_type": "code",
   "execution_count": 37,
   "metadata": {
    "colab": {
     "base_uri": "https://localhost:8080/",
     "height": 34
    },
    "colab_type": "code",
    "id": "kTkAUmagmirT",
    "outputId": "8818b39a-35fa-4995-9b01-183bf7ddfebe"
   },
   "outputs": [
    {
     "data": {
      "text/plain": [
       "1"
      ]
     },
     "execution_count": 37,
     "metadata": {},
     "output_type": "execute_result"
    }
   ],
   "source": [
    "delete.deleted_count   # informs that 1 document has been deleted"
   ]
  },
  {
   "cell_type": "code",
   "execution_count": 38,
   "metadata": {
    "colab": {
     "base_uri": "https://localhost:8080/",
     "height": 34
    },
    "colab_type": "code",
    "id": "4KW9g0CK9cSQ",
    "outputId": "9bd1d35e-1e40-4cbe-9ba8-cd1ce54b75f2"
   },
   "outputs": [
    {
     "data": {
      "text/plain": [
       "<pymongo.results.DeleteResult at 0x23596b04a40>"
      ]
     },
     "execution_count": 38,
     "metadata": {},
     "output_type": "execute_result"
    }
   ],
   "source": [
    "collection.delete_one({'name': Name})"
   ]
  },
  {
   "cell_type": "markdown",
   "metadata": {
    "colab_type": "text",
    "id": "-_XeMAc99y0M"
   },
   "source": [
    "## 5.2 Create Read Update Delete  (many document)"
   ]
  },
  {
   "cell_type": "markdown",
   "metadata": {
    "colab_type": "text",
    "id": "KlWjFIiJ-zik"
   },
   "source": [
    "### 5.2.1 Create a document with:  insert_many()"
   ]
  },
  {
   "cell_type": "markdown",
   "metadata": {
    "colab_type": "text",
    "id": "COlmggkW-wPt"
   },
   "source": [
    "To insert many documents can be done using: insert_many and JavaScript notation  { 'attributeDocument1'  :  'content1' } , { 'attributeDocument2'  :  'content2'},{ ... }"
   ]
  },
  {
   "cell_type": "code",
   "execution_count": 39,
   "metadata": {
    "colab": {
     "base_uri": "https://localhost:8080/",
     "height": 34
    },
    "colab_type": "code",
    "id": "E4jl1K7t98Io",
    "outputId": "dfb6c482-5774-4ccb-f90c-3d230f47cb7a"
   },
   "outputs": [
    {
     "data": {
      "text/plain": [
       "<pymongo.results.InsertManyResult at 0x23595affe40>"
      ]
     },
     "execution_count": 39,
     "metadata": {},
     "output_type": "execute_result"
    }
   ],
   "source": [
    "import datetime\n",
    "collection.insert_many(  [                          # <---- start a list with [\n",
    "##  Insert Document 1\n",
    "  {\n",
    "  'name': 'Jordi Gonzalez',\n",
    "  'age': 25,\n",
    "  'likes_python': True,\n",
    "  'registered': datetime.datetime(2015, 2, 11, 4, 22, 39),\n",
    "  'address': {\n",
    "      'street': 'Torrent de l\\'Olla',\n",
    "      'number': 70,\n",
    "      'floor': None,\n",
    "      'city': 'Barcelona',\n",
    "      'postalCode': '08012'\n",
    "             },\n",
    "  'height':  1.72,\n",
    "  'favouriteFruits': ['banana','pineapple','orange']\n",
    "  },\n",
    "\n",
    "##  Insert Document 2\n",
    "  {\n",
    "  'name': 'Maria Smith',\n",
    "  'age': 30,\n",
    "  'likes_python': True,\n",
    "  'registered': datetime.datetime(2016, 4, 23, 7, 34, 12),\n",
    "  'address': {\n",
    "      'street': 'Numancia',\n",
    "                                                     ##  missing number\n",
    "                                                     ##  missing floor\n",
    "      'city': 'Barcelona',\n",
    "      'postalCode': '08029'\n",
    "             },\n",
    "  'height':  1.56,\n",
    "  'favouriteFruits': ['lemon','pineapple']\n",
    "  }\n",
    "  ]   )                                                   # <---- finalize the list ] "
   ]
  },
  {
   "cell_type": "markdown",
   "metadata": {
    "colab_type": "text",
    "id": "Qo2iHN59ABf4"
   },
   "source": [
    "### 5.2.2 Read many documents with:  find()"
   ]
  },
  {
   "cell_type": "markdown",
   "metadata": {
    "colab_type": "text",
    "id": "qTMRRStMABgH"
   },
   "source": [
    "To read a document can be done using: find and JavaScript notation  {  'attribute1 containing the key'  :  'key1 to find' }\n"
   ]
  },
  {
   "cell_type": "code",
   "execution_count": 40,
   "metadata": {
    "colab": {
     "base_uri": "https://localhost:8080/",
     "height": 391
    },
    "colab_type": "code",
    "id": "ka-1_6poABgS",
    "outputId": "c9d39a7f-da75-421b-f2bc-c437a240214e"
   },
   "outputs": [
    {
     "data": {
      "text/plain": [
       "[{'_id': ObjectId('632954b0fee4954d8484c84d'),\n",
       "  'name': 'Jordi Gonzalez',\n",
       "  'age': 25,\n",
       "  'likes_python': True,\n",
       "  'registered': datetime.datetime(2015, 2, 11, 4, 22, 39),\n",
       "  'address': {'street': \"Torrent de l'Olla\",\n",
       "   'number': 70,\n",
       "   'floor': None,\n",
       "   'city': 'Barcelona',\n",
       "   'postalCode': '08012'},\n",
       "  'height': 1.72,\n",
       "  'favouriteFruits': ['banana', 'pineapple', 'orange']},\n",
       " {'_id': ObjectId('632954b0fee4954d8484c84e'),\n",
       "  'name': 'Maria Smith',\n",
       "  'age': 30,\n",
       "  'likes_python': True,\n",
       "  'registered': datetime.datetime(2016, 4, 23, 7, 34, 12),\n",
       "  'address': {'street': 'Numancia',\n",
       "   'city': 'Barcelona',\n",
       "   'postalCode': '08029'},\n",
       "  'height': 1.56,\n",
       "  'favouriteFruits': ['lemon', 'pineapple']}]"
      ]
     },
     "execution_count": 40,
     "metadata": {},
     "output_type": "execute_result"
    }
   ],
   "source": [
    "list ( collection.find( {'$or': [ {'name': 'Jordi Gonzalez'},{'name': 'Maria Smith'} ]}))        # find "
   ]
  },
  {
   "cell_type": "markdown",
   "metadata": {
    "colab_type": "text",
    "id": "0KAltbIoFB7n"
   },
   "source": [
    "### 5.2.3 Update many documents with:  update_many()"
   ]
  },
  {
   "cell_type": "code",
   "execution_count": 41,
   "metadata": {
    "colab": {
     "base_uri": "https://localhost:8080/",
     "height": 408
    },
    "colab_type": "code",
    "id": "rh46eDULFB77",
    "outputId": "b412f0f6-3a6f-4f68-ceba-2904692dc913"
   },
   "outputs": [
    {
     "data": {
      "text/plain": [
       "[{'_id': ObjectId('632954b0fee4954d8484c84d'),\n",
       "  'name': 'Jordi Gonzalez',\n",
       "  'age': 25,\n",
       "  'likes_python': True,\n",
       "  'registered': datetime.datetime(2015, 2, 11, 4, 22, 39),\n",
       "  'address': {'street': \"Torrent de l'Olla\",\n",
       "   'number': 70,\n",
       "   'floor': None,\n",
       "   'city': 'Barcelona',\n",
       "   'postalCode': '08012'},\n",
       "  'height': 1.72,\n",
       "  'favouriteFruits': ['banana', 'pineapple', 'orange']},\n",
       " {'_id': ObjectId('632954b0fee4954d8484c84e'),\n",
       "  'name': 'Maria Smith',\n",
       "  'age': 30,\n",
       "  'likes_python': True,\n",
       "  'registered': datetime.datetime(2016, 4, 23, 7, 34, 12),\n",
       "  'address': {'street': 'Numancia',\n",
       "   'city': 'Barcelona',\n",
       "   'postalCode': '08029'},\n",
       "  'height': 1.56,\n",
       "  'favouriteFruits': ['lemon', 'pineapple']}]"
      ]
     },
     "execution_count": 41,
     "metadata": {},
     "output_type": "execute_result"
    }
   ],
   "source": [
    "collection.update_many( {'isActive': True }, {'$set' : { 'isActive': False }} )\n",
    "list (collection.find( ))                                  # List all documents"
   ]
  },
  {
   "cell_type": "markdown",
   "metadata": {
    "colab_type": "text",
    "id": "pmjc4qMBFB8i"
   },
   "source": [
    "###5.2.4 Delete many documents with:  delete_many()"
   ]
  },
  {
   "cell_type": "code",
   "execution_count": 42,
   "metadata": {
    "colab": {
     "base_uri": "https://localhost:8080/",
     "height": 34
    },
    "colab_type": "code",
    "id": "QPwUlKMkUJyi",
    "outputId": "68f610fc-cf46-492d-a98c-7300d33780ff"
   },
   "outputs": [
    {
     "data": {
      "text/plain": [
       "[]"
      ]
     },
     "execution_count": 42,
     "metadata": {},
     "output_type": "execute_result"
    }
   ],
   "source": [
    "delete = collection.delete_many({'likes_python': True})    # deletes as many documents as the filter\n",
    "list (collection.find( ))                                  # List all documents"
   ]
  },
  {
   "cell_type": "code",
   "execution_count": 43,
   "metadata": {
    "colab": {
     "base_uri": "https://localhost:8080/",
     "height": 34
    },
    "colab_type": "code",
    "id": "mF8jFSc4m44q",
    "outputId": "db765b79-dbeb-4844-bf7e-f9327442d2fe"
   },
   "outputs": [
    {
     "data": {
      "text/plain": [
       "2"
      ]
     },
     "execution_count": 43,
     "metadata": {},
     "output_type": "execute_result"
    }
   ],
   "source": [
    "delete.deleted_count   # items deleted"
   ]
  },
  {
   "cell_type": "code",
   "execution_count": null,
   "metadata": {},
   "outputs": [],
   "source": []
  }
 ],
 "metadata": {
  "colab": {
   "collapsed_sections": [],
   "include_colab_link": true,
   "name": "1.1_First_steps_with_MongoDB-PyMongo.ipynb",
   "provenance": []
  },
  "kernelspec": {
   "display_name": "Python 3",
   "language": "python",
   "name": "python3"
  },
  "language_info": {
   "codemirror_mode": {
    "name": "ipython",
    "version": 3
   },
   "file_extension": ".py",
   "mimetype": "text/x-python",
   "name": "python",
   "nbconvert_exporter": "python",
   "pygments_lexer": "ipython3",
   "version": "3.8.3"
  }
 },
 "nbformat": 4,
 "nbformat_minor": 4
}
