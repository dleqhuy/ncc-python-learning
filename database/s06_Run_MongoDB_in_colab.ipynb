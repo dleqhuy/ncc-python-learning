{
 "cells": [
  {
   "cell_type": "markdown",
   "metadata": {
    "colab_type": "text",
    "id": "view-in-github"
   },
   "source": [
    "<a href=\"https://colab.research.google.com/github/Giffy/MongoDB_PyMongo_Tutorial/blob/master/1_Run_MongoDB_in_colab.ipynb\" target=\"_parent\"><img src=\"https://colab.research.google.com/assets/colab-badge.svg\" alt=\"Open In Colab\"/></a>"
   ]
  },
  {
   "cell_type": "markdown",
   "metadata": {
    "colab_type": "text",
    "id": "kOmt80VpVa2W"
   },
   "source": [
    "# Introduction to MongoDB"
   ]
  },
  {
   "cell_type": "markdown",
   "metadata": {
    "colab_type": "text",
    "id": "nvKR9mh7Vkun"
   },
   "source": [
    "MongoDB is a free and open-source database program, developed by [MongoDB Inc](https://www.mongodb.com/). \n",
    "Latest stable release is the 4.0.0  ( 21 June 2018 ), [here](https://www.mongodb.com/download-center#community) download the MongoDB community server."
   ]
  },
  {
   "cell_type": "markdown",
   "metadata": {
    "colab_type": "text",
    "id": "vM6ta952S2z2"
   },
   "source": [
    "# Installing MongoDB in Google Colab"
   ]
  },
  {
   "cell_type": "markdown",
   "metadata": {
    "colab_type": "text",
    "id": "oy8y1i4jl-Ce"
   },
   "source": [
    "Now, we are going to install MongoDB server in Google Colab with educative purpose.<br>\n",
    "Be aware that **all data will be deleted after 12 hours**.\n",
    "\n",
    "If you need a persistent MongoDB server, you need to install it locally, download MongoDB community server (free) from [here](http://www.google.com/search?q=mongodb+download+community+server&btnI) \n"
   ]
  },
  {
   "cell_type": "code",
   "execution_count": 1,
   "metadata": {
    "colab": {
     "base_uri": "https://localhost:8080/",
     "height": 503
    },
    "colab_type": "code",
    "id": "d_W8Zhl_nYBA",
    "outputId": "18864558-03c0-40bb-b7ce-722c94e366d0"
   },
   "outputs": [
    {
     "name": "stdout",
     "output_type": "stream",
     "text": [
      "--2018-11-21 09:02:04--  https://fastdl.mongodb.org/linux/mongodb-linux-x86_64-debian71-3.0.15.tgz\n",
      "Resolving fastdl.mongodb.org (fastdl.mongodb.org)... 13.32.80.44, 13.32.80.42, 13.32.80.81, ...\n",
      "Connecting to fastdl.mongodb.org (fastdl.mongodb.org)|13.32.80.44|:443... connected.\n",
      "HTTP request sent, awaiting response... 200 OK\n",
      "Length: 70878938 (68M) [application/x-gzip]\n",
      "Saving to: ‘mongodb-linux-x86_64-debian71-3.0.15.tgz’\n",
      "\n",
      "mongodb-linux-x86_6 100%[===================>]  67.59M  23.8MB/s    in 2.8s    \n",
      "\n",
      "2018-11-21 09:02:07 (23.8 MB/s) - ‘mongodb-linux-x86_64-debian71-3.0.15.tgz’ saved [70878938/70878938]\n",
      "\n",
      "mongodb-linux-x86_64-debian71-3.0.15/README\n",
      "mongodb-linux-x86_64-debian71-3.0.15/THIRD-PARTY-NOTICES\n",
      "mongodb-linux-x86_64-debian71-3.0.15/GNU-AGPL-3.0\n",
      "mongodb-linux-x86_64-debian71-3.0.15/bin/mongodump\n",
      "mongodb-linux-x86_64-debian71-3.0.15/bin/mongorestore\n",
      "mongodb-linux-x86_64-debian71-3.0.15/bin/mongoexport\n",
      "mongodb-linux-x86_64-debian71-3.0.15/bin/mongoimport\n",
      "mongodb-linux-x86_64-debian71-3.0.15/bin/mongostat\n",
      "mongodb-linux-x86_64-debian71-3.0.15/bin/mongotop\n",
      "mongodb-linux-x86_64-debian71-3.0.15/bin/bsondump\n",
      "mongodb-linux-x86_64-debian71-3.0.15/bin/mongofiles\n",
      "mongodb-linux-x86_64-debian71-3.0.15/bin/mongooplog\n",
      "mongodb-linux-x86_64-debian71-3.0.15/bin/mongoperf\n",
      "mongodb-linux-x86_64-debian71-3.0.15/bin/mongosniff\n",
      "mongodb-linux-x86_64-debian71-3.0.15/bin/mongod\n",
      "mongodb-linux-x86_64-debian71-3.0.15/bin/mongos\n",
      "mongodb-linux-x86_64-debian71-3.0.15/bin/mongo\n"
     ]
    }
   ],
   "source": [
    "# MongoDB download and installation\n",
    "!wget https://fastdl.mongodb.org/linux/mongodb-linux-x86_64-debian71-3.0.15.tgz  # Downloads MongoDB from official repository\n",
    "!tar xfv mongodb-linux-x86_64-debian71-3.0.15.tgz     # Unpack compressed file\n",
    "!rm mongodb-linux-x86_64-debian71-3.0.15.tgz          # Removes downloaded file\n",
    "\n",
    "# Default location of database is \"/data/db\" folder  \n",
    "!mkdir /data                                          # data folder creation \n",
    "!mkdir /data/db                                       # db folder creation inside data"
   ]
  },
  {
   "cell_type": "code",
   "execution_count": null,
   "metadata": {
    "colab": {
     "base_uri": "https://localhost:8080/",
     "height": 453
    },
    "colab_type": "code",
    "id": "fYbMpReoBlQj",
    "outputId": "59d86669-aa5c-40c6-c25d-cf57b28f1606"
   },
   "outputs": [
    {
     "name": "stdout",
     "output_type": "stream",
     "text": [
      "2018-11-21T09:02:23.871+0000 I CONTROL  [initandlisten] MongoDB starting : pid=93 port=27017 dbpath=/data/db 64-bit host=fd01700e24fc\n",
      "2018-11-21T09:02:23.871+0000 I CONTROL  [initandlisten] db version v3.0.15\n",
      "2018-11-21T09:02:23.871+0000 I CONTROL  [initandlisten] git version: b8ff507269c382bc100fc52f75f48d54cd42ec3b\n",
      "2018-11-21T09:02:23.871+0000 I CONTROL  [initandlisten] build info: Linux ip-10-166-66-3 3.2.0-4-amd64 #1 SMP Debian 3.2.46-1 x86_64 BOOST_LIB_VERSION=1_49\n",
      "2018-11-21T09:02:23.871+0000 I CONTROL  [initandlisten] allocator: tcmalloc\n",
      "2018-11-21T09:02:23.871+0000 I CONTROL  [initandlisten] options: { storage: { dbPath: \"/data/db\", journal: { enabled: false } } }\n",
      "2018-11-21T09:02:23.907+0000 I CONTROL  [initandlisten] ** WARNING: You are running this process as the root user, which is not recommended.\n",
      "2018-11-21T09:02:23.907+0000 I CONTROL  [initandlisten] \n",
      "2018-11-21T09:02:23.908+0000 I INDEX    [initandlisten] allocating new ns file /data/db/local.ns, filling with zeroes...\n",
      "2018-11-21T09:02:24.788+0000 I STORAGE  [FileAllocator] allocating new datafile /data/db/local.0, filling with zeroes...\n",
      "2018-11-21T09:02:24.788+0000 I STORAGE  [FileAllocator] creating directory /data/db/_tmp\n",
      "2018-11-21T09:02:24.797+0000 I STORAGE  [FileAllocator] done allocating datafile /data/db/local.0, size: 64MB,  took 0.004 secs\n",
      "2018-11-21T09:02:24.799+0000 I NETWORK  [initandlisten] waiting for connections on port 27017\n",
      "2018-11-21T09:05:08.919+0000 I NETWORK  [initandlisten] connection accepted from 127.0.0.1:43782 #1 (1 connection now open)\n",
      "2018-11-21T09:10:48.218+0000 I NETWORK  [initandlisten] connection accepted from 127.0.0.1:43978 #2 (2 connections now open)\n",
      "2018-11-21T09:10:48.219+0000 I NETWORK  [conn1] end connection 127.0.0.1:43782 (1 connection now open)\n",
      "2018-11-21T09:10:48.257+0000 I NETWORK  [initandlisten] connection accepted from 127.0.0.1:43980 #3 (2 connections now open)\n",
      "2018-11-21T09:10:48.302+0000 I INDEX    [conn3] allocating new ns file /data/db/people.ns, filling with zeroes...\n",
      "2018-11-21T09:10:49.123+0000 I STORAGE  [FileAllocator] allocating new datafile /data/db/people.0, filling with zeroes...\n",
      "2018-11-21T09:10:49.127+0000 I STORAGE  [FileAllocator] done allocating datafile /data/db/people.0, size: 64MB,  took 0.003 secs\n",
      "2018-11-21T09:10:49.129+0000 I COMMAND  [conn3] command people.$cmd command: create { create: \"adressbook\" } keyUpdates:0 writeConflicts:0 numYields:0 reslen:37 locks:{ Global: { acquireCount: { r: 1, w: 1 } }, MMAPV1Journal: { acquireCount: { w: 4 } }, Database: { acquireCount: { W: 1 } }, Metadata: { acquireCount: { W: 4 } } } 827ms\n",
      "2018-11-21T09:10:49.207+0000 I COMMAND  [conn3] CMD: drop people.addressbook\n"
     ]
    }
   ],
   "source": [
    "# Runs mongoDB server\n",
    "!mongodb-linux-x86_64-debian71-3.0.15/bin/mongod --nojournal --dbpath /data/db\n",
    "\n",
    "#!mongodb-linux-x86_64-debian71-3.0.15/bin/mongod --nojournal --port 27017 --dbpath=/data/db --fork --logpath=/data/db/mongodb.log\n",
    "\n",
    "#  --nojournal : disables journal and allows to run Mongo in Colab enviroment (reducing memory usage ) (Warning!!! Journal prevents incompleted data writes and data corruption)\n",
    "#  --port      : defines the port where mongoDB will run\n",
    "#  --dbpath    : defines the location of database folder, by default : /data/db\n",
    "#  --fork      : runs mongoDB in background\n",
    "#  --logpath   : defines the location and name of log file, by default : /data/db/mongodb.log\n",
    "#  --directoryperdb : mongodb will store databases in folder structure\n",
    "#  --wiredTigerDirectoryForIndexes : mongodb will store collections and indexes in folder structure \n",
    "#                                    (allows to create simbolic links and store collections and indexes in independent disks)"
   ]
  },
  {
   "cell_type": "code",
   "execution_count": null,
   "metadata": {
    "colab": {},
    "colab_type": "code",
    "id": "2Tav0v_jBmgV"
   },
   "outputs": [],
   "source": [
    "## Check server stats\n",
    "!mongodb-linux-x86_64-debian71-3.0.15/bin/mongostat"
   ]
  },
  {
   "cell_type": "code",
   "execution_count": null,
   "metadata": {
    "colab": {},
    "colab_type": "code",
    "id": "9nbj7q7wtn42"
   },
   "outputs": [],
   "source": [
    "## Shutdown mongoDB server\n",
    "!mongodb-linux-x86_64-debian71-3.0.15/bin/mongo admin --eval 'db.shutdownServer()'"
   ]
  }
 ],
 "metadata": {
  "colab": {
   "collapsed_sections": [],
   "include_colab_link": true,
   "name": "1_Run_MongoDB_in_colab.ipynb",
   "provenance": [],
   "version": "0.3.2"
  },
  "kernelspec": {
   "display_name": "Python 3",
   "language": "python",
   "name": "python3"
  },
  "language_info": {
   "codemirror_mode": {
    "name": "ipython",
    "version": 3
   },
   "file_extension": ".py",
   "mimetype": "text/x-python",
   "name": "python",
   "nbconvert_exporter": "python",
   "pygments_lexer": "ipython3",
   "version": "3.8.3"
  }
 },
 "nbformat": 4,
 "nbformat_minor": 4
}
