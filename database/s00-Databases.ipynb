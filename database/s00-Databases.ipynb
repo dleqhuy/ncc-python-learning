{
 "cells": [
  {
   "cell_type": "markdown",
   "metadata": {},
   "source": [
    "As a data engineer, it is important to have a solid understanding of database systems in order to effectively design, implement, and maintain the data infrastructure for an organization. Some key things a data engineer should know about database systems include:\n",
    "\n",
    "1. Relational database management systems (RDBMS): Data engineers should be familiar with the concepts and architecture of RDBMS, such as tables, rows, columns, and keys.\n",
    "2. SQL: Data engineers should be proficient in SQL (Structured Query Language) in order to write and execute queries against a database.\n",
    "3. Database design: Data engineers should understand how to design and implement a database schema that is efficient, scalable, and easy to maintain.\n",
    "4. Data modeling: Data engineers should be able to create logical and physical data models to represent the data and its relationships.\n",
    "5. Data normalization: Data engineers should understand the principles of data normalization and how to implement them to avoid data redundancy and improve data integrity.\n",
    "6. Indexing: Data engineers should understand how to index a database to improve performance and optimize queries.\n",
    "7. Backup and recovery: Data engineers should understand how to create and maintain backups of a database and how to recover data in case of failures.\n",
    "8. NoSQL databases: Data engineers should be familiar with the concepts and design principles of NoSQL databases such as MongoDB, Cassandra and Redis.\n",
    "9. Cloud-based databases: Data engineers should know how to work with cloud-based databases like AWS RDS, Google Cloud SQL and Azure Database\n",
    "10. Data warehousing: Data engineers should understand the concepts and architecture of data warehousing and how to design and implement a data warehouse using technologies like Amazon Redshift, Google BigQuery and Azure Synapse Analytics."
   ]
  },
  {
   "attachments": {},
   "cell_type": "markdown",
   "metadata": {},
   "source": [
    "We will learn most of the basic SQL techniques using Sqlite by the following reasons:\n",
    "\n",
    "1. SQLite is a relational database management system (RDBMS) that is embedded in software. It is a self-contained, serverless, and zero-configuration database engine. \n",
    "2. SQLite stores data in a single file, which makes it easy to transfer and backup data. It supports standard SQL commands and can be used to create, modify, and query databases. It is also ACID compliant, which means that it guarantees the Atomicity, Consistency, Isolation, and Durability of data.\n",
    "3. SQLite is a popular choice for embedded systems, mobile devices, and web browsers due to its small size, low memory usage, and fast performance. It is also open-source and free to use, which makes it accessible to developers and organizations of all sizes.\n",
    "4. SQLite is also available as a library which can be embedded in any software. This makes it very useful in situations where you need a small, fast, and reliable database engine that can be integrated into an existing application."
   ]
  },
  {
   "cell_type": "markdown",
   "metadata": {},
   "source": []
  }
 ],
 "metadata": {
  "kernelspec": {
   "display_name": "Python 3",
   "language": "python",
   "name": "python3"
  },
  "language_info": {
   "name": "python",
   "version": "3.10.5 (tags/v3.10.5:f377153, Jun  6 2022, 16:14:13) [MSC v.1929 64 bit (AMD64)]"
  },
  "orig_nbformat": 4,
  "vscode": {
   "interpreter": {
    "hash": "369f2c481f4da34e4445cda3fffd2e751bd1c4d706f27375911949ba6bb62e1c"
   }
  }
 },
 "nbformat": 4,
 "nbformat_minor": 2
}
