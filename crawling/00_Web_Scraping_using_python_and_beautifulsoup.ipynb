{
 "cells": [
  {
   "attachments": {},
   "cell_type": "markdown",
   "metadata": {
    "id": "hLlprrwMMtTX"
   },
   "source": [
    "# When crawling data from a website, you will need to learn the following:\n",
    "\n",
    "1. Web scraping techniques: You will need to learn how to extract information from websites using web scraping libraries such as Beautiful Soup or Scrapy.\n",
    "2. HTML and CSS: You will need to understand the structure of web pages and how they are rendered in order to effectively navigate and extract the data you need.\n",
    "3. Web protocols: You will need to understand how the web works, including how to make requests to websites and how to handle responses.\n",
    "4. Programming: You will need to know how to code in a programming language such as Python or Java in order to implement your web scraping scripts.\n",
    "5. Handling dynamic content: You will need to learn how to handle websites that load content dynamically through JavaScript.\n",
    "6. API: You will need to understand how to interact with API's and extract data from them\n",
    "7. Robots.txt: You will need to understand how to handle the website's robots.txt file to avoid any legal issues.\n",
    "8. IP rotation and User-agent rotation: You will need to understand the importance of rotating your IP and user-agent when scraping data to avoid IP blocking."
   ]
  },
  {
   "attachments": {},
   "cell_type": "markdown",
   "metadata": {},
   "source": [
    "# **Web scraping using beautiful soup**\n",
    "\n",
    "This notebook includes data scraping, which takes a website URL as an input and extracts the information listed below as an output from that webpage.\n",
    "\n",
    "\n",
    "1. Specific HTML tags along with titles and meta description\n",
    "2. Extract specific tags, heading tags from h1-h6 along with titles and meta description\n",
    "3. Extracting ALT tags\n",
    "4. For counting words inside a web page\n",
    "5. Inspection of broken links inside a webpage\n",
    "6. Extracting the source code of the webpage\n",
    "7. Extracting all URLs from a website without duplication\n",
    "8. Measuring the frontend and backend performance of website"
   ]
  },
  {
   "attachments": {},
   "cell_type": "markdown",
   "metadata": {},
   "source": [
    "There are several libraries in Python that can be used to write a web crawler, such as Scrapy, BeautifulSoup, and Selenium. Here is an example of a basic web crawler using the requests and BeautifulSoup libraries:"
   ]
  },
  {
   "cell_type": "code",
   "execution_count": 1,
   "metadata": {},
   "outputs": [
    {
     "name": "stdout",
     "output_type": "stream",
     "text": [
      "<!DOCTYPE html>\n",
      "<html>\n",
      " <head>\n",
      "  <title>\n",
      "   Example Domain\n",
      "  </title>\n",
      "  <meta charset=\"utf-8\"/>\n",
      "  <meta content=\"text/html; charset=utf-8\" http-equiv=\"Content-type\"/>\n",
      "  <meta content=\"width=device-width, initial-scale=1\" name=\"viewport\"/>\n",
      "  <style type=\"text/css\">\n",
      "   body {\n",
      "        background-color: #f0f0f2;\n",
      "        margin: 0;\n",
      "        padding: 0;\n",
      "        font-family: -apple-system, system-ui, BlinkMacSystemFont, \"Segoe UI\", \"Open Sans\", \"Helvetica Neue\", Helvetica, Arial, sans-serif;\n",
      "        \n",
      "    }\n",
      "    div {\n",
      "        width: 600px;\n",
      "        margin: 5em auto;\n",
      "        padding: 2em;\n",
      "        background-color: #fdfdff;\n",
      "        border-radius: 0.5em;\n",
      "        box-shadow: 2px 3px 7px 2px rgba(0,0,0,0.02);\n",
      "    }\n",
      "    a:link, a:visited {\n",
      "        color: #38488f;\n",
      "        text-decoration: none;\n",
      "    }\n",
      "    @media (max-width: 700px) {\n",
      "        div {\n",
      "            margin: 0 auto;\n",
      "            width: auto;\n",
      "        }\n",
      "    }\n",
      "  </style>\n",
      " </head>\n",
      " <body>\n",
      "  <div>\n",
      "   <h1>\n",
      "    Example Domain\n",
      "   </h1>\n",
      "   <p>\n",
      "    This domain is for use in illustrative examples in documents. You may use this\n",
      "    domain in literature without prior coordination or asking for permission.\n",
      "   </p>\n",
      "   <p>\n",
      "    <a href=\"https://www.iana.org/domains/example\">\n",
      "     More information...\n",
      "    </a>\n",
      "   </p>\n",
      "  </div>\n",
      " </body>\n",
      "</html>\n",
      "\n"
     ]
    }
   ],
   "source": [
    "import requests\n",
    "from bs4 import BeautifulSoup\n",
    "\n",
    "def crawl(url):\n",
    "    page = requests.get(url)\n",
    "    soup = BeautifulSoup(page.content, 'html.parser')\n",
    "    print(soup.prettify())\n",
    "\n",
    "crawl('https://www.example.com')"
   ]
  },
  {
   "attachments": {},
   "cell_type": "markdown",
   "metadata": {},
   "source": [
    "This example uses the requests library to send a GET request to the specified URL, and then uses the BeautifulSoup library to parse the HTML content of the page. The prettify() method is used to print the content in a more readable format.\n",
    "\n",
    "You can then modify the function to extract specific information by adding the specific css selectors or class names.\n",
    "\n",
    "You can also use Scrapy framework to build your webcrawler which is more powerful and easy to use. It has many built-in features for handling things like logging in, following links, and storing data."
   ]
  },
  {
   "cell_type": "markdown",
   "metadata": {
    "id": "gNa_jo1rNcxL"
   },
   "source": [
    "**1. For scraping specific HTML tags along with titles and meta description**"
   ]
  },
  {
   "cell_type": "code",
   "execution_count": 3,
   "metadata": {
    "id": "Xf0MrtNY6xVr"
   },
   "outputs": [],
   "source": [
    "#Importing libraries\n",
    "from bs4 import BeautifulSoup\n",
    "import urllib\n",
    "from urllib import request\n",
    "import urllib.request as ur"
   ]
  },
  {
   "cell_type": "code",
   "execution_count": 5,
   "metadata": {
    "colab": {
     "base_uri": "https://localhost:8080/"
    },
    "id": "zfNHK_x8Nj4g",
    "outputId": "43dcb0ae-27b4-42a9-c429-ea6a7bb8fbd2"
   },
   "outputs": [
    {
     "name": "stdout",
     "output_type": "stream",
     "text": [
      "Enter url : https://techoid.co/contact-us\n"
     ]
    },
    {
     "name": "stdout",
     "output_type": "stream",
     "text": [
      " This is the website link that you entered https://techoid.co/contact-us\n",
      "Website Title is : Contact Us | Techoid\n",
      "NAME    : description\n",
      "CONTENT : Album Cover Design, Banner Ads, Book Design, Brochure Design, Building Information Modeling, Brand Style Design, Business & Stationary, Cartoon & Comics, Car wraps, Catalog Design, Game Design, Info Graphics Design, Interior Design, Invitation Design, Landscape Design, Logo Design, Menu Design, Packaging Design, Pattern Design, Photoshop Editing, Podcast Cover, Art Portraits, Postcard Design, Poster Design, Presentation Design, Social Media Design, Story boards, Tattoo Design, Trade Booth Design, Tshirts & Merchandise, Twitch Store, Vector Tracing, Flyer Design\n",
      "<h1 class=\"elementor-heading-title elementor-size-default\">Contact us</h1>\n",
      "['Contact us']\n",
      "<h1 class=\"elementor-heading-title elementor-size-default\">Techoid Now</h1>\n",
      "['Techoid Now']\n"
     ]
    }
   ],
   "source": [
    "# Getting input for webiste from user https://techoid.co/contact-us\n",
    "urlinput = input(\"Enter url :\")\n",
    "print(\" This is the website link that you entered\", urlinput)\n",
    "\n",
    "# For extracting specific tags from webpage\n",
    "def getTags(tag):\n",
    "  s = ur.urlopen(urlinput)\n",
    "  soup = BeautifulSoup(s.read())\n",
    "  return soup.findAll(tag)\n",
    "\n",
    "# For extracting specific title & meta description from webpage\n",
    "def titleandmetaTags():\n",
    "    s = ur.urlopen(urlinput)\n",
    "    soup = BeautifulSoup(s.read())\n",
    "    #----- Extracting Title from website ------#\n",
    "    title = soup.title.string\n",
    "    print ('Website Title is :', title)\n",
    "    #-----  Extracting Meta description from website ------#\n",
    "    meta_description = soup.find_all('meta')\n",
    "    for tag in meta_description:\n",
    "        if 'name' in tag.attrs.keys() and tag.attrs['name'].strip().lower() in ['description', 'keywords']:\n",
    "            print ('NAME    :',tag.attrs['name'].lower())\n",
    "            print ('CONTENT :',tag.attrs['content'])\n",
    "\n",
    "#------------- Main ---------------#\n",
    "if __name__ == '__main__':\n",
    "  titleandmetaTags()\n",
    "  tags = getTags('h1')\n",
    "  for tag in tags:\n",
    "     print(tag) # display tags \n",
    "     print(tag.contents) # display contents of the tags\n",
    "        "
   ]
  },
  {
   "cell_type": "markdown",
   "metadata": {
    "id": "Ue-8Uem94zVV"
   },
   "source": [
    "**2. For extracting specific tags, all heading tags from h1-h6 along with titles and meta description**"
   ]
  },
  {
   "cell_type": "code",
   "execution_count": 7,
   "metadata": {
    "colab": {
     "base_uri": "https://localhost:8080/"
    },
    "id": "X_kka9ejJM1N",
    "outputId": "c8a1c31e-7ba9-4f24-843c-08d82ed031cd"
   },
   "outputs": [
    {
     "name": "stdout",
     "output_type": "stream",
     "text": [
      "Enter url : https://techoid.co/contact-us\n"
     ]
    },
    {
     "name": "stdout",
     "output_type": "stream",
     "text": [
      " This is the website link that you entered https://techoid.co/contact-us\n",
      "Website Title is : Contact Us | Techoid\n",
      "NAME    : description\n",
      "CONTENT : Album Cover Design, Banner Ads, Book Design, Brochure Design, Building Information Modeling, Brand Style Design, Business & Stationary, Cartoon & Comics, Car wraps, Catalog Design, Game Design, Info Graphics Design, Interior Design, Invitation Design, Landscape Design, Logo Design, Menu Design, Packaging Design, Pattern Design, Photoshop Editing, Podcast Cover, Art Portraits, Postcard Design, Poster Design, Presentation Design, Social Media Design, Story boards, Tattoo Design, Trade Booth Design, Tshirts & Merchandise, Twitch Store, Vector Tracing, Flyer Design\n",
      "List of headings from headingtags function h1, h2, h3, h4, h5, h6 :\n",
      "h1 Contact us\n",
      "h3 Email\n",
      "h3 info@techoid.co\n",
      "h3 Call / Whatsapp\n",
      "h3 +92 311 0206987\n",
      "h3 Request a Meeting\n",
      "h3 Make an appointment\n",
      "h3 Visit\n",
      "h3 Office # C-2, 3rd floor, Osif Center, Main University Road,Block 13-A Gulshan-e-Iqbal,Karachi, Pakistan\n",
      "h2 Inquire about your project\n",
      "h1 Techoid Now\n",
      "h2 Connect with us\n",
      "h3 Follow us on social media to stay up to date on our events:\n",
      "h4 Subscribe to our newsletter\n",
      "h4 Services\n",
      "h4 Quick Links\n",
      "h4 Get in Touch\n",
      "h2 Thank You for Subscribing\n",
      "h2 Fill out the form to request a demo.\n",
      "h2 Request a 30-minute demo today and see our software in action. We'll get in touch with you ASAP. Please enter the form fields as accurately as possible.\n",
      " Here are the tags from getTags function: [<a href=\"https://techoid.co\" rel=\"home\" title=\"Techoid\">Techoid</a>]\n",
      " Here are the tags from getTags function: ['Interpret your project. Our skilled experts will examine the details and get back to you to determine the subsequent step.']\n",
      " Here are the tags from getTags function: ['Copyright © 2018-2023, All Rights Reserved']\n"
     ]
    }
   ],
   "source": [
    "# Getting input for webiste from user\n",
    "url_input = input(\"Enter url :\")\n",
    "print(\" This is the website link that you entered\", url_input)\n",
    "\n",
    "# For extracting all h1-h6 heading tags from webpage\n",
    "def headingTags(headingtags):\n",
    "  h = ur.urlopen(url_input)\n",
    "  soup = BeautifulSoup(h.read())\n",
    "  print(\"List of headings from headingtags function h1, h2, h3, h4, h5, h6 :\")\n",
    "  for heading in soup.find_all([\"h1\", \"h2\", \"h3\", \"h4\", \"h5\", \"h6\"]):\n",
    "    print(heading.name + ' ' + heading.text.strip())\n",
    "\n",
    "# For extracting specific title & meta description from webpage\n",
    "def titleandmetaTags():\n",
    "    s = ur.urlopen(urlinput)\n",
    "    soup = BeautifulSoup(s.read())\n",
    "    #----- Extracting Title from website ------#\n",
    "    title = soup.title.string\n",
    "    print ('Website Title is :', title)\n",
    "    #-----  Extracting Meta description from website ------#\n",
    "    meta_description = soup.find_all('meta')\n",
    "    for tag in meta_description:\n",
    "        if 'name' in tag.attrs.keys() and tag.attrs['name'].strip().lower() in ['description', 'keywords']:\n",
    "            print ('NAME    :',tag.attrs['name'].lower())\n",
    "            print ('CONTENT :',tag.attrs['content'])\n",
    "\n",
    "\n",
    "\n",
    "#------------- Main ---------------#\n",
    "if __name__ == '__main__':\n",
    "  titleandmetaTags()\n",
    "  tags = getTags('p')\n",
    "  headtags = headingTags('h1')\n",
    "  for tag in tags:\n",
    "     print(\" Here are the tags from getTags function:\", tag.contents)\n",
    "        "
   ]
  },
  {
   "cell_type": "markdown",
   "metadata": {
    "id": "e-bs7krepPUM"
   },
   "source": [
    "**3. For extracting ALT tags (Image Alter tags)**"
   ]
  },
  {
   "cell_type": "code",
   "execution_count": 8,
   "metadata": {
    "colab": {
     "base_uri": "https://localhost:8080/"
    },
    "id": "jfq_lG2Ntvvh",
    "outputId": "138e6c69-baa1-4973-a33f-8307ca8de99e"
   },
   "outputs": [
    {
     "name": "stdout",
     "output_type": "stream",
     "text": [
      "Enter url : https://techoid.co/contact-us\n"
     ]
    },
    {
     "name": "stdout",
     "output_type": "stream",
     "text": [
      "The website link that you entered is: https://techoid.co/contact-us\n",
      "\n",
      " The alt tag along with the text in the web page\n",
      "[<img alt=\"techoid.co\" data-lazy-src=\"https://techoid.co/wp-content/uploads/elementor/thumbs/techoid.co_-p1qnbeammunnhcxquhzsb110je32a8etpsdnmlsxjs.png\" src=\"data:image/svg+xml,%3Csvg%20xmlns='http://www.w3.org/2000/svg'%20viewBox='0%200%200%200'%3E%3C/svg%3E\" title=\"techoid.co\"/>, <img alt=\"techoid.co\" src=\"https://techoid.co/wp-content/uploads/elementor/thumbs/techoid.co_-p1qnbeammunnhcxquhzsb110je32a8etpsdnmlsxjs.png\" title=\"techoid.co\"/>, <img alt=\"techoid.co\" data-lazy-src=\"https://techoid.co/wp-content/uploads/elementor/thumbs/techoid.co_-p1qnbeammunnhcxquhzsb110je32a8etpsdnmlsxjs.png\" src=\"data:image/svg+xml,%3Csvg%20xmlns='http://www.w3.org/2000/svg'%20viewBox='0%200%200%200'%3E%3C/svg%3E\" title=\"techoid.co\"/>, <img alt=\"techoid.co\" src=\"https://techoid.co/wp-content/uploads/elementor/thumbs/techoid.co_-p1qnbeammunnhcxquhzsb110je32a8etpsdnmlsxjs.png\" title=\"techoid.co\"/>, <img alt=\"\" class=\"attachment-medium size-medium\" data-lazy-sizes=\"(max-width: 273px) 100vw, 273px\" data-lazy-src=\"https://techoid.co/wp-content/uploads/2021/03/Techoid-website-contect-us-illustretion-01-273x300.png\" data-lazy-srcset=\"https://techoid.co/wp-content/uploads/2021/03/Techoid-website-contect-us-illustretion-01-273x300.png 273w, https://techoid.co/wp-content/uploads/2021/03/Techoid-website-contect-us-illustretion-01-931x1024.png 931w, https://techoid.co/wp-content/uploads/2021/03/Techoid-website-contect-us-illustretion-01-768x845.png 768w, https://techoid.co/wp-content/uploads/2021/03/Techoid-website-contect-us-illustretion-01.png 1042w\" height=\"300\" loading=\"lazy\" src=\"data:image/svg+xml,%3Csvg%20xmlns='http://www.w3.org/2000/svg'%20viewBox='0%200%20273%20300'%3E%3C/svg%3E\" width=\"273\"/>, <img alt=\"\" class=\"attachment-medium size-medium\" height=\"300\" loading=\"lazy\" sizes=\"(max-width: 273px) 100vw, 273px\" src=\"https://techoid.co/wp-content/uploads/2021/03/Techoid-website-contect-us-illustretion-01-273x300.png\" srcset=\"https://techoid.co/wp-content/uploads/2021/03/Techoid-website-contect-us-illustretion-01-273x300.png 273w, https://techoid.co/wp-content/uploads/2021/03/Techoid-website-contect-us-illustretion-01-931x1024.png 931w, https://techoid.co/wp-content/uploads/2021/03/Techoid-website-contect-us-illustretion-01-768x845.png 768w, https://techoid.co/wp-content/uploads/2021/03/Techoid-website-contect-us-illustretion-01.png 1042w\" width=\"273\"/>, <img alt=\"\" class=\"attachment-full size-full\" data-lazy-sizes=\"(max-width: 2560px) 100vw, 2560px\" data-lazy-src=\"https://techoid.co/wp-content/uploads/2021/04/MAP_WITH_ADDRESS-01-01-scaled.jpg\" data-lazy-srcset=\"https://techoid.co/wp-content/uploads/2021/04/MAP_WITH_ADDRESS-01-01-scaled.jpg 2560w, https://techoid.co/wp-content/uploads/2021/04/MAP_WITH_ADDRESS-01-01-300x125.jpg 300w, https://techoid.co/wp-content/uploads/2021/04/MAP_WITH_ADDRESS-01-01-1024x427.jpg 1024w, https://techoid.co/wp-content/uploads/2021/04/MAP_WITH_ADDRESS-01-01-768x320.jpg 768w, https://techoid.co/wp-content/uploads/2021/04/MAP_WITH_ADDRESS-01-01-1536x640.jpg 1536w, https://techoid.co/wp-content/uploads/2021/04/MAP_WITH_ADDRESS-01-01-2048x853.jpg 2048w\" height=\"1067\" loading=\"lazy\" src=\"data:image/svg+xml,%3Csvg%20xmlns='http://www.w3.org/2000/svg'%20viewBox='0%200%202560%201067'%3E%3C/svg%3E\" width=\"2560\"/>, <img alt=\"\" class=\"attachment-full size-full\" height=\"1067\" loading=\"lazy\" sizes=\"(max-width: 2560px) 100vw, 2560px\" src=\"https://techoid.co/wp-content/uploads/2021/04/MAP_WITH_ADDRESS-01-01-scaled.jpg\" srcset=\"https://techoid.co/wp-content/uploads/2021/04/MAP_WITH_ADDRESS-01-01-scaled.jpg 2560w, https://techoid.co/wp-content/uploads/2021/04/MAP_WITH_ADDRESS-01-01-300x125.jpg 300w, https://techoid.co/wp-content/uploads/2021/04/MAP_WITH_ADDRESS-01-01-1024x427.jpg 1024w, https://techoid.co/wp-content/uploads/2021/04/MAP_WITH_ADDRESS-01-01-768x320.jpg 768w, https://techoid.co/wp-content/uploads/2021/04/MAP_WITH_ADDRESS-01-01-1536x640.jpg 1536w, https://techoid.co/wp-content/uploads/2021/04/MAP_WITH_ADDRESS-01-01-2048x853.jpg 2048w\" width=\"2560\"/>]\n"
     ]
    }
   ],
   "source": [
    "import urllib.request as ur\n",
    "\n",
    "url_input = input(\"Enter url :\")\n",
    "print(\"The website link that you entered is:\", url_input)\n",
    "\n",
    "def alt_tag():\n",
    "  url =  ur.urlopen(url_input)\n",
    "  htmlSource = url.read()\n",
    "  url.close()\n",
    "  soup = BeautifulSoup(htmlSource)\n",
    "  print('\\n The alt tag along with the text in the web page')\n",
    "  print(soup.find_all('img',alt= True))\n",
    "\n",
    "#------------- Main ---------------#\n",
    "if __name__ == '__main__':\n",
    "  alt_tag()\n"
   ]
  },
  {
   "cell_type": "code",
   "execution_count": null,
   "metadata": {
    "colab": {
     "base_uri": "https://localhost:8080/"
    },
    "id": "cJjD9q5kzFlK",
    "outputId": "3fd684b3-c639-409e-e946-bd2c55fdf535"
   },
   "outputs": [
    {
     "data": {
      "text/plain": [
       "[<img alt=\"techoid.co\" src=\"https://techoid.co/wp-content/uploads/elementor/thumbs/techoid.co_-p1qnbeammunnhcxquhzsb110je32a8etpsdnmlsxjs.png\" title=\"techoid.co\"/>,\n",
       " <img alt=\"techoid.co\" src=\"https://techoid.co/wp-content/uploads/elementor/thumbs/techoid.co_-p1qnbeammunnhcxquhzsb110je32a8etpsdnmlsxjs.png\" title=\"techoid.co\"/>,\n",
       " <img alt=\"\" class=\"attachment-thumbnail size-thumbnail\" height=\"150\" loading=\"lazy\" src=\"https://techoid.co/wp-content/uploads/2021/03/web.png\" width=\"150\"/>,\n",
       " <img alt=\"\" class=\"attachment-thumbnail size-thumbnail\" height=\"150\" loading=\"lazy\" src=\"https://techoid.co/wp-content/uploads/2021/03/mob.png\" width=\"150\"/>,\n",
       " <img alt=\"\" class=\"attachment-thumbnail size-thumbnail\" height=\"150\" loading=\"lazy\" src=\"https://techoid.co/wp-content/uploads/2021/03/marketing.png\" width=\"150\"/>,\n",
       " <img alt=\"\" class=\"attachment-thumbnail size-thumbnail\" height=\"150\" loading=\"lazy\" src=\"https://techoid.co/wp-content/uploads/2021/03/iot.png\" width=\"150\"/>,\n",
       " <img alt=\"\" class=\"attachment-full size-full\" height=\"150\" loading=\"lazy\" src=\"https://techoid.co/wp-content/uploads/2021/03/ai-new.png\" width=\"150\"/>,\n",
       " <img alt=\"\" class=\"attachment-full size-full\" height=\"150\" loading=\"lazy\" src=\"https://techoid.co/wp-content/uploads/2021/02/graphics-01-01.png\" width=\"150\"/>,\n",
       " <img alt=\"\" class=\"attachment-thumbnail size-thumbnail\" height=\"150\" loading=\"lazy\" src=\"https://techoid.co/wp-content/uploads/2021/02/On_Time_and_Budget-01-01.png\" width=\"150\"/>,\n",
       " <img alt=\"\" class=\"attachment-thumbnail size-thumbnail\" height=\"150\" loading=\"lazy\" src=\"https://techoid.co/wp-content/uploads/2021/02/Discovry_Phase-01-01.png\" width=\"150\"/>,\n",
       " <img alt=\"\" class=\"attachment-thumbnail size-thumbnail\" height=\"150\" loading=\"lazy\" src=\"https://techoid.co/wp-content/uploads/2021/02/MVP_DEVLOPMENY-01-01.png\" width=\"150\"/>,\n",
       " <img alt=\"\" class=\"attachment-thumbnail size-thumbnail\" height=\"150\" loading=\"lazy\" src=\"https://techoid.co/wp-content/uploads/2021/02/Talorate_your_bussiness-01-01.png\" width=\"150\"/>,\n",
       " <img alt=\"\" class=\"attachment-thumbnail size-thumbnail\" height=\"150\" loading=\"lazy\" src=\"https://techoid.co/wp-content/uploads/2021/02/Dedicated_Support-01-01.png\" width=\"150\"/>,\n",
       " <img alt=\"\" class=\"attachment-thumbnail size-thumbnail\" height=\"150\" loading=\"lazy\" src=\"https://techoid.co/wp-content/uploads/2021/02/IP_Protection-01-01.png\" width=\"150\"/>,\n",
       " <img alt=\"\" class=\"attachment-large size-large\" height=\"495\" loading=\"lazy\" sizes=\"(max-width: 155px) 100vw, 155px\" src=\"https://techoid.co/wp-content/uploads/2021/02/IBN_ALC_Tech_digitaloid.ae-08.png\" srcset=\"https://techoid.co/wp-content/uploads/2021/02/IBN_ALC_Tech_digitaloid.ae-08.png 155w, https://techoid.co/wp-content/uploads/2021/02/IBN_ALC_Tech_digitaloid.ae-08-94x300.png 94w\" width=\"155\"/>,\n",
       " <img alt=\"Barcode\" src=\"https://techoid.co/wp-content/uploads/elementor/thumbs/Barcode-p27m3payc387yow8y36mamx7avkme407tc9nsxfla4.png\" title=\"Barcode\"/>,\n",
       " <img alt=\"Leathersoutlet\" src=\"https://techoid.co/wp-content/uploads/elementor/thumbs/Leathersoutlet-p27lxerul0m48o1aov9j3q3450l5v20wm71n58rgxo.png\" title=\"Leathersoutlet\"/>,\n",
       " <img alt=\"techoid.uk\" src=\"https://techoid.co/wp-content/uploads/elementor/thumbs/techoid.uk_-p387cijydsqugtipphu7rnr71uf9g8cekkjo4c4dq4.png\" title=\"techoid.uk\"/>,\n",
       " <img alt=\"Barcode\" src=\"https://techoid.co/wp-content/uploads/elementor/thumbs/Barcode-p27m3payc387yow8y36mamx7avkme407tc9nsxfla4.png\" title=\"Barcode\"/>,\n",
       " <img alt=\"Patty R. Schlosser\" src=\"https://techoid.co/wp-content/uploads/2021/02/pexels-photo-774909.jpeg\"/>,\n",
       " <img alt=\"Debra D. Foreman\" src=\"https://techoid.co/wp-content/uploads/2021/01/team05-1.jpg\"/>,\n",
       " <img alt=\"Gary C. Tow\" src=\"https://techoid.co/wp-content/uploads/2021/01/team03-2.jpg\"/>,\n",
       " <img alt=\"\" class=\"attachment-thumbnail size-thumbnail\" height=\"130\" loading=\"lazy\" src=\"https://techoid.co/wp-content/uploads/2021/01/team05-1.jpg\" width=\"130\"/>,\n",
       " <img alt=\"\" class=\"attachment-thumbnail size-thumbnail\" height=\"150\" loading=\"lazy\" src=\"https://techoid.co/wp-content/uploads/2021/02/pexels-photo-774909-150x150.jpeg\" width=\"150\"/>,\n",
       " <img alt=\"ibad\" src=\"https://techoid.co/wp-content/uploads/elementor/thumbs/ibad-p3m0tq838pktbcj0zc3xhsbqdpdry7spgkbqrfx384.jpg\" title=\"ibad\"/>,\n",
       " <img alt=\"Kamran Ansari\" src=\"https://techoid.co/wp-content/uploads/elementor/thumbs/Kamran-Ansari-p389nkkfriwv5i0l7vqwi5ling8pwz6t9a15xuxuac.jpg\" title=\"Kamran Ansari\"/>,\n",
       " <img alt=\"Case Study - Triplona\" src=\"https://techoid.co/wp-content/uploads/elementor/thumbs/Case-Study-Triplona-p24d5vl1acalqnwhdd95zyz4f59m7tagcn0093dsvw.png\" title=\"Case Study – Triplona\"/>,\n",
       " <img alt=\"Case Study - SheTravels1\" src=\"https://techoid.co/wp-content/uploads/elementor/thumbs/Case-Study-SheTravels1-p27p4k03se8mh0s4bn29jo1vu91us956g40xji1apo.png\" title=\"Case Study – SheTravels1\"/>,\n",
       " <img alt=\"Case Study - Triplona\" src=\"https://techoid.co/wp-content/uploads/elementor/thumbs/Case-Study-Triplona-p24d5vl1acalqnwhdd95zyz4f59m7tagcn0093dsvw.png\" title=\"Case Study – Triplona\"/>]"
      ]
     },
     "execution_count": 40,
     "metadata": {
      "tags": []
     },
     "output_type": "execute_result"
    }
   ],
   "source": [
    "# For reviewing alt tags in seperate lines\n",
    "soup.find_all('img',alt= True)"
   ]
  },
  {
   "cell_type": "markdown",
   "metadata": {
    "id": "5b9ZFVo5NfpS"
   },
   "source": [
    "**4. For counting words inside a web page**"
   ]
  },
  {
   "cell_type": "code",
   "execution_count": null,
   "metadata": {
    "id": "On5oy-hqNhqq"
   },
   "outputs": [],
   "source": [
    "import requests\n",
    "from bs4 import BeautifulSoup\n",
    "from collections import Counter\n",
    "from string import punctuation\n",
    "\n",
    "# Getting content from web page\n",
    "r = requests.get(\"https://techoid.co/contact-us\")\n",
    "soup = BeautifulSoup(r.content)\n",
    "\n",
    "# For getting words within paragrphs\n",
    "text_paragraph = (''.join(s.findAll(text=True))for s in soup.findAll('p'))\n",
    "count_paragraph = Counter((x.rstrip(punctuation).lower() for y in text_paragraph for x in y.split()))\n",
    "\n",
    "# For getting words inside div tags\n",
    "text_div = (''.join(s.findAll(text=True))for s in soup.findAll('div'))\n",
    "count_div = Counter((x.rstrip(punctuation).lower() for y in text_div for x in y.split()))\n",
    "\n",
    "# Adding two counters for getting a list with words count (from most to less common)\n",
    "total = count_div + count_paragraph\n",
    "list_most_common_words = total.most_common() "
   ]
  },
  {
   "cell_type": "code",
   "execution_count": null,
   "metadata": {
    "colab": {
     "base_uri": "https://localhost:8080/"
    },
    "id": "tkjFKAH5No9s",
    "outputId": "8ad9cbd8-550f-49e3-a28c-715763b51be4"
   },
   "outputs": [
    {
     "data": {
      "text/plain": [
       "245"
      ]
     },
     "execution_count": 2,
     "metadata": {
      "tags": []
     },
     "output_type": "execute_result"
    }
   ],
   "source": [
    "# Total words inside a webpage\n",
    "len(total)"
   ]
  },
  {
   "cell_type": "code",
   "execution_count": null,
   "metadata": {
    "colab": {
     "base_uri": "https://localhost:8080/"
    },
    "id": "j1xy6LelNs1h",
    "outputId": "8cbd3b2e-bbc8-41b7-e697-ae3031432f73"
   },
   "outputs": [
    {
     "data": {
      "text/plain": [
       "[('development', 221),\n",
       " ('', 160),\n",
       " ('management', 136),\n",
       " ('system', 136),\n",
       " ('us', 126),\n",
       " ('services', 103),\n",
       " ('to', 93),\n",
       " ('the', 84),\n",
       " ('message', 72),\n",
       " ('email', 71),\n",
       " ('project', 70),\n",
       " ('about', 68),\n",
       " ('name', 67),\n",
       " ('software', 65),\n",
       " ('our', 62),\n",
       " ('softwares', 52),\n",
       " ('your', 52),\n",
       " ('home', 51),\n",
       " ('web', 51),\n",
       " ('mobile', 51),\n",
       " ('app', 51),\n",
       " ('cms', 51),\n",
       " ('digital', 51),\n",
       " ('marketing', 51),\n",
       " ('graphics', 51),\n",
       " ('designing', 51),\n",
       " ('design', 51),\n",
       " ('content', 51),\n",
       " ('writing', 51),\n",
       " ('artificial', 51),\n",
       " ('intelligence', 51),\n",
       " ('iot', 51),\n",
       " ('based', 51),\n",
       " ('database', 51),\n",
       " ('it', 51),\n",
       " ('outsourcing', 51),\n",
       " ('careers', 51),\n",
       " ('contact', 51),\n",
       " ('get', 50),\n",
       " ('company', 48),\n",
       " ('request', 45),\n",
       " ('a', 45),\n",
       " ('in', 45),\n",
       " ('form', 43),\n",
       " ('you', 42),\n",
       " ('send', 37),\n",
       " ('subscribe', 36),\n",
       " ('ui/ux', 34),\n",
       " ('solutions', 34),\n",
       " ('asset', 34),\n",
       " ('tracking', 34),\n",
       " ('inventory', 34),\n",
       " ('enterprise', 34),\n",
       " ('resource', 34),\n",
       " ('planning', 34),\n",
       " ('(erp', 34),\n",
       " ('employee', 34),\n",
       " ('(ems', 34),\n",
       " ('hospital', 34),\n",
       " ('info@techoid.co', 34),\n",
       " ('+44', 34),\n",
       " ('7718', 34),\n",
       " ('307359', 34),\n",
       " ('+92', 34),\n",
       " ('office', 34),\n",
       " ('no', 34),\n",
       " ('303', 34),\n",
       " ('batool', 34),\n",
       " ('arcade', 34),\n",
       " ('gulshan-e-iqbal', 34),\n",
       " ('pakistan', 34),\n",
       " ('and', 33),\n",
       " ('an', 33),\n",
       " ('touch', 31),\n",
       " ('error', 31),\n",
       " ('facebook-f', 28),\n",
       " ('twitter', 28),\n",
       " ('instagram', 28),\n",
       " ('youtube', 28),\n",
       " ('demo', 28),\n",
       " ('as', 28),\n",
       " ('with', 26),\n",
       " ('calendly', 24),\n",
       " ('link', 24),\n",
       " ('widget', 24),\n",
       " ('on', 24),\n",
       " ('<a', 20),\n",
       " ('href', 20),\n",
       " ('interpret', 19),\n",
       " ('skilled', 19),\n",
       " ('experts', 19),\n",
       " ('will', 19),\n",
       " ('examine', 19),\n",
       " ('details', 19),\n",
       " ('back', 19),\n",
       " ('determine', 19),\n",
       " ('subsequent', 19),\n",
       " ('step', 19),\n",
       " ('full', 19),\n",
       " ('1-1516-5051-250250', 18),\n",
       " ('agencybrandpublisherinfluencerother', 18),\n",
       " ('afghanistanalbaniaalgeriaandorraangolaantigua', 18),\n",
       " ('depsargentinaarmeniaaustraliaaustriaazerbaijanbahamasbahrainbangladeshbarbadosbelarusbelgiumbelizebeninbhutanboliviabosnia',\n",
       "  18),\n",
       " ('herzegovinabotswanabrazilbruneibulgariaburkinaburundicambodiacamerooncanadacape',\n",
       "  18),\n",
       " ('verdecentral', 18),\n",
       " ('african', 18),\n",
       " ('repchadchilechinacolombiacomoroscongocongo', 18),\n",
       " ('{democratic', 18),\n",
       " ('rep}costa', 18),\n",
       " ('ricacroatiacubacyprusczech', 18),\n",
       " ('republicdenmarkdjiboutidominicadominican', 18),\n",
       " ('republiceast', 18),\n",
       " ('timorecuadoregyptel', 18),\n",
       " ('salvadorequatorial', 18),\n",
       " ('guineaeritreaestoniaethiopiafijifinlandfrancegabongambiageorgiagermanyghanagreecegrenadaguatemalaguineaguinea-bissauguyanahaitihondurashungaryicelandindiaindonesiairaniraqireland',\n",
       "  18),\n",
       " ('{republic}israelitalyivory', 18),\n",
       " ('coastjamaicajapanjordankazakhstankenyakiribatikorea', 18),\n",
       " ('northkorea', 18),\n",
       " ('southkosovokuwaitkyrgyzstanlaoslatvialebanonlesotholiberialibyaliechtensteinlithuanialuxembourgmacedoniamadagascarmalawimalaysiamaldivesmalimaltamarshall',\n",
       "  18),\n",
       " ('islandsmauritaniamauritiusmexicomicronesiamoldovamonacomongoliamontenegromoroccomozambiquemyanmar',\n",
       "  18),\n",
       " ('(burma)namibianaurunepalnetherlandsnew', 18),\n",
       " ('zealandnicaraguanigernigerianorwayomanpakistanpalaupanamapapua', 18),\n",
       " ('new', 18),\n",
       " ('guineaparaguayperuphilippinespolandportugalqatarromaniarussian', 18),\n",
       " ('federationrwandast', 18),\n",
       " ('kitts', 18),\n",
       " ('nevisst', 18),\n",
       " ('luciasaint', 18),\n",
       " ('vincent', 18),\n",
       " ('grenadinessamoasan', 18),\n",
       " ('marinosao', 18),\n",
       " ('tome', 18),\n",
       " ('principesaudi', 18),\n",
       " ('arabiasenegalserbiaseychellessierra', 18),\n",
       " ('leonesingaporeslovakiasloveniasolomon', 18),\n",
       " ('islandssomaliasouth', 18),\n",
       " ('africasouth', 18),\n",
       " ('sudanspainsri', 18),\n",
       " ('lankasudansurinameswazilandswedenswitzerlandsyriataiwantajikistantanzaniathailandtogotongatrinidad',\n",
       "  18),\n",
       " ('tobagotunisiaturkeyturkmenistantuvaluugandaukraineunited', 18),\n",
       " ('arab', 18),\n",
       " ('emiratesunited', 18),\n",
       " ('kingdomunited', 18),\n",
       " ('statesuruguayuzbekistanvanuatuvatican', 18),\n",
       " ('cityvenezuelaviet', 18),\n",
       " ('namyemenzambiazimbabwe', 18),\n",
       " ('<div', 18),\n",
       " ('call', 17),\n",
       " ('whatsapp', 17),\n",
       " ('311', 17),\n",
       " ('0206987', 17),\n",
       " ('meeting', 17),\n",
       " ('make', 17),\n",
       " ('appointment', 17),\n",
       " ('visit', 17),\n",
       " ('13-b', 17),\n",
       " ('karachi', 17),\n",
       " ('inquire', 17),\n",
       " ('newsletter', 17),\n",
       " ('soutions', 17),\n",
       " ('ui', 17),\n",
       " ('ux', 17),\n",
       " ('quick', 17),\n",
       " ('links', 17),\n",
       " ('213', 17),\n",
       " ('4972116', 17),\n",
       " ('13', 17),\n",
       " ('b', 17),\n",
       " ('first', 16),\n",
       " ('last', 16),\n",
       " ('size', 16),\n",
       " ('describe', 16),\n",
       " ('yourself', 16),\n",
       " ('job', 16),\n",
       " ('title', 16),\n",
       " ('country', 16),\n",
       " ('phone', 16),\n",
       " ('number', 16),\n",
       " ('response', 16),\n",
       " ('has', 16),\n",
       " ('been', 16),\n",
       " ('sent', 16),\n",
       " ('successfully', 16),\n",
       " ('occured', 16),\n",
       " ('submit', 15),\n",
       " ('class=\"elementor-message', 15),\n",
       " ('elementor-help-inline', 15),\n",
       " ('role=\"alert\">server', 15),\n",
       " ('not', 15),\n",
       " ('sent.</div', 15),\n",
       " ('linkedin-in', 14),\n",
       " ('linkedin', 14),\n",
       " ('fill', 14),\n",
       " ('out', 14),\n",
       " ('30-minute', 14),\n",
       " ('today', 14),\n",
       " ('see', 14),\n",
       " ('action', 14),\n",
       " (\"we'll\", 14),\n",
       " ('asap', 14),\n",
       " ('please', 14),\n",
       " ('enter', 14),\n",
       " ('fields', 14),\n",
       " ('accurately', 14),\n",
       " ('possible', 14),\n",
       " ('like', 13),\n",
       " ('share', 13),\n",
       " ('tweet', 13),\n",
       " ('©', 13),\n",
       " ('2021', 13),\n",
       " ('all', 13),\n",
       " ('rights', 13),\n",
       " ('reserved', 13),\n",
       " ('begin', 12),\n",
       " ('end', 12),\n",
       " ('document.addeventlistener(\"domcontentloaded', 12),\n",
       " ('function(event', 12),\n",
       " (\"jquery('#calendly\", 12),\n",
       " (\"h3').click(function\", 12),\n",
       " ('calendly.initpopupwidget({url', 12),\n",
       " (\"'https://calendly.com/info-26094/lets-connect\", 12),\n",
       " ('return', 12),\n",
       " ('false', 12),\n",
       " ('techoid', 12),\n",
       " ('now', 12),\n",
       " ('connect', 12),\n",
       " ('follow', 12),\n",
       " ('social', 12),\n",
       " ('media', 12),\n",
       " ('stay', 12),\n",
       " ('up', 12),\n",
       " ('date', 12),\n",
       " ('events', 12),\n",
       " ('menu', 11),\n",
       " ('thank', 9),\n",
       " ('for', 9),\n",
       " ('subscribing', 9),\n",
       " ('class=\"pswp__share--facebook\"></a', 5),\n",
       " ('class=\"pswp__share--twitter\"></a', 5),\n",
       " ('class=\"pswp__share--pinterest\"></a', 5),\n",
       " ('download', 5),\n",
       " ('class=\"pswp__share--download\"></a', 5),\n",
       " ('class=\"pswp__loading-indicator\"><div', 3),\n",
       " ('class=\"pswp__loading-indicator__line\"></div></div', 3),\n",
       " ('techoid.co', 1)]"
      ]
     },
     "execution_count": 3,
     "metadata": {
      "tags": []
     },
     "output_type": "execute_result"
    }
   ],
   "source": [
    "# List of common words\n",
    "list_most_common_words"
   ]
  },
  {
   "cell_type": "markdown",
   "metadata": {
    "id": "KMuXGwiyTOxk"
   },
   "source": [
    "**5. For inspecting Broken links inside a webpage**\n",
    "\n",
    "We want to retrieve the response code 200 if the site is fully functional. We'll get the 404 response code if it's not available."
   ]
  },
  {
   "cell_type": "code",
   "execution_count": null,
   "metadata": {
    "colab": {
     "base_uri": "https://localhost:8080/"
    },
    "id": "1inuws3fTTG-",
    "outputId": "7a53ca9c-e903-4239-a366-0d52b78f810c"
   },
   "outputs": [
    {
     "name": "stdout",
     "output_type": "stream",
     "text": [
      "Enter your url: https://techoid.co/\n",
      "Url: #content | Status Code: 200\n",
      "Url: https://techoid.co | Status Code: 200\n",
      "Url: https://techoid.co | Status Code: 200\n",
      "Url: https://techoid.co/ | Status Code: 200\n",
      "Url: https://techoid.co/about-us | Status Code: 200\n",
      "Url: https://techoid.co/services | Status Code: 200\n",
      "Url: https://techoid.co/web-development | Status Code: 200\n",
      "Url: https://techoid.co/mobile-app-development | Status Code: 200\n",
      "Url: https://techoid.co/cms-development | Status Code: 200\n",
      "Url: https://techoid.co/digital-marketing | Status Code: 200\n",
      "Url: https://techoid.co/graphics-designing | Status Code: 200\n",
      "Url: https://techoid.co/ui-ux | Status Code: 200\n",
      "Url: https://techoid.co/content-writing | Status Code: 200\n",
      "Url: https://techoid.co/ai | Status Code: 200\n",
      "Url: https://techoid.co/iot-based-solutions | Status Code: 200\n",
      "Url: https://techoid.co/database-development | Status Code: 200\n",
      "Url: https://techoid.co/it-outsourcing | Status Code: 200\n",
      "Url: https://techoid.co/software | Status Code: 200\n",
      "Url: https://techoid.co/asset-tracking | Status Code: 200\n",
      "Url: https://techoid.co/inventory-management-system | Status Code: 200\n",
      "Url: https://techoid.co/project-management-system | Status Code: 200\n",
      "Url: https://techoid.co/erp | Status Code: 200\n",
      "Url: https://techoid.co/employee-management-system | Status Code: 200\n",
      "Url: https://techoid.co/hospital-management-system | Status Code: 200\n",
      "Url: https://techoid.co/careers | Status Code: 200\n",
      "Url: https://techoid.co/contact-us | Status Code: 200\n",
      "Url: https://techoid.co/ | Status Code: 200\n",
      "Url: https://techoid.co/about-us | Status Code: 200\n",
      "Url: https://techoid.co/services | Status Code: 200\n",
      "Url: https://techoid.co/web-development | Status Code: 200\n",
      "Url: https://techoid.co/mobile-app-development | Status Code: 200\n",
      "Url: https://techoid.co/cms-development | Status Code: 200\n",
      "Url: https://techoid.co/digital-marketing | Status Code: 200\n",
      "Url: https://techoid.co/graphics-designing | Status Code: 200\n",
      "Url: https://techoid.co/ui-ux | Status Code: 200\n",
      "Url: https://techoid.co/content-writing | Status Code: 200\n",
      "Url: https://techoid.co/ai | Status Code: 200\n",
      "Url: https://techoid.co/iot-based-solutions | Status Code: 200\n",
      "Url: https://techoid.co/database-development | Status Code: 200\n",
      "Url: https://techoid.co/it-outsourcing | Status Code: 200\n",
      "Url: https://techoid.co/software | Status Code: 200\n",
      "Url: https://techoid.co/asset-tracking | Status Code: 200\n",
      "Url: https://techoid.co/inventory-management-system | Status Code: 200\n",
      "Url: https://techoid.co/project-management-system | Status Code: 200\n",
      "Url: https://techoid.co/erp | Status Code: 200\n",
      "Url: https://techoid.co/employee-management-system | Status Code: 200\n",
      "Url: https://techoid.co/hospital-management-system | Status Code: 200\n",
      "Url: https://techoid.co/careers | Status Code: 200\n",
      "Url: https://techoid.co/contact-us | Status Code: 200\n",
      "Url: https://techoid.co | Status Code: 200\n",
      "Url: https://techoid.co/ | Status Code: 200\n",
      "Url: https://techoid.co/about-us | Status Code: 200\n",
      "Url: https://techoid.co/services | Status Code: 200\n",
      "Url: https://techoid.co/web-development | Status Code: 200\n",
      "Url: https://techoid.co/mobile-app-development | Status Code: 200\n",
      "Url: https://techoid.co/cms-development | Status Code: 200\n",
      "Url: https://techoid.co/digital-marketing | Status Code: 200\n",
      "Url: https://techoid.co/graphics-designing | Status Code: 200\n",
      "Url: https://techoid.co/ui-ux | Status Code: 200\n",
      "Url: https://techoid.co/content-writing | Status Code: 200\n",
      "Url: https://techoid.co/ai | Status Code: 200\n",
      "Url: https://techoid.co/iot-based-solutions | Status Code: 200\n",
      "Url: https://techoid.co/database-development | Status Code: 200\n",
      "Url: https://techoid.co/it-outsourcing | Status Code: 200\n",
      "Url: https://techoid.co/software | Status Code: 200\n",
      "Url: https://techoid.co/asset-tracking | Status Code: 200\n",
      "Url: https://techoid.co/inventory-management-system | Status Code: 200\n",
      "Url: https://techoid.co/project-management-system | Status Code: 200\n",
      "Url: https://techoid.co/erp | Status Code: 200\n",
      "Url: https://techoid.co/employee-management-system | Status Code: 200\n",
      "Url: https://techoid.co/hospital-management-system | Status Code: 200\n",
      "Url: https://techoid.co/careers | Status Code: 200\n",
      "Url: https://techoid.co/contact-us | Status Code: 200\n",
      "Url: https://techoid.co/contact-us | Status Code: 200\n",
      "Url: https://techoid.co/web-development | Status Code: 200\n",
      "Url: https://techoid.co/mobile-app-development | Status Code: 200\n",
      "Url: https://techoid.co/digital-marketing | Status Code: 200\n",
      "Url: https://techoid.co/iot-based-solutions | Status Code: 200\n",
      "Url: https://techoid.co/ai | Status Code: 200\n",
      "Url: https://techoid.co/graphics-designing | Status Code: 200\n",
      "Url: https://techoid.co/services | Status Code: 200\n",
      "Url: https://barcodes.pk/ | Status Code: 200\n",
      "Url: https://leathersoutlet.com/ | Status Code: 200\n",
      "Url: https://techoid.uk | Status Code: 200\n",
      "Url: https://barcodes.pk/ | Status Code: 200\n",
      "Url: https://techoid.co/services | Status Code: 200\n",
      "Url: https://techoid.co/asset-tracking | Status Code: 200\n",
      "Url: https://techoid.co/inventory-management-system | Status Code: 200\n",
      "Url: https://techoid.co/project-management-system | Status Code: 200\n",
      "Url: https://techoid.co/services/software-development | Status Code: 200\n",
      "Url: https://techoid.co/team/hafiz-ibad-jabbar | Status Code: 200\n",
      "Url: https://techoid.co/team/hafiz-ibad-jabbar | Status Code: 200\n",
      "Url: https://techoid.co/team/muhammad-kamran-ansari | Status Code: 200\n",
      "Url: https://techoid.co/team/muhammad-kamran-ansari | Status Code: 200\n",
      "Url: https://triplona.com/ | Status Code: 200\n",
      "Url: https://shetravelspk.com/ | Status Code: 200\n",
      "Url: https://triplona.com/ | Status Code: 200\n",
      "Url: https://techoid.co/case-studies | Status Code: 200\n",
      "Url: https://techoid.co/contact-us | Status Code: 200\n",
      "Url: https://techoid.co/web-development | Status Code: 200\n",
      "Url: https://techoid.co/mobile-app-development | Status Code: 200\n",
      "Url: https://techoid.co/digital-marketing | Status Code: 200\n",
      "Url: https://techoid.co/ai | Status Code: 200\n",
      "Url: https://techoid.co/iot-based-solutions | Status Code: 200\n",
      "Url: https://techoid.co/ui-ux | Status Code: 200\n",
      "Url: https://techoid.co/graphics-designing | Status Code: 200\n",
      "Url: https://techoid.co/content-writing | Status Code: 200\n",
      "Url: https://techoid.co/cms-development | Status Code: 200\n",
      "Url: https://techoid.co/database-development | Status Code: 200\n",
      "Url: https://techoid.co/it-outsourcing | Status Code: 200\n",
      "Url: https://techoid.co/software | Status Code: 200\n",
      "Url: / | Status Code: 200\n",
      "Url: https://techoid.co/about-us | Status Code: 200\n",
      "Url: https://techoid.co/services | Status Code: 200\n",
      "Url: https://techoid.co/software | Status Code: 200\n",
      "Url: /careers | Status Code: 200\n",
      "Url: mailto:info@techoid.co | Status Code: 200\n",
      "Url: tel:+92-213-4972116 | Status Code: 200\n",
      "Url: https://wa.me/+447718307359 | Status Code: 200\n",
      "Url: https://g.page/Techoid | Status Code: 200\n",
      "Url: https://www.facebook.com/Techoid.co | Status Code: 200\n",
      "Url: https://twitter.com/Techoidco | Status Code: 200\n",
      "Url: https://www.linkedin.com/company/techoid | Status Code: 200\n",
      "Url: https://www.instagram.com/techoidco/ | Status Code: 200\n",
      "Url: https://www.youtube.com/channel/UCR4AbK585_KDeVXnD_qv-fg/ | Status Code: 200\n"
     ]
    }
   ],
   "source": [
    "# Importing libraries\n",
    "from bs4 import BeautifulSoup, SoupStrainer\n",
    "import requests\n",
    "\n",
    "# Getting URL from user\n",
    "url = input(\"Enter your url: \")\n",
    "\n",
    "def broken_page():\n",
    "  # For making request to get the URL\n",
    "  user_req_page = requests.get(url)\n",
    "\n",
    "  # For getting the response code of given URL\n",
    "  response_code = str(user_req_page.status_code)\n",
    "\n",
    "  # For displaying the text of the URL in str\n",
    "  data =user_req_page.text\n",
    "\n",
    "  # For using BeautifulSoup to access the built-in methods\n",
    "  soup = BeautifulSoup(data)\n",
    "\n",
    "  # Iterate over all links on the given URL with the response code next to it i.e 404 for PAGE NOT FOUND, 200 if website is functional/available\n",
    "  for link in soup.find_all('a'):\n",
    "    print(f\"Url: {link.get('href')} \" + f\"| Status Code: {response_code}\")\n",
    "\n",
    "\n",
    "#----- NOTE ------#\n",
    "# --------- TO VERIFY PAGE NOT FOUND 404 ERROR, enter below web link as a input URL --------#\n",
    "#https://roine.github.com/p1\n",
    "\n",
    "#------------- Main ---------------#\n",
    "if __name__ == '__main__':\n",
    "  broken_page()"
   ]
  },
  {
   "cell_type": "markdown",
   "metadata": {
    "id": "tzpTnMMZ11lx"
   },
   "source": [
    "**6. For getting the source code of the webpage**\n",
    "\n",
    "Here, we will be using 'page_source' method is used retrieve the page source of the webpage the user is currently accessing.\n",
    "\n",
    "*NOTE: (Page source : The source code/page source is the programming behind any webpage)*"
   ]
  },
  {
   "cell_type": "code",
   "execution_count": 1,
   "metadata": {
    "colab": {
     "base_uri": "https://localhost:8080/"
    },
    "id": "qOe5DvGA2BFl",
    "outputId": "5724dcee-7435-41b2-a291-3ce761e8709d"
   },
   "outputs": [],
   "source": [
    "# install chromium, its driver, and selenium\n",
    "\n",
    "# set options to be headless, ..\n",
    "from selenium import webdriver\n",
    "options = webdriver.ChromeOptions()\n",
    "options.add_argument('--headless')\n",
    "options.add_argument('--no-sandbox')\n",
    "options.add_argument('--disable-dev-shm-usage')"
   ]
  },
  {
   "cell_type": "code",
   "execution_count": 7,
   "metadata": {
    "colab": {
     "base_uri": "https://localhost:8080/"
    },
    "id": "_bTs5pku2NDv",
    "outputId": "71da7527-6cf9-47ca-d50a-0842b72823ce"
   },
   "outputs": [],
   "source": [
    "#------------- FOR DISPLAYING SOURCE CODE OF THE WEBPAGE -------------#\n",
    "\n",
    "# open it, go to a website, and get results\n",
    "wd = webdriver.Chrome(options=options)\n"
   ]
  },
  {
   "cell_type": "code",
   "execution_count": 10,
   "metadata": {},
   "outputs": [
    {
     "name": "stdout",
     "output_type": "stream",
     "text": [
      "Enter your url:  https://techoid.co/\n"
     ]
    },
    {
     "name": "stdout",
     "output_type": "stream",
     "text": [
      "<html lang=\"en-US\"><head><meta charset=\"UTF-8\"><style type=\"text/css\" data-tippy-stylesheet=\"\">.tippy-iOS{cursor:pointer!important;-webkit-tap-highlight-color:transparent}.tippy-popper{transition-timing-function:cubic-bezier(.165,.84,.44,1);max-width:calc(100% - 8px);pointer-events:none;outline:0}.tippy-popper[x-placement^=top] .tippy-backdrop{border-radius:40% 40% 0 0}.tippy-popper[x-placement^=top] .tippy-roundarrow{bottom:-7px;bottom:-6.5px;-webkit-transform-origin:50% 0;transform-origin:50% 0;margin:0 3px}.tippy-popper[x-placement^=top] .tippy-roundarrow svg{position:absolute;left:0;-webkit-transform:rotate(180deg);transform:rotate(180deg)}.tippy-popper[x-placement^=top] .tippy-arrow{border-top:8px solid #333;border-right:8px solid transparent;border-left:8px solid transparent;bottom:-7px;margin:0 3px;-webkit-transform-origin:50% 0;transform-origin:50% 0}.tippy-popper[x-placement^=top] .tippy-backdrop{-webkit-transform-origin:0 25%;transform-origin:0 25%}.tippy-popper[x-placement^=\n"
     ]
    }
   ],
   "source": [
    "\n",
    "# Prompt user to enter the URL\n",
    "url = input(\"Enter your url: \")\n",
    "\n",
    "# For making request to get the URL\n",
    "wd.get(url)\n",
    "\n",
    "# To display code results - first 1000 characters\n",
    "print(wd.page_source[0:1000])  "
   ]
  },
  {
   "cell_type": "markdown",
   "metadata": {
    "id": "Kt-NE8XUg0Bk"
   },
   "source": [
    "**7. Extraction of all URLs from a website without duplication**"
   ]
  },
  {
   "cell_type": "code",
   "execution_count": 1,
   "metadata": {
    "colab": {
     "base_uri": "https://localhost:8080/"
    },
    "id": "IQINIWBwg65p",
    "outputId": "0a24fd6e-114a-49ee-dadc-dcdc710af1ab"
   },
   "outputs": [
    {
     "name": "stdout",
     "output_type": "stream",
     "text": [
      "https://techoid.co\n",
      "https://techoid.co/\n",
      "https://techoid.co/about-us\n",
      "https://techoid.co/services\n",
      "https://techoid.co/web-development\n",
      "https://techoid.co/mobile-app-development\n",
      "https://techoid.co/cms-development\n",
      "https://techoid.co/digital-marketing\n",
      "https://techoid.co/graphics-designing\n",
      "https://techoid.co/ui-ux\n",
      "https://techoid.co/content-writing\n",
      "https://techoid.co/ai\n",
      "https://techoid.co/iot-based-solutions\n",
      "https://techoid.co/database-development\n",
      "https://techoid.co/it-outsourcing\n",
      "https://techoid.co/software\n",
      "https://techoid.co/asset-tracking\n",
      "https://techoid.co/inventory-management-system\n",
      "https://techoid.co/project-management-system\n",
      "https://techoid.co/erp\n",
      "https://techoid.co/employee-management-system\n",
      "https://techoid.co/hospital-management-system\n",
      "https://techoid.co/careers\n",
      "https://techoid.co/contact-us\n",
      "https://barcodes.pk/\n",
      "https://leathersoutlet.com/\n",
      "https://techoid.uk\n",
      "https://techoid.co/services/software-development\n",
      "https://techoid.co/team/hafiz-ibad-jabbar\n",
      "https://techoid.co/team/muhammad-kamran-ansari\n",
      "https://triplona.com/\n",
      "https://shetravelspk.com/\n",
      "https://techoid.co/case-studies\n",
      "/\n",
      "/careers\n",
      "https://wa.me/+447718307359\n",
      "https://g.page/Techoid\n",
      "https://www.facebook.com/Techoid.co\n",
      "https://twitter.com/Techoidco\n",
      "https://www.linkedin.com/company/techoid\n",
      "https://www.instagram.com/techoidco/\n",
      "https://www.youtube.com/channel/UCR4AbK585_KDeVXnD_qv-fg/\n"
     ]
    }
   ],
   "source": [
    "#---- Importing libraries ----#\n",
    "import re\n",
    "import requests\n",
    "from bs4 import BeautifulSoup\n",
    "\n",
    "all_links = set() #------ Creating a unique set of links ------#\n",
    "\n",
    "for i in range(7):\n",
    "   r = requests.get((\"https://techoid.co/?page={}\").format(i))\n",
    "   soup = BeautifulSoup(r.content , \"html.parser\")\n",
    "   for link in soup.find_all(\"a\",href=re.compile('/')):\n",
    "            link = (link.get('href'))\n",
    "            #----- For the removal of duplicate URLs, We will simply add a link to that set; this assures that it's distinct ------#\n",
    "            if link not in all_links:\n",
    "              print(link)\n",
    "            all_links.add(link)"
   ]
  },
  {
   "cell_type": "markdown",
   "metadata": {
    "id": "aCyCKVYPhBja"
   },
   "source": [
    "**8. Measuring the forntend and backend performance of website**"
   ]
  },
  {
   "cell_type": "code",
   "execution_count": 11,
   "metadata": {
    "id": "VZkNixPphV4c"
   },
   "outputs": [],
   "source": [
    "#---- Importing libraries ----#\n",
    "from selenium import webdriver\n",
    "from selenium.webdriver.common.keys import Keys\n",
    "import time\n",
    "import csv\n",
    "import os.path"
   ]
  },
  {
   "cell_type": "code",
   "execution_count": 13,
   "metadata": {
    "id": "9kzFBdrWheIg"
   },
   "outputs": [],
   "source": [
    "\n",
    "from selenium import webdriver\n",
    "options = webdriver.ChromeOptions()\n",
    "options.add_argument('--headless')\n",
    "options.add_argument('--no-sandbox')\n",
    "options.add_argument('--disable-dev-shm-usage')\n",
    "wd = webdriver.Chrome('chromedriver',options=options)\n",
    "driver =webdriver.Chrome('chromedriver',options=options)"
   ]
  },
  {
   "cell_type": "code",
   "execution_count": 14,
   "metadata": {
    "colab": {
     "base_uri": "https://localhost:8080/"
    },
    "id": "GkYTM9aGhsTG",
    "outputId": "7e0b8036-50af-4bfe-b125-e795af467998"
   },
   "outputs": [
    {
     "name": "stdout",
     "output_type": "stream",
     "text": [
      "Enter url : https://techoid.co/\n"
     ]
    },
    {
     "name": "stdout",
     "output_type": "stream",
     "text": [
      "This is the website link that you entered: https://techoid.co/\n",
      "Iteration no: 0\n",
      "Back End performance in MS: 1288\n",
      "Front End performance in MS: 12419\n",
      "------------------------\n",
      "Iteration no: 1\n",
      "Back End performance in MS: 965\n",
      "Front End performance in MS: 5316\n",
      "------------------------\n",
      "Iteration no: 2\n",
      "Back End performance in MS: 1373\n",
      "Front End performance in MS: 15613\n",
      "------------------------\n",
      "Iteration no: 3\n",
      "Back End performance in MS: 985\n",
      "Front End performance in MS: 3324\n",
      "------------------------\n",
      "Iteration no: 4\n",
      "Back End performance in MS: 972\n",
      "Front End performance in MS: 6576\n",
      "------------------------\n",
      "Iteration no: 5\n",
      "Back End performance in MS: 878\n",
      "Front End performance in MS: 10798\n",
      "------------------------\n",
      "Iteration no: 6\n",
      "Back End performance in MS: 1047\n",
      "Front End performance in MS: 11079\n",
      "------------------------\n",
      "Iteration no: 7\n",
      "Back End performance in MS: 963\n",
      "Front End performance in MS: 7248\n",
      "------------------------\n",
      "Iteration no: 8\n",
      "Back End performance in MS: 949\n",
      "Front End performance in MS: 7046\n",
      "------------------------\n",
      "Iteration no: 9\n",
      "Back End performance in MS: 1086\n",
      "Front End performance in MS: 6525\n",
      "------------------------\n"
     ]
    }
   ],
   "source": [
    "#----- Creating csv file to write the calculated performance of the website\n",
    "csv_path = \"performance.csv\"\n",
    "file = open(csv_path, 'w', newline='')\n",
    "writer = csv.writer(file)\n",
    "writer.writerow([\"backendPerformance_calc\",\"frontendPerformance_calc\"])\n",
    "\n",
    "\n",
    "#----- Getting input for webiste from user\n",
    "url = input(\"Enter url :\")\n",
    "print(\"This is the website link that you entered:\", url)\n",
    "\n",
    "#----- Setting iterations for testing the perfromance\n",
    "iterations = 10\n",
    "for i in range(iterations):\n",
    "    driver =webdriver.Chrome('chromedriver',options=options)\n",
    "    driver.get(url) #-- Passing url as parameter in Selenium method (driver.get)\n",
    "\n",
    "    #-- Using Navigation Timing API to calculate the timings, Here driver.execute_script is called and the return value is stored in navigationStart\n",
    "    #driver.execute_script then synchronously executes JavaScript in the current window or frame. In this case the ‘return window.performance.timing.navigationStart’ code will run.\n",
    "    navigationStart = driver.execute_script(\"return window.performance.timing.navigationStart\")\n",
    "    responseStart = driver.execute_script(\"return window.performance.timing.responseStart\")\n",
    "    domComplete = driver.execute_script(\"return window.performance.timing.domComplete\")\n",
    "\n",
    "    backendPerformance_calc = responseStart - navigationStart\n",
    "    frontendPerformance_calc = domComplete - responseStart\n",
    "\n",
    "    #--This will print iteration wise backend and front end performance for website\n",
    "    print(\"Iteration no:\", i)\n",
    "    print(\"Back End performance in MS: %s\" % backendPerformance_calc)\n",
    "    print(\"Front End performance in MS: %s\" % frontendPerformance_calc)\n",
    "    print(\"------------------------\")\n",
    "\n",
    "    #-- Writing row wise data in the file\n",
    "    writer.writerow([backendPerformance_calc,frontendPerformance_calc])\n",
    "    driver.close()\n",
    "    \n",
    "\n"
   ]
  },
  {
   "cell_type": "code",
   "execution_count": 15,
   "metadata": {
    "id": "QnGt_IaZh6rR"
   },
   "outputs": [],
   "source": [
    "#---- For closing the CSV file and the WebDriver ----#\n",
    "driver.quit()\n",
    "file.close()\n"
   ]
  },
  {
   "cell_type": "code",
   "execution_count": 16,
   "metadata": {
    "id": "nTT-GEDFiAA4"
   },
   "outputs": [],
   "source": [
    "#---- To view performance in a dataframe ----#\n",
    "import pandas as pd\n",
    "df=pd.read_csv(\"performance.csv\")"
   ]
  },
  {
   "cell_type": "code",
   "execution_count": 17,
   "metadata": {
    "colab": {
     "base_uri": "https://localhost:8080/",
     "height": 359
    },
    "id": "jhX1iNF5iJL1",
    "outputId": "4d7bc937-8656-47a7-cf8b-fdaf9b21773b"
   },
   "outputs": [
    {
     "data": {
      "text/html": [
       "<div>\n",
       "<style scoped>\n",
       "    .dataframe tbody tr th:only-of-type {\n",
       "        vertical-align: middle;\n",
       "    }\n",
       "\n",
       "    .dataframe tbody tr th {\n",
       "        vertical-align: top;\n",
       "    }\n",
       "\n",
       "    .dataframe thead th {\n",
       "        text-align: right;\n",
       "    }\n",
       "</style>\n",
       "<table border=\"1\" class=\"dataframe\">\n",
       "  <thead>\n",
       "    <tr style=\"text-align: right;\">\n",
       "      <th></th>\n",
       "      <th>backendPerformance_calc</th>\n",
       "      <th>frontendPerformance_calc</th>\n",
       "    </tr>\n",
       "  </thead>\n",
       "  <tbody>\n",
       "    <tr>\n",
       "      <th>0</th>\n",
       "      <td>1288</td>\n",
       "      <td>12419</td>\n",
       "    </tr>\n",
       "    <tr>\n",
       "      <th>1</th>\n",
       "      <td>965</td>\n",
       "      <td>5316</td>\n",
       "    </tr>\n",
       "    <tr>\n",
       "      <th>2</th>\n",
       "      <td>1373</td>\n",
       "      <td>15613</td>\n",
       "    </tr>\n",
       "    <tr>\n",
       "      <th>3</th>\n",
       "      <td>985</td>\n",
       "      <td>3324</td>\n",
       "    </tr>\n",
       "    <tr>\n",
       "      <th>4</th>\n",
       "      <td>972</td>\n",
       "      <td>6576</td>\n",
       "    </tr>\n",
       "    <tr>\n",
       "      <th>5</th>\n",
       "      <td>878</td>\n",
       "      <td>10798</td>\n",
       "    </tr>\n",
       "    <tr>\n",
       "      <th>6</th>\n",
       "      <td>1047</td>\n",
       "      <td>11079</td>\n",
       "    </tr>\n",
       "    <tr>\n",
       "      <th>7</th>\n",
       "      <td>963</td>\n",
       "      <td>7248</td>\n",
       "    </tr>\n",
       "    <tr>\n",
       "      <th>8</th>\n",
       "      <td>949</td>\n",
       "      <td>7046</td>\n",
       "    </tr>\n",
       "    <tr>\n",
       "      <th>9</th>\n",
       "      <td>1086</td>\n",
       "      <td>6525</td>\n",
       "    </tr>\n",
       "  </tbody>\n",
       "</table>\n",
       "</div>"
      ],
      "text/plain": [
       "   backendPerformance_calc  frontendPerformance_calc\n",
       "0                     1288                     12419\n",
       "1                      965                      5316\n",
       "2                     1373                     15613\n",
       "3                      985                      3324\n",
       "4                      972                      6576\n",
       "5                      878                     10798\n",
       "6                     1047                     11079\n",
       "7                      963                      7248\n",
       "8                      949                      7046\n",
       "9                     1086                      6525"
      ]
     },
     "execution_count": 17,
     "metadata": {},
     "output_type": "execute_result"
    }
   ],
   "source": [
    "#----- Displaying DataFrames output ------#\n",
    "df"
   ]
  }
 ],
 "metadata": {
  "colab": {
   "collapsed_sections": [],
   "name": "Web Scraping using python and beautifulsoup.ipynb",
   "provenance": []
  },
  "kernelspec": {
   "display_name": "big-data",
   "language": "python",
   "name": "python3"
  },
  "language_info": {
   "codemirror_mode": {
    "name": "ipython",
    "version": 3
   },
   "file_extension": ".py",
   "mimetype": "text/x-python",
   "name": "python",
   "nbconvert_exporter": "python",
   "pygments_lexer": "ipython3",
   "version": "3.9.13 | packaged by conda-forge | (main, May 27 2022, 16:50:36) [MSC v.1929 64 bit (AMD64)]"
  },
  "vscode": {
   "interpreter": {
    "hash": "39eb3e514d04e5dd1d9c3be9720fd01386e973eeae420c3a8d82952aa282d4a2"
   }
  }
 },
 "nbformat": 4,
 "nbformat_minor": 4
}
