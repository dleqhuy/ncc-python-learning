{
 "cells": [
  {
   "cell_type": "code",
   "execution_count": 1,
   "metadata": {},
   "outputs": [],
   "source": [
    "# default_exp utils"
   ]
  },
  {
   "cell_type": "markdown",
   "metadata": {},
   "source": [
    "\n",
    "# More complex requests\n",
    "* no headers\n",
    "* has headers\n",
    "* There are cookies\n",
    "# JSON storage data\n",
    "# Automatic identification list\n",
    "# Automatically identify the next page\n",
    "# Automatically identify the content on the list\n",
    "\n",
    "* [Requests](https://requests.readthedocs.io/en/master/)\n",
    "* [BeautifulSoup](https://beautiful-soup-4.readthedocs.io/en/latest/index.html)\n"
   ]
  },
  {
   "cell_type": "code",
   "execution_count": 2,
   "metadata": {},
   "outputs": [],
   "source": [
    "# export\n",
    "import requests,json,re\n",
    "from bs4 import BeautifulSoup,Tag,NavigableString\n",
    "from collections import Counter"
   ]
  },
  {
   "cell_type": "code",
   "execution_count": 3,
   "metadata": {},
   "outputs": [
    {
     "name": "stdout",
     "output_type": "stream",
     "text": [
      "start: https://www.zhihu.com/topic/19554834/hot\n",
      "start: https://book.douban.com/tag/%E5%A4%96%E5%9B%BD%E6%96%87%E5%AD%A6\n",
      "start: https://search.bilibili.com/all?keyword=%E5%A4%A7%E7%88%B7&from_source=banner_search\n",
      "start: https://github.com/trending\n",
      "start: https://search.jd.com/Search?keyword=%E7%94%B5%E8%84%91&enc=utf-8&wq=%E7%94%B5%E8%84%91&pvid=254ed16260384a18a34c1c452b6db180\n",
      "start: https://bj.lianjia.com/ershoufang/\n",
      "start: https://weixin.sogou.com/weixin?type=2&ie=utf8&s_from=hotnews&query=%E9%9B%B7%E7%A5%9E%E5%B1%B1%E6%9C%BA%E5%99%A8%E4%BA%BA%E4%B8%8A%E5%B2%97\n"
     ]
    }
   ],
   "source": [
    "urls = '''\n",
    "https://www.zhihu.com/topic/19554834/hot\n",
    "https://book.douban.com/tag/%E5%A4%96%E5%9B%BD%E6%96%87%E5%AD%A6\n",
    "https://search.bilibili.com/all?keyword=%E5%A4%A7%E7%88%B7&from_source=banner_search\n",
    "https://github.com/trending\n",
    "https://search.jd.com/Search?keyword=%E7%94%B5%E8%84%91&enc=utf-8&wq=%E7%94%B5%E8%84%91&pvid=254ed16260384a18a34c1c452b6db180\n",
    "https://bj.lianjia.com/ershoufang/\n",
    "https://weixin.sogou.com/weixin?type=2&ie=utf8&s_from=hotnews&query=%E9%9B%B7%E7%A5%9E%E5%B1%B1%E6%9C%BA%E5%99%A8%E4%BA%BA%E4%B8%8A%E5%B2%97\n",
    "'''\n",
    "url_list = urls.strip().split('\\n')\n",
    "soup_list = []\n",
    "\n",
    "for url in url_list:\n",
    "    print('start:',url)\n",
    "    res = requests.get(url,headers={'user-agent':'Mozilla/5.0'})\n",
    "    if res.status_code == 200:\n",
    "        soup = BeautifulSoup(res.text,'lxml')\n",
    "        soup_list.append(soup)\n",
    "    else:\n",
    "        print(res,res.text)"
   ]
  },
  {
   "cell_type": "code",
   "execution_count": 4,
   "metadata": {},
   "outputs": [
    {
     "data": {
      "text/plain": [
       "True"
      ]
     },
     "execution_count": 4,
     "metadata": {},
     "output_type": "execute_result"
    }
   ],
   "source": [
    "len(soup_list) == len(url_list)"
   ]
  },
  {
   "cell_type": "markdown",
   "metadata": {},
   "source": [
    "## 更复杂的请求\n",
    "> 以豆瓣网为例"
   ]
  },
  {
   "cell_type": "markdown",
   "metadata": {},
   "source": [
    "一开始没有header的请求会被拒绝，因为服务器会把这次的请求当成是机器人，status_code是418"
   ]
  },
  {
   "cell_type": "code",
   "execution_count": 5,
   "metadata": {},
   "outputs": [
    {
     "data": {
      "text/plain": [
       "(<Response [418]>, '')"
      ]
     },
     "execution_count": 5,
     "metadata": {},
     "output_type": "execute_result"
    }
   ],
   "source": [
    "# hide\n",
    "search_query = '1234'\n",
    "url = f'https://www.douban.com/search?q={search_query}'\n",
    "res = requests.get(url)\n",
    "res,res.text"
   ]
  },
  {
   "cell_type": "markdown",
   "metadata": {},
   "source": [
    "加了header之后，服务器就把它当成了Mozilla浏览器，就有response的数据了"
   ]
  },
  {
   "cell_type": "code",
   "execution_count": 6,
   "metadata": {},
   "outputs": [
    {
     "data": {
      "text/plain": [
       "<Response [200]>"
      ]
     },
     "execution_count": 6,
     "metadata": {},
     "output_type": "execute_result"
    }
   ],
   "source": [
    "# hide\n",
    "headers = {'user-agent':'Mozilla/5.0'}\n",
    "res = requests.get(url,headers=headers)\n",
    "res"
   ]
  },
  {
   "cell_type": "markdown",
   "metadata": {},
   "source": [
    "想要发布一个动态就需要登录状态，而cookie就是登录状态的载体，cookie就是用帐号密码登录后获取的凭证"
   ]
  },
  {
   "cell_type": "code",
   "execution_count": 7,
   "metadata": {},
   "outputs": [],
   "source": [
    "# hide\n",
    "url = 'https://www.douban.com/'\n",
    "data = {'comment':'hello world','ck':'zV8Z','privacy_and_reply_limit':'P,'}"
   ]
  },
  {
   "cell_type": "code",
   "execution_count": 8,
   "metadata": {},
   "outputs": [],
   "source": [
    "# export\n",
    "def format_cookie_str(cookie_str):\n",
    "    '把chrome拷贝过来的cookie字符转化成dict'\n",
    "    cookies = {}\n",
    "    for item in cookie_str.split('; '):\n",
    "        k,v = item.split('=',1)\n",
    "        cookies[k] = v\n",
    "    return cookies"
   ]
  },
  {
   "cell_type": "code",
   "execution_count": 9,
   "metadata": {},
   "outputs": [
    {
     "data": {
      "text/plain": [
       "{'bid': '1i8YWHFPDwI',\n",
       " 'gr_user_id': '5b798ccf-0dc3-41f7-9358-ab221ae5c248',\n",
       " '__utmc': '30149280',\n",
       " '__utmz': '30149280.1582040380.5.5.utmcsr=google|utmccn=(organic)|utmcmd=organic|utmctr=(not%20provided)',\n",
       " 'll': '\"118124\"',\n",
       " '_pk_ref.100001.8cb4': '%5B%22%22%2C%22%22%2C1582185091%2C%22https%3A%2F%2Fwww.google.com%2F%22%5D',\n",
       " '_pk_ses.100001.8cb4': '*',\n",
       " '__utma': '30149280.682236232.1580713449.1582121697.1582185095.7',\n",
       " 'ap_v': '0,6.0',\n",
       " 'viewed': '\"19672873_30243169_4233221\"',\n",
       " 'gr_cs1_6bb1b2b8-0a3e-4e02-9e3c-4f359d514576': 'user_id%3A0',\n",
       " '__utmt_douban': '1',\n",
       " 'dbcl2': '\"140014301:Td6zJ+yn5sA\"',\n",
       " 'ck': 'zV8Z',\n",
       " 'gr_session_id_22c937bbd8ebd703f2d8e9445f7dfd03': '7a596b44-fe53-45f0-90fa-2c24b2faa365',\n",
       " 'gr_cs1_7a596b44-fe53-45f0-90fa-2c24b2faa365': 'user_id%3A1',\n",
       " 'gr_session_id_22c937bbd8ebd703f2d8e9445f7dfd03_7a596b44-fe53-45f0-90fa-2c24b2faa365': 'true',\n",
       " 'push_noty_num': '0',\n",
       " 'push_doumail_num': '0',\n",
       " '__utmv': '30149280.14001',\n",
       " '__utmt': '1',\n",
       " 'ps': 'y',\n",
       " '_pk_id.100001.8cb4': '7bc8021c269d7e50.1580713448.6.1582185748.1582121848.',\n",
       " '__utmb': '30149280.18.10.1582185095'}"
      ]
     },
     "execution_count": 9,
     "metadata": {},
     "output_type": "execute_result"
    }
   ],
   "source": [
    "cookie_str = 'bid=1i8YWHFPDwI; gr_user_id=5b798ccf-0dc3-41f7-9358-ab221ae5c248; __utmc=30149280; __utmz=30149280.1582040380.5.5.utmcsr=google|utmccn=(organic)|utmcmd=organic|utmctr=(not%20provided); ll=\"118124\"; _pk_ref.100001.8cb4=%5B%22%22%2C%22%22%2C1582185091%2C%22https%3A%2F%2Fwww.google.com%2F%22%5D; _pk_ses.100001.8cb4=*; __utma=30149280.682236232.1580713449.1582121697.1582185095.7; ap_v=0,6.0; viewed=\"19672873_30243169_4233221\"; gr_cs1_6bb1b2b8-0a3e-4e02-9e3c-4f359d514576=user_id%3A0; __utmt_douban=1; dbcl2=\"140014301:Td6zJ+yn5sA\"; ck=zV8Z; gr_session_id_22c937bbd8ebd703f2d8e9445f7dfd03=7a596b44-fe53-45f0-90fa-2c24b2faa365; gr_cs1_7a596b44-fe53-45f0-90fa-2c24b2faa365=user_id%3A1; gr_session_id_22c937bbd8ebd703f2d8e9445f7dfd03_7a596b44-fe53-45f0-90fa-2c24b2faa365=true; push_noty_num=0; push_doumail_num=0; __utmv=30149280.14001; __utmt=1; ps=y; _pk_id.100001.8cb4=7bc8021c269d7e50.1580713448.6.1582185748.1582121848.; __utmb=30149280.18.10.1582185095'\n",
    "cookies = format_cookie_str(cookie_str)\n",
    "cookies"
   ]
  },
  {
   "cell_type": "code",
   "execution_count": 10,
   "metadata": {},
   "outputs": [
    {
     "data": {
      "text/plain": [
       "'\\n\\n\\n<!DOCTYPE HTML>\\n<html lang=\"zh-cmn-Hans\" class=\"\">\\n<head>\\n<meta charset=\"UTF-8\">\\n<meta name=\"google-site-verification\" content=\"ok0wCgT20tBBgo9_zat2iAcimtN4Ftf5ccsh092Xeyw\" />\\n<meta name=\"description\" content=\"提供图书、电影、音乐唱片的推荐、评论和价格比较，以及城市独特的文化生活。\">\\n<meta name=\"keywords\" content=\"豆瓣,小组,电影,同城,豆品,广播,登录豆瓣\">\\n<meta property=\"qc:admins\" content=\"2554215131764752166375\" />\\n<meta property=\"wb:webmaster\" content=\"375d4a17a4fa24c2\" />\\n<meta name=\"mobile-agent\" content=\"format=html5; url=https://m.douban.com\">\\n<title>豆瓣</title>\\n<script>\\nfunction set_cookie(t,e,o,n){var i,a,r=new Date;r.setTime(r.getTime()+24*(e||30)*60*60*1e3),i=\"; expires=\"+r.toGMTString();for(a in t)document.cookie=a+\"=\"+t[a]+i+\"; domain=\"+(o||\"douban.com\")+\"; path=\"+(n||\"/\")}function get_cookie(t){var e,o,n=t+\"=\",i=document.cookie.split(\";\");for(e=0;e<i.length;e++){for(o=i[e];\" \"==o.charAt(0);)o=o.substring(1,o.length);if(0===o.indexOf(n))return o.substring(n.length,o.length).replace(/\\\\\"/g,\"\")}return null}window.Douban=window.Douban||{};var Do=function(){Do.actions.push([].slice.call(arguments))};Do.ready=function(){Do.actions.push([].slice.call(arguments))},Do.add=Do.define=function(t,e){Do.mods[t]=e},Do.global=function(){Do.global.mods=Array.prototype.concat(Do.global.mods,[].slice.call(arguments))},Do.global.mods=[],Do.mods={},Do.actions=[],Douban.init_show_login=function(t){Do(\"dialog\",function(){var t=\"/j/misc/login_form\";dui.Dialog({title:\"登录\",url:t,width:/device-mobile/i.test(document.documentElement.className)?.9*document.documentElement.offsetWidth:350,cache:!0,callback:function(t,e){e.node.addClass(\"dialog-login\"),e.node.find(\"h2\").css(\"display\",\"none\"),e.node.find(\".hd h3\").replaceWith(e.node.find(\".bd h3\")),e.node.find(\"form\").css({border:\"none\",width:\"auto\",padding:\"0\"}),e.update()}}).open()})},Do(function(){function t(t,e){var o=[\"ref=\"+encodeURIComponent(location.pathname)];for(var n in e)e.hasOwnProperty(n)&&o.push(n+\"=\"+e[n]);window._SPLITTEST&&o.push(\"splittest=\"+window._SPLITTEST),localStorage.setItem(\"report\",(localStorage.getItem(\"report\")||\"\")+\"_moreurl_separator_\"+o.join(\"&\"))}!function(){\"localStorage\"in window||(window.localStorage=function(){var t=document;if(!t.documentElement.addBehavior)throw\"don\\'t support localstorage or userdata.\";var e=\"_localstorage_ie\",o=t.createElement(\"input\");o.type=\"hidden\";var n=function(n){return function(){t.body.appendChild(o),o.addBehavior(\"#default#userData\");var i=new Date;i.setDate(i.getDate()+365),o.expires=i.toUTCString(),o.load(e);var a=n.apply(o,arguments);return t.body.removeChild(o),a}};return{getItem:n(function(t){return this.getAttribute(t)}),setItem:n(function(t,o){this.setAttribute(t,o),this.save(e)}),removeItem:n(function(t){this.removeAttribute(t),this.save(e)}),clear:n(function(){for(var t,o=this.XMLDocument.documentElement.attributes,n=0;t=o[n];n++)this.removeAttribute(t.name);this.save(e)})}}())}(),$(window).one(\"load\",function(){var t=localStorage.getItem(\"report\");if(t){t=t.split(\"_moreurl_separator_\");var e=function(o){return\"\"==o?void e(t.shift()):void $.get(\"undefined\"==typeof _MOREURL_REQ?\"/stat.html?\"+o:_MOREURL_REQ+\"?\"+o,function(){return t.length?(e(t.shift()),void localStorage.setItem(\"report\",t.join(\"_moreurl_separator_\"))):void localStorage.removeItem(\"report\")})};e(t.shift())}}),window.moreurl=t,$(document).click(function(e){var o=e.target,n=$(o).data(\"moreurl-dict\");n&&t(o,n)}),$.ajax_withck=function(t){return\"POST\"==t.type&&(t.data=$.extend(t.data||{},{ck:get_cookie(\"ck\")})),$.ajax(t)},$.postJSON_withck=function(t,e,o){return $.post_withck(t,e,o,\"json\")},$.post_withck=function(t,e,o,n){return $.isFunction(e)&&(n=o,o=e,e={}),$.ajax({type:\"POST\",url:t,data:$.extend(e,{ck:get_cookie(\"ck\")}),success:o,dataType:n||\"text\"})},$(\"html\").click(function(t){var e=$(t.target),o=e.attr(\"class\");o&&$(o.match(/a_(\\\\w+)/gi)).each($.proxy(function(e,o){var n=Douban[o.replace(/^a_/,\"init_\")];\"function\"==typeof n&&(t.preventDefault(),n.call(this,t))},e[0]))})});\\nDo.add(\\'dialog\\', {path: \\'https://img1.doubanio.com/f/shire/bc881a837a728ab82aa01d653b1c180190bb5a5d/js/ui/dialog.js\\', type: \\'js\\', requires: [\\'https://img1.doubanio.com/f/shire/8377b9498330a2e6f056d863987cc7a37eb4d486/css/ui/dialog.css\\']});\\nDo.global(\\'https://img1.doubanio.com/f/sns/b5793c2d7c298173d57ecf7d96708b5615336def/js/sns/fp/base.js\\', \\'dialog\\');\\n</script>\\n<link rel=\"stylesheet\" href=\"https://img1.doubanio.com/f/shire/32336a6003aedfb3aed372bf3ae0b51c92d12316/css/core/_init_.css\">\\n<link rel=\"stylesheet\" href=\"https://img1.doubanio.com/f/sns/ff18c28bb4d2a80510aa6599f1726ddf758faa55/css/sns/dist/anonymous_home/index.css\">\\n<style type=\"text/css\">\\n.rec_topics_name{\\n    display: inline-block;\\n    margin-bottom: 6px;\\n    font-size: 14px;\\n    line-height: 1.3;\\n    color: #3377aa;\\n}\\n.rec_topics_subtitle{\\n    display: block;\\n    margin-bottom: 15px;\\n    font-size: 13px;\\n    line-height: 1;\\n    color: #aaaaaa;\\n    white-space: nowrap;\\n    overflow: hidden;\\n    text-overflow: ellipsis;\\n}\\n.rec_topics_label{\\n    transform: translateY(-0.5px);\\n    display: inline-block;\\n    font-size: 13px;\\n    margin-left: 2px;\\n}\\n.rec_topics{\\n    line-height: 1;\\n    margin-bottom: 15px;\\n}\\n.rec_topics:last-child{\\n    margin-bottom: 0;\\n}\\n.rec_topics_label_ad{\\n    color: #c9c9c9;\\n    -moz-transform: scale(0.91);\\n    -webkit-transform: scale(0.91);\\n    transform: scale(0.91);\\n}\\n\\nhtml[class*=ua-ff] .rec_topics_subtitle{\\n    line-height: 14px;\\n}\\n\\n</style>\\n</head>\\n\\n<body class=\\'\\'>\\n\\n\\n<div>\\n  <div id=\"anony-nav-banner\"\\n    style=\"clear: both;overflow: hidden;background-color: #EDF4EC;margin-bottom: 30px;margin-top: -30px;\">\\n    <h1 id=\"douban-logo\"\\n      style=\"height: 20px;width: 102px;margin: 7px 13px;background-size: contain;\">\\n      <a href=\"https://www.douban.com\"\\n        style=\"height: 20px;\">豆瓣</a>\\n    </h1>\\n  </div>\\n  <div id=\"anony-nav\">\\n    <div class=\"anony-nav-links\">\\n      <ul>\\n        <li>\\n          <a target=\"_blank\" class=\"lnk-book\" href=\"https://book.douban.com\">豆瓣读书</a>\\n        </li>\\n        <li> \\n          <a target=\"_blank\" class=\"lnk-movie\" href=\"https://movie.douban.com\">豆瓣电影</a>\\n        </li>\\n        <li>\\n          <a target=\"_blank\" class=\"lnk-music\" href=\"https://music.douban.com\">豆瓣音乐</a>\\n        </li>\\n        <li>\\n          <a target=\"_blank\" class=\"lnk-events\" href=\"https://www.douban.com/location/\">豆瓣同城</a>\\n        </li>\\n        <li>\\n          <a target=\"_blank\" class=\"lnk-group\" href=\"https://www.douban.com/group/\">豆瓣小组</a>\\n        </li>\\n        <li>\\n          <a target=\"_blank\" class=\"lnk-read\" href=\"https://read.douban.com\">豆瓣阅读</a>\\n        </li>\\n        <li>\\n          <a target=\"_blank\" class=\"lnk-fm\" href=\"https://douban.fm\">豆瓣FM</a>\\n        </li>\\n        <li>\\n          <a target=\"_blank\" class=\"lnk-shijian\" href=\"https://time.douban.com/?dt_time_source=douban-web_anonymous_index_top_nav\">豆瓣时间</a>\\n        </li>\\n        <li>\\n          <a target=\"_blank\" class=\"lnk-market\" href=\"https://market.douban.com?utm_campaign=anonymous_top_nav&utm_source=douban&utm_medium=pc_web\">豆瓣豆品</a>\\n        </li>\\n      </ul>\\n    </div>\\n\\n    <div class=\"site-name\" title=\"豆瓣网\"\\n      style=\"display: inline-block; line-height: 24px; height: 24px; margin-top: 4px;margin-right: 24px;width: 73px;background-image: url(https://img1.doubanio.com/f/sns/714b8751a533ef592bea5cd4603dbb9e713ded61/pics/sns/sitename.png);background-size: contain; background-repeat: no-repeat;text-indent: -999em;\">\\n      豆瓣网\\n    </div>\\n\\n    <div class=\"anony-srh\">\\n    <form action=\"https://www.douban.com/search\" method=\"get\">\\n      <span class=\"inp\"><input type=\"text\" maxlength=\"60\" size=\"12\" placeholder=\"书籍、电影、音乐、小组、小站、成员\" name=\"q\" autocomplete=\"off\"></span>\\n    <span class=\"bn\"><input type=\"submit\" value=\"搜索\"></span>\\n    </form>\\n    </div>\\n  </div>\\n</div>\\n\\n\\n<div id=\"anony-reg-new\" style=\"background-image: url(https://img9.doubanio.com/view/puppy_image/raw/public/1771365ca98ig9er706.jpg)\">\\n  <div class=\"wrapper\">\\n    <div class=\"login\">\\n      <iframe style=\"height: 300px; width: 300px;\" frameborder=\\'0\\' src=\"//accounts.douban.com/passport/login_popup?login_source=anony\"></iframe>\\n    </div>\\n    <div class=\"app\">\\n      <p class=\"app-title\">豆瓣<span>7.0</span></p>\\n      <p class=\"app-slogan\"></p>\\n      <a href=\"https://www.douban.com/doubanapp/app?channel=nimingye\" class=\"lnk-app\">下载豆瓣 App</a>\\n      <div class=\"app-qr\">\\n        <a href=\"javascript: void 0;\" class=\"lnk-qr\" id=\"expand-qr\"><img src=\"https://img1.doubanio.com/f/sns/0c708de69ce692883c1310053c5748c538938cb0/pics/sns/anony_home/icon_qrcode_green.png\" width=\"28\" height=\"28\" /></a>\\n        <div class=\"app-qr-expand\">\\n          <img src=\"https://img1.doubanio.com/f/sns/1cad523e614ec4ecb6bf91b054436bb79098a958/pics/sns/anony_home/doubanapp_qrcode.png\" width=\"160\" height=\"160\" />\\n          <p>iOS / Android 扫码直接下载</p>\\n        </div>\\n      </div>\\n    </div>\\n  </div>\\n  <script>\\n  Do(function() {\\n    var app_qr = $(\\'.app-qr\\');\\n    app_qr.hover(function() {\\n      app_qr.addClass(\\'open\\');\\n    }, function() {\\n      app_qr.removeClass(\\'open\\');\\n    });\\n  });\\n  </script>\\n</div>\\n\\n\\n\\n\\n      \\n<div id=\"anony-sns\" class=\"section\">\\n  <div class=\"wrapper\">\\n  \\n<!-- douban ad begin -->\\n<div id=\"dale_anonymous_homepage_top_for_crazy_ad\"></div>\\n<!-- douban ad end -->\\n\\n  \\n  <div class=\"side\">\\n  <div style=\"margin:10px 0px;\">\\n    <div id=\"dale_anonymous_homepage_right_top\"></div>\\n  </div>\\n  <div class=\"online\">\\n    <ul>\\n      \\n\\n\\n\\n\\n\\n\\n<div class=\"mod\">\\n    \\n    <h2>\\n        热门话题\\n            &nbsp;&middot;&nbsp;&middot;&nbsp;&middot;&nbsp;&middot;&nbsp;&middot;&nbsp;&middot;\\n            <span class=\"pl\">&nbsp;(\\n                \\n                    <a href=\"/gallery/\" target=\"_self\">去话题广场</a>\\n                ) </span>\\n    </h2>\\n\\n\\n    <ul>\\n        \\n            <li class=\"rec_topics\">\\n                    <a href=\"https://www.douban.com/gallery/topic/3375703/?from=hot_topic_anony_sns\" class=\"rec_topics_name\">把生活拍成电影海报</a>\\n                    \\n                    <span class=\"rec_topics_subtitle\">2295.1万次浏览</span>\\n            </li>\\n            <li class=\"rec_topics\">\\n                    <a href=\"https://www.douban.com/gallery/topic/3314335/?from=hot_topic_anony_sns\" class=\"rec_topics_name\">生活中意外降临的「归零」时刻</a>\\n                    \\n                    <span class=\"rec_topics_subtitle\">409.8万次浏览</span>\\n            </li>\\n            <li class=\"rec_topics\">\\n                    <a href=\"https://www.douban.com/gallery/topic/10340/?from=hot_topic_anony_sns\" class=\"rec_topics_name\">如果你的生命还有一周，你会如何度过？</a>\\n                    \\n                    <span class=\"rec_topics_subtitle\">16.9万次浏览</span>\\n            </li>\\n            <li class=\"rec_topics\">\\n                    <a href=\"https://www.douban.com/gallery/topic/10348/?from=hot_topic_anony_sns\" class=\"rec_topics_name\">作为一个写作者，你都读什么书？</a>\\n                    \\n                    <span class=\"rec_topics_subtitle\">9.3万次浏览</span>\\n            </li>\\n            <li class=\"rec_topics\">\\n                    <a href=\"https://www.douban.com/gallery/topic/49464/?from=hot_topic_anony_sns\" class=\"rec_topics_name\">家长会那些事</a>\\n                    \\n                    <span class=\"rec_topics_subtitle\">5.8万次浏览</span>\\n            </li>\\n            <li class=\"rec_topics\">\\n                    <a href=\"https://www.douban.com/gallery/topic/74941/?from=hot_topic_anony_sns\" class=\"rec_topics_name\">大学时期与同学拍摄微电影的难忘经历</a>\\n                    \\n                    <span class=\"rec_topics_subtitle\">4.0万次浏览</span>\\n            </li>\\n    </ul>\\n</div>\\n\\n      <!-- douban ad begin -->\\n      <li>\\n        <div id=\"dale_homepage_online_activity_promo_1\"></div>\\n      </li>\\n      <li>\\n        <div id=\"dale_anonymous_homepage_doublemint\"></div>\\n      </li>\\n      <!-- douban ad end -->\\n    </ul>\\n  </div>\\n</div>\\n  <div class=\"main\">\\n<div class=\"mod\">\\n\\n  \\n    <h2>\\n        热点内容\\n            &nbsp;&middot;&nbsp;&middot;&nbsp;&middot;&nbsp;&middot;&nbsp;&middot;&nbsp;&middot;\\n            <span class=\"pl\">&nbsp;(\\n                \\n                    <a href=\"https://www.douban.com/explore/\" target=\"_self\">更多</a>\\n                ) </span>\\n    </h2>\\n\\n  <div class=\"albums\">\\n    <ul>\\n      <li>\\n      <div class=\"pic\">\\n          <a href=\"https://www.douban.com/photos/album/1883249057/\"><img src=\"https://img1.doubanio.com/f/shire/a1fdee122b95748d81cee426d717c05b5174fe96/pics/blank.gif\" data-origin=\"https://img1.doubanio.com/view/photo/albumcover/public/p2635061707.jpg\" alt=\"\" /></a>\\n      </div>\\n      <a href=\"https://www.douban.com/photos/album/1883249057/\">维特根斯坦小剧场</a>\\n      <span class=\"num\">36张照片</span>\\n      <li>\\n      <div class=\"pic\">\\n          <a href=\"https://www.douban.com/photos/album/1881620415/\"><img src=\"https://img1.doubanio.com/f/shire/a1fdee122b95748d81cee426d717c05b5174fe96/pics/blank.gif\" data-origin=\"https://img1.doubanio.com/view/photo/albumcover/public/p2630466917.jpg\" alt=\"\" /></a>\\n      </div>\\n      <a href=\"https://www.douban.com/photos/album/1881620415/\">球状星团</a>\\n      <span class=\"num\">105张照片</span>\\n      <li>\\n      <div class=\"pic\">\\n          <a href=\"https://www.douban.com/photos/album/1881849723/\"><img src=\"https://img1.doubanio.com/f/shire/a1fdee122b95748d81cee426d717c05b5174fe96/pics/blank.gif\" data-origin=\"https://img1.doubanio.com/view/photo/albumcover/public/p2633666057.jpg\" alt=\"\" /></a>\\n      </div>\\n      <a href=\"https://www.douban.com/photos/album/1881849723/\">好好吃早饭</a>\\n      <span class=\"num\">330张照片</span>\\n      <li>\\n      <div class=\"pic\">\\n          <a href=\"https://www.douban.com/photos/album/132170831/\"><img src=\"https://img1.doubanio.com/f/shire/a1fdee122b95748d81cee426d717c05b5174fe96/pics/blank.gif\" data-origin=\"https://img9.doubanio.com/view/photo/albumcover/public/p2460567826.jpg\" alt=\"\" /></a>\\n      </div>\\n      <a href=\"https://www.douban.com/photos/album/132170831/\">路过的路</a>\\n      <span class=\"num\">185张照片</span>\\n    </ul>\\n  </div>\\n  <div class=\"notes\">\\n    <ul>\\n      <li class=\"first\">\\n      <div class=\"title\">\\n          <a href=\"https://www.douban.com/note/809971804/\">实习记者的一天</a>\\n      </div>\\n      <div class=\"author\">\\n        海月水母的日记\\n      </div>\\n      <p>下午六点，夏日北京的燥热渐渐褪去，温度宜人。行人和车辆的节奏变慢了，不再像早上那样急切。夕阳投射在柏油马路上，一滩金色。我在里面看到了自己被拉长的影子。 几个工...</p>\\n      </li>\\n\\n      <li><a href=\"https://www.douban.com/note/809408645/\">两个月108公里，业余游泳爱好者路在何方</a></li>\\n      <li><a href=\"https://www.douban.com/note/842173208/\">北京发布新型冠状病毒阳性感染者居家康复实用手册（第一版）</a></li>\\n      <li><a href=\"https://www.douban.com/note/809257152/\">媒介蒙太奇 之 观看奥运</a></li>\\n      <li><a href=\"https://www.douban.com/note/809141061/\">一名平凡读者的买书总结</a></li>\\n      <li><a href=\"https://www.douban.com/note/809888692/\">叶芝和他的拜占庭诗篇</a></li>\\n      <li><a href=\"https://www.douban.com/note/808306604/\">根据真实案件改编的悬疑小说：死去的人，真的会为了复仇而活过来吗</a></li>\\n    </ul>\\n  </div>\\n</div>\\n</div>\\n  </div>\\n  \\n\\n</div>\\n\\n\\n\\n\\n\\n\\n\\n\\n      \\n<div id=\"anony-time\" class=\"section\">\\n  <div class=\"wrapper\">\\n  \\n  \\n    <div class=\"sidenav\">\\n        <h2 class=\"section-title\"><a href=\"https://time.douban.com?dt_time_source=douban-web_anonymous\">豆瓣时间</a></h2>\\n    </div>\\n\\n  <div class=\"side\"></div>\\n  <div class=\"main\">\\n    \\n    <h2>\\n        热门专栏\\n            &nbsp;&middot;&nbsp;&middot;&nbsp;&middot;&nbsp;&middot;&nbsp;&middot;&nbsp;&middot;\\n            <span class=\"pl\">&nbsp;(\\n                \\n                    <a href=\"https://time.douban.com?dt_time_source=douban-web_anonymous\" target=\"_self\">更多</a>\\n                ) </span>\\n    </h2>\\n\\n\\n    \\n\\n\\n\\n<ul class=\"time-list\">\\n        <li>\\n            \\n            <a class=\"cover time-video new \" href=\"https://m.douban.com/time/column/219?dt_time_source=douban-web_anonymous\" target=\"_blank\">\\n                <img src=\"https://img2.doubanio.com/dae/niffler/niffler/images/84d74c9c-d30e-11eb-b688-7ae4d645c90f.jpg\" alt=\"记录你的闪光日常——从0到1玩转手机Vlog\">\\n            </a>\\n            <a class=\"title\" href=\"https://m.douban.com/time/column/219?dt_time_source=douban-web_anonymous\" target=\"_blank\">记录你的闪光日常——从0到1玩转手机Vlog</a>\\n            <span class=\"type\">视频专栏</span>\\n        </li>\\n        <li>\\n            \\n            <a class=\"cover time-audio new \" href=\"https://m.douban.com/time/column/220?dt_time_source=douban-web_anonymous\" target=\"_blank\">\\n                <img src=\"https://img1.doubanio.com/dae/niffler/niffler/images/23239b10-e3ab-11eb-924d-8ea96876a51c.jpg\" alt=\"人生自是有诗意——唐宋名篇背后的诗人情谊\">\\n            </a>\\n            <a class=\"title\" href=\"https://m.douban.com/time/column/220?dt_time_source=douban-web_anonymous\" target=\"_blank\">人生自是有诗意——唐宋名篇背后的诗人情谊</a>\\n            <span class=\"type\">音频专栏</span>\\n        </li>\\n        <li>\\n            \\n            <a class=\"cover time-video new \" href=\"https://m.douban.com/time/column/258?dt_time_source=douban-web_anonymous\" target=\"_blank\">\\n                <img src=\"https://img1.doubanio.com/dae/niffler/niffler/images/6e473ca6-75da-11ed-8fb7-fec93cf0dfbb.jpg\" alt=\"我们应该如何靠近诗歌——西川的诗歌课\">\\n            </a>\\n            <a class=\"title\" href=\"https://m.douban.com/time/column/258?dt_time_source=douban-web_anonymous\" target=\"_blank\">我们应该如何靠近诗歌——西川的诗歌课</a>\\n            <span class=\"type\">视频专栏</span>\\n        </li>\\n        <li>\\n            \\n            <a class=\"cover time-audio  new\" href=\"https://m.douban.com/time/column/213?dt_time_source=douban-web_anonymous\" target=\"_blank\">\\n                <img src=\"https://img1.doubanio.com/dae/niffler/niffler/images/f6189198-5ae8-11eb-865e-16d4e49064e7.png\" alt=\"我们的女性400年——文学里的女性主义简史\">\\n            </a>\\n            <a class=\"title\" href=\"https://m.douban.com/time/column/213?dt_time_source=douban-web_anonymous\" target=\"_blank\">我们的女性400年——文学里的女性主义简史</a>\\n            <span class=\"type\">音频专栏</span>\\n        </li>\\n        <li>\\n            \\n            <a class=\"cover time-audio  new\" href=\"https://m.douban.com/time/column/233?dt_time_source=douban-web_anonymous\" target=\"_blank\">\\n                <img src=\"https://img1.doubanio.com/dae/niffler/niffler/images/1f2f02f2-63a2-11ec-92b3-1686c25e428a.jpg\" alt=\"工作之苦——解决2020年代的工作新问题\">\\n            </a>\\n            <a class=\"title\" href=\"https://m.douban.com/time/column/233?dt_time_source=douban-web_anonymous\" target=\"_blank\">工作之苦——解决2020年代的工作新问题</a>\\n            <span class=\"type\">音频专栏</span>\\n        </li>\\n        <li>\\n            \\n            <a class=\"cover time-video new \" href=\"https://m.douban.com/time/column/259?dt_time_source=douban-web_anonymous\" target=\"_blank\">\\n                <img src=\"https://img9.doubanio.com/dae/niffler/niffler/images/fb05bfa8-80fe-11ed-a096-060e3ac224f5.jpg\" alt=\"摄影师之眼——世界摄影大师迈克尔·弗里曼的摄影构图课\">\\n            </a>\\n            <a class=\"title\" href=\"https://m.douban.com/time/column/259?dt_time_source=douban-web_anonymous\" target=\"_blank\">摄影师之眼——世界摄影大师迈克尔·弗里曼的摄影构图课</a>\\n            <span class=\"type\">视频专栏</span>\\n        </li>\\n        <li>\\n            \\n            <a class=\"cover time-article  \" href=\"https://m.douban.com/time/column/37?dt_time_source=douban-web_anonymous\" target=\"_blank\">\\n                <img src=\"https://img9.doubanio.com/dae/niffler/niffler/images/c3ab871e-2401-11e7-9fe8-0242ac110046.png\" alt=\"邪典电影本纪——亚文化电影50讲\">\\n            </a>\\n            <a class=\"title\" href=\"https://m.douban.com/time/column/37?dt_time_source=douban-web_anonymous\" target=\"_blank\">邪典电影本纪——亚文化电影50讲</a>\\n            <span class=\"type\">图文专栏</span>\\n        </li>\\n        <li>\\n            \\n            <a class=\"cover time-audio  new\" href=\"https://m.douban.com/time/column/39?dt_time_source=douban-web_anonymous\" target=\"_blank\">\\n                <img src=\"https://img1.doubanio.com/dae/niffler/niffler/images/54d34448-1dea-11e7-afa9-0242ac11002c.jpg\" alt=\"古今——杨照史记百讲（增订版）\">\\n            </a>\\n            <a class=\"title\" href=\"https://m.douban.com/time/column/39?dt_time_source=douban-web_anonymous\" target=\"_blank\">古今——杨照史记百讲（增订版）</a>\\n            <span class=\"type\">音频专栏</span>\\n        </li>\\n        <li>\\n            \\n            <a class=\"cover time-audio  \" href=\"https://m.douban.com/time/column/41?dt_time_source=douban-web_anonymous\" target=\"_blank\">\\n                <img src=\"https://img9.doubanio.com/dae/niffler/niffler/images/6db31128-39dd-11e7-895e-0242ac110016.png\" alt=\"歌词时光——姚谦写词课\">\\n            </a>\\n            <a class=\"title\" href=\"https://m.douban.com/time/column/41?dt_time_source=douban-web_anonymous\" target=\"_blank\">歌词时光——姚谦写词课</a>\\n            <span class=\"type\">音频专栏</span>\\n        </li>\\n        <li>\\n            \\n            <a class=\"cover time-audio  new\" href=\"https://m.douban.com/time/column/43?dt_time_source=douban-web_anonymous\" target=\"_blank\">\\n                <img src=\"https://img1.doubanio.com/dae/niffler/niffler/images/7bea8578-3f69-11e7-8261-0242ac11001b.png\" alt=\"人性皆有裂隙——理解人格的52堂心理课\">\\n            </a>\\n            <a class=\"title\" href=\"https://m.douban.com/time/column/43?dt_time_source=douban-web_anonymous\" target=\"_blank\">人性皆有裂隙——理解人格的52堂心理课</a>\\n            <span class=\"type\">音频专栏</span>\\n        </li>\\n</ul>\\n\\n</div>\\n  </div>\\n  \\n</div>\\n\\n\\n\\n\\n\\n\\n\\n\\n      \\n<div id=\"anony-movie\" class=\"section\">\\n  <div class=\"wrapper\">\\n  \\n  \\n<div class=\"sidenav\">\\n  <h2 class=\"section-title\"><a href=\"https://movie.douban.com\">电影</a></h2>\\n  \\n  \\n  <div class=\"side-links nav-anon\">\\n      <ul>\\n                          \\n                 <li><a href=\"https://movie.douban.com/nowplaying/\">影讯&amp;购票</a></li>\\n             \\n                 <li class=\"site-nav-bt\">\\n                     <a href=\"https://movie.douban.com/explore\">选电影</a>\\n                     <img style=\"top: -5px; position: relative;\" src=\"/pics/new_menu.gif\"/>\\n                 </li>\\n             \\n                 <li><a href=\"https://movie.douban.com/tv/\">电视剧</a></li>\\n             \\n                 <li><a href=\"https://movie.douban.com/chart\">排行榜</a></li>\\n             \\n                 <li><a href=\"https://movie.douban.com/tag/\">分类</a></li>\\n             \\n                 <li><a href=\"https://movie.douban.com/review/best/\">影评</a></li>\\n             \\n                 <li class=\"site-nav-bt\"><a href=\"https://movie.douban.com/trailers\">预告片</a></li>\\n             \\n                 <li><a href=\"https://movie.douban.com/askmatrix/hot_questions/all\">问答</a></li>\\n      \\n      </ul>\\n  </div>\\n \\n  \\n\\n\\n    <div class=\"apps-list\">\\n    <ul>\\n    </ul>\\n    </div>\\n\\n</div>\\n\\n  <div class=\"side\">\\n<div class=\"mod\">\\n\\n\\n    <h2>\\n        影片分类\\n            &nbsp;&middot;&nbsp;&middot;&nbsp;&middot;&nbsp;&middot;&nbsp;&middot;&nbsp;&middot;\\n            <span class=\"pl\">&nbsp;(\\n                \\n                    <a href=\"https://movie.douban.com/tag/?view=type\" target=\"_self\">更多</a>\\n                ) </span>\\n    </h2>\\n\\n<div class=\"tags list\">\\n  <ul>\\n    <li><a href=\"https://movie.douban.com/tag/爱情\">爱情</a></li>\\n    <li><a href=\"https://movie.douban.com/tag/剧情\">剧情</a></li>\\n    <li><a href=\"https://movie.douban.com/tag/喜剧\">喜剧</a></li>\\n    <li><a href=\"https://movie.douban.com/tag/悬疑\">悬疑</a></li>\\n    <li><a href=\"https://movie.douban.com/tag/经典\">经典</a></li>\\n    <li><a href=\"https://movie.douban.com/tag/动画\">动画</a></li>\\n    <li><a href=\"https://movie.douban.com/tag/科幻\">科幻</a></li>\\n    <li><a href=\"https://movie.douban.com/tag/犯罪\">犯罪</a></li>\\n    <li><a href=\"https://movie.douban.com/tag/动作\">动作</a></li>\\n    <li><a href=\"https://movie.douban.com/tag/青春\">青春</a></li>\\n    <li><a href=\"https://movie.douban.com/tag/搞笑\">搞笑</a></li>\\n    <li><a href=\"https://movie.douban.com/tag/文艺\">文艺</a></li>\\n    <li><a href=\"https://movie.douban.com/tag/惊悚\">惊悚</a></li>\\n    <li><a href=\"https://movie.douban.com/tag/励志\">励志</a></li>\\n    <li><a href=\"https://movie.douban.com/tag/纪录片\">纪录片</a></li>\\n    <li><a href=\"https://movie.douban.com/tag/黑色幽默\">黑色幽默</a></li>\\n    <li><a href=\"https://movie.douban.com/tag/战争\">战争</a></li>\\n    <li><a href=\"https://movie.douban.com/tag/家庭\">家庭</a></li>\\n    <li><a href=\"https://movie.douban.com/tag/美国\">美国</a></li>\\n    <li><a href=\"https://movie.douban.com/tag/日本\">日本</a></li>\\n    <li><a href=\"https://movie.douban.com/tag/香港\">香港</a></li>\\n    <li><a href=\"https://movie.douban.com/tag/中国大陆\">中国大陆</a></li>\\n    <li><a href=\"https://movie.douban.com/tag/韩国\">韩国</a></li>\\n    <li><a href=\"https://movie.douban.com/tag/中国\">中国</a></li>\\n    <li><a href=\"https://movie.douban.com/tag/英国\">英国</a></li>\\n    <li><a href=\"https://movie.douban.com/tag/法国\">法国</a></li>\\n    <li><a href=\"https://movie.douban.com/tag/台湾\">台湾</a></li>\\n    <li><a href=\"https://movie.douban.com/tag/印度\">印度</a></li>\\n  </ul>\\n</div>\\n</div>\\n\\n<div class=\"mod\">\\n\\n\\n    <h2>\\n        近期热门\\n            &nbsp;&middot;&nbsp;&middot;&nbsp;&middot;&nbsp;&middot;&nbsp;&middot;&nbsp;&middot;\\n            <span class=\"pl\">&nbsp;(\\n                \\n                    <a href=\"https://movie.douban.com/chart\" target=\"_self\">更多</a>\\n                ) </span>\\n    </h2>\\n\\n<div class=\"list1 movie-charts\">\\n  <ol>\\n    <li>\\n    <a href=\"https://movie.douban.com/subject/30455615/\">菜单</a>\\n    </li>\\n    <li>\\n    <a href=\"https://movie.douban.com/subject/34939037/\">利刃出鞘2</a>\\n    </li>\\n    <li>\\n    <a href=\"https://movie.douban.com/subject/36200703/\">纸人回魂</a>\\n    </li>\\n    <li>\\n    <a href=\"https://movie.douban.com/subject/35503125/\">还是觉得你最好</a>\\n    </li>\\n    <li>\\n    <a href=\"https://movie.douban.com/subject/34969348/\">伊尼舍林的报丧女妖</a>\\n    </li>\\n    <li>\\n    <a href=\"https://movie.douban.com/subject/35382472/\">淡蓝之眸</a>\\n    </li>\\n    <li>\\n    <a href=\"https://movie.douban.com/subject/35876302/\">晒后假日</a>\\n    </li>\\n    <li>\\n    <a href=\"https://movie.douban.com/subject/35694766/\">火山挚恋</a>\\n    </li>\\n    <li>\\n    <a href=\"https://movie.douban.com/subject/35205617/\">亲密</a>\\n    </li>\\n    <li>\\n    <a href=\"https://movie.douban.com/subject/35358584/\">上帝的笔误</a>\\n    </li>\\n  </ol>\\n</div>\\n</div>\\n</div>\\n  <div class=\"main\">\\n\\n\\n    <h2>\\n        正在热映\\n            &nbsp;&middot;&nbsp;&middot;&nbsp;&middot;&nbsp;&middot;&nbsp;&middot;&nbsp;&middot;\\n            <span class=\"pl\">&nbsp;(\\n                \\n                    <a href=\"https://movie.douban.com/showtimes/\" target=\"_self\">更多</a>\\n                ) </span>\\n    </h2>\\n\\n<div class=\"movie-list list\">\\n  <ul>\\n    <li>\\n    <div class=\"pic\">\\n        <a href=\"https://movie.douban.com/subject/35267208/\"><img src=\"https://img1.doubanio.com/f/shire/a1fdee122b95748d81cee426d717c05b5174fe96/pics/blank.gif\" data-origin=\"https://img1.doubanio.com/view/photo/s_ratio_poster/public/p2885944827.jpg\" alt=\"流浪地球2\" /></a>\\n    </div>\\n    <div class=\"title\">\\n      <a href=\"https://movie.douban.com/subject/35267208/\">流浪地球2</a>\\n    </div>\\n    <div class=\"rating\">\\n        <span class=\"allstar45\"></span><i>8.2</i>\\n    </div>\\n    <a href=\"https://movie.douban.com/subject/35267208/cinema/\" class=\"bn-link bn-ticket\">选座购票</a>\\n    <li>\\n    <div class=\"pic\">\\n        <a href=\"https://movie.douban.com/subject/35766491/\"><img src=\"https://img1.doubanio.com/f/shire/a1fdee122b95748d81cee426d717c05b5174fe96/pics/blank.gif\" data-origin=\"https://img1.doubanio.com/view/photo/s_ratio_poster/public/p2886441838.jpg\" alt=\"满江红\" /></a>\\n    </div>\\n    <div class=\"title\">\\n      <a href=\"https://movie.douban.com/subject/35766491/\">满江红</a>\\n    </div>\\n    <div class=\"rating\">\\n        <span class=\"allstar40\"></span><i>7.7</i>\\n    </div>\\n    <a href=\"https://movie.douban.com/subject/35766491/cinema/\" class=\"bn-link bn-ticket\">选座购票</a>\\n    <li>\\n    <div class=\"pic\">\\n        <a href=\"https://movie.douban.com/subject/35372742/\"><img src=\"https://img1.doubanio.com/f/shire/a1fdee122b95748d81cee426d717c05b5174fe96/pics/blank.gif\" data-origin=\"https://img1.doubanio.com/view/photo/s_ratio_poster/public/p2886187418.jpg\" alt=\"无名\" /></a>\\n    </div>\\n    <div class=\"title\">\\n      <a href=\"https://movie.douban.com/subject/35372742/\">无名</a>\\n    </div>\\n    <div class=\"rating\">\\n        <span class=\"allstar35\"></span><i>6.8</i>\\n    </div>\\n    <a href=\"https://movie.douban.com/subject/35372742/cinema/\" class=\"bn-link bn-ticket\">选座购票</a>\\n    <li>\\n    <div class=\"pic\">\\n        <a href=\"https://movie.douban.com/subject/26649682/\"><img src=\"https://img1.doubanio.com/f/shire/a1fdee122b95748d81cee426d717c05b5174fe96/pics/blank.gif\" data-origin=\"https://img1.doubanio.com/view/photo/s_ratio_poster/public/p2885941329.jpg\" alt=\"深海\" /></a>\\n    </div>\\n    <div class=\"title\">\\n      <a href=\"https://movie.douban.com/subject/26649682/\">深海</a>\\n    </div>\\n    <div class=\"rating\">\\n        <span class=\"allstar40\"></span><i>7.3</i>\\n    </div>\\n    <a href=\"https://movie.douban.com/subject/26649682/cinema/\" class=\"bn-link bn-ticket\">选座购票</a>\\n    <li>\\n    <div class=\"pic\">\\n        <a href=\"https://movie.douban.com/subject/36123159/\"><img src=\"https://img1.doubanio.com/f/shire/a1fdee122b95748d81cee426d717c05b5174fe96/pics/blank.gif\" data-origin=\"https://img1.doubanio.com/view/photo/s_ratio_poster/public/p2886535219.jpg\" alt=\"熊出没·伴我“熊芯”\" /></a>\\n    </div>\\n    <div class=\"title\">\\n      <a href=\"https://movie.douban.com/subject/36123159/\">熊出没·伴我“...</a>\\n    </div>\\n    <div class=\"rating\">\\n        <span class=\"allstar35\"></span><i>7.0</i>\\n    </div>\\n    <a href=\"https://movie.douban.com/subject/36123159/cinema/\" class=\"bn-link bn-ticket\">选座购票</a>\\n    <li>\\n    <div class=\"pic\">\\n        <a href=\"https://movie.douban.com/subject/35513968/\"><img src=\"https://img1.doubanio.com/f/shire/a1fdee122b95748d81cee426d717c05b5174fe96/pics/blank.gif\" data-origin=\"https://img1.doubanio.com/view/photo/s_ratio_poster/public/p2886396440.jpg\" alt=\"交换人生\" /></a>\\n    </div>\\n    <div class=\"title\">\\n      <a href=\"https://movie.douban.com/subject/35513968/\">交换人生</a>\\n    </div>\\n    <div class=\"rating\">\\n        <span class=\"allstar30\"></span><i>5.7</i>\\n    </div>\\n    <a href=\"https://movie.douban.com/subject/35513968/cinema/\" class=\"bn-link bn-ticket\">选座购票</a>\\n    <li>\\n    <div class=\"pic\">\\n        <a href=\"https://movie.douban.com/subject/4811774/\"><img src=\"https://img1.doubanio.com/f/shire/a1fdee122b95748d81cee426d717c05b5174fe96/pics/blank.gif\" data-origin=\"https://img9.doubanio.com/view/photo/s_ratio_poster/public/p2884182275.jpg\" alt=\"阿凡达：水之道\" /></a>\\n    </div>\\n    <div class=\"title\">\\n      <a href=\"https://movie.douban.com/subject/4811774/\">阿凡达：水之道...</a>\\n    </div>\\n    <div class=\"rating\">\\n        <span class=\"allstar40\"></span><i>8.0</i>\\n    </div>\\n    <a href=\"https://movie.douban.com/subject/4811774/cinema/\" class=\"bn-link bn-ticket\">选座购票</a>\\n    <li>\\n    <div class=\"pic\">\\n        <a href=\"https://movie.douban.com/subject/35891542/\"><img src=\"https://img1.doubanio.com/f/shire/a1fdee122b95748d81cee426d717c05b5174fe96/pics/blank.gif\" data-origin=\"https://img2.doubanio.com/view/photo/s_ratio_poster/public/p2885362303.jpg\" alt=\"绝望主夫\" /></a>\\n    </div>\\n    <div class=\"title\">\\n      <a href=\"https://movie.douban.com/subject/35891542/\">绝望主夫</a>\\n    </div>\\n    <div class=\"rating\">\\n        <span class=\"allstar25\"></span><i>4.7</i>\\n    </div>\\n    <a href=\"https://movie.douban.com/subject/35891542/cinema/\" class=\"bn-link bn-ticket\">选座购票</a>\\n  </ul>\\n</div>\\n</div>\\n  </div>\\n  \\n    <div id=\"dale_anonymous_homepage_movie_bottom\" class=\"extra\"></div>\\n\\n</div>\\n\\n\\n\\n\\n\\n\\n\\n\\n      \\n<div id=\"anony-group\" class=\"section\">\\n  <div class=\"wrapper\">\\n  \\n  \\n<div class=\"sidenav\">\\n  <h2 class=\"section-title\"><a href=\"https://www.douban.com/group/\">小组</a></h2>\\n  \\n  \\n  <div class=\"side-links nav-anon\">\\n      <ul>\\n                          \\n                 <li><a href=\"/group/explore\">精选</a></li>\\n             \\n                 <li><a href=\"/group/explore/culture\">文化</a></li>\\n             \\n                 <li><a href=\"/group/explore/travel\">行摄</a></li>\\n             \\n                 <li><a href=\"/group/explore/ent\">娱乐</a></li>\\n             \\n                 <li><a href=\"/group/explore/fashion\">时尚</a></li>\\n             \\n                 <li><a href=\"/group/explore/life\">生活</a></li>\\n             \\n                 <li><a href=\"/group/explore/tech\">科技</a></li>\\n      \\n      </ul>\\n  </div>\\n \\n  \\n\\n\\n    <div class=\"apps-list\">\\n    <ul>\\n    </ul>\\n    </div>\\n\\n</div>\\n\\n  <div class=\"side\">\\n<div class=\"mod\">\\n\\n    <h2>\\n        小组分类\\n            &nbsp;&middot;&nbsp;&middot;&nbsp;&middot;&nbsp;&middot;&nbsp;&middot;&nbsp;&middot;\\n    </h2>\\n\\n   <div class=\"cate group-cate\">\\n       <ul>\\n       <li class=\"cate-label\"><a href=\"https://www.douban.com/group/explore?tag=兴趣\">兴趣&raquo; </a></li>\\n       <li><a href=\"https://www.douban.com/group/explore?tag=旅行\">旅行</a></li>\\n       <li><a href=\"https://www.douban.com/group/explore?tag=摄影\">摄影</a></li>\\n       <li><a href=\"https://www.douban.com/group/explore?tag=影视\">影视</a></li>\\n       <li><a href=\"https://www.douban.com/group/explore?tag=音乐\">音乐</a></li>\\n       <li><a href=\"https://www.douban.com/group/explore?tag=文学\">文学</a></li>\\n       <li><a href=\"https://www.douban.com/group/explore?tag=游戏\">游戏</a></li>\\n       <li><a href=\"https://www.douban.com/group/explore?tag=动漫\">动漫</a></li>\\n       <li><a href=\"https://www.douban.com/group/explore?tag=运动\">运动</a></li>\\n       <li><a href=\"https://www.douban.com/group/explore?tag=戏曲\">戏曲</a></li>\\n       <li><a href=\"https://www.douban.com/group/explore?tag=桌游\">桌游</a></li>\\n       <li><a href=\"https://www.douban.com/group/explore?tag=怪癖\">怪癖</a></li>\\n       </ul>\\n    </div>\\n   <div class=\"cate group-cate\">\\n       <ul>\\n       <li class=\"cate-label\"><a href=\"https://www.douban.com/group/explore?tag=生活\">生活&raquo; </a></li>\\n       <li><a href=\"https://www.douban.com/group/explore?tag=健康\">健康</a></li>\\n       <li><a href=\"https://www.douban.com/group/explore?tag=美食\">美食</a></li>\\n       <li><a href=\"https://www.douban.com/group/explore?tag=宠物\">宠物</a></li>\\n       <li><a href=\"https://www.douban.com/group/explore?tag=美容\">美容</a></li>\\n       <li><a href=\"https://www.douban.com/group/explore?tag=化妆\">化妆</a></li>\\n       <li><a href=\"https://www.douban.com/group/explore?tag=护肤\">护肤</a></li>\\n       <li><a href=\"https://www.douban.com/group/explore?tag=服饰\">服饰</a></li>\\n       <li><a href=\"https://www.douban.com/group/explore?tag=公益\">公益</a></li>\\n       <li><a href=\"https://www.douban.com/group/explore?tag=家庭\">家庭</a></li>\\n       <li><a href=\"https://www.douban.com/group/explore?tag=育儿\">育儿</a></li>\\n       <li><a href=\"https://www.douban.com/group/explore?tag=汽车\">汽车</a></li>\\n       </ul>\\n    </div>\\n   <div class=\"cate group-cate\">\\n       <ul>\\n       <li class=\"cate-label\"><a href=\"https://www.douban.com/group/explore?tag=购物\">购物&raquo; </a></li>\\n       <li><a href=\"https://www.douban.com/group/explore?tag=淘宝\">淘宝</a></li>\\n       <li><a href=\"https://www.douban.com/group/explore?tag=二手\">二手</a></li>\\n       <li><a href=\"https://www.douban.com/group/explore?tag=团购\">团购</a></li>\\n       <li><a href=\"https://www.douban.com/group/explore?tag=数码\">数码</a></li>\\n       <li><a href=\"https://www.douban.com/group/explore?tag=品牌\">品牌</a></li>\\n       <li><a href=\"https://www.douban.com/group/explore?tag=文具\">文具</a></li>\\n       </ul>\\n    </div>\\n   <div class=\"cate group-cate\">\\n       <ul>\\n       <li class=\"cate-label\"><a href=\"https://www.douban.com/group/explore?tag=社会\">社会&raquo; </a></li>\\n       <li><a href=\"https://www.douban.com/group/explore?tag=求职\">求职</a></li>\\n       <li><a href=\"https://www.douban.com/group/explore?tag=租房\">租房</a></li>\\n       <li><a href=\"https://www.douban.com/group/explore?tag=励志\">励志</a></li>\\n       <li><a href=\"https://www.douban.com/group/explore?tag=留学\">留学</a></li>\\n       <li><a href=\"https://www.douban.com/group/explore?tag=出国\">出国</a></li>\\n       <li><a href=\"https://www.douban.com/group/explore?tag=理财\">理财</a></li>\\n       <li><a href=\"https://www.douban.com/group/explore?tag=传媒\">传媒</a></li>\\n       <li><a href=\"https://www.douban.com/group/explore?tag=创业\">创业</a></li>\\n       <li><a href=\"https://www.douban.com/group/explore?tag=考试\">考试</a></li>\\n       </ul>\\n    </div>\\n   <div class=\"cate group-cate\">\\n       <ul>\\n       <li class=\"cate-label\"><a href=\"https://www.douban.com/group/explore?tag=艺术\">艺术&raquo; </a></li>\\n       <li><a href=\"https://www.douban.com/group/explore?tag=设计\">设计</a></li>\\n       <li><a href=\"https://www.douban.com/group/explore?tag=手工\">手工</a></li>\\n       <li><a href=\"https://www.douban.com/group/explore?tag=展览\">展览</a></li>\\n       <li><a href=\"https://www.douban.com/group/explore?tag=曲艺\">曲艺</a></li>\\n       <li><a href=\"https://www.douban.com/group/explore?tag=舞蹈\">舞蹈</a></li>\\n       <li><a href=\"https://www.douban.com/group/explore?tag=雕塑\">雕塑</a></li>\\n       <li><a href=\"https://www.douban.com/group/explore?tag=纹身\">纹身</a></li>\\n       </ul>\\n    </div>\\n   <div class=\"cate group-cate\">\\n       <ul>\\n       <li class=\"cate-label\"><a href=\"https://www.douban.com/group/explore?tag=学术\">学术&raquo; </a></li>\\n       <li><a href=\"https://www.douban.com/group/explore?tag=人文\">人文</a></li>\\n       <li><a href=\"https://www.douban.com/group/explore?tag=社科\">社科</a></li>\\n       <li><a href=\"https://www.douban.com/group/explore?tag=自然\">自然</a></li>\\n       <li><a href=\"https://www.douban.com/group/explore?tag=建筑\">建筑</a></li>\\n       <li><a href=\"https://www.douban.com/group/explore?tag=国学\">国学</a></li>\\n       <li><a href=\"https://www.douban.com/group/explore?tag=语言\">语言</a></li>\\n       <li><a href=\"https://www.douban.com/group/explore?tag=宗教\">宗教</a></li>\\n       <li><a href=\"https://www.douban.com/group/explore?tag=哲学\">哲学</a></li>\\n       <li><a href=\"https://www.douban.com/group/explore?tag=软件\">软件</a></li>\\n       <li><a href=\"https://www.douban.com/group/explore?tag=硬件\">硬件</a></li>\\n       <li><a href=\"https://www.douban.com/group/explore?tag=互联网\">互联网</a></li>\\n       </ul>\\n    </div>\\n   <div class=\"cate group-cate\">\\n       <ul>\\n       <li class=\"cate-label\"><a href=\"https://www.douban.com/group/explore?tag=情感\">情感&raquo; </a></li>\\n       <li><a href=\"https://www.douban.com/group/explore?tag=恋爱\">恋爱</a></li>\\n       <li><a href=\"https://www.douban.com/group/explore?tag=心情\">心情</a></li>\\n       <li><a href=\"https://www.douban.com/group/explore?tag=心理学\">心理学</a></li>\\n       <li><a href=\"https://www.douban.com/group/explore?tag=星座\">星座</a></li>\\n       <li><a href=\"https://www.douban.com/group/explore?tag=塔罗\">塔罗</a></li>\\n       </ul>\\n    </div>\\n   <div class=\"cate group-cate\">\\n       <ul>\\n       <li class=\"cate-label\"><a href=\"https://www.douban.com/group/explore?tag=闲聊\">闲聊&raquo; </a></li>\\n       <li><a href=\"https://www.douban.com/group/explore?tag=吐槽\">吐槽</a></li>\\n       <li><a href=\"https://www.douban.com/group/explore?tag=笑话\">笑话</a></li>\\n       <li><a href=\"https://www.douban.com/group/explore?tag=直播\">直播</a></li>\\n       </ul>\\n    </div>\\n</div>\\n</div>\\n  <div class=\"main\">\\n\\n\\n    <h2>\\n        热门小组\\n            &nbsp;&middot;&nbsp;&middot;&nbsp;&middot;&nbsp;&middot;&nbsp;&middot;&nbsp;&middot;\\n            <span class=\"pl\">&nbsp;(\\n                \\n                    <a href=\"https://www.douban.com/group/explore\" target=\"_self\">更多</a>\\n                ) </span>\\n    </h2>\\n\\n<div class=\"group-list list\">\\n  <ul>\\n    <li>\\n    <div class=\"pic\">\\n        <a href=\"https://www.douban.com/group/echofans/\"><img src=\"https://img1.doubanio.com/f/shire/a1fdee122b95748d81cee426d717c05b5174fe96/pics/blank.gif\" data-origin=\"https://img2.doubanio.com/view/group/sqxs/public/ef4bd6235a7c6c2.jpg\" alt=\"\" width=\"48\" /></a>\\n    </div>\\n    <div class=\"info\">\\n      <div class=\"title\">\\n        <a href=\"https://www.douban.com/group/echofans/\">我爱三毛</a>\\n      </div>\\n      48539 个成员\\n    </div>\\n    <li>\\n    <div class=\"pic\">\\n        <a href=\"https://www.douban.com/group/shafake/\"><img src=\"https://img1.doubanio.com/f/shire/a1fdee122b95748d81cee426d717c05b5174fe96/pics/blank.gif\" data-origin=\"https://img1.doubanio.com/view/group/sqxs/public/063bb07a807a340.jpg\" alt=\"\" width=\"48\" /></a>\\n    </div>\\n    <div class=\"info\">\\n      <div class=\"title\">\\n        <a href=\"https://www.douban.com/group/shafake/\">沙发客</a>\\n      </div>\\n      22541 个成员\\n    </div>\\n    <li>\\n    <div class=\"pic\">\\n        <a href=\"https://www.douban.com/group/liucixin/\"><img src=\"https://img1.doubanio.com/f/shire/a1fdee122b95748d81cee426d717c05b5174fe96/pics/blank.gif\" data-origin=\"https://img1.doubanio.com/view/group/sqxs/public/68b08f0f3595407.jpg\" alt=\"\" width=\"48\" /></a>\\n    </div>\\n    <div class=\"info\">\\n      <div class=\"title\">\\n        <a href=\"https://www.douban.com/group/liucixin/\">刘慈欣</a>\\n      </div>\\n      43503 个成员\\n    </div>\\n    <li>\\n    <div class=\"pic\">\\n        <a href=\"https://www.douban.com/group/20618/\"><img src=\"https://img1.doubanio.com/f/shire/a1fdee122b95748d81cee426d717c05b5174fe96/pics/blank.gif\" data-origin=\"https://img2.doubanio.com/view/group/sqxs/public/8f11b2285655782.jpg\" alt=\"\" width=\"48\" /></a>\\n    </div>\\n    <div class=\"info\">\\n      <div class=\"title\">\\n        <a href=\"https://www.douban.com/group/20618/\">西双版纳</a>\\n      </div>\\n      12788 个成员\\n    </div>\\n    <li>\\n    <div class=\"pic\">\\n        <a href=\"https://www.douban.com/group/402725/\"><img src=\"https://img1.doubanio.com/f/shire/a1fdee122b95748d81cee426d717c05b5174fe96/pics/blank.gif\" data-origin=\"https://img1.doubanio.com/view/group/sqxs/public/17fdb616ff143d8.jpg\" alt=\"\" width=\"48\" /></a>\\n    </div>\\n    <div class=\"info\">\\n      <div class=\"title\">\\n        <a href=\"https://www.douban.com/group/402725/\">记事本圆梦小组</a>\\n      </div>\\n      116868 个成员\\n    </div>\\n    <li>\\n    <div class=\"pic\">\\n        <a href=\"https://www.douban.com/group/170177/\"><img src=\"https://img1.doubanio.com/f/shire/a1fdee122b95748d81cee426d717c05b5174fe96/pics/blank.gif\" data-origin=\"https://img2.doubanio.com/view/group/sqxs/public/2e49d167d4322c2.jpg\" alt=\"\" width=\"48\" /></a>\\n    </div>\\n    <div class=\"info\">\\n      <div class=\"title\">\\n        <a href=\"https://www.douban.com/group/170177/\">这辈子一定要做几件疯狂的事</a>\\n      </div>\\n      92931 个成员\\n    </div>\\n    <li>\\n    <div class=\"pic\">\\n        <a href=\"https://www.douban.com/group/cuthair/\"><img src=\"https://img1.doubanio.com/f/shire/a1fdee122b95748d81cee426d717c05b5174fe96/pics/blank.gif\" data-origin=\"https://img2.doubanio.com/icon/g109498-1.jpg\" alt=\"\" width=\"48\" /></a>\\n    </div>\\n    <div class=\"info\">\\n      <div class=\"title\">\\n        <a href=\"https://www.douban.com/group/cuthair/\">自己给自己剪头发</a>\\n      </div>\\n      36547 个成员\\n    </div>\\n    <li>\\n    <div class=\"pic\">\\n        <a href=\"https://www.douban.com/group/83759/\"><img src=\"https://img1.doubanio.com/f/shire/a1fdee122b95748d81cee426d717c05b5174fe96/pics/blank.gif\" data-origin=\"https://img2.doubanio.com/icon/g83759-2.jpg\" alt=\"\" width=\"48\" /></a>\\n    </div>\\n    <div class=\"info\">\\n      <div class=\"title\">\\n        <a href=\"https://www.douban.com/group/83759/\">我们就是要做衣服给自己穿</a>\\n      </div>\\n      3622 个成员\\n    </div>\\n  </ul>\\n</div>\\n</div>\\n  </div>\\n  \\n</div>\\n\\n\\n\\n\\n\\n\\n\\n\\n      \\n<div id=\"anony-book\" class=\"section\">\\n  <div class=\"wrapper\">\\n  \\n  \\n<div class=\"sidenav\">\\n  <div class=\"mod\">\\n  <h2 class=\"section-title\"><a href=\"https://book.douban.com\">读书</a></h2>\\n  \\n  \\n  <div class=\"side-links nav-anon\">\\n      <ul>\\n                                                    \\n                 <li><a href=\"https://book.douban.com/tag/\">分类浏览</a></li>\\n             \\n                <li>\\n                    <a target=\"_blank\" href=\"https://read.douban.com?dcn=entry&amp;dcs=book-nav&amp;dcm=douban\">阅读</a>\\n                    <img style=\"top: 4px; position: absolute;\" src=\"/pics/new_menu.gif\"/>\\n                </li>\\n             \\n                 <li><a href=\"https://book.douban.com/writers/\">作者</a></li>\\n             \\n                 <li><a href=\"https://book.douban.com/review/best/\">书评</a></li>\\n      \\n          <li class=\"site-nav-prom\">\\n              <a class=\"lnk-buy\" href=\"https://book.douban.com/cart\">\\n                  <em>购书单</em>\\n              </a>\\n          </li>\\n      </ul>\\n  </div>\\n \\n  </div>\\n\\n  \\n\\n\\n    <div class=\"apps-list\">\\n    <ul>\\n        <li>\\n            <a href=\"https://read.douban.com/app/\" class=\"lnk-icon\">\\n                <i class=\"app-icon app-icon-read\"></i>\\n            </a>\\n            <a href=\"https://read.douban.com/app/\">豆瓣阅读</a>\\n        </li>\\n    </ul>\\n    </div>\\n\\n</div>\\n\\n  <div class=\"side\">\\n\\n<div class=\"mod\">\\n\\n    <h2>\\n        热门标签\\n            &nbsp;&middot;&nbsp;&middot;&nbsp;&middot;&nbsp;&middot;&nbsp;&middot;&nbsp;&middot;\\n            <span class=\"pl\">&nbsp;(\\n                \\n                    <a href=\"https://book.douban.com/tag/?view=type\" target=\"_self\">更多</a>\\n                ) </span>\\n    </h2>\\n\\n<div class=\"book-cate-mod\">\\n<div class=\"cate book-cate\">\\n  <ul>\\n  <li class=\"cate-label\">[文学]</li>\\n  <li><a href=\"https://book.douban.com/tag/小说\">小说</a></li>\\n  <li><a href=\"https://book.douban.com/tag/随笔\">随笔</a></li>\\n  <li><a href=\"https://book.douban.com/tag/日本文学\">日本文学</a></li>\\n  <li><a href=\"https://book.douban.com/tag/散文\">散文</a></li>\\n  <li><a href=\"https://book.douban.com/tag/诗歌\">诗歌</a></li>\\n  <li><a href=\"https://book.douban.com/tag/童话\">童话</a></li>\\n  <li><a href=\"https://book.douban.com/tag/名著\">名著</a></li>\\n  <li><a href=\"https://book.douban.com/tag/港台\">港台</a></li>\\n  <li><a href=\"https://book.douban.com/tag/?view=type#文学\">更多</a></li>\\n  </ul>\\n</div>\\n<div class=\"cate book-cate\">\\n  <ul>\\n  <li class=\"cate-label\">[流行]</li>\\n  <li><a href=\"https://book.douban.com/tag/漫画\">漫画</a></li>\\n  <li><a href=\"https://book.douban.com/tag/推理\">推理</a></li>\\n  <li><a href=\"https://book.douban.com/tag/绘本\">绘本</a></li>\\n  <li><a href=\"https://book.douban.com/tag/科幻\">科幻</a></li>\\n  <li><a href=\"https://book.douban.com/tag/青春\">青春</a></li>\\n  <li><a href=\"https://book.douban.com/tag/言情\">言情</a></li>\\n  <li><a href=\"https://book.douban.com/tag/奇幻\">奇幻</a></li>\\n  <li><a href=\"https://book.douban.com/tag/武侠\">武侠</a></li>\\n  <li><a href=\"https://book.douban.com/tag/?view=type#流行\">更多</a></li>\\n  </ul>\\n</div>\\n<div class=\"cate book-cate\">\\n  <ul>\\n  <li class=\"cate-label\">[文化]</li>\\n  <li><a href=\"https://book.douban.com/tag/历史\">历史</a></li>\\n  <li><a href=\"https://book.douban.com/tag/哲学\">哲学</a></li>\\n  <li><a href=\"https://book.douban.com/tag/传记\">传记</a></li>\\n  <li><a href=\"https://book.douban.com/tag/设计\">设计</a></li>\\n  <li><a href=\"https://book.douban.com/tag/电影\">电影</a></li>\\n  <li><a href=\"https://book.douban.com/tag/建筑\">建筑</a></li>\\n  <li><a href=\"https://book.douban.com/tag/回忆录\">回忆录</a></li>\\n  <li><a href=\"https://book.douban.com/tag/音乐\">音乐</a></li>\\n  <li><a href=\"https://book.douban.com/tag/?view=type#文化\">更多</a></li>\\n  </ul>\\n</div>\\n<div class=\"cate book-cate\">\\n  <ul>\\n  <li class=\"cate-label\">[生活]</li>\\n  <li><a href=\"https://book.douban.com/tag/旅行\">旅行</a></li>\\n  <li><a href=\"https://book.douban.com/tag/励志\">励志</a></li>\\n  <li><a href=\"https://book.douban.com/tag/教育\">教育</a></li>\\n  <li><a href=\"https://book.douban.com/tag/职场\">职场</a></li>\\n  <li><a href=\"https://book.douban.com/tag/美食\">美食</a></li>\\n  <li><a href=\"https://book.douban.com/tag/灵修\">灵修</a></li>\\n  <li><a href=\"https://book.douban.com/tag/健康\">健康</a></li>\\n  <li><a href=\"https://book.douban.com/tag/家居\">家居</a></li>\\n  <li><a href=\"https://book.douban.com/tag/?view=type#生活\">更多</a></li>\\n  </ul>\\n</div>\\n<div class=\"cate book-cate\">\\n  <ul>\\n  <li class=\"cate-label\">[经管]</li>\\n  <li><a href=\"https://book.douban.com/tag/经济学\">经济学</a></li>\\n  <li><a href=\"https://book.douban.com/tag/管理\">管理</a></li>\\n  <li><a href=\"https://book.douban.com/tag/商业\">商业</a></li>\\n  <li><a href=\"https://book.douban.com/tag/金融\">金融</a></li>\\n  <li><a href=\"https://book.douban.com/tag/营销\">营销</a></li>\\n  <li><a href=\"https://book.douban.com/tag/理财\">理财</a></li>\\n  <li><a href=\"https://book.douban.com/tag/股票\">股票</a></li>\\n  <li><a href=\"https://book.douban.com/tag/企业史\">企业史</a></li>\\n  <li><a href=\"https://book.douban.com/tag/?view=type#经管\">更多</a></li>\\n  </ul>\\n</div>\\n<div class=\"cate book-cate\">\\n  <ul>\\n  <li class=\"cate-label\">[科技]</li>\\n  <li><a href=\"https://book.douban.com/tag/科普\">科普</a></li>\\n  <li><a href=\"https://book.douban.com/tag/互联网\">互联网</a></li>\\n  <li><a href=\"https://book.douban.com/tag/编程\">编程</a></li>\\n  <li><a href=\"https://book.douban.com/tag/交互设计\">交互设计</a></li>\\n  <li><a href=\"https://book.douban.com/tag/算法\">算法</a></li>\\n  <li><a href=\"https://book.douban.com/tag/通信\">通信</a></li>\\n  <li><a href=\"https://book.douban.com/tag/神经网络\">神经网络</a></li>\\n  <li><a href=\"https://book.douban.com/tag/?view=type#科技\">更多</a></li>\\n  </ul>\\n</div>\\n</div>\\n</div>\\n</div>\\n  <div class=\"main\">\\n\\n<div class=\"mod\">\\n\\n    <h2>\\n        新书速递\\n            &nbsp;&middot;&nbsp;&middot;&nbsp;&middot;&nbsp;&middot;&nbsp;&middot;&nbsp;&middot;\\n            <span class=\"pl\">&nbsp;(\\n                \\n                    <a href=\"https://book.douban.com/latest\" target=\"_self\">更多</a>\\n                ) </span>\\n    </h2>\\n\\n<div class=\"book-list list\">\\n  <ul>\\n      <li>\\n      <div class=\"pic\">\\n          <a href=\"https://book.douban.com/subject/35574974/\"><img src=\"https://img1.doubanio.com/f/shire/a1fdee122b95748d81cee426d717c05b5174fe96/pics/blank.gif\" data-origin=\"https://img2.doubanio.com/view/subject/m/public/s33997562.jpg\" alt=\"世界上最丑的女人\" /></a>\\n      </div>\\n      <div class=\"title\">\\n        <a href=\"https://book.douban.com/subject/35574974/\" >世界上最丑的女...</a>\\n      </div>\\n      <div class=\"author\">[波兰] 奥尔...</div>\\n      <a href=\"https://read.douban.com/reader/ebook/336703240/\" target=\"_blank\" class=\"bn-link\">免费试读</a>\\n      <li>\\n      <div class=\"pic\">\\n          <a href=\"https://book.douban.com/subject/35587436/\"><img src=\"https://img1.doubanio.com/f/shire/a1fdee122b95748d81cee426d717c05b5174fe96/pics/blank.gif\" data-origin=\"https://img1.doubanio.com/view/subject/m/public/s33987410.jpg\" alt=\"天堂主题公园\" /></a>\\n      </div>\\n      <div class=\"title\">\\n        <a href=\"https://book.douban.com/subject/35587436/\" >天堂主题公园</a>\\n      </div>\\n      <div class=\"author\">[美] 乔治·...</div>\\n      <a href=\"https://read.douban.com/reader/ebook/394184467/\" target=\"_blank\" class=\"bn-link\">免费试读</a>\\n      <li>\\n      <div class=\"pic\">\\n          <a href=\"https://book.douban.com/subject/35569015/\"><img src=\"https://img1.doubanio.com/f/shire/a1fdee122b95748d81cee426d717c05b5174fe96/pics/blank.gif\" data-origin=\"https://img2.doubanio.com/view/subject/m/public/s33979742.jpg\" alt=\"忍不住想打扰你\" /></a>\\n      </div>\\n      <div class=\"title\">\\n        <a href=\"https://book.douban.com/subject/35569015/\" >忍不住想打扰你...</a>\\n      </div>\\n      <div class=\"author\">bibi园长</div>\\n      <a href=\"https://read.douban.com/reader/ebook/418128489/\" target=\"_blank\" class=\"bn-link\">免费试读</a>\\n      <li>\\n      <div class=\"pic\">\\n          <a href=\"https://book.douban.com/subject/35581763/\"><img src=\"https://img1.doubanio.com/f/shire/a1fdee122b95748d81cee426d717c05b5174fe96/pics/blank.gif\" data-origin=\"https://img1.doubanio.com/view/subject/m/public/s33983628.jpg\" alt=\"十二月十日\" /></a>\\n      </div>\\n      <div class=\"title\">\\n        <a href=\"https://book.douban.com/subject/35581763/\" >十二月十日</a>\\n      </div>\\n      <div class=\"author\">[美] 乔治·...</div>\\n      <a href=\"https://read.douban.com/reader/ebook/394678347/\" target=\"_blank\" class=\"bn-link\">免费试读</a>\\n  </ul>\\n</div>\\n</div>\\n\\n<div class=\"mod\">\\n\\n    <h2>\\n        原创数字作品\\n            &nbsp;&middot;&nbsp;&middot;&nbsp;&middot;&nbsp;&middot;&nbsp;&middot;&nbsp;&middot;\\n            <span class=\"pl\">&nbsp;(\\n                \\n                    <a href=\"https://read.douban.com\" target=\"_self\">更多</a>\\n                ) </span>\\n    </h2>\\n\\n<div class=\"book-list list\">\\n  <ul>\\n    <li>\\n    <div class=\"pic\">\\n        <a href=\"https://read.douban.com/ebook/415451825\" target=\"_blank\"><img src=\"https://img1.doubanio.com/f/shire/a1fdee122b95748d81cee426d717c05b5174fe96/pics/blank.gif\" data-origin=\"https://pic.arkread.com/cover/column/u/63443632.1673091467.jpg!cover_upload.jpg\" alt=\"夜莺不来\" /></a>\\n    </div>\\n    <div class=\"title\">\\n      <a href=\"https://read.douban.com/ebook/415451825\" target=\"_blank\">夜莺不来</a>\\n    </div>\\n    <div class=\"author\"></div>\\n    <div class=\"price\">\\n        免费\\n    </div>\\n    <a href=\"https://read.douban.com/reader/column/63443632/chapter/415452077/\" target=\"_blank\" class=\"bn-link\">免费试读</a>\\n    <li>\\n    <div class=\"pic\">\\n        <a href=\"https://read.douban.com/ebook/416182427\" target=\"_blank\"><img src=\"https://img1.doubanio.com/f/shire/a1fdee122b95748d81cee426d717c05b5174fe96/pics/blank.gif\" data-origin=\"https://pic.arkread.com/cover/column/u/63493895.1673166033.jpg!cover_upload.jpg\" alt=\"料青山\" /></a>\\n    </div>\\n    <div class=\"title\">\\n      <a href=\"https://read.douban.com/ebook/416182427\" target=\"_blank\">料青山</a>\\n    </div>\\n    <div class=\"author\"></div>\\n    <div class=\"price\">\\n        免费\\n    </div>\\n    <a href=\"https://read.douban.com/reader/column/63493895/chapter/416182602/\" target=\"_blank\" class=\"bn-link\">免费试读</a>\\n    <li>\\n    <div class=\"pic\">\\n        <a href=\"https://read.douban.com/ebook/415568594\" target=\"_blank\"><img src=\"https://img1.doubanio.com/f/shire/a1fdee122b95748d81cee426d717c05b5174fe96/pics/blank.gif\" data-origin=\"https://pic.arkread.com/cover/column/u/63451353.1673229907.jpg!cover_upload.jpg\" alt=\"前女友变租赁女友\" /></a>\\n    </div>\\n    <div class=\"title\">\\n      <a href=\"https://read.douban.com/ebook/415568594\" target=\"_blank\">前女友变租赁女...</a>\\n    </div>\\n    <div class=\"author\"></div>\\n    <div class=\"price\">\\n        免费\\n    </div>\\n    <a href=\"https://read.douban.com/reader/column/63451353/chapter/415568602/\" target=\"_blank\" class=\"bn-link\">免费试读</a>\\n    <li>\\n    <div class=\"pic\">\\n        <a href=\"https://read.douban.com/ebook/404209478\" target=\"_blank\"><img src=\"https://img1.doubanio.com/f/shire/a1fdee122b95748d81cee426d717c05b5174fe96/pics/blank.gif\" data-origin=\"https://pic.arkread.com/cover/column/u/62633962.1662115141.jpg!cover_upload.jpg\" alt=\"粉饰骗局\" /></a>\\n    </div>\\n    <div class=\"title\">\\n      <a href=\"https://read.douban.com/ebook/404209478\" target=\"_blank\">粉饰骗局</a>\\n    </div>\\n    <div class=\"author\"></div>\\n    <div class=\"price\">\\n        免费\\n    </div>\\n    <a href=\"https://read.douban.com/reader/column/62633962/chapter/404210333/\" target=\"_blank\" class=\"bn-link\">免费试读</a>\\n  </ul>\\n</div>\\n</div>\\n</div>\\n  </div>\\n  \\n</div>\\n\\n\\n\\n\\n\\n\\n\\n\\n      \\n<div id=\"anony-music\" class=\"section\">\\n  <div class=\"wrapper\">\\n  \\n  \\n  <div class=\"sidenav\">\\n    <h2 class=\"section-title\"><a href=\"https://music.douban.com\">音乐</a></h2>\\n    \\n  \\n  <div class=\"side-links nav-anon\">\\n      <ul>\\n                          \\n                 <li><a href=\"https://music.douban.com/artists/\">音乐人</a></li>\\n             \\n                 <li><a href=\"https://www.douban.com/wetware/\">潮潮豆瓣音乐周</a></li>\\n             \\n                 <li><a href=\"https://music.douban.com/artists/royalty/\">金羊毛计划</a></li>\\n             \\n                 <li><a href=\"https://music.douban.com/topics/\">专题</a></li>\\n             \\n                 <li><a href=\"https://music.douban.com/chart\">排行榜</a></li>\\n             \\n                 <li><a href=\"https://music.douban.com/tag/\">分类浏览</a></li>\\n             \\n                 <li><a href=\"https://music.douban.com/review/latest/\">乐评</a></li>\\n             \\n                 <li><a href=\"https://douban.fm/?from_=music_nav\">豆瓣FM</a></li>\\n             \\n                 <li><a href=\"https://douban.fm/explore/songlists/\">歌单</a></li>\\n             \\n                 <li><a href=\"https://artist.douban.com/abilu/\">阿比鹿音乐奖</a></li>\\n      \\n      </ul>\\n  </div>\\n\\n    \\n\\n\\n    <div class=\"apps-list\">\\n    <ul>\\n        <li>\\n            <a href=\"https://douban.fm/app?from_=shire_anonymous_home\" class=\"lnk-icon\">\\n                <i class=\"app-icon app-icon-fm\"></i>\\n            </a>\\n            <a href=\"https://douban.fm/app?from_=shire_anonymous_home\">豆瓣FM</a>\\n        </li>\\n        <li>\\n            <a href=\"https://artist.douban.com/app\" class=\"lnk-icon\">\\n                <i class=\"app-icon app-icon-artists\"></i>\\n            </a>\\n            <a href=\"https://artist.douban.com/app\">豆瓣音乐人</a>\\n        </li>\\n    </ul>\\n    </div>\\n\\n  </div>\\n\\n  <div class=\"side\">\\n  <div class=\"mod\">\\n    \\n    \\n    <h2>\\n        本周流行音乐人\\n            &nbsp;&middot;&nbsp;&middot;&nbsp;&middot;&nbsp;&middot;&nbsp;&middot;&nbsp;&middot;\\n            <span class=\"pl\">&nbsp;(\\n                \\n                    <a href=\"https://music.douban.com/artists/\" target=\"_self\">更多</a>\\n                ) </span>\\n    </h2>\\n\\n    <div class=\"list1 artist-charts\">\\n      <ul>\\n          <li>\\n            <span class=\"num\">1.</span>\\n            <div class=\"pic artist-song-play\" data-sids=\"[&#34;508351&#34;, &#34;456566&#34;, &#34;366283&#34;]\">\\n              <a href=\"https://site.douban.com/YamatoRyou/\"><img src=\"https://img1.doubanio.com/f/shire/a1fdee122b95748d81cee426d717c05b5174fe96/pics/blank.gif\" data-origin=\"https://img1.doubanio.com/img/site/small/dd6e4eb9ae433ba\" width=\"48\"></a>\\n              <i class=\"icon icon-bg\"></i>\\n              <i class=\"icon icon-stat icon-play\"></i>\\n            </div>\\n            <div class=\"content\">\\n              <a href=\"https://site.douban.com/YamatoRyou/\">Yamato Ryou</a>\\n              <div class=\"desc\">\\n                流派: 电子 Electronica\\n                <br>349人关注\\n              </div>\\n            </div>\\n          </li>\\n          <li>\\n            <span class=\"num\">2.</span>\\n            <div class=\"pic artist-song-play\" data-sids=\"[&#34;39619&#34;, &#34;205&#34;, &#34;206&#34;]\">\\n              <a href=\"https://site.douban.com/noname/\"><img src=\"https://img1.doubanio.com/f/shire/a1fdee122b95748d81cee426d717c05b5174fe96/pics/blank.gif\" data-origin=\"https://img2.doubanio.com/img/site/small/eaa4d1394c4ad63\" width=\"48\"></a>\\n              <i class=\"icon icon-bg\"></i>\\n              <i class=\"icon icon-stat icon-play\"></i>\\n            </div>\\n            <div class=\"content\">\\n              <a href=\"https://site.douban.com/noname/\">The NONAME</a>\\n              <div class=\"desc\">\\n                流派: 摇滚 Rock\\n                <br>909人关注\\n              </div>\\n            </div>\\n          </li>\\n          <li>\\n            <span class=\"num\">3.</span>\\n            <div class=\"pic artist-song-play\" data-sids=\"[&#34;10886&#34;, &#34;6290&#34;, &#34;4148&#34;]\">\\n              <a href=\"https://site.douban.com/lavaoxsea/\"><img src=\"https://img1.doubanio.com/f/shire/a1fdee122b95748d81cee426d717c05b5174fe96/pics/blank.gif\" data-origin=\"https://img2.doubanio.com/img/site/small/716d484e4d455be\" width=\"48\"></a>\\n              <i class=\"icon icon-bg\"></i>\\n              <i class=\"icon icon-stat icon-play\"></i>\\n            </div>\\n            <div class=\"content\">\\n              <a href=\"https://site.douban.com/lavaoxsea/\">LAVA|OX|SEA</a>\\n              <div class=\"desc\">\\n                流派: 摇滚 Rock\\n                <br>1962人关注\\n              </div>\\n            </div>\\n          </li>\\n          <li>\\n            <span class=\"num\">4.</span>\\n            <div class=\"pic artist-song-play\" data-sids=\"[&#34;564525&#34;, &#34;564529&#34;, &#34;597450&#34;]\">\\n              <a href=\"https://site.douban.com/jessechow/\"><img src=\"https://img1.doubanio.com/f/shire/a1fdee122b95748d81cee426d717c05b5174fe96/pics/blank.gif\" data-origin=\"https://img2.doubanio.com/img/site/small/bf91858914c1163\" width=\"48\"></a>\\n              <i class=\"icon icon-bg\"></i>\\n              <i class=\"icon icon-stat icon-play\"></i>\\n            </div>\\n            <div class=\"content\">\\n              <a href=\"https://site.douban.com/jessechow/\">JESSE CHOW</a>\\n              <div class=\"desc\">\\n                流派: 电子 Electronica\\n                <br>1079人关注\\n              </div>\\n            </div>\\n          </li>\\n          <li>\\n            <span class=\"num\">5.</span>\\n            <div class=\"pic artist-song-play\" data-sids=\"[&#34;8798&#34;, &#34;8800&#34;, &#34;55301&#34;]\">\\n              <a href=\"https://site.douban.com/fadinghorizon/\"><img src=\"https://img1.doubanio.com/f/shire/a1fdee122b95748d81cee426d717c05b5174fe96/pics/blank.gif\" data-origin=\"https://img1.doubanio.com/img/site/small/b50d7235aaef0c0\" width=\"48\"></a>\\n              <i class=\"icon icon-bg\"></i>\\n              <i class=\"icon icon-stat icon-play\"></i>\\n            </div>\\n            <div class=\"content\">\\n              <a href=\"https://site.douban.com/fadinghorizon/\">Fading Horizon</a>\\n              <div class=\"desc\">\\n                流派: 摇滚 Rock\\n                <br>1224人关注\\n              </div>\\n            </div>\\n          </li>\\n      </ul>\\n    </div>\\n  </div>\\n</div>\\n  <div class=\"main\">\\n\\n  \\n    \\n    <h2>\\n        豆瓣新碟榜\\n            &nbsp;&middot;&nbsp;&middot;&nbsp;&middot;&nbsp;&middot;&nbsp;&middot;&nbsp;&middot;\\n            <span class=\"pl\">&nbsp;(\\n                \\n                    <a href=\"https://music.douban.com#new1\" target=\"_self\">更多</a>\\n                ) </span>\\n    </h2>\\n\\n    <div class=\"album-list list\">\\n      <ul>\\n          <li>\\n            <div class=\"pic\">\\n              <a href=\"https://music.douban.com/subject/36186707/\">\\n                <img src=\"https://img1.doubanio.com/f/shire/a1fdee122b95748d81cee426d717c05b5174fe96/pics/blank.gif\" data-origin=\"https://img2.doubanio.com/view/subject/s/public/s34378671.jpg\" alt=\"希忘Hope\" style=\"width: 80px; max-height: 120px;\"/>\\n              </a>\\n            </div>\\n            <div class=\"title\">\\n              1. <a href=\"https://music.douban.com/subject/36186707/\">希忘Hope</a>\\n            </div>\\n            <div class=\"artist\">\\n              <a href=\"\">华晨宇</a>\\n            </div>\\n            <div class=\"rating\">\\n              <span class=\"allstar40\"></span><i>8.0</i>\\n            </div>\\n          </li>\\n          <li>\\n            <div class=\"pic\">\\n              <a href=\"https://music.douban.com/subject/36177977/\">\\n                <img src=\"https://img1.doubanio.com/f/shire/a1fdee122b95748d81cee426d717c05b5174fe96/pics/blank.gif\" data-origin=\"https://img9.doubanio.com/view/subject/s/public/s34368916.jpg\" alt=\"幸福星\" style=\"width: 80px; max-height: 120px;\"/>\\n              </a>\\n            </div>\\n            <div class=\"title\">\\n              2. <a href=\"https://music.douban.com/subject/36177977/\">幸福星</a>\\n            </div>\\n            <div class=\"artist\">\\n              <a href=\"\">刘柏辛 Lexie</a>\\n            </div>\\n            <div class=\"rating\">\\n              <span class=\"allstar40\"></span><i>7.7</i>\\n            </div>\\n          </li>\\n          <li>\\n            <div class=\"pic\">\\n              <a href=\"https://music.douban.com/subject/36185459/\">\\n                <img src=\"https://img1.doubanio.com/f/shire/a1fdee122b95748d81cee426d717c05b5174fe96/pics/blank.gif\" data-origin=\"https://img1.doubanio.com/view/subject/s/public/s34373980.jpg\" alt=\"TALENT\" style=\"width: 80px; max-height: 120px;\"/>\\n              </a>\\n            </div>\\n            <div class=\"title\">\\n              3. <a href=\"https://music.douban.com/subject/36185459/\">TALENT</a>\\n            </div>\\n            <div class=\"artist\">\\n              <a href=\"\">鹤The Crane</a>\\n            </div>\\n            <div class=\"rating\">\\n              <span class=\"allstar40\"></span><i>7.9</i>\\n            </div>\\n          </li>\\n          <li>\\n            <div class=\"pic\">\\n              <a href=\"https://music.douban.com/subject/36205539/\">\\n                <img src=\"https://img1.doubanio.com/f/shire/a1fdee122b95748d81cee426d717c05b5174fe96/pics/blank.gif\" data-origin=\"https://img9.doubanio.com/view/subject/s/public/s34386965.jpg\" alt=\"棲居在溪源之上 Seeking the Sources of Streams\" style=\"width: 80px; max-height: 120px;\"/>\\n              </a>\\n            </div>\\n            <div class=\"title\">\\n              4. <a href=\"https://music.douban.com/subject/36205539/\">棲居在溪源之上 Seeking the Sources of Streams</a>\\n            </div>\\n            <div class=\"artist\">\\n              <a href=\"\">Cicada</a>\\n            </div>\\n            <div class=\"rating\">\\n              <span class=\"allstar00\"></span><i></i>\\n            </div>\\n          </li>\\n          <li>\\n            <div class=\"pic\">\\n              <a href=\"https://music.douban.com/subject/36210920/\">\\n                <img src=\"https://img1.doubanio.com/f/shire/a1fdee122b95748d81cee426d717c05b5174fe96/pics/blank.gif\" data-origin=\"https://img9.doubanio.com/view/subject/s/public/s34392845.jpg\" alt=\"Late Developers\" style=\"width: 80px; max-height: 120px;\"/>\\n              </a>\\n            </div>\\n            <div class=\"title\">\\n              5. <a href=\"https://music.douban.com/subject/36210920/\">Late Developers</a>\\n            </div>\\n            <div class=\"artist\">\\n              <a href=\"\">Belle And Sebastian</a>\\n            </div>\\n            <div class=\"rating\">\\n              <span class=\"allstar00\"></span><i></i>\\n            </div>\\n          </li>\\n          <li>\\n            <div class=\"pic\">\\n              <a href=\"https://music.douban.com/subject/36148002/\">\\n                <img src=\"https://img1.doubanio.com/f/shire/a1fdee122b95748d81cee426d717c05b5174fe96/pics/blank.gif\" data-origin=\"https://img9.doubanio.com/view/subject/s/public/s34346354.jpg\" alt=\"Rush!\" style=\"width: 80px; max-height: 120px;\"/>\\n              </a>\\n            </div>\\n            <div class=\"title\">\\n              6. <a href=\"https://music.douban.com/subject/36148002/\">Rush!</a>\\n            </div>\\n            <div class=\"artist\">\\n              <a href=\"\">Måneskin</a>\\n            </div>\\n            <div class=\"rating\">\\n              <span class=\"allstar00\"></span><i></i>\\n            </div>\\n          </li>\\n          <li>\\n            <div class=\"pic\">\\n              <a href=\"https://music.douban.com/subject/36165210/\">\\n                <img src=\"https://img1.doubanio.com/f/shire/a1fdee122b95748d81cee426d717c05b5174fe96/pics/blank.gif\" data-origin=\"https://img1.doubanio.com/view/subject/s/public/s34358988.jpg\" alt=\"12\" style=\"width: 80px; max-height: 120px;\"/>\\n              </a>\\n            </div>\\n            <div class=\"title\">\\n              7. <a href=\"https://music.douban.com/subject/36165210/\">12</a>\\n            </div>\\n            <div class=\"artist\">\\n              <a href=\"\">坂本龍一</a>\\n            </div>\\n            <div class=\"rating\">\\n              <span class=\"allstar00\"></span><i></i>\\n            </div>\\n          </li>\\n          <li>\\n            <div class=\"pic\">\\n              <a href=\"https://music.douban.com/subject/36200979/\">\\n                <img src=\"https://img1.doubanio.com/f/shire/a1fdee122b95748d81cee426d717c05b5174fe96/pics/blank.gif\" data-origin=\"https://img1.doubanio.com/view/subject/s/public/s34384187.jpg\" alt=\"Stamp On It\" style=\"width: 80px; max-height: 120px;\"/>\\n              </a>\\n            </div>\\n            <div class=\"title\">\\n              8. <a href=\"https://music.douban.com/subject/36200979/\">Stamp On It</a>\\n            </div>\\n            <div class=\"artist\">\\n              <a href=\"\">GOT the beat 갓 더 비트</a>\\n            </div>\\n            <div class=\"rating\">\\n              <span class=\"allstar00\"></span><i></i>\\n            </div>\\n          </li>\\n      </ul>\\n    </div>\\n\\n  \\n  \\n    <h2>\\n        热门歌单\\n            &nbsp;&middot;&nbsp;&middot;&nbsp;&middot;&nbsp;&middot;&nbsp;&middot;&nbsp;&middot;\\n            <span class=\"pl\">&nbsp;(\\n                \\n                    <a href=\"https://music.douban.com/programmes/\" target=\"_self\">更多</a>\\n                ) </span>\\n    </h2>\\n\\n  <div class=\"programme-list list\">\\n    <ul>\\n        \\n          <li>\\n            <div class=\"pic cover\"><img width=80 src=\"https://img2.doubanio.com/img/songlist/large/63387369-1.jpg\"><a href=\"https://music.douban.com/programme/63387369\" target=\"_blank\"><i></i></a></div>\\n            <div class=\"title\">The 60&#39;s Classics</div>\\n          </li>\\n        \\n          <li>\\n            <div class=\"pic cover\"><img width=80 src=\"https://img2.doubanio.com/img/songlist/large/51214455-1.jpg\"><a href=\"https://music.douban.com/programme/51214455\" target=\"_blank\"><i></i></a></div>\\n            <div class=\"title\">爵士壹</div>\\n          </li>\\n        \\n          <li>\\n            <div class=\"pic cover\"><img width=80 src=\"https://img2.doubanio.com/img/songlist/large/268144-1.jpg\"><a href=\"https://music.douban.com/programme/268144\" target=\"_blank\"><i></i></a></div>\\n            <div class=\"title\">Lounge Music</div>\\n          </li>\\n        \\n          <li>\\n            <div class=\"pic cover\"><img width=80 src=\"https://img2.doubanio.com/img/songlist/large/75027292-3.jpg\"><a href=\"https://music.douban.com/programme/75027292\" target=\"_blank\"><i></i></a></div>\\n            <div class=\"title\">阿东小站</div>\\n          </li>\\n        \\n          <li>\\n            <div class=\"pic cover\"><img width=80 src=\"https://img2.doubanio.com/img/songlist/large/268978-1.jpg\"><a href=\"https://music.douban.com/programme/268978\" target=\"_blank\"><i></i></a></div>\\n            <div class=\"title\">History of Rock week 2</div>\\n          </li>\\n        \\n          <li>\\n            <div class=\"pic cover\"><img width=80 src=\"https://img9.doubanio.com/img/songlist/large/1295633-26.jpg\"><a href=\"https://music.douban.com/programme/1295633\" target=\"_blank\"><i></i></a></div>\\n            <div class=\"title\">HALLS</div>\\n          </li>\\n    </ul>\\n  </div>\\n\\n</div>\\n  </div>\\n  \\n  <div id=\"dale_anonymous_home_page_middle_2\" class=\"extra\"></div>\\n\\n</div>\\n\\n\\n\\n\\n\\n\\n\\n\\n      \\n<div id=\"anony-market\" class=\"section\">\\n  <div class=\"wrapper\">\\n  \\n  \\n<div class=\"sidenav\">\\n  <h2 class=\"section-title\">\\n    <a href=\"https://market.douban.com?dcs=anonymous-home-sidenav&amp;dcm=douban\">\\n      豆品\\n    </a>\\n  </h2>\\n</div>\\n\\n  <div class=\"side\">\\n<div class=\"mod\">\\n  \\n    <h2>\\n        热门活动\\n            &nbsp;&middot;&nbsp;&middot;&nbsp;&middot;&nbsp;&middot;&nbsp;&middot;&nbsp;&middot;\\n    </h2>\\n\\n  <ul class=\"market-topics\">\\n      <li class=\"market-topic-item\" >\\n        <a href=\"https://www.douban.com/gallery/topic/761/?index=2&amp;r=topic?dcm=douban&dcs=anonymous-home-topic\"\\n          target=\"_blank\">\\n          <div class=\"market-topic-pic\"\\n            style=\"background-image:url(https://img2.doubanio.com/img/files/file-1513305186-3.jpg)\">\\n          </div>\\n        </a>\\n        <p class=\"market-topic-footer\">\\n          <a href=\"https://www.douban.com/gallery/topic/761/?index=2&amp;r=topic?dcm=douban&dcs=anonymous-home-topic\"\\n            target=\"_blank\">\\n          我的豆瓣收藏夹里有什么\\n          </a>\\n        </p>\\n      </li>\\n  </ul>\\n</div>\\n\\n  <div class=\"mod\">\\n    \\n    <h2>\\n        官方小组\\n            &nbsp;&middot;&nbsp;&middot;&nbsp;&middot;&nbsp;&middot;&nbsp;&middot;&nbsp;&middot;\\n            <span class=\"pl\">&nbsp;(\\n                \\n                    <a href=\"https://www.douban.com/group/588598?dcs=anonymous-home-more-shops&amp;dcm=douban#hot-shop-wrapper\" target=\"_self\">更多</a>\\n                ) </span>\\n    </h2>\\n\\n    <ul class=\"market-group-topics\">\\n        <li>\\n          <p class=\"market-group-topic-title\">\\n            <a href=\"https://www.douban.com/group/topic/225403601?dcm=douban&dcs=anonymous-home-group\"\\n              target=\"_blank\">\\n              【申请已结束】一日三餐，一起吃饭：邀请各位爱晒猫的铲屎官免费试用新品「豆瓣猫咪餐具」\\n            </a>\\n          </p>\\n          <p class=\"market-group-topic-footer\">\\n            <span class=\"market-group-topic-date\">\\n              03-07\\n            </span>\\n            <span class=\"market-group-topic-amount\">\\n              685 人参与\\n            </span>\\n          </p>\\n        </li>\\n        <li>\\n          <p class=\"market-group-topic-title\">\\n            <a href=\"https://www.douban.com/group/topic/203421229?dcm=douban&dcs=anonymous-home-group\"\\n              target=\"_blank\">\\n              请开麦｜我们很想听听你的心声，期待豆瓣豆品出什么样的产品？\\n            </a>\\n          </p>\\n          <p class=\"market-group-topic-footer\">\\n            <span class=\"market-group-topic-date\">\\n              01-16\\n            </span>\\n            <span class=\"market-group-topic-amount\">\\n              237 人参与\\n            </span>\\n          </p>\\n        </li>\\n        <li>\\n          <p class=\"market-group-topic-title\">\\n            <a href=\"https://www.douban.com/group/topic/204293834?dcm=douban&dcs=anonymous-home-group\"\\n              target=\"_blank\">\\n              会员中心上线了「豆瓣遇见你便利贴」，100积分即可兑换\\n            </a>\\n          </p>\\n          <p class=\"market-group-topic-footer\">\\n            <span class=\"market-group-topic-date\">\\n              02-08\\n            </span>\\n            <span class=\"market-group-topic-amount\">\\n              13 人参与\\n            </span>\\n          </p>\\n        </li>\\n    </ul>\\n  </div>\\n</div>\\n  <div class=\"main\">\\n  \\n    <h2>\\n        热卖商品\\n            &nbsp;&middot;&nbsp;&middot;&nbsp;&middot;&nbsp;&middot;&nbsp;&middot;&nbsp;&middot;\\n            <span class=\"pl\">&nbsp;(\\n                \\n                    <a href=\"https://market.douban.com?dcs=anonymous-home-more-skus&amp;dcm=douban\" target=\"_self\">更多</a>\\n                ) </span>\\n    </h2>\\n\\n  <ul class=\"market-spu-list\">\\n      \\n      <li class=\"main-sku\">\\n        <a href=\"https://market.douban.com/campaign/weeklycalendar2022?dcm=douban&dcs=anonymous-home-spu\"\\n          target=\"_blank\">\\n          <div class=\"market-spu-pic\"\\n            style=\"background-image: url(https://img2.doubanio.com/img/files/file-1634640580-1.jpg)\">\\n          </div>\\n        </a>\\n        <div class=\"market-spu-footer\">\\n          <span class=\"market-spu-price\">\\n            ￥88\\n          </span>\\n          <a href=\"https://market.douban.com/campaign/weeklycalendar2022?dcm=douban&dcs=anonymous-home-spu\"\\n            target=\"_blank\"\\n            class=\"market-spu-title\">\\n            豆瓣读书周历2022\\n          </a>\\n        </div>\\n    </li>\\n      \\n      <li class=\"main-sku\">\\n        <a href=\"https://market.douban.com/campaign/bookfragrance?dcm=douban&dcs=anonymous-home-spu\"\\n          target=\"_blank\">\\n          <div class=\"market-spu-pic\"\\n            style=\"background-image: url(https://img1.doubanio.com/img/files/file-1633838256-0.jpg)\">\\n          </div>\\n        </a>\\n        <div class=\"market-spu-footer\">\\n          <span class=\"market-spu-price\">\\n            ￥128\\n          </span>\\n          <a href=\"https://market.douban.com/campaign/bookfragrance?dcm=douban&dcs=anonymous-home-spu\"\\n            target=\"_blank\"\\n            class=\"market-spu-title\">\\n            国家图书馆 x 豆瓣 读书香薰\\n          </a>\\n        </div>\\n    </li>\\n      \\n      <li class=\"main-sku\">\\n        <a href=\"https://market.douban.com/campaign/calendar2022?dcm=douban&dcs=anonymous-home-spu\"\\n          target=\"_blank\">\\n          <div class=\"market-spu-pic\"\\n            style=\"background-image: url(https://img1.doubanio.com/img/files/file-1633834533-0.jpg)\">\\n          </div>\\n        </a>\\n        <div class=\"market-spu-footer\">\\n          <span class=\"market-spu-price\">\\n            ￥99\\n          </span>\\n          <a href=\"https://market.douban.com/campaign/calendar2022?dcm=douban&dcs=anonymous-home-spu\"\\n            target=\"_blank\"\\n            class=\"market-spu-title\">\\n            豆瓣电影日历2022\\n          </a>\\n        </div>\\n    </li>\\n      \\n      <li class=\"main-sku\">\\n        <a href=\"https://market.douban.com/campaign/doumaomoviefigure-2?dcm=douban&dcs=anonymous-home-spu\"\\n          target=\"_blank\">\\n          <div class=\"market-spu-pic\"\\n            style=\"background-image: url(https://img2.doubanio.com/img/files/file-1633837656-1.jpg)\">\\n          </div>\\n        </a>\\n        <div class=\"market-spu-footer\">\\n          <span class=\"market-spu-price\">\\n            ￥59\\n          </span>\\n          <a href=\"https://market.douban.com/campaign/doumaomoviefigure-2?dcm=douban&dcs=anonymous-home-spu\"\\n            target=\"_blank\"\\n            class=\"market-spu-title\">\\n            豆猫电影手办 · 第二弹\\n          </a>\\n        </div>\\n    </li>\\n    </ul>\\n</div>\\n  </div>\\n  \\n</div>\\n\\n\\n\\n\\n\\n\\n\\n\\n      \\n<div id=\"anony-events\" class=\"section\">\\n  <div class=\"wrapper\">\\n  \\n  \\n<div class=\"sidenav\">\\n  <h2 class=\"section-title\"><a href=\"https://www.douban.com/location/\">同城</a></h2>\\n  \\n  \\n  <div class=\"side-links nav-anon\">\\n      <ul>\\n        \\n  \\n    \\n    <li>\\n        <a\\n        href=\"https://www.douban.com/location/dalian/events\">近期活动</a>\\n    </li>\\n    \\n    <li>\\n        <a\\n        href=\"https://www.douban.com/location/dalian/hosts\">主办方</a>\\n    </li>\\n    \\n    <li>\\n        <a\\n        href=\"https://www.douban.com/location/drama/\">舞台剧</a>\\n    </li>\\n\\n      \\n      </ul>\\n  </div>\\n \\n  \\n\\n\\n    <div class=\"apps-list\">\\n    <ul>\\n    </ul>\\n    </div>\\n\\n</div>\\n\\n  <div class=\"side\">\\n\\n<div class=\"mod\">\\n\\n    <h2>\\n        活动标签\\n            &nbsp;&middot;&nbsp;&middot;&nbsp;&middot;&nbsp;&middot;&nbsp;&middot;&nbsp;&middot;\\n    </h2>\\n\\n<div class=\"cate events-cate\">\\n  <ul>\\n  <li class=\"cate-label\"><a href=\"https://www.douban.com/location/dalian/events/week-music\">音乐&raquo;</a></li>\\n    <li><a href=\"https://www.douban.com/location/dalian/events/week-1001\">小型现场</a></li>\\n    <li><a href=\"https://www.douban.com/location/dalian/events/week-1002\">音乐会</a></li>\\n    <li><a href=\"https://www.douban.com/location/dalian/events/week-1003\">演唱会</a></li>\\n    <li><a href=\"https://www.douban.com/location/dalian/events/week-1004\">音乐节</a></li>\\n  </ul>\\n</div>\\n<div class=\"cate events-cate\">\\n  <ul>\\n  <li class=\"cate-label\"><a href=\"https://www.douban.com/location/dalian/events/week-drama\">戏剧&raquo;</a></li>\\n    <li><a href=\"https://www.douban.com/location/dalian/events/week-1101\">话剧</a></li>\\n    <li><a href=\"https://www.douban.com/location/dalian/events/week-1102\">音乐剧</a></li>\\n    <li><a href=\"https://www.douban.com/location/dalian/events/week-1103\">舞剧</a></li>\\n    <li><a href=\"https://www.douban.com/location/dalian/events/week-1104\">歌剧</a></li>\\n    <li><a href=\"https://www.douban.com/location/dalian/events/week-1105\">戏曲</a></li>\\n    <li><a href=\"https://www.douban.com/location/dalian/events/week-1106\">其他</a></li>\\n  </ul>\\n</div>\\n<div class=\"cate events-cate\">\\n  <ul>\\n  <li class=\"cate-label\"><a href=\"https://www.douban.com/location/dalian/events/week-party\">聚会&raquo;</a></li>\\n    <li><a href=\"https://www.douban.com/location/dalian/events/week-1401\">生活</a></li>\\n    <li><a href=\"https://www.douban.com/location/dalian/events/week-1402\">集市</a></li>\\n    <li><a href=\"https://www.douban.com/location/dalian/events/week-1403\">摄影</a></li>\\n    <li><a href=\"https://www.douban.com/location/dalian/events/week-1404\">外语</a></li>\\n    <li><a href=\"https://www.douban.com/location/dalian/events/week-1405\">桌游</a></li>\\n    <li><a href=\"https://www.douban.com/location/dalian/events/week-1406\">夜店</a></li>\\n    <li><a href=\"https://www.douban.com/location/dalian/events/week-1407\">交友</a></li>\\n    <li><a href=\"https://www.douban.com/location/dalian/events/week-1408\">美食</a></li>\\n    <li><a href=\"https://www.douban.com/location/dalian/events/week-1409\">派对</a></li>\\n  </ul>\\n</div>\\n<div class=\"cate events-cate\">\\n  <ul>\\n  <li class=\"cate-label\"><a href=\"https://www.douban.com/location/dalian/events/week-film\">电影&raquo;</a></li>\\n    <li><a href=\"https://www.douban.com/location/dalian/events/week-1801\">主题放映</a></li>\\n    <li><a href=\"https://www.douban.com/location/dalian/events/week-1802\">影展</a></li>\\n    <li><a href=\"https://www.douban.com/location/dalian/events/week-1803\">影院活动</a></li>\\n  </ul>\\n</div>\\n<div class=\"cate events-cate\">\\n  <ul>\\n  <li class=\"cate-label\"><a href=\"https://www.douban.com/location/dalian/events/week-all\">其他&raquo;</a></li>\\n    <li><a href=\"https://www.douban.com/location/dalian/events/week-salon\">讲座</a></li>\\n    <li><a href=\"https://www.douban.com/location/dalian/events/week-exhibition\">展览</a></li>\\n    <li><a href=\"https://www.douban.com/location/dalian/events/week-sports\">运动</a></li>\\n    <li><a href=\"https://www.douban.com/location/dalian/events/week-travel\">旅行</a></li>\\n    <li><a href=\"https://www.douban.com/location/dalian/events/week-commonweal\">公益</a></li>\\n  </ul>\\n</div>\\n</div>\\n</div>\\n  <div class=\"main\">\\n\\n\\n    <h2>\\n        大连 · 本周热门活动\\n            &nbsp;&middot;&nbsp;&middot;&nbsp;&middot;&nbsp;&middot;&nbsp;&middot;&nbsp;&middot;\\n            <span class=\"pl\">&nbsp;(\\n                \\n                    <a href=\"https://www.douban.com/location/\" target=\"_self\">更多</a>\\n                ) </span>\\n    </h2>\\n\\n<div class=\"events-list list\">\\n  <ul>\\n    <li>\\n      <div class=\"pic\">\\n        <a href=\"https://www.douban.com/event/35400314/\">\\n            <img data-origin=\"https://img9.doubanio.com/pview/event_poster/small/public/6527ddc2a2233b4.jpg\" src=\"https://img1.doubanio.com/f/shire/a1fdee122b95748d81cee426d717c05b5174fe96/pics/blank.gif\" width=\"70\">\\n        </a>\\n      </div>\\n      <div class=\"info\">\\n        <div class=\"title\">\\n          <a href=\"https://www.douban.com/event/35400314/\" title=\"【大连】2023情人节“致亲爱的你”演唱会—用整个宇宙,换一颗红豆\">\\n            【大连】2023情人节“致亲爱的你”演唱会—用整个宇宙...\\n          </a>\\n        </div>\\n        <div class=\"datetime\">\\n            2月14日 周二 20:00 - 22:00\\n        </div>\\n        <address title=\"赫兹音乐空间-黑石礁店 中山路682号辰熙广场地下一层\">\\n          赫兹音乐空间-黑石礁店 中...\\n        </address>\\n        <div class=\"follow\">\\n          0人关注\\n        </div>\\n      </div>\\n    <li>\\n      <div class=\"pic\">\\n        <a href=\"https://www.douban.com/event/35118064/\">\\n            <img data-origin=\"https://img2.doubanio.com/pview/event_poster/small/public/1c09f5c3997248e.jpg\" src=\"https://img1.doubanio.com/f/shire/a1fdee122b95748d81cee426d717c05b5174fe96/pics/blank.gif\" width=\"70\">\\n        </a>\\n      </div>\\n      <div class=\"info\">\\n        <div class=\"title\">\\n          <a href=\"https://www.douban.com/event/35118064/\" title=\"【情人节专场】【中世爱乐乐团】沉浸式烛光音乐会“寻找周杰伦”\">\\n            【情人节专场】【中世爱乐乐团】沉浸式烛光音乐会“寻...\\n          </a>\\n        </div>\\n        <div class=\"datetime\">\\n            2月11日 周六 15:00 - 21:00\\n        </div>\\n        <address title=\"大连赫兹音乐空间-佳兆业店 天津街271号佳兆业广场B1层\">\\n          大连赫兹音乐空间-佳兆业店...\\n        </address>\\n        <div class=\"follow\">\\n          8人关注\\n        </div>\\n      </div>\\n    <li>\\n      <div class=\"pic\">\\n        <a href=\"https://www.douban.com/event/35354363/\">\\n            <img data-origin=\"https://img2.doubanio.com/pview/event_poster/small/public/f091cfc45372e43.jpg\" src=\"https://img1.doubanio.com/f/shire/a1fdee122b95748d81cee426d717c05b5174fe96/pics/blank.gif\" width=\"70\">\\n        </a>\\n      </div>\\n      <div class=\"info\">\\n        <div class=\"title\">\\n          <a href=\"https://www.douban.com/event/35354363/\" title=\"沉浸式戏剧《诡影疑云》 大连站\">\\n            沉浸式戏剧《诡影疑云》 大连站\\n          </a>\\n        </div>\\n        <div class=\"datetime\">\\n            1月26日 周四 - 2月26日 周日\\n        </div>\\n        <address title=\"中央大道诡影疑云剧场 中长街90-2号大连中央大道吾悦广场一楼\">\\n          中央大道诡影疑云剧场 中长...\\n        </address>\\n        <div class=\"follow\">\\n          1人关注\\n        </div>\\n      </div>\\n    <li>\\n      <div class=\"pic\">\\n        <a href=\"https://www.douban.com/event/35288499/\">\\n            <img data-origin=\"https://img2.doubanio.com/pview/event_poster/small/public/4cdbf2ae04ccd2e.jpg\" src=\"https://img1.doubanio.com/f/shire/a1fdee122b95748d81cee426d717c05b5174fe96/pics/blank.gif\" width=\"70\">\\n        </a>\\n      </div>\\n      <div class=\"info\">\\n        <div class=\"title\">\\n          <a href=\"https://www.douban.com/event/35288499/\" title=\"爆笑喜剧《明朝合伙人》\">\\n            爆笑喜剧《明朝合伙人》\\n          </a>\\n        </div>\\n        <div class=\"datetime\">\\n            2月24日 周五 19:30 - 21:00\\n        </div>\\n        <address title=\"金三角剧场 金三角广场5号\">\\n          金三角剧场 金三角广场5号\\n        </address>\\n        <div class=\"follow\">\\n          0人关注\\n        </div>\\n      </div>\\n  </ul>\\n</div>\\n</div>\\n  </div>\\n  \\n</div>\\n\\n\\n\\n\\n\\n\\n\\n\\n\\n<div class=\"wrapper\">\\n  <div id=\"dale_anonymous_home_page_bottom\" class=\"extra\"></div>\\n  <div id=\"ft\">\\n  \\n  \\n<span id=\"icp\" class=\"fleft gray-link\">\\n    &copy; 2005－2023 douban.com, all rights reserved 北京豆网科技有限公司\\n  <br>\\n  <a href=\"https://img9.doubanio.com/view/treasury_image/raw/public/8f4d0a09fd60834.jpg\" target=\"_blank\">营业执照</a> ｜\\n  <a href=\"https://beian.miit.gov.cn/\" target=\"_blank\">京ICP证090015号</a> ｜\\n  <a href=\"https://beian.miit.gov.cn/\" target=\"_blank\">京ICP备11027288号</a> ｜\\n  <a href=\"https://www.douban.com/about?topic=licence\" target=\"_blank\">网络视听许可证0110418号</a> ｜\\n  <a href=\"https://img2.doubanio.com/view/biz/raw/public/p_5111.jpg\" target=\"_blank\">食品经营许可证</a>\\n\\n  <br>京网文[2021]2980-826号\\n  <a href=\"https://img2.doubanio.com/view/treasury_image/raw/public/8261a59d5896792.jpg\" target=\"_blank\">新出发京批字第直160029号</a>\\n\\n  &nbsp;&nbsp;（署）网出证（京）字第120号\\n  <br/>违法和不良信息/涉未成年人有害信息投诉：<img src=\"https://img1.doubanio.com/f/sns/0572f63071b3f64379c3a916fe206b154fe1e393/pics/sns/footer/tousu.jpeg\" height=\"16\" align=\"top\"/>\\n  <br>违法和不良信息投诉电话：4008353331-9&nbsp;\\n  <br>网络从业者不良行为举报：<img src=\"https://img1.doubanio.com/f/sns/cd9436446db95497a98c3e2d57f92981a67a0fbd/pics/sns/footer/jubao.jpg\" height=\"16\" align=\"top\"/>\\n  <br><img src=\"/pics/icon/jubao.png\" align=\"absmiddle\" width=\"15\"> <a href=\"http://www.12377.cn/\">中国互联网举报中心</a> 电话：12377 \\n  <img src=\"/pics/biaoshi.gif\" align=\"absmiddle\"> <a href=\"http://www.beian.gov.cn/portal/registerSystemInfo?recordcode=11010502000728\" target=\"_blank\">京公网安备11010502000728</a>\\n</span>\\n\\n<a href=\"https://www.douban.com/hnypt/variformcyst.py\" style=\"display: none;\"></a>\\n\\n<span class=\"fright\">\\n    <a href=\"https://www.douban.com/about\">关于豆瓣</a>\\n    · <a href=\"https://www.douban.com/jobs\">在豆瓣工作</a>\\n    · <a href=\"https://www.douban.com/about?topic=contactus\">联系我们</a>\\n    · <a href=\"https://www.douban.com/about/legal\">法律声明</a>\\n    \\n    · <a href=\"https://help.douban.com/?app=main\" target=\"_blank\">帮助中心</a>\\n    · <a href=\"https://www.douban.com/doubanapp/\">移动应用</a>\\n    · <a href=\"https://www.douban.com/partner/\">豆瓣广告</a>\\n</span>\\n\\n  </div>\\n</div>\\n\\n\\n\\n\\n\\n\\n<script src=\"https://img1.doubanio.com/f/shire/df6a1d712d36db03e9bddb32cbd5fa080bfcddfc/js/core/do/_init_.js\" data-cfg-corelib=\"https://img1.doubanio.com/f/shire/72ced6df41d4d158420cebdd254f9562942464e3/js/jquery.min.js\"></script>\\n<script type=\"text/javascript\" src=\"https://img1.doubanio.com/misc/mixed_static/1db73bd317297ff8.js\"></script>\\n\\n    <!-- douban ad begin -->\\n    \\n\\n\\n\\n\\n    \\n<script type=\"text/javascript\">\\n    (function (global) {\\n        var newNode = global.document.createElement(\\'script\\'),\\n            existingNode = global.document.getElementsByTagName(\\'script\\')[0],\\n            adSource = \\'//erebor.douban.com/\\',\\n            userId = \\'\\',\\n            browserId = \\'1i8YWHFPDwI\\',\\n            criteria = \\'3:/\\',\\n            preview = \\'\\',\\n            debug = false,\\n            adSlots = [\\'dale_anonymous_homepage_top_for_crazy_ad\\', \\'dale_anonymous_homepage_right_top\\', \\'dale_anonymous_homepage_movie_bottom\\', \\'dale_anonymous_home_page_top\\', \\'dale_homepage_online_activity_promo_1\\', \\'dale_anonymous_homepage_doublemint\\', \\'dale_anonymous_home_page_middle\\', \\'dale_anonymous_home_page_middle_2\\', \\'dale_anonymous_home_page_bottom\\'];\\n\\n        global.DoubanAdRequest = {src: adSource, uid: userId, bid: browserId, crtr: criteria, prv: preview, debug: debug};\\n        global.DoubanAdSlots = (global.DoubanAdSlots || []).concat(adSlots);\\n\\n        newNode.setAttribute(\\'type\\', \\'text/javascript\\');\\n        newNode.setAttribute(\\'src\\', \\'//img1.doubanio.com/MnJwNGlleS9mL2FkanMvY2M1OGQyNTQ2N2I2YmQzOTlmNTliMGJiMjI4MWRhZTlkNTNjYTFkZC9hZC5yZWxlYXNlLmpz\\');\\n        newNode.setAttribute(\\'async\\', true);\\n        existingNode.parentNode.insertBefore(newNode, existingNode);\\n    })(this);\\n</script>\\n\\n\\n\\n\\n\\n\\n\\n\\n\\n\\n    <!-- douban ad end -->\\n    \\n\\n\\n\\n\\n\\n\\n\\n\\n\\n<!-- Google Tag Manager -->\\n<noscript><iframe src=\"//www.googletagmanager.com/ns.html?id=GTM-5WP579\" height=\"0\" width=\"0\" style=\"display:none;visibility:hidden\"></iframe></noscript>\\n<script>(function(w,d,s,l,i){w[l]=w[l]||[];w[l].push({\\'gtm.start\\':new Date().getTime(),event:\\'gtm.js\\'});var f=d.getElementsByTagName(s)[0],j=d.createElement(s),dl=l!=\\'dataLayer\\'?\\'&l=\\'+l:\\'\\';j.async=true;j.src=\\'//www.googletagmanager.com/gtm.js?id=\\'+i+dl;f.parentNode.insertBefore(j,f);})(window,document,\\'script\\',\\'dataLayer\\',\\'GTM-5WP579\\');</script>\\n<!-- End Google Tag Manager -->\\n\\n\\n<script type=\"text/javascript\">\\nvar _paq = _paq || [];\\n_paq.push([\\'trackPageView\\']);\\n_paq.push([\\'enableLinkTracking\\']);\\n(function() {\\n    var p=((\\'https:\\' == document.location.protocol) ? \\'https\\' : \\'http\\'), u=p+\\'://fundin.douban.com/\\';\\n    _paq.push([\\'setTrackerUrl\\', u+\\'piwik\\']);\\n    _paq.push([\\'setSiteId\\', \\'100001\\']);\\n    var d=document, g=d.createElement(\\'script\\'), s=d.getElementsByTagName(\\'script\\')[0];\\n    g.type=\\'text/javascript\\';\\n    g.defer=true;\\n    g.async=true;\\n    g.src=p+\\'://img3.doubanio.com/dae/fundin/piwik.js\\';\\n    s.parentNode.insertBefore(g,s);\\n})();\\n</script>\\n\\n<script type=\"text/javascript\">\\nvar _gaq = _gaq || [];\\n_gaq.push([\\'_setAccount\\', \\'UA-7019765-1\\']);\\n_gaq.push([\\'_setCampNameKey\\', \\'dcn\\']);\\n_gaq.push([\\'_setCampSourceKey\\', \\'dcs\\']);\\n_gaq.push([\\'_setCampMediumKey\\', \\'dcm\\']);\\n_gaq.push([\\'_setCampTermKey\\', \\'dct\\']);\\n_gaq.push([\\'_setCampContentKey\\', \\'dcc\\']);\\n_gaq.push([\\'_addOrganic\\', \\'baidu\\', \\'word\\']);\\n_gaq.push([\\'_addOrganic\\', \\'soso\\', \\'w\\']);\\n_gaq.push([\\'_addOrganic\\', \\'3721\\', \\'name\\']);\\n_gaq.push([\\'_addOrganic\\', \\'youdao\\', \\'q\\']);\\n_gaq.push([\\'_addOrganic\\', \\'so.360.cn\\', \\'q\\']);\\n_gaq.push([\\'_addOrganic\\', \\'vnet\\', \\'kw\\']);\\n_gaq.push([\\'_addOrganic\\', \\'sogou\\', \\'query\\']);\\n_gaq.push([\\'_addIgnoredOrganic\\', \\'豆瓣\\']);\\n_gaq.push([\\'_addIgnoredOrganic\\', \\'douban\\']);\\n_gaq.push([\\'_addIgnoredOrganic\\', \\'豆瓣网\\']);\\n_gaq.push([\\'_addIgnoredOrganic\\', \\'www.douban.com\\']);\\n_gaq.push([\\'_setDomainName\\', \\'.douban.com\\']);\\n\\n\\n    _gaq.push([\\'_setCustomVar\\', 1, \\'responsive_view_mode\\', \\'desktop\\', 3]);\\n\\n_gaq.push([\\'_trackPageview\\']);\\n_gaq.push([\\'_trackPageLoadTime\\']);\\n\\nwindow._ga_init = function() {\\n    var ga = document.createElement(\\'script\\');\\n    ga.src = (\\'https:\\' == document.location.protocol ? \\'https://ssl\\' : \\'http://www\\') + \\'.google-analytics.com/ga.js\\';\\n    ga.setAttribute(\\'async\\', \\'true\\');\\n    document.documentElement.firstChild.appendChild(ga);\\n};\\nif (window.addEventListener) {\\n    window.addEventListener(\\'load\\', _ga_init, false);\\n} else {\\n    window.attachEvent(\\'onload\\', _ga_init);\\n}\\n</script>\\n\\n\\n\\n\\n\\n\\n</body>\\n</html>\\n\\n\\n\\n'"
      ]
     },
     "execution_count": 10,
     "metadata": {},
     "output_type": "execute_result"
    }
   ],
   "source": [
    "# hide\n",
    "res = requests.post(url,headers=headers,data=data,cookies=cookies)\n",
    "res.text"
   ]
  },
  {
   "cell_type": "code",
   "execution_count": 11,
   "metadata": {},
   "outputs": [],
   "source": [
    "# hide\n",
    "# 查看最近发布的5条动态\n",
    "soup = BeautifulSoup(res.text)\n",
    "items = soup.find_all(class_='new-status')\n",
    "for item in items[:5]:\n",
    "    print(item.find('p').text)"
   ]
  },
  {
   "cell_type": "code",
   "execution_count": 12,
   "metadata": {},
   "outputs": [
    {
     "ename": "IndexError",
     "evalue": "list index out of range",
     "output_type": "error",
     "traceback": [
      "\u001b[0;31m---------------------------------------------------------------------------\u001b[0m",
      "\u001b[0;31mIndexError\u001b[0m                                Traceback (most recent call last)",
      "Cell \u001b[0;32mIn [12], line 2\u001b[0m\n\u001b[1;32m      1\u001b[0m \u001b[38;5;66;03m# hide\u001b[39;00m\n\u001b[0;32m----> 2\u001b[0m \u001b[38;5;28mtype\u001b[39m(\u001b[43mitems\u001b[49m\u001b[43m[\u001b[49m\u001b[38;5;241;43m0\u001b[39;49m\u001b[43m]\u001b[49m),items[\u001b[38;5;241m0\u001b[39m]\u001b[38;5;241m.\u001b[39mattrs\n",
      "\u001b[0;31mIndexError\u001b[0m: list index out of range"
     ]
    }
   ],
   "source": [
    "# hide\n",
    "type(items[0]),items[0].attrs"
   ]
  },
  {
   "cell_type": "markdown",
   "metadata": {},
   "source": [
    "顺便看看tag的其他属性，上下左右查到其他的tag\n",
    "* item.parent\n",
    "* item.parents\n",
    "\n",
    "* item.contents\n",
    "* item.children\n",
    "\n",
    "* item.next_sibling\n",
    "* item.previous_sibling"
   ]
  },
  {
   "cell_type": "markdown",
   "metadata": {},
   "source": [
    "## JSON 存储\n",
    "> 这个格式本质上就是个dict，在MongoDB和Redis中也是这样存储，所以这里就开始学习下"
   ]
  },
  {
   "cell_type": "markdown",
   "metadata": {},
   "source": [
    "比如这次要把谁在什么时间，说了什么话记下来"
   ]
  },
  {
   "cell_type": "code",
   "execution_count": null,
   "metadata": {},
   "outputs": [],
   "source": [
    "# hide\n",
    "print(items[5]['data-sid'])\n",
    "print(items[0].find(class_='text').a.text)\n",
    "print(items[0].find(class_='created_at')['title'])\n",
    "print(items[4].find(class_='bd').contents[1].text.replace('\\n',''))"
   ]
  },
  {
   "cell_type": "code",
   "execution_count": null,
   "metadata": {},
   "outputs": [],
   "source": [
    "# hide\n",
    "contents = {}\n",
    "for item in items:\n",
    "    _id = item['data-sid']\n",
    "    name = item.find(class_='text').a.text    \n",
    "    created_at = item.find(class_='created_at')['title']\n",
    "    content = item.find(class_='bd').contents[1].text.replace('\\n','')  \n",
    "    contents[_id] = {}\n",
    "    contents[_id]['name'] = name\n",
    "    contents[_id]['created_at'] = created_at  \n",
    "    contents[_id]['content'] = content\n",
    "contents"
   ]
  },
  {
   "cell_type": "markdown",
   "metadata": {},
   "source": [
    "### 保存和读取json"
   ]
  },
  {
   "cell_type": "code",
   "execution_count": null,
   "metadata": {},
   "outputs": [],
   "source": [
    "# hide\n",
    "with open('./data/01_douban.json', 'w') as f:\n",
    "    json.dump(contents,f)"
   ]
  },
  {
   "cell_type": "code",
   "execution_count": null,
   "metadata": {},
   "outputs": [],
   "source": [
    "# hide\n",
    "with open('./data/01_douban.json', 'r') as f:\n",
    "    contents = json.loads(f.read())\n",
    "contents['2726525573']"
   ]
  },
  {
   "cell_type": "markdown",
   "metadata": {},
   "source": [
    "## 自动识别列表\n",
    "> 思路就是看谁有最多的相同类的children（目前只支持静态页面,文字列表）\n",
    "\n",
    "常见问题：容易识别成目录，特征为多层级列表，而正文内容则不会再嵌套列表"
   ]
  },
  {
   "cell_type": "code",
   "execution_count": null,
   "metadata": {},
   "outputs": [],
   "source": [
    "#export\n",
    "def get_children(soup): return [c for c in soup.children if isinstance(c,Tag)]\n",
    "\n",
    "def get_class(soup):\n",
    "    '获取单个tag的class，没有则显示no_class'\n",
    "    if 'class' in soup.attrs and soup.attrs['class']:\n",
    "        return soup.attrs['class']\n",
    "    else:\n",
    "        return ['no_class']\n",
    "    \n",
    "def get_all_class(soup):\n",
    "    '收集每个tag的class，没有则显示no_class'\n",
    "    class_list = []\n",
    "    for s in soup.find_all(True):\n",
    "        class_list += get_class(s)\n",
    "    return class_list\n",
    "\n",
    "def get_class_count(soup):return len(list(set(get_all_class(soup))))\n",
    "\n",
    "def is_content_list(soup): \n",
    "    '判断是否为内容列表，条件为：子集是重复的相同的tag，重复次数大于5'\n",
    "    children = get_children(soup)\n",
    "    if len(children) > 1 and len(soup.text.strip()) > 0:\n",
    "        tag_counter = Counter([c.name for c in children])\n",
    "        max_tag_name,max_tag_count = tag_counter.most_common(1)[0]\n",
    "       \n",
    "        tag_similarity = max_tag_count/len(children)\n",
    "        \n",
    "        class_similarity = 1\n",
    "        if get_all_class(soup):\n",
    "            max_class_name,max_class_count = Counter(get_all_class(soup)).most_common(1)[0]\n",
    "            class_similarity = max_class_count/len(children)\n",
    "            \n",
    "        if max_tag_count >= 5 and tag_similarity > 0.9 and class_similarity > 0.9:\n",
    "            return True\n",
    "    return False\n",
    "\n",
    "def find_main_list(soup):\n",
    "    '特征：文字内容多；一条数据的样式&嵌套丰富；区别于目录，都是很短的词'\n",
    "    score = 0\n",
    "    main_list = soup\n",
    "    \n",
    "    items = soup.find_all(True) \n",
    "    for item in items:\n",
    "        if is_content_list(item):\n",
    "            text_count = len(item.text)\n",
    "            class_count = get_class_count(item)\n",
    "            text_max_lenth = max([len(i) for i in item.stripped_strings])\n",
    "#             print('候选：\\n',soup.name,get_class(soup),text_count,text_max_lenth,class_count)\n",
    "            \n",
    "            new_score = text_count*class_count*text_max_lenth\n",
    "            if new_score > score:\n",
    "                score = new_score\n",
    "                main_list = item\n",
    "    first_child = get_children(main_list)[0]\n",
    "    print('终选：\\n',main_list.name,get_class(main_list),first_child.name,get_class(first_child),'\\n')\n",
    "    return main_list"
   ]
  },
  {
   "cell_type": "code",
   "execution_count": null,
   "metadata": {},
   "outputs": [],
   "source": [
    "main_content_list = []\n",
    "for url,soup in zip(url_list,soup_list):\n",
    "    print(url)\n",
    "    soup_test = soup.body\n",
    "    main_content_list.append(find_main_list(soup.body))"
   ]
  },
  {
   "cell_type": "markdown",
   "metadata": {},
   "source": [
    "## 自动识别下一页\n",
    "> 根据文字识别，暂不支持滚动加载，大部分未识别出来，因为下一页大多用js实现"
   ]
  },
  {
   "cell_type": "code",
   "execution_count": null,
   "metadata": {},
   "outputs": [],
   "source": [
    "#export\n",
    "def is_next_page(tag): return tag.name == 'a' and re.search(r'[后|下]一*页',tag.text)\n",
    "    \n",
    "def get_next_page_url(soup):\n",
    "    next_page = soup.find(is_next_page)\n",
    "    if next_page and 'href' in next_page.attrs:\n",
    "        print('下一页：',next_page['href'])\n",
    "        return next_page['href']\n",
    "    else:\n",
    "        print('未识别出下一页')\n",
    "        return None "
   ]
  },
  {
   "cell_type": "code",
   "execution_count": null,
   "metadata": {},
   "outputs": [],
   "source": [
    "for url,soup in zip(url_list,soup_list):\n",
    "#     if 'douban' in url:\n",
    "        print('\\n',url)\n",
    "        soup_test = soup.body\n",
    "#         print(soup_test)\n",
    "        get_next_page_url(soup_test)"
   ]
  },
  {
   "cell_type": "markdown",
   "metadata": {},
   "source": [
    "## 自动识别列表内容\n",
    "> 思路就是样式一样的，是一类的内容\n",
    "\n",
    "目前支持的几种内容类型：\n",
    "1. img link\n",
    "* a link\n",
    "* text"
   ]
  },
  {
   "cell_type": "code",
   "execution_count": null,
   "metadata": {},
   "outputs": [],
   "source": [
    "# export\n",
    "def get_child_navigablestring(soup):\n",
    "    navstr = []\n",
    "    for c in soup.contents:\n",
    "        if isinstance(c,NavigableString) and c.strip():\n",
    "            navstr.append(c.strip())\n",
    "    navstr = '&&'.join(navstr)\n",
    "    return navstr\n",
    "\n",
    "def get_data_name(soup): \n",
    "    class_name = '_'.join(get_class(soup))\n",
    "    return f'{soup.name}_{class_name}'\n",
    "\n",
    "def get_data(soup):\n",
    "    '列出每一项，如果为a或img标签，就获取链接和内容；如果子集含navstr，就显示文字'\n",
    "    data = {}\n",
    "    for c in soup.find_all(True):\n",
    "        if c.name == 'a':\n",
    "            if 'href' in c.attrs and c['href']:\n",
    "                data[get_data_name(c)+'_url'] = c['href']\n",
    "            if 'title' in c.attrs and c['title']:\n",
    "                data[get_data_name(c)+'_title'] = c['title']\n",
    "            \n",
    "        if c.name == 'img':\n",
    "            if 'src' in c.attrs and c['src']:\n",
    "                data[get_data_name(c)+'_src'] = c['src']\n",
    "                 \n",
    "        navstr = get_child_navigablestring(c)\n",
    "        if navstr:\n",
    "            data[get_data_name(c)+'_text'] = navstr\n",
    "    return data\n"
   ]
  },
  {
   "cell_type": "code",
   "execution_count": null,
   "metadata": {},
   "outputs": [],
   "source": [
    "for url,soup in zip(url_list,main_content_list):\n",
    "#     if 'douban' in url:\n",
    "#         print('\\n',url)\n",
    "        data = get_data(get_children(soup)[0])\n",
    "#         print(data)"
   ]
  }
 ],
 "metadata": {
  "kernelspec": {
   "display_name": "tutorial",
   "language": "python",
   "name": "tutorial"
  },
  "language_info": {
   "codemirror_mode": {
    "name": "ipython",
    "version": 3
   },
   "file_extension": ".py",
   "mimetype": "text/x-python",
   "name": "python",
   "nbconvert_exporter": "python",
   "pygments_lexer": "ipython3",
   "version": "3.9.13"
  }
 },
 "nbformat": 4,
 "nbformat_minor": 4
}
